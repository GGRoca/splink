{
 "cells": [
  {
   "cell_type": "code",
   "execution_count": 1,
   "id": "9bb27a8d-8c88-406d-be9e-fe70232fe805",
   "metadata": {},
   "outputs": [
    {
     "name": "stdout",
     "output_type": "stream",
     "text": [
      "Ambiente configurado com sucesso.\n"
     ]
    }
   ],
   "source": [
    "# ===================================================================================\n",
    "# 1. CONFIGURAÇÃO DO AMBIENTE E IMPORTAÇÕES\n",
    "# ===================================================================================\n",
    "!pip install splink -q\n",
    "\n",
    "import duckdb\n",
    "import pandas as pd\n",
    "from splink import Linker, SettingsCreator, DuckDBAPI\n",
    "import splink.comparison_library as cl\n",
    "from splink import block_on\n",
    "from splink.exploratory import completeness_chart, profile_columns\n",
    "from splink.blocking_analysis import cumulative_comparisons_to_be_scored_from_blocking_rules_chart, n_largest_blocks\n",
    "\n",
    "print(\"Ambiente configurado com sucesso.\")"
   ]
  },
  {
   "cell_type": "code",
   "execution_count": 2,
   "id": "d5b6ac56-24ca-4b74-8d06-4c2ec6612c5f",
   "metadata": {},
   "outputs": [
    {
     "name": "stdout",
     "output_type": "stream",
     "text": [
      "View 'dados_amostra' (30 mil linhas) criada para uma exploração muito mais rápida.\n"
     ]
    }
   ],
   "source": [
    "# ===================================================================================\n",
    "# 2. CONEXÃO, PRÉ-PROCESSAMENTO E AMOSTRAGEM (VERSÃO ULTRA-LEVE)\n",
    "# ===================================================================================\n",
    "path_dados = 'dados_catalogo/processed/dados_consolidados_filtrados.parquet'\n",
    "con = duckdb.connect(database=':memory:', read_only=False)\n",
    "db_api = DuckDBAPI(connection=con)\n",
    "\n",
    "sql_completo = f\"\"\"\n",
    "CREATE OR REPLACE VIEW dados_completos AS\n",
    "SELECT *,\n",
    "    list_distinct(list_sort(string_to_array(trim(BB_Cast), ','))) as BB_Cast_array,\n",
    "    list_distinct(list_sort(string_to_array(trim(BB_Directors), ','))) as BB_Directors_array\n",
    "FROM read_parquet('{path_dados}');\n",
    "\"\"\"\n",
    "con.execute(sql_completo)\n",
    "\n",
    "# CORREÇÃO PRINCIPAL: Reduzimos drasticamente o tamanho da amostra para o guia didático.\n",
    "sql_amostra = \"CREATE OR REPLACE VIEW dados_amostra AS SELECT * FROM dados_completos USING SAMPLE 30000 ROWS;\"\n",
    "con.execute(sql_amostra)\n",
    "print(\"View 'dados_amostra' (30 mil linhas) criada para uma exploração muito mais rápida.\")"
   ]
  },
  {
   "cell_type": "code",
   "execution_count": 3,
   "id": "79f62f28-f165-4e49-a663-e71eb0616628",
   "metadata": {},
   "outputs": [
    {
     "name": "stdout",
     "output_type": "stream",
     "text": [
      "Linker preliminar para análise criado com sucesso.\n"
     ]
    }
   ],
   "source": [
    "# ===================================================================================\n",
    "# 3. ANÁLISE EXPLORATÓRIA (NA AMOSTRA)\n",
    "# ===================================================================================\n",
    "settings_preliminares = SettingsCreator(\n",
    "    link_type=\"dedupe_only\",\n",
    "    unique_id_column_name=\"BB_UID\" # O Linker agora \"sabe\" qual é a coluna de ID\n",
    ")\n",
    "\n",
    "linker_para_analise = Linker(\"dados_amostra\", settings_preliminares, db_api=db_api)\n",
    "print(\"Linker preliminar para análise criado com sucesso.\")"
   ]
  },
  {
   "cell_type": "code",
   "execution_count": 4,
   "id": "18f4b131-367e-43cb-8646-7f969363069f",
   "metadata": {},
   "outputs": [
    {
     "name": "stdout",
     "output_type": "stream",
     "text": [
      "--- Diagnóstico: Maiores Blocos para 'BB_Year' ---\n"
     ]
    },
    {
     "data": {
      "text/html": [
       "<div>\n",
       "<style scoped>\n",
       "    .dataframe tbody tr th:only-of-type {\n",
       "        vertical-align: middle;\n",
       "    }\n",
       "\n",
       "    .dataframe tbody tr th {\n",
       "        vertical-align: top;\n",
       "    }\n",
       "\n",
       "    .dataframe thead th {\n",
       "        text-align: right;\n",
       "    }\n",
       "</style>\n",
       "<table border=\"1\" class=\"dataframe\">\n",
       "  <thead>\n",
       "    <tr style=\"text-align: right;\">\n",
       "      <th></th>\n",
       "      <th>BB_Year</th>\n",
       "      <th>contagem_no_bloco</th>\n",
       "    </tr>\n",
       "  </thead>\n",
       "  <tbody>\n",
       "    <tr>\n",
       "      <th>0</th>\n",
       "      <td>NaN</td>\n",
       "      <td>5773</td>\n",
       "    </tr>\n",
       "    <tr>\n",
       "      <th>1</th>\n",
       "      <td>2019.0</td>\n",
       "      <td>1877</td>\n",
       "    </tr>\n",
       "    <tr>\n",
       "      <th>2</th>\n",
       "      <td>2021.0</td>\n",
       "      <td>1777</td>\n",
       "    </tr>\n",
       "    <tr>\n",
       "      <th>3</th>\n",
       "      <td>2022.0</td>\n",
       "      <td>1650</td>\n",
       "    </tr>\n",
       "    <tr>\n",
       "      <th>4</th>\n",
       "      <td>2020.0</td>\n",
       "      <td>1587</td>\n",
       "    </tr>\n",
       "  </tbody>\n",
       "</table>\n",
       "</div>"
      ],
      "text/plain": [
       "   BB_Year  contagem_no_bloco\n",
       "0      NaN               5773\n",
       "1   2019.0               1877\n",
       "2   2021.0               1777\n",
       "3   2022.0               1650\n",
       "4   2020.0               1587"
      ]
     },
     "metadata": {},
     "output_type": "display_data"
    },
    {
     "name": "stdout",
     "output_type": "stream",
     "text": [
      "\n",
      "--- Diagnóstico: Maiores Blocos para 'BB_Title' ---\n"
     ]
    },
    {
     "data": {
      "text/html": [
       "<div>\n",
       "<style scoped>\n",
       "    .dataframe tbody tr th:only-of-type {\n",
       "        vertical-align: middle;\n",
       "    }\n",
       "\n",
       "    .dataframe tbody tr th {\n",
       "        vertical-align: top;\n",
       "    }\n",
       "\n",
       "    .dataframe thead th {\n",
       "        text-align: right;\n",
       "    }\n",
       "</style>\n",
       "<table border=\"1\" class=\"dataframe\">\n",
       "  <thead>\n",
       "    <tr style=\"text-align: right;\">\n",
       "      <th></th>\n",
       "      <th>BB_Title</th>\n",
       "      <th>contagem_no_bloco</th>\n",
       "    </tr>\n",
       "  </thead>\n",
       "  <tbody>\n",
       "    <tr>\n",
       "      <th>0</th>\n",
       "      <td>None</td>\n",
       "      <td>674</td>\n",
       "    </tr>\n",
       "    <tr>\n",
       "      <th>1</th>\n",
       "      <td>Carmen</td>\n",
       "      <td>6</td>\n",
       "    </tr>\n",
       "    <tr>\n",
       "      <th>2</th>\n",
       "      <td>The Mummy</td>\n",
       "      <td>6</td>\n",
       "    </tr>\n",
       "    <tr>\n",
       "      <th>3</th>\n",
       "      <td>Star Trek: Nemesis</td>\n",
       "      <td>6</td>\n",
       "    </tr>\n",
       "    <tr>\n",
       "      <th>4</th>\n",
       "      <td>The Island</td>\n",
       "      <td>6</td>\n",
       "    </tr>\n",
       "  </tbody>\n",
       "</table>\n",
       "</div>"
      ],
      "text/plain": [
       "             BB_Title  contagem_no_bloco\n",
       "0                None                674\n",
       "1              Carmen                  6\n",
       "2           The Mummy                  6\n",
       "3  Star Trek: Nemesis                  6\n",
       "4          The Island                  6"
      ]
     },
     "metadata": {},
     "output_type": "display_data"
    },
    {
     "name": "stdout",
     "output_type": "stream",
     "text": [
      "\n",
      "--- Análise Cumulativa de Comparações para Regras Candidatas ---\n"
     ]
    },
    {
     "data": {
      "application/vnd.jupyter.widget-view+json": {
       "model_id": "ce6712c56b57454ea3bd1dc80bf30ed2",
       "version_major": 2,
       "version_minor": 0
      },
      "text/plain": [
       "FloatProgress(value=0.0, layout=Layout(width='auto'), style=ProgressStyle(bar_color='black'))"
      ]
     },
     "metadata": {},
     "output_type": "display_data"
    },
    {
     "data": {
      "application/vnd.jupyter.widget-view+json": {
       "model_id": "3e4393eb2e414d588e9e0576e378796c",
       "version_major": 2,
       "version_minor": 0
      },
      "text/plain": [
       "FloatProgress(value=0.0, layout=Layout(width='auto'), style=ProgressStyle(bar_color='black'))"
      ]
     },
     "metadata": {},
     "output_type": "display_data"
    },
    {
     "data": {
      "application/vnd.jupyter.widget-view+json": {
       "model_id": "dfeaac7b23f14b3381efed73b830bd07",
       "version_major": 2,
       "version_minor": 0
      },
      "text/plain": [
       "FloatProgress(value=0.0, layout=Layout(width='auto'), style=ProgressStyle(bar_color='black'))"
      ]
     },
     "metadata": {},
     "output_type": "display_data"
    },
    {
     "data": {
      "application/vnd.jupyter.widget-view+json": {
       "model_id": "baa077fde4684482bdbec17637aef49f",
       "version_major": 2,
       "version_minor": 0
      },
      "text/plain": [
       "FloatProgress(value=0.0, layout=Layout(width='auto'), style=ProgressStyle(bar_color='black'))"
      ]
     },
     "metadata": {},
     "output_type": "display_data"
    },
    {
     "data": {
      "application/vnd.jupyter.widget-view+json": {
       "model_id": "f58be4ab4cfd46ec91aa2c8ae1a859f2",
       "version_major": 2,
       "version_minor": 0
      },
      "text/plain": [
       "FloatProgress(value=0.0, layout=Layout(width='auto'), style=ProgressStyle(bar_color='black'))"
      ]
     },
     "metadata": {},
     "output_type": "display_data"
    },
    {
     "data": {
      "application/vnd.jupyter.widget-view+json": {
       "model_id": "59a50de43a2048a0b2f7a431330e6d33",
       "version_major": 2,
       "version_minor": 0
      },
      "text/plain": [
       "FloatProgress(value=0.0, layout=Layout(width='auto'), style=ProgressStyle(bar_color='black'))"
      ]
     },
     "metadata": {},
     "output_type": "display_data"
    },
    {
     "data": {
      "text/html": [
       "\n",
       "<style>\n",
       "  #altair-viz-ca02cd6039bd46e78cfb6bdff28fa969.vega-embed {\n",
       "    width: 100%;\n",
       "    display: flex;\n",
       "  }\n",
       "\n",
       "  #altair-viz-ca02cd6039bd46e78cfb6bdff28fa969.vega-embed details,\n",
       "  #altair-viz-ca02cd6039bd46e78cfb6bdff28fa969.vega-embed details summary {\n",
       "    position: relative;\n",
       "  }\n",
       "</style>\n",
       "<div id=\"altair-viz-ca02cd6039bd46e78cfb6bdff28fa969\"></div>\n",
       "<script type=\"text/javascript\">\n",
       "  var VEGA_DEBUG = (typeof VEGA_DEBUG == \"undefined\") ? {} : VEGA_DEBUG;\n",
       "  (function(spec, embedOpt){\n",
       "    let outputDiv = document.currentScript.previousElementSibling;\n",
       "    if (outputDiv.id !== \"altair-viz-ca02cd6039bd46e78cfb6bdff28fa969\") {\n",
       "      outputDiv = document.getElementById(\"altair-viz-ca02cd6039bd46e78cfb6bdff28fa969\");\n",
       "    }\n",
       "\n",
       "    const paths = {\n",
       "      \"vega\": \"https://cdn.jsdelivr.net/npm/vega@5?noext\",\n",
       "      \"vega-lib\": \"https://cdn.jsdelivr.net/npm/vega-lib?noext\",\n",
       "      \"vega-lite\": \"https://cdn.jsdelivr.net/npm/vega-lite@5.20.1?noext\",\n",
       "      \"vega-embed\": \"https://cdn.jsdelivr.net/npm/vega-embed@6?noext\",\n",
       "    };\n",
       "\n",
       "    function maybeLoadScript(lib, version) {\n",
       "      var key = `${lib.replace(\"-\", \"\")}_version`;\n",
       "      return (VEGA_DEBUG[key] == version) ?\n",
       "        Promise.resolve(paths[lib]) :\n",
       "        new Promise(function(resolve, reject) {\n",
       "          var s = document.createElement('script');\n",
       "          document.getElementsByTagName(\"head\")[0].appendChild(s);\n",
       "          s.async = true;\n",
       "          s.onload = () => {\n",
       "            VEGA_DEBUG[key] = version;\n",
       "            return resolve(paths[lib]);\n",
       "          };\n",
       "          s.onerror = () => reject(`Error loading script: ${paths[lib]}`);\n",
       "          s.src = paths[lib];\n",
       "        });\n",
       "    }\n",
       "\n",
       "    function showError(err) {\n",
       "      outputDiv.innerHTML = `<div class=\"error\" style=\"color:red;\">${err}</div>`;\n",
       "      throw err;\n",
       "    }\n",
       "\n",
       "    function displayChart(vegaEmbed) {\n",
       "      vegaEmbed(outputDiv, spec, embedOpt)\n",
       "        .catch(err => showError(`Javascript Error: ${err.message}<br>This usually means there's a typo in your chart specification. See the javascript console for the full traceback.`));\n",
       "    }\n",
       "\n",
       "    if(typeof define === \"function\" && define.amd) {\n",
       "      requirejs.config({paths});\n",
       "      let deps = [\"vega-embed\"];\n",
       "      require(deps, displayChart, err => showError(`Error loading script: ${err.message}`));\n",
       "    } else {\n",
       "      maybeLoadScript(\"vega\", \"5\")\n",
       "        .then(() => maybeLoadScript(\"vega-lite\", \"5.20.1\"))\n",
       "        .then(() => maybeLoadScript(\"vega-embed\", \"6\"))\n",
       "        .catch(showError)\n",
       "        .then(() => displayChart(vegaEmbed));\n",
       "    }\n",
       "  })({\"config\": {\"view\": {\"continuousWidth\": 300, \"continuousHeight\": 300}}, \"data\": {\"name\": \"data-f77a5ff4f5b72066277ec7581d7d2326\"}, \"mark\": \"bar\", \"encoding\": {\"order\": {\"field\": \"cumulative_rows\"}, \"tooltip\": [{\"field\": \"blocking_rule\", \"title\": \"SQL Condition\", \"type\": \"nominal\"}, {\"field\": \"row_count\", \"format\": \",\", \"title\": \"Comparisons Generated\", \"type\": \"quantitative\"}, {\"field\": \"cumulative_rows\", \"format\": \",\", \"title\": \"Cumulative Comparisons\", \"type\": \"quantitative\"}, {\"field\": \"cartesian\", \"format\": \",\", \"title\": \"Total comparisons in Cartesian product\", \"type\": \"quantitative\"}], \"x\": {\"field\": \"start\", \"title\": \"Comparisons Generated by Rule(s)\", \"type\": \"quantitative\"}, \"x2\": {\"field\": \"cumulative_rows\"}, \"y\": {\"field\": \"blocking_rule\", \"sort\": [\"-x2\"], \"title\": \"SQL Blocking Rule\"}}, \"height\": {\"step\": 20}, \"title\": {\"text\": \"Count of Additional Comparisons Generated by Each Blocking Rule\", \"subtitle\": \"(Counts exclude comparisons already generated by previous rules)\"}, \"width\": 450, \"$schema\": \"https://vega.github.io/schema/vega-lite/v5.9.3.json\", \"datasets\": {\"data-f77a5ff4f5b72066277ec7581d7d2326\": [{\"blocking_rule\": \"(l.\\\"BB_Title\\\" = r.\\\"BB_Title\\\") AND (l.\\\"BB_Year\\\" = r.\\\"BB_Year\\\")\", \"row_count\": 59, \"cumulative_rows\": 59, \"cartesian\": 449985000, \"match_key\": \"0\", \"start\": 0}, {\"blocking_rule\": \"(SUBSTRING(l.BB_Title, 1, 4) = SUBSTRING(r.BB_Title, 1, 4)) AND (l.\\\"BB_Year\\\" = r.\\\"BB_Year\\\")\", \"row_count\": 194364, \"cumulative_rows\": 194423, \"cartesian\": 449985000, \"match_key\": \"1\", \"start\": 59}, {\"blocking_rule\": \"(SUBSTRING(l.BB_Directors, 1, 6) = SUBSTRING(r.BB_Directors, 1, 6)) AND (l.\\\"BB_Year\\\" = r.\\\"BB_Year\\\")\", \"row_count\": 15900, \"cumulative_rows\": 210323, \"cartesian\": 449985000, \"match_key\": \"2\", \"start\": 194423}, {\"blocking_rule\": \"(SUBSTRING(l.BB_Cast, 1, 6) = SUBSTRING(r.BB_Cast, 1, 6)) AND (l.\\\"BB_Year\\\" = r.\\\"BB_Year\\\")\", \"row_count\": 6229, \"cumulative_rows\": 216552, \"cartesian\": 449985000, \"match_key\": \"3\", \"start\": 210323}, {\"blocking_rule\": \"(l.\\\"BB_Title\\\" = r.\\\"BB_Title\\\") AND (SUBSTRING(l.BB_Directors, 1, 6) = SUBSTRING(r.BB_Directors, 1, 6))\", \"row_count\": 39, \"cumulative_rows\": 216591, \"cartesian\": 449985000, \"match_key\": \"4\", \"start\": 216552}]}}, {\"mode\": \"vega-lite\"});\n",
       "</script>"
      ],
      "text/plain": [
       "alt.Chart(...)"
      ]
     },
     "execution_count": 4,
     "metadata": {},
     "output_type": "execute_result"
    }
   ],
   "source": [
    "# ===================================================================================\n",
    "# 4. ANÁLISE DE REGRAS DE BLOQUEIO (VERSÃO FINALÍSSIMA E CORRETA)\n",
    "# ===================================================================================\n",
    "# O objetivo é usar as ferramentas do Splink na AMOSTRA para diagnosticar e escolher\n",
    "# regras de bloqueio eficientes.\n",
    "\n",
    "# --- Passo 4.1: Diagnóstico de Regras de Coluna Única ---\n",
    "# Usamos o linker_para_analise, que já foi criado na célula 3,\n",
    "# para executar queries SQL de diagnóstico de forma segura.\n",
    "\n",
    "print(\"--- Diagnóstico: Maiores Blocos para 'BB_Year' ---\")\n",
    "sql_diag_year = \"\"\"\n",
    "SELECT \"BB_Year\", COUNT(*) AS contagem_no_bloco\n",
    "FROM dados_amostra\n",
    "GROUP BY \"BB_Year\"\n",
    "ORDER BY contagem_no_bloco DESC\n",
    "LIMIT 5;\n",
    "\"\"\"\n",
    "display(linker_para_analise.misc.query_sql(sql_diag_year, output_type=\"pandas\"))\n",
    "\n",
    "\n",
    "print(\"\\n--- Diagnóstico: Maiores Blocos para 'BB_Title' ---\")\n",
    "sql_diag_title = \"\"\"\n",
    "SELECT \"BB_Title\", COUNT(*) AS contagem_no_bloco\n",
    "FROM dados_amostra\n",
    "GROUP BY \"BB_Title\"\n",
    "ORDER BY contagem_no_bloco DESC\n",
    "LIMIT 5;\n",
    "\"\"\"\n",
    "display(linker_para_analise.misc.query_sql(sql_diag_title, output_type=\"pandas\"))\n",
    "\n",
    "\n",
    "# --- Passo 4.2: Avaliar um conjunto de regras de bloqueio inteligentes ---\n",
    "# Com base no diagnóstico, focaremos apenas em regras combinadas.\n",
    "regras_de_bloqueio_candidatas = [\n",
    "    block_on(\"BB_Title\", \"BB_Year\"),\n",
    "    block_on(\"substr(BB_Title, 1, 4)\", \"BB_Year\"),\n",
    "    block_on(\"substr(BB_Directors, 1, 6)\", \"BB_Year\"),\n",
    "    block_on(\"substr(BB_Cast, 1, 6)\", \"BB_Year\"),\n",
    "    block_on(\"BB_Title\", \"substr(BB_Directors, 1, 6)\"),\n",
    "]\n",
    "\n",
    "print(\"\\n--- Análise Cumulativa de Comparações para Regras Candidatas ---\")\n",
    "# CORREÇÃO FINAL: Voltamos a usar a função standalone, que é o correto.\n",
    "# Ela NÃO é um método do linker. Passamos todos os parâmetros necessários,\n",
    "# como db_api e unique_id_column_name, para que ela tenha o contexto para rodar.\n",
    "cumulative_comparisons_to_be_scored_from_blocking_rules_chart(\n",
    "    table_or_tables=\"dados_amostra\",\n",
    "    blocking_rules=regras_de_bloqueio_candidatas,\n",
    "    db_api=db_api,\n",
    "    link_type=\"dedupe_only\",\n",
    "    unique_id_column_name=\"BB_UID\"\n",
    ")"
   ]
  },
  {
   "cell_type": "code",
   "execution_count": 5,
   "id": "49a06b46-a981-4601-93dc-e5c712dcd142",
   "metadata": {},
   "outputs": [
    {
     "name": "stdout",
     "output_type": "stream",
     "text": [
      "Configuração (settings) para exploração simplificada criada com sucesso.\n"
     ]
    }
   ],
   "source": [
    "# ===================================================================================\n",
    "# 5. CONFIGURAÇÃO DO MODELO (COM BLOQUEIO SIMPLIFICADO)\n",
    "# ===================================================================================\n",
    "# CORREÇÃO: Usamos um conjunto de regras mais simples e estrito para garantir que o 'predict' seja rápido.\n",
    "regras_de_bloqueio_para_guia = [\n",
    "    block_on(\"substr(BB_Title, 1, 4)\", \"BB_Year\"),\n",
    "    block_on(\"substr(BB_Directors, 1, 8)\", \"BB_Year\"),\n",
    "]\n",
    "\n",
    "settings_para_exploracao = SettingsCreator(\n",
    "    link_type=\"dedupe_only\",\n",
    "    unique_id_column_name=\"BB_UID\",\n",
    "    blocking_rules_to_generate_predictions=regras_de_bloqueio_para_guia,\n",
    "    comparisons=[\n",
    "        cl.JaroWinklerAtThresholds(\"BB_Title\", [0.9, 0.7]),\n",
    "        cl.ExactMatch(\"BB_Year\"),\n",
    "        cl.ArrayIntersectAtSizes(\"BB_Directors_array\", [1]),\n",
    "        cl.ArrayIntersectAtSizes(\"BB_Cast_array\", [3, 1]),\n",
    "    ],\n",
    "    retain_matching_columns=True,\n",
    "    retain_intermediate_calculation_columns=True\n",
    ")\n",
    "\n",
    "print(\"Configuração (settings) para exploração simplificada criada com sucesso.\")"
   ]
  },
  {
   "cell_type": "code",
   "execution_count": 6,
   "id": "92a25f95-7307-4c6f-9be1-0f2f3d51537f",
   "metadata": {},
   "outputs": [
    {
     "name": "stdout",
     "output_type": "stream",
     "text": [
      "--- Criando o Linker de modelo para a amostra ---\n",
      "Linker de modelo criado com sucesso.\n",
      "\n",
      "--- Estimando Lambda (Probabilidade de Match Aleatório) ---\n"
     ]
    },
    {
     "data": {
      "application/vnd.jupyter.widget-view+json": {
       "model_id": "1e12089805bc4ae8a4f673738035795e",
       "version_major": 2,
       "version_minor": 0
      },
      "text/plain": [
       "FloatProgress(value=0.0, layout=Layout(width='auto'), style=ProgressStyle(bar_color='black'))"
      ]
     },
     "metadata": {},
     "output_type": "display_data"
    },
    {
     "data": {
      "application/vnd.jupyter.widget-view+json": {
       "model_id": "0fb3877e37de4b358240eb7d0d10d0bb",
       "version_major": 2,
       "version_minor": 0
      },
      "text/plain": [
       "FloatProgress(value=0.0, layout=Layout(width='auto'), style=ProgressStyle(bar_color='black'))"
      ]
     },
     "metadata": {},
     "output_type": "display_data"
    },
    {
     "data": {
      "application/vnd.jupyter.widget-view+json": {
       "model_id": "e1504766383d43709793f8f36316aed8",
       "version_major": 2,
       "version_minor": 0
      },
      "text/plain": [
       "FloatProgress(value=0.0, layout=Layout(width='auto'), style=ProgressStyle(bar_color='black'))"
      ]
     },
     "metadata": {},
     "output_type": "display_data"
    },
    {
     "name": "stderr",
     "output_type": "stream",
     "text": [
      "Probability two random records match is estimated to be  3.17e-08.\n",
      "This means that amongst all possible pairwise record comparisons, one in 31,498,950.00 are expected to match.  With 449,985,000 total possible comparisons, we expect a total of around 14.29 matching pairs\n",
      "You are using the default value for `max_pairs`, which may be too small and thus lead to inaccurate estimates for your model's u-parameters. Consider increasing to 1e8 or 1e9, which will result in more accurate estimates, but with a longer run time.\n",
      "----- Estimating u probabilities using random sampling -----\n"
     ]
    },
    {
     "name": "stdout",
     "output_type": "stream",
     "text": [
      "\n",
      "--- Estimando probabilidades 'u' ---\n"
     ]
    },
    {
     "data": {
      "application/vnd.jupyter.widget-view+json": {
       "model_id": "1b9dd7dd62ec40d8805f4eabe59d51c3",
       "version_major": 2,
       "version_minor": 0
      },
      "text/plain": [
       "FloatProgress(value=0.0, layout=Layout(width='auto'), style=ProgressStyle(bar_color='black'))"
      ]
     },
     "metadata": {},
     "output_type": "display_data"
    },
    {
     "name": "stderr",
     "output_type": "stream",
     "text": [
      "\n",
      "Estimated u probabilities using random sampling\n",
      "\n",
      "Your model is not yet fully trained. Missing estimates for:\n",
      "    - BB_Title (no m values are trained).\n",
      "    - BB_Year (no m values are trained).\n",
      "    - BB_Directors_array (no m values are trained).\n",
      "    - BB_Cast_array (no m values are trained).\n"
     ]
    },
    {
     "name": "stdout",
     "output_type": "stream",
     "text": [
      "\n",
      "--- Iniciando sessões de treinamento EM ---\n"
     ]
    },
    {
     "data": {
      "application/vnd.jupyter.widget-view+json": {
       "model_id": "f7bdd247c1184e489f0e14092161aaf1",
       "version_major": 2,
       "version_minor": 0
      },
      "text/plain": [
       "FloatProgress(value=0.0, layout=Layout(width='auto'), style=ProgressStyle(bar_color='black'))"
      ]
     },
     "metadata": {},
     "output_type": "display_data"
    },
    {
     "name": "stderr",
     "output_type": "stream",
     "text": [
      "\n",
      "----- Starting EM training session -----\n",
      "\n",
      "Estimating the m probabilities of the model by blocking on:\n",
      "(l.\"BB_Title\" = r.\"BB_Title\") AND (l.\"BB_Year\" = r.\"BB_Year\")\n",
      "\n",
      "Parameter estimates will be made for the following comparison(s):\n",
      "    - BB_Directors_array\n",
      "    - BB_Cast_array\n",
      "\n",
      "Parameter estimates cannot be made for the following comparison(s) since they are used in the blocking rules: \n",
      "    - BB_Title\n",
      "    - BB_Year\n",
      "\n",
      "Iteration 1: Largest change in params was 0.205 in probability_two_random_records_match\n",
      "Iteration 2: Largest change in params was 0.0504 in probability_two_random_records_match\n",
      "Iteration 3: Largest change in params was 0.00603 in probability_two_random_records_match\n",
      "Iteration 4: Largest change in params was 0.000722 in probability_two_random_records_match\n",
      "Iteration 5: Largest change in params was 8.65e-05 in probability_two_random_records_match\n",
      "\n",
      "EM converged after 5 iterations\n",
      "\n",
      "Your model is not yet fully trained. Missing estimates for:\n",
      "    - BB_Title (no m values are trained).\n",
      "    - BB_Year (no m values are trained).\n",
      "\n",
      "----- Starting EM training session -----\n",
      "\n",
      "Estimating the m probabilities of the model by blocking on:\n",
      "(l.\"BB_Directors\" = r.\"BB_Directors\") AND (l.\"BB_Year\" = r.\"BB_Year\")\n",
      "\n",
      "Parameter estimates will be made for the following comparison(s):\n",
      "    - BB_Title\n",
      "    - BB_Directors_array\n",
      "    - BB_Cast_array\n",
      "\n",
      "Parameter estimates cannot be made for the following comparison(s) since they are used in the blocking rules: \n",
      "    - BB_Year\n",
      "\n",
      "Iteration 1: Largest change in params was -0.617 in the m_probability of BB_Title, level `Exact match on BB_Title`\n",
      "Iteration 2: Largest change in params was 0.754 in probability_two_random_records_match\n",
      "Iteration 3: Largest change in params was 0.0481 in probability_two_random_records_match\n",
      "Iteration 4: Largest change in params was 0.000286 in probability_two_random_records_match\n",
      "Iteration 5: Largest change in params was 1.68e-06 in probability_two_random_records_match\n",
      "\n",
      "EM converged after 5 iterations\n",
      "\n",
      "Your model is not yet fully trained. Missing estimates for:\n",
      "    - BB_Year (no m values are trained).\n"
     ]
    },
    {
     "name": "stdout",
     "output_type": "stream",
     "text": [
      "\n",
      "Treinamento do modelo concluído!\n"
     ]
    }
   ],
   "source": [
    "# ===================================================================================\n",
    "# 6. TREINAMENTO DO MODELO (NA AMOSTRA)\n",
    "# ===================================================================================\n",
    "# CORREÇÃO FINAL: Em vez de tentar modificar o linker de análise, criamos um NOVO\n",
    "# Linker para o modelo, usando as configurações finais que acabamos de definir.\n",
    "# Este linker ainda aponta para a AMOSTRA, para manter o processo rápido e exploratório.\n",
    "\n",
    "print(\"--- Criando o Linker de modelo para a amostra ---\")\n",
    "linker_modelo = Linker(\"dados_amostra\", settings_para_exploracao, db_api=db_api)\n",
    "print(\"Linker de modelo criado com sucesso.\")\n",
    "\n",
    "\n",
    "# --- 6.1: Estimando Lambda ---\n",
    "print(\"\\n--- Estimando Lambda (Probabilidade de Match Aleatório) ---\")\n",
    "regras_deterministicas = [\n",
    "    block_on(\"BB_Title\", \"BB_Year\", \"BB_Directors\"),\n",
    "    block_on(\"BB_Title\", \"BB_Year\", \"BB_Cast\")\n",
    "]\n",
    "linker_modelo.training.estimate_probability_two_random_records_match(regras_deterministicas, recall=0.7)\n",
    "\n",
    "\n",
    "# --- 6.2: Estimando as Probabilidades 'u' ---\n",
    "print(\"\\n--- Estimando probabilidades 'u' ---\")\n",
    "linker_modelo.training.estimate_u_using_random_sampling(max_pairs=1e6)\n",
    "\n",
    "\n",
    "# --- 6.3: Estimando as Probabilidades 'm' (Expectation Maximisation) ---\n",
    "print(\"\\n--- Iniciando sessões de treinamento EM ---\")\n",
    "linker_modelo.training.estimate_parameters_using_expectation_maximisation(block_on(\"BB_Title\", \"BB_Year\"))\n",
    "linker_modelo.training.estimate_parameters_using_expectation_maximisation(block_on(\"BB_Directors\", \"BB_Year\"))\n",
    "print(\"\\nTreinamento do modelo concluído!\")"
   ]
  },
  {
   "cell_type": "code",
   "execution_count": 7,
   "id": "bc83fb67-40d5-49c5-9f8b-64d0e19e2e6a",
   "metadata": {},
   "outputs": [
    {
     "name": "stdout",
     "output_type": "stream",
     "text": [
      "--- Gráfico de Pesos de Correspondência (Match Weights) ---\n"
     ]
    },
    {
     "data": {
      "text/html": [
       "\n",
       "<style>\n",
       "  #altair-viz-976e0422f6564582953c645e385677cc.vega-embed {\n",
       "    width: 100%;\n",
       "    display: flex;\n",
       "  }\n",
       "\n",
       "  #altair-viz-976e0422f6564582953c645e385677cc.vega-embed details,\n",
       "  #altair-viz-976e0422f6564582953c645e385677cc.vega-embed details summary {\n",
       "    position: relative;\n",
       "  }\n",
       "</style>\n",
       "<div id=\"altair-viz-976e0422f6564582953c645e385677cc\"></div>\n",
       "<script type=\"text/javascript\">\n",
       "  var VEGA_DEBUG = (typeof VEGA_DEBUG == \"undefined\") ? {} : VEGA_DEBUG;\n",
       "  (function(spec, embedOpt){\n",
       "    let outputDiv = document.currentScript.previousElementSibling;\n",
       "    if (outputDiv.id !== \"altair-viz-976e0422f6564582953c645e385677cc\") {\n",
       "      outputDiv = document.getElementById(\"altair-viz-976e0422f6564582953c645e385677cc\");\n",
       "    }\n",
       "\n",
       "    const paths = {\n",
       "      \"vega\": \"https://cdn.jsdelivr.net/npm/vega@5?noext\",\n",
       "      \"vega-lib\": \"https://cdn.jsdelivr.net/npm/vega-lib?noext\",\n",
       "      \"vega-lite\": \"https://cdn.jsdelivr.net/npm/vega-lite@5.20.1?noext\",\n",
       "      \"vega-embed\": \"https://cdn.jsdelivr.net/npm/vega-embed@6?noext\",\n",
       "    };\n",
       "\n",
       "    function maybeLoadScript(lib, version) {\n",
       "      var key = `${lib.replace(\"-\", \"\")}_version`;\n",
       "      return (VEGA_DEBUG[key] == version) ?\n",
       "        Promise.resolve(paths[lib]) :\n",
       "        new Promise(function(resolve, reject) {\n",
       "          var s = document.createElement('script');\n",
       "          document.getElementsByTagName(\"head\")[0].appendChild(s);\n",
       "          s.async = true;\n",
       "          s.onload = () => {\n",
       "            VEGA_DEBUG[key] = version;\n",
       "            return resolve(paths[lib]);\n",
       "          };\n",
       "          s.onerror = () => reject(`Error loading script: ${paths[lib]}`);\n",
       "          s.src = paths[lib];\n",
       "        });\n",
       "    }\n",
       "\n",
       "    function showError(err) {\n",
       "      outputDiv.innerHTML = `<div class=\"error\" style=\"color:red;\">${err}</div>`;\n",
       "      throw err;\n",
       "    }\n",
       "\n",
       "    function displayChart(vegaEmbed) {\n",
       "      vegaEmbed(outputDiv, spec, embedOpt)\n",
       "        .catch(err => showError(`Javascript Error: ${err.message}<br>This usually means there's a typo in your chart specification. See the javascript console for the full traceback.`));\n",
       "    }\n",
       "\n",
       "    if(typeof define === \"function\" && define.amd) {\n",
       "      requirejs.config({paths});\n",
       "      let deps = [\"vega-embed\"];\n",
       "      require(deps, displayChart, err => showError(`Error loading script: ${err.message}`));\n",
       "    } else {\n",
       "      maybeLoadScript(\"vega\", \"5\")\n",
       "        .then(() => maybeLoadScript(\"vega-lite\", \"5.20.1\"))\n",
       "        .then(() => maybeLoadScript(\"vega-embed\", \"6\"))\n",
       "        .catch(showError)\n",
       "        .then(() => displayChart(vegaEmbed));\n",
       "    }\n",
       "  })({\"config\": {\"view\": {\"continuousWidth\": 300, \"continuousHeight\": 300, \"discreteHeight\": 60, \"discreteWidth\": 400}, \"header\": {\"title\": null}, \"mark\": {\"tooltip\": null}, \"title\": {\"anchor\": \"middle\"}}, \"vconcat\": [{\"mark\": {\"type\": \"bar\", \"clip\": true, \"height\": 15}, \"encoding\": {\"color\": {\"field\": \"log2_bayes_factor\", \"scale\": {\"domain\": [-10, 0, 10], \"interpolate\": \"lab\", \"range\": [\"red\", \"#bbbbbb\", \"green\"]}, \"title\": \"Match weight\", \"type\": \"quantitative\"}, \"tooltip\": [{\"field\": \"comparison_name\", \"title\": \"Comparison name\", \"type\": \"nominal\"}, {\"field\": \"probability_two_random_records_match\", \"format\": \".4f\", \"title\": \"Probability two random records match\", \"type\": \"nominal\"}, {\"field\": \"log2_bayes_factor\", \"format\": \",.4f\", \"title\": \"Equivalent match weight\", \"type\": \"quantitative\"}, {\"field\": \"bayes_factor_description\", \"title\": \"Match weight description\", \"type\": \"nominal\"}], \"x\": {\"axis\": {\"domain\": false, \"gridColor\": {\"condition\": {\"test\": \"abs(datum.value / 10)  <= 1 & datum.value % 10 === 0\", \"value\": \"#aaa\"}, \"value\": \"#ddd\"}, \"gridDash\": {\"condition\": {\"test\": \"abs(datum.value / 10) == 1\", \"value\": [3]}, \"value\": null}, \"gridWidth\": {\"condition\": {\"test\": \"abs(datum.value / 10)  <= 1 & datum.value % 10 === 0\", \"value\": 2}, \"value\": 1}, \"labels\": false, \"ticks\": false, \"title\": \"\"}, \"field\": \"log2_bayes_factor\", \"scale\": {\"domain\": [-122, 122]}, \"type\": \"quantitative\"}, \"y\": {\"axis\": {\"title\": \"Prior (starting) match weight\", \"titleAlign\": \"right\", \"titleAngle\": 0, \"titleFontWeight\": \"normal\"}, \"field\": \"label_for_charts\", \"sort\": {\"field\": \"comparison_vector_value\", \"order\": \"descending\"}, \"type\": \"nominal\"}}, \"height\": 20, \"transform\": [{\"filter\": \"(datum.comparison_name == 'probability_two_random_records_match')\"}]}, {\"mark\": {\"type\": \"bar\", \"clip\": true}, \"encoding\": {\"color\": {\"field\": \"log2_bayes_factor\", \"scale\": {\"domain\": [-10, 0, 10], \"interpolate\": \"lab\", \"range\": [\"red\", \"#bbbbbb\", \"green\"]}, \"title\": \"Match weight\", \"type\": \"quantitative\"}, \"row\": {\"field\": \"comparison_name\", \"header\": {\"labelAlign\": \"left\", \"labelAnchor\": \"middle\", \"labelAngle\": 0}, \"sort\": {\"field\": \"comparison_sort_order\"}, \"type\": \"nominal\"}, \"tooltip\": [{\"field\": \"comparison_name\", \"title\": \"Comparison name\", \"type\": \"nominal\"}, {\"field\": \"label_for_charts\", \"title\": \"Label\", \"type\": \"ordinal\"}, {\"field\": \"sql_condition\", \"title\": \"SQL condition\", \"type\": \"nominal\"}, {\"field\": \"m_probability\", \"format\": \".10~g\", \"title\": \"M probability\", \"type\": \"quantitative\"}, {\"field\": \"u_probability\", \"format\": \".10~g\", \"title\": \"U probability\", \"type\": \"quantitative\"}, {\"field\": \"bayes_factor\", \"format\": \",.6f\", \"title\": \"Bayes factor = m/u\", \"type\": \"quantitative\"}, {\"field\": \"log2_bayes_factor\", \"format\": \".4~g\", \"title\": \"Match weight = log2(m/u)\", \"type\": \"quantitative\"}, {\"field\": \"bayes_factor_description\", \"title\": \"Match weight description\", \"type\": \"nominal\"}, {\"field\": \"m_probability_description\", \"title\": \"m probability description\", \"type\": \"nominal\"}, {\"field\": \"u_probability_description\", \"title\": \"u probability description\", \"type\": \"nominal\"}], \"x\": {\"axis\": {\"gridColor\": {\"condition\": {\"test\": \"abs(datum.value / 10)  <= 1 & datum.value % 10 === 0\", \"value\": \"#aaa\"}, \"value\": \"#ddd\"}, \"gridDash\": {\"condition\": {\"test\": \"abs(datum.value / 10) == 1\", \"value\": [3]}, \"value\": null}, \"gridWidth\": {\"condition\": {\"test\": \"abs(datum.value / 10)  <= 1 & datum.value % 10 === 0\", \"value\": 2}, \"value\": 1}, \"title\": \"Comparison level match weight = log2(m/u)\"}, \"field\": \"log2_bayes_factor\", \"scale\": {\"domain\": [-122, 122]}, \"type\": \"quantitative\"}, \"y\": {\"axis\": {\"title\": null}, \"field\": \"label_for_charts\", \"sort\": {\"field\": \"comparison_vector_value\", \"order\": \"descending\"}, \"type\": \"nominal\"}}, \"height\": {\"step\": 12}, \"resolve\": {\"axis\": {\"y\": \"independent\"}, \"scale\": {\"y\": \"independent\"}}, \"transform\": [{\"filter\": \"(datum.comparison_name != 'probability_two_random_records_match')\"}]}], \"data\": {\"name\": \"data-393c4c4413e2cf6d6677de79f004de8e\"}, \"params\": [{\"name\": \"mouse_zoom\", \"select\": {\"type\": \"interval\", \"encodings\": [\"x\"]}, \"bind\": \"scales\", \"views\": []}], \"resolve\": {\"axis\": {\"y\": \"independent\"}, \"scale\": {\"y\": \"independent\"}}, \"title\": {\"text\": \"Model parameters (components of final match weight)\", \"subtitle\": \"Use mousewheel to zoom\"}, \"$schema\": \"https://vega.github.io/schema/vega-lite/v5.9.3.json\", \"datasets\": {\"data-393c4c4413e2cf6d6677de79f004de8e\": [{\"comparison_name\": \"probability_two_random_records_match\", \"sql_condition\": null, \"label_for_charts\": \"\", \"m_probability\": null, \"u_probability\": null, \"m_probability_description\": null, \"u_probability_description\": null, \"has_tf_adjustments\": false, \"tf_adjustment_column\": null, \"tf_adjustment_weight\": null, \"is_null_level\": false, \"bayes_factor\": 3.1747090990242246e-08, \"log2_bayes_factor\": -24.90880035638651, \"comparison_vector_value\": 0, \"max_comparison_vector_value\": 0, \"bayes_factor_description\": \"The probability that two random records drawn at random match is 0.000 or one in  31,498,950.0 records.This is equivalent to a starting match weight of -24.909.\", \"probability_two_random_records_match\": 3.174708998236449e-08, \"comparison_sort_order\": -1}, {\"comparison_name\": \"BB_Title\", \"sql_condition\": \"\\\"BB_Title_l\\\" = \\\"BB_Title_r\\\"\", \"label_for_charts\": \"Exact match on BB_Title\", \"m_probability\": 0.005256446499403898, \"u_probability\": 9.559781616348757e-07, \"m_probability_description\": \"Amongst matching record comparisons, 0.5256% of records (i.e. one in 190) are in the exact match on bb_title comparison level\", \"u_probability_description\": \"Amongst non-matching record comparisons, 9.56e-05% of records (i.e. one in 1,046,049) are in the exact match on bb_title comparison level\", \"has_tf_adjustments\": false, \"tf_adjustment_column\": null, \"tf_adjustment_weight\": 1.0, \"is_null_level\": false, \"bayes_factor\": 5498.500604254948, \"log2_bayes_factor\": 12.424822545896053, \"comparison_vector_value\": 3, \"max_comparison_vector_value\": 3, \"bayes_factor_description\": \"If comparison level is `exact match on bb_title` then comparison is 5,499 times more likely to be a match\", \"probability_two_random_records_match\": 3.174708998236449e-08, \"comparison_sort_order\": 0}, {\"comparison_name\": \"BB_Title\", \"sql_condition\": \"jaro_winkler_similarity(\\\"BB_Title_l\\\", \\\"BB_Title_r\\\") >= 0.9\", \"label_for_charts\": \"Jaro-Winkler distance of BB_Title >= 0.9\", \"m_probability\": 0.027839696026114507, \"u_probability\": 2.7723366687411394e-05, \"m_probability_description\": \"Amongst matching record comparisons, 2.784% of records (i.e. one in 35.92) are in the jaro-winkler distance of bb_title >= 0.9 comparison level\", \"u_probability_description\": \"Amongst non-matching record comparisons, 0.002772% of records (i.e. one in 36,071) are in the jaro-winkler distance of bb_title >= 0.9 comparison level\", \"has_tf_adjustments\": false, \"tf_adjustment_column\": null, \"tf_adjustment_weight\": 1.0, \"is_null_level\": false, \"bayes_factor\": 1004.196075462795, \"log2_bayes_factor\": 9.971825276539686, \"comparison_vector_value\": 2, \"max_comparison_vector_value\": 3, \"bayes_factor_description\": \"If comparison level is `jaro-winkler distance of bb_title >= 0.9` then comparison is 1,004 times more likely to be a match\", \"probability_two_random_records_match\": 3.174708998236449e-08, \"comparison_sort_order\": 0}, {\"comparison_name\": \"BB_Title\", \"sql_condition\": \"jaro_winkler_similarity(\\\"BB_Title_l\\\", \\\"BB_Title_r\\\") >= 0.7\", \"label_for_charts\": \"Jaro-Winkler distance of BB_Title >= 0.7\", \"m_probability\": 0.1251811756146223, \"u_probability\": 0.0015869237483138936, \"m_probability_description\": \"Amongst matching record comparisons, 12.52% of records (i.e. one in 7.988) are in the jaro-winkler distance of bb_title >= 0.7 comparison level\", \"u_probability_description\": \"Amongst non-matching record comparisons, 0.1587% of records (i.e. one in 630) are in the jaro-winkler distance of bb_title >= 0.7 comparison level\", \"has_tf_adjustments\": false, \"tf_adjustment_column\": null, \"tf_adjustment_weight\": 1.0, \"is_null_level\": false, \"bayes_factor\": 78.88291781355424, \"log2_bayes_factor\": 6.3016410116804025, \"comparison_vector_value\": 1, \"max_comparison_vector_value\": 3, \"bayes_factor_description\": \"If comparison level is `jaro-winkler distance of bb_title >= 0.7` then comparison is 78.88 times more likely to be a match\", \"probability_two_random_records_match\": 3.174708998236449e-08, \"comparison_sort_order\": 0}, {\"comparison_name\": \"BB_Title\", \"sql_condition\": \"ELSE\", \"label_for_charts\": \"All other comparisons\", \"m_probability\": 0.8417226818598593, \"u_probability\": 0.9983843969068371, \"m_probability_description\": \"Amongst matching record comparisons, 84.17% of records (i.e. one in 1.188) are in the all other comparisons comparison level\", \"u_probability_description\": \"Amongst non-matching record comparisons, 99.84% of records (i.e. one in 1.002) are in the all other comparisons comparison level\", \"has_tf_adjustments\": false, \"tf_adjustment_column\": null, \"tf_adjustment_weight\": 1.0, \"is_null_level\": false, \"bayes_factor\": 0.8430847722256657, \"log2_bayes_factor\": -0.24625039335143176, \"comparison_vector_value\": 0, \"max_comparison_vector_value\": 3, \"bayes_factor_description\": \"If comparison level is `all other comparisons` then comparison is 1.186 times less likely to be a match\", \"probability_two_random_records_match\": 3.174708998236449e-08, \"comparison_sort_order\": 0}, {\"comparison_name\": \"BB_Year\", \"sql_condition\": \"\\\"BB_Year_l\\\" = \\\"BB_Year_r\\\"\", \"label_for_charts\": \"Exact match on BB_Year\", \"m_probability\": 0.95, \"u_probability\": 0.043056529457212674, \"m_probability_description\": \"Amongst matching record comparisons, 95% of records (i.e. one in 1.053) are in the exact match on bb_year comparison level\", \"u_probability_description\": \"Amongst non-matching record comparisons, 4.306% of records (i.e. one in 23.23) are in the exact match on bb_year comparison level\", \"has_tf_adjustments\": false, \"tf_adjustment_column\": null, \"tf_adjustment_weight\": 1.0, \"is_null_level\": false, \"bayes_factor\": 22.06401704865833, \"log2_bayes_factor\": 4.4636235716092045, \"comparison_vector_value\": 1, \"max_comparison_vector_value\": 1, \"bayes_factor_description\": \"If comparison level is `exact match on bb_year` then comparison is 22.06 times more likely to be a match\", \"probability_two_random_records_match\": 3.174708998236449e-08, \"comparison_sort_order\": 1}, {\"comparison_name\": \"BB_Year\", \"sql_condition\": \"ELSE\", \"label_for_charts\": \"All other comparisons\", \"m_probability\": 0.050000000000000044, \"u_probability\": 0.9569434705427873, \"m_probability_description\": \"Amongst matching record comparisons, 5% of records (i.e. one in 20) are in the all other comparisons comparison level\", \"u_probability_description\": \"Amongst non-matching record comparisons, 95.69% of records (i.e. one in 1.045) are in the all other comparisons comparison level\", \"has_tf_adjustments\": false, \"tf_adjustment_column\": null, \"tf_adjustment_weight\": 1.0, \"is_null_level\": false, \"bayes_factor\": 0.05224969033086101, \"log2_bayes_factor\": -4.258433703001397, \"comparison_vector_value\": 0, \"max_comparison_vector_value\": 1, \"bayes_factor_description\": \"If comparison level is `all other comparisons` then comparison is 19.14 times less likely to be a match\", \"probability_two_random_records_match\": 3.174708998236449e-08, \"comparison_sort_order\": 1}, {\"comparison_name\": \"BB_Directors_array\", \"sql_condition\": \"array_length(list_intersect(\\\"BB_Directors_array_l\\\", \\\"BB_Directors_array_r\\\")) >= 1\", \"label_for_charts\": \"Array intersection size >= 1\", \"m_probability\": 1.0, \"u_probability\": 0.00035221436224909785, \"m_probability_description\": \"Amongst matching record comparisons, 100% of records (i.e. one in 1) are in the array intersection size >= 1 comparison level\", \"u_probability_description\": \"Amongst non-matching record comparisons, 0.03522% of records (i.e. one in 2,839) are in the array intersection size >= 1 comparison level\", \"has_tf_adjustments\": false, \"tf_adjustment_column\": null, \"tf_adjustment_weight\": 1.0, \"is_null_level\": false, \"bayes_factor\": 2839.1800766283527, \"log2_bayes_factor\": 11.4712586403886, \"comparison_vector_value\": 1, \"max_comparison_vector_value\": 1, \"bayes_factor_description\": \"If comparison level is `array intersection size >= 1` then comparison is 2,839 times more likely to be a match\", \"probability_two_random_records_match\": 3.174708998236449e-08, \"comparison_sort_order\": 2}, {\"comparison_name\": \"BB_Directors_array\", \"sql_condition\": \"ELSE\", \"label_for_charts\": \"All other comparisons\", \"m_probability\": 5.4050475250316066e-17, \"u_probability\": 0.9996477856377509, \"m_probability_description\": \"Amongst matching record comparisons, 5.405e-15% of records (i.e. one in 18,501,224,926,679,112) are in the all other comparisons comparison level\", \"u_probability_description\": \"Amongst non-matching record comparisons, 99.96% of records (i.e. one in 1) are in the all other comparisons comparison level\", \"has_tf_adjustments\": false, \"tf_adjustment_column\": null, \"tf_adjustment_weight\": 1.0, \"is_null_level\": false, \"bayes_factor\": 5.406951931157751e-17, \"log2_bayes_factor\": -54.03796208244453, \"comparison_vector_value\": 0, \"max_comparison_vector_value\": 1, \"bayes_factor_description\": \"If comparison level is `all other comparisons` then comparison is 18,494,708,529,540,736 times less likely to be a match\", \"probability_two_random_records_match\": 3.174708998236449e-08, \"comparison_sort_order\": 2}, {\"comparison_name\": \"BB_Cast_array\", \"sql_condition\": \"array_length(list_intersect(\\\"BB_Cast_array_l\\\", \\\"BB_Cast_array_r\\\")) >= 3\", \"label_for_charts\": \"Array intersection size >= 3\", \"m_probability\": 0.9999999999999714, \"u_probability\": 6.891953127826778e-06, \"m_probability_description\": \"Amongst matching record comparisons, 100% of records (i.e. one in 1) are in the array intersection size >= 3 comparison level\", \"u_probability_description\": \"Amongst non-matching record comparisons, 0.0006892% of records (i.e. one in 145,097) are in the array intersection size >= 3 comparison level\", \"has_tf_adjustments\": false, \"tf_adjustment_column\": null, \"tf_adjustment_weight\": 1.0, \"is_null_level\": false, \"bayes_factor\": 145096.74999999584, \"log2_bayes_factor\": 17.14665567949688, \"comparison_vector_value\": 2, \"max_comparison_vector_value\": 2, \"bayes_factor_description\": \"If comparison level is `array intersection size >= 3` then comparison is 145,097 times more likely to be a match\", \"probability_two_random_records_match\": 3.174708998236449e-08, \"comparison_sort_order\": 3}, {\"comparison_name\": \"BB_Cast_array\", \"sql_condition\": \"array_length(list_intersect(\\\"BB_Cast_array_l\\\", \\\"BB_Cast_array_r\\\")) >= 1\", \"label_for_charts\": \"Array intersection size >= 1\", \"m_probability\": 2.868048398406235e-14, \"u_probability\": 0.0013284239653886113, \"m_probability_description\": \"Amongst matching record comparisons, 2.868e-12% of records (i.e. one in 34,866,915,096,541) are in the array intersection size >= 1 comparison level\", \"u_probability_description\": \"Amongst non-matching record comparisons, 0.1328% of records (i.e. one in 753) are in the array intersection size >= 1 comparison level\", \"has_tf_adjustments\": false, \"tf_adjustment_column\": null, \"tf_adjustment_weight\": 1.0, \"is_null_level\": false, \"bayes_factor\": 2.1589857403447467e-11, \"log2_bayes_factor\": -35.43085532907211, \"comparison_vector_value\": 1, \"max_comparison_vector_value\": 2, \"bayes_factor_description\": \"If comparison level is `array intersection size >= 1` then comparison is 46,318,045,613 times less likely to be a match\", \"probability_two_random_records_match\": 3.174708998236449e-08, \"comparison_sort_order\": 3}, {\"comparison_name\": \"BB_Cast_array\", \"sql_condition\": \"ELSE\", \"label_for_charts\": \"All other comparisons\", \"m_probability\": 2.109148282108267e-37, \"u_probability\": 0.9986646840814836, \"m_probability_description\": \"Amongst matching record comparisons, 2.109e-35% of records (i.e. one in 4,741,250,335,421,736,472,423,728,079,410,561,024) are in the all other comparisons comparison level\", \"u_probability_description\": \"Amongst non-matching record comparisons, 99.87% of records (i.e. one in 1.001) are in the all other comparisons comparison level\", \"has_tf_adjustments\": false, \"tf_adjustment_column\": null, \"tf_adjustment_weight\": 1.0, \"is_null_level\": false, \"bayes_factor\": 2.111968427168469e-37, \"log2_bayes_factor\": -121.8327512435167, \"comparison_vector_value\": 0, \"max_comparison_vector_value\": 2, \"bayes_factor_description\": \"If comparison level is `all other comparisons` then comparison is 4,734,919,268,375,176,231,003,277,822,131,175,424 times less likely to be a match\", \"probability_two_random_records_match\": 3.174708998236449e-08, \"comparison_sort_order\": 3}]}}, {\"mode\": \"vega-lite\"});\n",
       "</script>"
      ],
      "text/plain": [
       "alt.VConcatChart(...)"
      ]
     },
     "metadata": {},
     "output_type": "display_data"
    },
    {
     "name": "stdout",
     "output_type": "stream",
     "text": [
      "\n",
      "--- Executando predição na amostra ---\n"
     ]
    },
    {
     "name": "stderr",
     "output_type": "stream",
     "text": [
      "Blocking time: 0.08 seconds\n",
      "Predict time: 1.01 seconds\n",
      "\n",
      " -- WARNING --\n",
      "You have called predict(), but there are some parameter estimates which have neither been estimated or specified in your settings dictionary.  To produce predictions the following untrained trained parameters will use default values.\n",
      "Comparison: 'BB_Year':\n",
      "    m values not fully trained\n"
     ]
    },
    {
     "name": "stdout",
     "output_type": "stream",
     "text": [
      "\n",
      "--- Gerando o Dashboard 'Comparison Viewer' ---\n",
      "Dashboard salvo em 'comparison_viewer.html'.\n",
      "Modelo treinado na amostra foi salvo em: modelo_vod_exploratorio_v1.json\n"
     ]
    }
   ],
   "source": [
    "# ===================================================================================\n",
    "# 7. VITRINE DE FERRAMENTAS DE ANÁLISE E VISUALIZAÇÃO (NA AMOSTRA)\n",
    "# ===================================================================================\n",
    "# Todas as chamadas agora usam o 'linker_modelo' que foi devidamente treinado.\n",
    "\n",
    "print(\"--- Gráfico de Pesos de Correspondência (Match Weights) ---\")\n",
    "display(linker_modelo.visualisations.match_weights_chart())\n",
    "\n",
    "print(\"\\n--- Executando predição na amostra ---\")\n",
    "df_predict_amostra = linker_modelo.inference.predict()\n",
    "\n",
    "print(\"\\n--- Gerando o Dashboard 'Comparison Viewer' ---\")\n",
    "linker_modelo.visualisations.comparison_viewer_dashboard(df_predict_amostra, \"comparison_viewer.html\", overwrite=True)\n",
    "print(\"Dashboard salvo em 'comparison_viewer.html'.\")\n",
    "\n",
    "# ... (e assim por diante para todas as outras funções de visualização e clusterização)\n",
    "\n",
    "# ===================================================================================\n",
    "# 8. CONCLUSÃO E CAMINHO PARA A PRODUÇÃO\n",
    "# ===================================================================================\n",
    "caminho_modelo = \"modelo_vod_exploratorio_v1.json\"\n",
    "linker_modelo.misc.save_model_to_json(caminho_modelo, overwrite=True)\n",
    "print(f\"Modelo treinado na amostra foi salvo em: {caminho_modelo}\")"
   ]
  },
  {
   "cell_type": "code",
   "execution_count": null,
   "id": "782a726a-b315-467a-a4e8-94589d8d347d",
   "metadata": {},
   "outputs": [],
   "source": []
  }
 ],
 "metadata": {
  "kernelspec": {
   "display_name": "SPLINK-VOD",
   "language": "python",
   "name": "ancine"
  },
  "language_info": {
   "codemirror_mode": {
    "name": "ipython",
    "version": 3
   },
   "file_extension": ".py",
   "mimetype": "text/x-python",
   "name": "python",
   "nbconvert_exporter": "python",
   "pygments_lexer": "ipython3",
   "version": "3.13.5"
  }
 },
 "nbformat": 4,
 "nbformat_minor": 5
}

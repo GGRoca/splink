{
 "cells": [
  {
   "cell_type": "code",
   "execution_count": 1,
   "id": "7c8925cc-cf68-43f2-948b-d379124569dd",
   "metadata": {
    "tags": []
   },
   "outputs": [
    {
     "name": "stdout",
     "output_type": "stream",
     "text": [
      "Ambiente configurado e bibliotecas importadas.\n"
     ]
    }
   ],
   "source": [
    "#%%\n",
    "# Bloco 1: Importações e Configuração do Ambiente\n",
    "# --------------------------------------------------------------------------\n",
    "# Objetivo: Importar as bibliotecas necessárias para o pipeline e\n",
    "# definir as configurações de exibição e logging.\n",
    "\n",
    "# Certifique-se de que as bibliotecas estão instaladas:\n",
    "# pip install pandas openpyxl pyarrow tqdm\n",
    "\n",
    "import pandas as pd\n",
    "import pathlib\n",
    "import json\n",
    "from datetime import datetime\n",
    "from multiprocessing import Pool, cpu_count\n",
    "from functools import partial\n",
    "from tqdm.auto import tqdm\n",
    "\n",
    "# IMPORTANTE: Importa as funções do nosso novo arquivo .py\n",
    "import processador as proc\n",
    "\n",
    "# Configura o pandas para não truncar a exibição de colunas em DataFrames\n",
    "pd.set_option('display.max_columns', None)\n",
    "\n",
    "print(\"Ambiente configurado e bibliotecas importadas.\")"
   ]
  },
  {
   "cell_type": "code",
   "execution_count": 2,
   "id": "8585f40b-9091-4996-bc79-24b99505259e",
   "metadata": {},
   "outputs": [
    {
     "name": "stdout",
     "output_type": "stream",
     "text": [
      "Arquivo de mapeamento 'mapeamento_colunas.json' carregado.\n",
      "Estrutura de diretórios e configurações carregadas.\n"
     ]
    }
   ],
   "source": [
    "# Bloco 2: Definição de Caminhos e Carregamento de Configurações\n",
    "# --------------------------------------------------------------------------\n",
    "PASTA_DADOS = pathlib.Path(\"dados_catalogo\")\n",
    "PASTA_RAW_XLSX = PASTA_DADOS / \"raw_xlsx\"\n",
    "PASTA_STAGING  = PASTA_DADOS / \"staging\"\n",
    "PASTA_LOGS     = PASTA_DADOS / \"logs\"\n",
    "ARQ_MANIFESTO = PASTA_DADOS / \"manifesto_xlsx.json\"\n",
    "CAMINHO_MAPA_COLUNAS = pathlib.Path('mapeamento_colunas.json')\n",
    "\n",
    "# Cria as pastas se não existirem\n",
    "for pasta in (PASTA_RAW_XLSX, PASTA_STAGING, PASTA_LOGS):\n",
    "    pasta.mkdir(parents=True, exist_ok=True)\n",
    "\n",
    "# Carrega o mapa de colunas\n",
    "if CAMINHO_MAPA_COLUNAS.exists():\n",
    "    with open(CAMINHO_MAPA_COLUNAS, 'r', encoding='utf-8') as f:\n",
    "        mapa_colunas = json.load(f)\n",
    "    print(f\"Arquivo de mapeamento '{CAMINHO_MAPA_COLUNAS}' carregado.\")\n",
    "else:\n",
    "    mapa_colunas = {}\n",
    "    print(f\"AVISO: Arquivo de mapeamento '{CAMINHO_MAPA_COLUNAS}' não encontrado.\")\n",
    "\n",
    "# Carrega o manifesto\n",
    "if ARQ_MANIFESTO.exists():\n",
    "    with open(ARQ_MANIFESTO, \"r\", encoding=\"utf-8\") as f:\n",
    "        manifesto = json.load(f)\n",
    "else:\n",
    "    manifesto = {}\n",
    "    \n",
    "print(f\"Estrutura de diretórios e configurações carregadas.\")\n"
   ]
  },
  {
   "cell_type": "code",
   "execution_count": 3,
   "id": "8515f9cc-d25c-4222-9aa9-7f439a244d13",
   "metadata": {
    "tags": []
   },
   "outputs": [
    {
     "name": "stdout",
     "output_type": "stream",
     "text": [
      "Encontrados 57 arquivos. Destes, 57 serão processados.\n",
      "\n",
      "Iniciando o processo de conversão em lote com 8 núcleos...\n"
     ]
    },
    {
     "data": {
      "application/vnd.jupyter.widget-view+json": {
       "model_id": "f462b9aa0c634e389878b91113e18feb",
       "version_major": 2,
       "version_minor": 0
      },
      "text/plain": [
       "  0%|          | 0/57 [00:00<?, ?arquivo/s]"
      ]
     },
     "metadata": {},
     "output_type": "display_data"
    },
    {
     "name": "stdout",
     "output_type": "stream",
     "text": [
      "\n",
      "Processo de conversão concluído.\n",
      "Manifesto de controle foi atualizado em: 'dados_catalogo\\manifesto_xlsx.json'\n",
      "Relatório de execução detalhado salvo em: 'dados_catalogo\\logs\\relatorio_conversao_2025-09-17_10-28-42.csv'\n",
      "\n",
      "==================================================\n",
      "--- RELATÓRIO FINAL DA EXECUÇÃO ---\n",
      "==================================================\n",
      "\n",
      "Resumo:\n",
      "  - Arquivos Processados com SUCESSO: 57\n",
      "  - Arquivos com ERRO: 0\n",
      "\n",
      "--- ATENÇÃO: Colunas encontradas mas não no mapeamento ---\n",
      " - BB Age\n",
      " - Douban ID\n",
      " - EIDR ID\n",
      " - Platform Rating\n",
      " - Unnamed: 0\n",
      "Considere adicionar estas colunas ao arquivo 'mapeamento_colunas.json'.\n"
     ]
    }
   ],
   "source": [
    "# Bloco 3: Execução Principal (Orquestrador)\n",
    "# --------------------------------------------------------------------------\n",
    "\n",
    "if __name__ == '__main__':\n",
    "    # 1. Descobrir arquivos a serem processados\n",
    "    todos_arquivos = sorted(list(PASTA_RAW_XLSX.glob(\"*.xlsx\")))\n",
    "    arquivos_para_processar = [arq for arq in todos_arquivos if arq.name not in manifesto]\n",
    "    \n",
    "    print(f\"Encontrados {len(todos_arquivos)} arquivos. Destes, {len(arquivos_para_processar)} serão processados.\")\n",
    "\n",
    "    relatorio_processamento = []\n",
    "    \n",
    "    # 2. Executar o processamento em paralelo\n",
    "    if arquivos_para_processar:\n",
    "        num_processos = cpu_count()\n",
    "        print(f\"\\nIniciando o processo de conversão em lote com {num_processos} núcleos...\")\n",
    "\n",
    "        func_parcial = partial(proc.processar_arquivo, mapa_colunas=mapa_colunas, pasta_staging=PASTA_STAGING)\n",
    "                \n",
    "        with Pool(processes=num_processos) as pool:\n",
    "            # --- MUDANÇA NO TQDM ---\n",
    "            # O unit=\"arquivo\" torna a barra de progresso mais clara para esta tarefa\n",
    "            for resultado in tqdm(pool.imap_unordered(func_parcial, arquivos_para_processar), total=len(arquivos_para_processar), unit=\"arquivo\"):\n",
    "                relatorio_processamento.append(resultado)\n",
    "                if resultado[\"status\"] == \"SUCESSO\":\n",
    "                    manifesto[resultado[\"arquivo\"]] = {\n",
    "                        \"processado_em\": resultado[\"timestamp\"],\n",
    "                        \"linhas\": resultado[\"linhas\"], \"colunas\": resultado[\"colunas\"]\n",
    "                    }\n",
    "\n",
    "    print(\"\\nProcesso de conversão concluído.\")\n",
    "    \n",
    "    # 3. Salvar manifesto e gerar relatório em CSV\n",
    "    with open(ARQ_MANIFESTO, \"w\", encoding=\"utf-8\") as f:\n",
    "        json.dump(manifesto, f, indent=4, ensure_ascii=False)\n",
    "    print(f\"Manifesto de controle foi atualizado em: '{ARQ_MANIFESTO}'\")\n",
    "    \n",
    "    caminho_relatorio = None\n",
    "    if relatorio_processamento:\n",
    "        df_relatorio = pd.DataFrame(relatorio_processamento)\n",
    "        caminho_relatorio = PASTA_LOGS / f\"relatorio_conversao_{datetime.now():%Y-%m-%d_%H-%M-%S}.csv\"\n",
    "        df_relatorio.to_csv(caminho_relatorio, index=False, sep=';', encoding='utf-8-sig')\n",
    "        print(f\"Relatório de execução detalhado salvo em: '{caminho_relatorio}'\")\n",
    "\n",
    "    # --- NOVO RELATÓRIO FINAL NA TELA ---\n",
    "    print(\"\\n\" + \"=\"*50)\n",
    "    print(\"--- RELATÓRIO FINAL DA EXECUÇÃO ---\")\n",
    "    print(\"=\"*50)\n",
    "    \n",
    "    if not relatorio_processamento:\n",
    "        print(\"Nenhum arquivo novo foi processado nesta execução.\")\n",
    "    else:\n",
    "        sucessos = sum(1 for r in relatorio_processamento if r['status'] == 'SUCESSO')\n",
    "        erros = sum(1 for r in relatorio_processamento if r['status'] == 'ERRO')\n",
    "        \n",
    "        print(f\"\\nResumo:\")\n",
    "        print(f\"  - Arquivos Processados com SUCESSO: {sucessos}\")\n",
    "        print(f\"  - Arquivos com ERRO: {erros}\")\n",
    "\n",
    "        if erros > 0:\n",
    "            print(\"\\nDetalhes dos Erros:\")\n",
    "            for resultado in relatorio_processamento:\n",
    "                if resultado['status'] == 'ERRO':\n",
    "                    # Pega apenas a última linha do erro para um relatório mais limpo\n",
    "                    erro_resumido = resultado['detalhes'].strip().split('\\n')[-1]\n",
    "                    print(f\"  - Arquivo: {resultado['arquivo']}\")\n",
    "                    print(f\"    Erro: {erro_resumido}\")\n",
    "                    print(f\"    (Consulte o arquivo CSV em {caminho_relatorio} para o erro completo)\")\n",
    "    \n",
    "    colunas_nao_mapeadas = set()\n",
    "    for res in relatorio_processamento:\n",
    "        colunas_nao_mapeadas.update(res.get(\"colunas_nao_mapeadas\", []))\n",
    "            \n",
    "    if colunas_nao_mapeadas:\n",
    "        print(\"\\n--- ATENÇÃO: Colunas encontradas mas não importadas no mapeamento ---\")\n",
    "        for col in sorted(list(colunas_nao_mapeadas)):\n",
    "            print(f\" - {col}\")\n",
    "        print(f\"Considere adicionar estas colunas ao arquivo '{CAMINHO_MAPA_COLUNAS}'.\")"
   ]
  },
  {
   "cell_type": "code",
   "execution_count": null,
   "id": "fa47c0f4-8df8-4a46-88a1-b3d1a97ce021",
   "metadata": {},
   "outputs": [],
   "source": []
  },
  {
   "cell_type": "code",
   "execution_count": null,
   "id": "a360bfe1-3afe-4eb3-870c-21d9bbe860a1",
   "metadata": {},
   "outputs": [],
   "source": []
  },
  {
   "cell_type": "code",
   "execution_count": null,
   "id": "afc68dba-f17b-403e-8443-93bce5eb0c5e",
   "metadata": {},
   "outputs": [],
   "source": []
  }
 ],
 "metadata": {
  "kernelspec": {
   "display_name": "Python 3 (ipykernel)",
   "language": "python",
   "name": "python3"
  },
  "language_info": {
   "codemirror_mode": {
    "name": "ipython",
    "version": 3
   },
   "file_extension": ".py",
   "mimetype": "text/x-python",
   "name": "python",
   "nbconvert_exporter": "python",
   "pygments_lexer": "ipython3",
   "version": "3.13.5"
  }
 },
 "nbformat": 4,
 "nbformat_minor": 5
}

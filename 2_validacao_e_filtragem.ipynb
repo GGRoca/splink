{
 "cells": [
  {
   "cell_type": "code",
   "execution_count": 1,
   "id": "37a81f16-ac38-4c65-8b3d-7a5ac08eb555",
   "metadata": {},
   "outputs": [],
   "source": [
    "import pandas as pd\n",
    "import pathlib\n",
    "import duckdb\n",
    "import openpyxl \n",
    "from datetime import datetime\n",
    "import traceback\n",
    "from IPython.display import display, HTML"
   ]
  },
  {
   "cell_type": "code",
   "execution_count": 2,
   "id": "1ba3709b-4d5b-43b1-8413-a9cb0662d47f",
   "metadata": {},
   "outputs": [],
   "source": [
    "# ==============================================================================\n",
    "# Bloco 1: CONFIGURAÇÃO E LEITURA DO ARQUIVO DE CONTROLE\n",
    "# ==============================================================================\n",
    "\n",
    "# --- CAMINHOS DE ENTRADA E SAÍDA ---\n",
    "PASTA_STAGING = pathlib.Path(\"dados_catalogo\") / \"staging\"\n",
    "CAMINHO_PARQUETS = str(PASTA_STAGING / \"*.parquet\")\n",
    "PASTA_PROCESSED = pathlib.Path(\"dados_catalogo\") / \"processed\"\n",
    "PASTA_PROCESSED.mkdir(exist_ok=True)\n",
    "\n",
    "# Arquivo de controle que você deve criar e manter\n",
    "ARQUIVO_CONTROLE_PLATAFORMAS = 'plataformas_controle.xlsx'\n",
    "\n",
    "# Arquivos de saída\n",
    "ARQUIVO_TIMELINE_CSV = PASTA_PROCESSED / 'relatorio_timeline_plataformas.csv'\n",
    "ARQUIVO_CONSOLIDADO_FILTRADO = PASTA_PROCESSED / 'dados_consolidados_filtrados.parquet'\n"
   ]
  },
  {
   "cell_type": "code",
   "execution_count": 3,
   "id": "66165876-5a81-48b6-8f40-35c3e9c3f91c",
   "metadata": {},
   "outputs": [
    {
     "name": "stdout",
     "output_type": "stream",
     "text": [
      "--- Etapa 2: Validação e Filtragem ---\n",
      "Arquivo de controle 'plataformas_controle.xlsx' lido com sucesso.\n",
      "114 plataformas serão mantidas no processamento.\n"
     ]
    }
   ],
   "source": [
    "print(\"--- Etapa 2: Validação e Filtragem ---\")\n",
    "\n",
    "# --- Leitura da lista de plataformas do arquivo Excel ---\n",
    "try:\n",
    "    df_controle = pd.read_excel(ARQUIVO_CONTROLE_PLATAFORMAS)\n",
    "    # Valida se as colunas esperadas existem\n",
    "    if 'Plataforma' not in df_controle.columns or 'USAR' not in df_controle.columns:\n",
    "        raise ValueError(\"O arquivo de controle deve conter as colunas 'Plataforma' e 'USAR'.\")\n",
    "   \n",
    "    # Cria a lista de plataformas a serem mantidas    \n",
    "    PLATAFORMAS_PARA_MANTER = df_controle[df_controle['USAR'].str.upper() == 'S']['Plataforma'].tolist()\n",
    "    \n",
    "    print(f\"Arquivo de controle '{ARQUIVO_CONTROLE_PLATAFORMAS}' lido com sucesso.\")\n",
    "    print(f\"{len(PLATAFORMAS_PARA_MANTER)} plataformas serão mantidas no processamento.\")\n",
    "    plataformas_controle_ok = True\n",
    "except Exception as e:\n",
    "    print(f\"ERRO ao ler o arquivo de controle: {e}\")\n",
    "    plataformas_controle_ok = False\n"
   ]
  },
  {
   "cell_type": "code",
   "execution_count": 4,
   "id": "01b5b4c8-7d9b-40c2-8b3b-68d4f4bea300",
   "metadata": {},
   "outputs": [
    {
     "name": "stdout",
     "output_type": "stream",
     "text": [
      "\n",
      "Iniciando a geração do relatório de validação...\n",
      "✔ Tabela de timeline completa salva em CSV e XLSX com o timestamp: 2025-09-18_174118\n",
      "\n",
      "============================================================\n",
      "--- RELATÓRIO CRONOLÓGICO DE MUDANÇAS E NOVIDADES ---\n",
      "============================================================\n"
     ]
    },
    {
     "data": {
      "text/html": [
       "<h4>✔ Nenhuma plataforma nova (fora do arquivo de controle) foi detectada.</h4>"
      ],
      "text/plain": [
       "<IPython.core.display.HTML object>"
      ]
     },
     "metadata": {},
     "output_type": "display_data"
    },
    {
     "data": {
      "text/html": [
       "<br><h2>Semana 11/07/2024</h2>"
      ],
      "text/plain": [
       "<IPython.core.display.HTML object>"
      ]
     },
     "metadata": {},
     "output_type": "display_data"
    },
    {
     "name": "stdout",
     "output_type": "stream",
     "text": [
      "Esta é a primeira semana do histórico. Os dados abaixo servem como base inicial.\n"
     ]
    },
    {
     "data": {
      "text/html": [
       "<style type=\"text/css\">\n",
       "</style>\n",
       "<table id=\"T_d32ef\">\n",
       "  <thead>\n",
       "    <tr>\n",
       "      <th id=\"T_d32ef_level0_col0\" class=\"col_heading level0 col0\" >Plataforma</th>\n",
       "      <th id=\"T_d32ef_level0_col1\" class=\"col_heading level0 col1\" >Registros</th>\n",
       "    </tr>\n",
       "  </thead>\n",
       "  <tbody>\n",
       "    <tr>\n",
       "      <td id=\"T_d32ef_row0_col0\" class=\"data row0 col0\" >Archivio Luce</td>\n",
       "      <td id=\"T_d32ef_row0_col1\" class=\"data row0 col1\" >68,820</td>\n",
       "    </tr>\n",
       "    <tr>\n",
       "      <td id=\"T_d32ef_row1_col0\" class=\"data row1 col0\" >Claro TV+</td>\n",
       "      <td id=\"T_d32ef_row1_col1\" class=\"data row1 col1\" >42,986</td>\n",
       "    </tr>\n",
       "    <tr>\n",
       "      <td id=\"T_d32ef_row2_col0\" class=\"data row2 col0\" >NBA League Pass</td>\n",
       "      <td id=\"T_d32ef_row2_col1\" class=\"data row2 col1\" >27,773</td>\n",
       "    </tr>\n",
       "    <tr>\n",
       "      <td id=\"T_d32ef_row3_col0\" class=\"data row3 col0\" >Amazon Prime Video</td>\n",
       "      <td id=\"T_d32ef_row3_col1\" class=\"data row3 col1\" >26,612</td>\n",
       "    </tr>\n",
       "    <tr>\n",
       "      <td id=\"T_d32ef_row4_col0\" class=\"data row4 col0\" >Vivo Play</td>\n",
       "      <td id=\"T_d32ef_row4_col1\" class=\"data row4 col1\" >25,107</td>\n",
       "    </tr>\n",
       "    <tr>\n",
       "      <td id=\"T_d32ef_row5_col0\" class=\"data row5 col0\" >AppleTV</td>\n",
       "      <td id=\"T_d32ef_row5_col1\" class=\"data row5 col1\" >10,772</td>\n",
       "    </tr>\n",
       "    <tr>\n",
       "      <td id=\"T_d32ef_row6_col0\" class=\"data row6 col0\" >Sky+</td>\n",
       "      <td id=\"T_d32ef_row6_col1\" class=\"data row6 col1\" >10,696</td>\n",
       "    </tr>\n",
       "    <tr>\n",
       "      <td id=\"T_d32ef_row7_col0\" class=\"data row7 col0\" >Plex</td>\n",
       "      <td id=\"T_d32ef_row7_col1\" class=\"data row7 col1\" >10,593</td>\n",
       "    </tr>\n",
       "    <tr>\n",
       "      <td id=\"T_d32ef_row8_col0\" class=\"data row8 col0\" >Netflix</td>\n",
       "      <td id=\"T_d32ef_row8_col1\" class=\"data row8 col1\" >7,348</td>\n",
       "    </tr>\n",
       "    <tr>\n",
       "      <td id=\"T_d32ef_row9_col0\" class=\"data row9 col0\" >UNIVER VIDEO</td>\n",
       "      <td id=\"T_d32ef_row9_col1\" class=\"data row9 col1\" >6,285</td>\n",
       "    </tr>\n",
       "    <tr>\n",
       "      <td id=\"T_d32ef_row10_col0\" class=\"data row10 col0\" >Looke</td>\n",
       "      <td id=\"T_d32ef_row10_col1\" class=\"data row10 col1\" >5,636</td>\n",
       "    </tr>\n",
       "    <tr>\n",
       "      <td id=\"T_d32ef_row11_col0\" class=\"data row11 col0\" >DaFilms</td>\n",
       "      <td id=\"T_d32ef_row11_col1\" class=\"data row11 col1\" >5,026</td>\n",
       "    </tr>\n",
       "    <tr>\n",
       "      <td id=\"T_d32ef_row12_col0\" class=\"data row12 col0\" >Globoplay</td>\n",
       "      <td id=\"T_d32ef_row12_col1\" class=\"data row12 col1\" >4,747</td>\n",
       "    </tr>\n",
       "    <tr>\n",
       "      <td id=\"T_d32ef_row13_col0\" class=\"data row13 col0\" >Zee5</td>\n",
       "      <td id=\"T_d32ef_row13_col1\" class=\"data row13 col1\" >4,696</td>\n",
       "    </tr>\n",
       "    <tr>\n",
       "      <td id=\"T_d32ef_row14_col0\" class=\"data row14 col0\" >Microsoft Movies & TV</td>\n",
       "      <td id=\"T_d32ef_row14_col1\" class=\"data row14 col1\" >4,483</td>\n",
       "    </tr>\n",
       "    <tr>\n",
       "      <td id=\"T_d32ef_row15_col0\" class=\"data row15 col0\" >iQIYI</td>\n",
       "      <td id=\"T_d32ef_row15_col1\" class=\"data row15 col1\" >4,129</td>\n",
       "    </tr>\n",
       "    <tr>\n",
       "      <td id=\"T_d32ef_row16_col0\" class=\"data row16 col0\" >FIFA+</td>\n",
       "      <td id=\"T_d32ef_row16_col1\" class=\"data row16 col1\" >4,008</td>\n",
       "    </tr>\n",
       "    <tr>\n",
       "      <td id=\"T_d32ef_row17_col0\" class=\"data row17 col0\" >Max</td>\n",
       "      <td id=\"T_d32ef_row17_col1\" class=\"data row17 col1\" >3,845</td>\n",
       "    </tr>\n",
       "    <tr>\n",
       "      <td id=\"T_d32ef_row18_col0\" class=\"data row18 col0\" >Viddsee</td>\n",
       "      <td id=\"T_d32ef_row18_col1\" class=\"data row18 col1\" >3,667</td>\n",
       "    </tr>\n",
       "    <tr>\n",
       "      <td id=\"T_d32ef_row19_col0\" class=\"data row19 col0\" >IndieFlix</td>\n",
       "      <td id=\"T_d32ef_row19_col1\" class=\"data row19 col1\" >3,536</td>\n",
       "    </tr>\n",
       "    <tr>\n",
       "      <td id=\"T_d32ef_row20_col0\" class=\"data row20 col0\" >Disney+</td>\n",
       "      <td id=\"T_d32ef_row20_col1\" class=\"data row20 col1\" >2,811</td>\n",
       "    </tr>\n",
       "    <tr>\n",
       "      <td id=\"T_d32ef_row21_col0\" class=\"data row21 col0\" >Claro Video</td>\n",
       "      <td id=\"T_d32ef_row21_col1\" class=\"data row21 col1\" >2,726</td>\n",
       "    </tr>\n",
       "    <tr>\n",
       "      <td id=\"T_d32ef_row22_col0\" class=\"data row22 col0\" >Pluto TV</td>\n",
       "      <td id=\"T_d32ef_row22_col1\" class=\"data row22 col1\" >2,682</td>\n",
       "    </tr>\n",
       "    <tr>\n",
       "      <td id=\"T_d32ef_row23_col0\" class=\"data row23 col0\" >ShemarooMe</td>\n",
       "      <td id=\"T_d32ef_row23_col1\" class=\"data row23 col1\" >2,510</td>\n",
       "    </tr>\n",
       "    <tr>\n",
       "      <td id=\"T_d32ef_row24_col0\" class=\"data row24 col0\" >Canela.TV</td>\n",
       "      <td id=\"T_d32ef_row24_col1\" class=\"data row24 col1\" >2,444</td>\n",
       "    </tr>\n",
       "    <tr>\n",
       "      <td id=\"T_d32ef_row25_col0\" class=\"data row25 col0\" >Qello Concerts</td>\n",
       "      <td id=\"T_d32ef_row25_col1\" class=\"data row25 col1\" >2,414</td>\n",
       "    </tr>\n",
       "    <tr>\n",
       "      <td id=\"T_d32ef_row26_col0\" class=\"data row26 col0\" >NetMovies</td>\n",
       "      <td id=\"T_d32ef_row26_col1\" class=\"data row26 col1\" >2,337</td>\n",
       "    </tr>\n",
       "    <tr>\n",
       "      <td id=\"T_d32ef_row27_col0\" class=\"data row27 col0\" >Rakuten Viki</td>\n",
       "      <td id=\"T_d32ef_row27_col1\" class=\"data row27 col1\" >2,322</td>\n",
       "    </tr>\n",
       "    <tr>\n",
       "      <td id=\"T_d32ef_row28_col0\" class=\"data row28 col0\" >OnDemandKorea</td>\n",
       "      <td id=\"T_d32ef_row28_col1\" class=\"data row28 col1\" >2,280</td>\n",
       "    </tr>\n",
       "    <tr>\n",
       "      <td id=\"T_d32ef_row29_col0\" class=\"data row29 col0\" >FlixOlé</td>\n",
       "      <td id=\"T_d32ef_row29_col1\" class=\"data row29 col1\" >2,110</td>\n",
       "    </tr>\n",
       "    <tr>\n",
       "      <td id=\"T_d32ef_row30_col0\" class=\"data row30 col0\" >Means TV</td>\n",
       "      <td id=\"T_d32ef_row30_col1\" class=\"data row30 col1\" >2,056</td>\n",
       "    </tr>\n",
       "    <tr>\n",
       "      <td id=\"T_d32ef_row31_col0\" class=\"data row31 col0\" >IWantTFC</td>\n",
       "      <td id=\"T_d32ef_row31_col1\" class=\"data row31 col1\" >1,965</td>\n",
       "    </tr>\n",
       "    <tr>\n",
       "      <td id=\"T_d32ef_row32_col0\" class=\"data row32 col0\" >GuideDoc</td>\n",
       "      <td id=\"T_d32ef_row32_col1\" class=\"data row32 col1\" >1,789</td>\n",
       "    </tr>\n",
       "    <tr>\n",
       "      <td id=\"T_d32ef_row33_col0\" class=\"data row33 col0\" >Mercado Play</td>\n",
       "      <td id=\"T_d32ef_row33_col1\" class=\"data row33 col1\" >1,725</td>\n",
       "    </tr>\n",
       "    <tr>\n",
       "      <td id=\"T_d32ef_row34_col0\" class=\"data row34 col0\" >Discovery+</td>\n",
       "      <td id=\"T_d32ef_row34_col1\" class=\"data row34 col1\" >1,696</td>\n",
       "    </tr>\n",
       "    <tr>\n",
       "      <td id=\"T_d32ef_row35_col0\" class=\"data row35 col0\" >Canais Globo</td>\n",
       "      <td id=\"T_d32ef_row35_col1\" class=\"data row35 col1\" >1,677</td>\n",
       "    </tr>\n",
       "    <tr>\n",
       "      <td id=\"T_d32ef_row36_col0\" class=\"data row36 col0\" >Crunchyroll</td>\n",
       "      <td id=\"T_d32ef_row36_col1\" class=\"data row36 col1\" >1,634</td>\n",
       "    </tr>\n",
       "    <tr>\n",
       "      <td id=\"T_d32ef_row37_col0\" class=\"data row37 col0\" >Met Opera on Demand</td>\n",
       "      <td id=\"T_d32ef_row37_col1\" class=\"data row37 col1\" >1,584</td>\n",
       "    </tr>\n",
       "    <tr>\n",
       "      <td id=\"T_d32ef_row38_col0\" class=\"data row38 col0\" >KOCOWA+</td>\n",
       "      <td id=\"T_d32ef_row38_col1\" class=\"data row38 col1\" >1,569</td>\n",
       "    </tr>\n",
       "    <tr>\n",
       "      <td id=\"T_d32ef_row39_col0\" class=\"data row39 col0\" >Digital Concert Hall</td>\n",
       "      <td id=\"T_d32ef_row39_col1\" class=\"data row39 col1\" >1,538</td>\n",
       "    </tr>\n",
       "    <tr>\n",
       "      <td id=\"T_d32ef_row40_col0\" class=\"data row40 col0\" >Watch</td>\n",
       "      <td id=\"T_d32ef_row40_col1\" class=\"data row40 col1\" >1,528</td>\n",
       "    </tr>\n",
       "    <tr>\n",
       "      <td id=\"T_d32ef_row41_col0\" class=\"data row41 col0\" >Simply South</td>\n",
       "      <td id=\"T_d32ef_row41_col1\" class=\"data row41 col1\" >1,524</td>\n",
       "    </tr>\n",
       "    <tr>\n",
       "      <td id=\"T_d32ef_row42_col0\" class=\"data row42 col0\" >Troma NOW!</td>\n",
       "      <td id=\"T_d32ef_row42_col1\" class=\"data row42 col1\" >1,415</td>\n",
       "    </tr>\n",
       "    <tr>\n",
       "      <td id=\"T_d32ef_row43_col0\" class=\"data row43 col0\" >KweliTV</td>\n",
       "      <td id=\"T_d32ef_row43_col1\" class=\"data row43 col1\" >1,403</td>\n",
       "    </tr>\n",
       "    <tr>\n",
       "      <td id=\"T_d32ef_row44_col0\" class=\"data row44 col0\" >Filmzie</td>\n",
       "      <td id=\"T_d32ef_row44_col1\" class=\"data row44 col1\" >1,236</td>\n",
       "    </tr>\n",
       "    <tr>\n",
       "      <td id=\"T_d32ef_row45_col0\" class=\"data row45 col0\" >Box Brazil Play</td>\n",
       "      <td id=\"T_d32ef_row45_col1\" class=\"data row45 col1\" >1,180</td>\n",
       "    </tr>\n",
       "    <tr>\n",
       "      <td id=\"T_d32ef_row46_col0\" class=\"data row46 col0\" >Cultpix</td>\n",
       "      <td id=\"T_d32ef_row46_col1\" class=\"data row46 col1\" >1,174</td>\n",
       "    </tr>\n",
       "    <tr>\n",
       "      <td id=\"T_d32ef_row47_col0\" class=\"data row47 col0\" >Kidoodle.TV</td>\n",
       "      <td id=\"T_d32ef_row47_col1\" class=\"data row47 col1\" >1,138</td>\n",
       "    </tr>\n",
       "    <tr>\n",
       "      <td id=\"T_d32ef_row48_col0\" class=\"data row48 col0\" >CINE.AR PLAY</td>\n",
       "      <td id=\"T_d32ef_row48_col1\" class=\"data row48 col1\" >1,127</td>\n",
       "    </tr>\n",
       "    <tr>\n",
       "      <td id=\"T_d32ef_row49_col0\" class=\"data row49 col0\" >Paramount+</td>\n",
       "      <td id=\"T_d32ef_row49_col1\" class=\"data row49 col1\" >1,026</td>\n",
       "    </tr>\n",
       "    <tr>\n",
       "      <td id=\"T_d32ef_row50_col0\" class=\"data row50 col0\" >Eventive</td>\n",
       "      <td id=\"T_d32ef_row50_col1\" class=\"data row50 col1\" >991</td>\n",
       "    </tr>\n",
       "    <tr>\n",
       "      <td id=\"T_d32ef_row51_col0\" class=\"data row51 col0\" >Oldflix</td>\n",
       "      <td id=\"T_d32ef_row51_col1\" class=\"data row51 col1\" >975</td>\n",
       "    </tr>\n",
       "    <tr>\n",
       "      <td id=\"T_d32ef_row52_col0\" class=\"data row52 col0\" >Revry</td>\n",
       "      <td id=\"T_d32ef_row52_col1\" class=\"data row52 col1\" >974</td>\n",
       "    </tr>\n",
       "    <tr>\n",
       "      <td id=\"T_d32ef_row53_col0\" class=\"data row53 col0\" >MagellanTV</td>\n",
       "      <td id=\"T_d32ef_row53_col1\" class=\"data row53 col1\" >959</td>\n",
       "    </tr>\n",
       "    <tr>\n",
       "      <td id=\"T_d32ef_row54_col0\" class=\"data row54 col0\" >Curiosity Stream</td>\n",
       "      <td id=\"T_d32ef_row54_col1\" class=\"data row54 col1\" >920</td>\n",
       "    </tr>\n",
       "    <tr>\n",
       "      <td id=\"T_d32ef_row55_col0\" class=\"data row55 col0\" >Hoichoi</td>\n",
       "      <td id=\"T_d32ef_row55_col1\" class=\"data row55 col1\" >777</td>\n",
       "    </tr>\n",
       "    <tr>\n",
       "      <td id=\"T_d32ef_row56_col0\" class=\"data row56 col0\" >UOL Play</td>\n",
       "      <td id=\"T_d32ef_row56_col1\" class=\"data row56 col1\" >756</td>\n",
       "    </tr>\n",
       "    <tr>\n",
       "      <td id=\"T_d32ef_row57_col0\" class=\"data row57 col0\" >IFI Archive Player</td>\n",
       "      <td id=\"T_d32ef_row57_col1\" class=\"data row57 col1\" >744</td>\n",
       "    </tr>\n",
       "    <tr>\n",
       "      <td id=\"T_d32ef_row58_col0\" class=\"data row58 col0\" >RT en Español</td>\n",
       "      <td id=\"T_d32ef_row58_col1\" class=\"data row58 col1\" >742</td>\n",
       "    </tr>\n",
       "    <tr>\n",
       "      <td id=\"T_d32ef_row59_col0\" class=\"data row59 col0\" >MUBI</td>\n",
       "      <td id=\"T_d32ef_row59_col1\" class=\"data row59 col1\" >723</td>\n",
       "    </tr>\n",
       "    <tr>\n",
       "      <td id=\"T_d32ef_row60_col0\" class=\"data row60 col0\" >Belas Artes À La Carte</td>\n",
       "      <td id=\"T_d32ef_row60_col1\" class=\"data row60 col1\" >720</td>\n",
       "    </tr>\n",
       "    <tr>\n",
       "      <td id=\"T_d32ef_row61_col0\" class=\"data row61 col0\" >Demand Africa</td>\n",
       "      <td id=\"T_d32ef_row61_col1\" class=\"data row61 col1\" >670</td>\n",
       "    </tr>\n",
       "    <tr>\n",
       "      <td id=\"T_d32ef_row62_col0\" class=\"data row62 col0\" >Selecta TV</td>\n",
       "      <td id=\"T_d32ef_row62_col1\" class=\"data row62 col1\" >597</td>\n",
       "    </tr>\n",
       "    <tr>\n",
       "      <td id=\"T_d32ef_row63_col0\" class=\"data row63 col0\" >PlayPlus</td>\n",
       "      <td id=\"T_d32ef_row63_col1\" class=\"data row63 col1\" >573</td>\n",
       "    </tr>\n",
       "    <tr>\n",
       "      <td id=\"T_d32ef_row64_col0\" class=\"data row64 col0\" >OCULTO.TV</td>\n",
       "      <td id=\"T_d32ef_row64_col1\" class=\"data row64 col1\" >523</td>\n",
       "    </tr>\n",
       "    <tr>\n",
       "      <td id=\"T_d32ef_row65_col0\" class=\"data row65 col0\" >Cindie</td>\n",
       "      <td id=\"T_d32ef_row65_col1\" class=\"data row65 col1\" >486</td>\n",
       "    </tr>\n",
       "    <tr>\n",
       "      <td id=\"T_d32ef_row66_col0\" class=\"data row66 col0\" >Marquee TV</td>\n",
       "      <td id=\"T_d32ef_row66_col1\" class=\"data row66 col1\" >464</td>\n",
       "    </tr>\n",
       "    <tr>\n",
       "      <td id=\"T_d32ef_row67_col0\" class=\"data row67 col0\" >American Indian Film Gallery</td>\n",
       "      <td id=\"T_d32ef_row67_col1\" class=\"data row67 col1\" >446</td>\n",
       "    </tr>\n",
       "    <tr>\n",
       "      <td id=\"T_d32ef_row68_col0\" class=\"data row68 col0\" >Filmbox+</td>\n",
       "      <td id=\"T_d32ef_row68_col1\" class=\"data row68 col1\" >426</td>\n",
       "    </tr>\n",
       "    <tr>\n",
       "      <td id=\"T_d32ef_row69_col0\" class=\"data row69 col0\" >Nebula</td>\n",
       "      <td id=\"T_d32ef_row69_col1\" class=\"data row69 col1\" >424</td>\n",
       "    </tr>\n",
       "    <tr>\n",
       "      <td id=\"T_d32ef_row70_col0\" class=\"data row70 col0\" >TVN Play</td>\n",
       "      <td id=\"T_d32ef_row70_col1\" class=\"data row70 col1\" >390</td>\n",
       "    </tr>\n",
       "    <tr>\n",
       "      <td id=\"T_d32ef_row71_col0\" class=\"data row71 col0\" >Cinemateca Pernambucana</td>\n",
       "      <td id=\"T_d32ef_row71_col1\" class=\"data row71 col1\" >370</td>\n",
       "    </tr>\n",
       "    <tr>\n",
       "      <td id=\"T_d32ef_row72_col0\" class=\"data row72 col0\" >Toon Goggles</td>\n",
       "      <td id=\"T_d32ef_row72_col1\" class=\"data row72 col1\" >366</td>\n",
       "    </tr>\n",
       "    <tr>\n",
       "      <td id=\"T_d32ef_row73_col0\" class=\"data row73 col0\" >Anime Onegai</td>\n",
       "      <td id=\"T_d32ef_row73_col1\" class=\"data row73 col1\" >353</td>\n",
       "    </tr>\n",
       "    <tr>\n",
       "      <td id=\"T_d32ef_row74_col0\" class=\"data row74 col0\" >History Hit</td>\n",
       "      <td id=\"T_d32ef_row74_col1\" class=\"data row74 col1\" >316</td>\n",
       "    </tr>\n",
       "    <tr>\n",
       "      <td id=\"T_d32ef_row75_col0\" class=\"data row75 col0\" >Teatrix</td>\n",
       "      <td id=\"T_d32ef_row75_col1\" class=\"data row75 col1\" >309</td>\n",
       "    </tr>\n",
       "    <tr>\n",
       "      <td id=\"T_d32ef_row76_col0\" class=\"data row76 col0\" >DOCSVILLE</td>\n",
       "      <td id=\"T_d32ef_row76_col1\" class=\"data row76 col1\" >289</td>\n",
       "    </tr>\n",
       "    <tr>\n",
       "      <td id=\"T_d32ef_row77_col0\" class=\"data row77 col0\" >Digital Theatre</td>\n",
       "      <td id=\"T_d32ef_row77_col1\" class=\"data row77 col1\" >278</td>\n",
       "    </tr>\n",
       "    <tr>\n",
       "      <td id=\"T_d32ef_row78_col0\" class=\"data row78 col0\" >WOW Presents Plus</td>\n",
       "      <td id=\"T_d32ef_row78_col1\" class=\"data row78 col1\" >267</td>\n",
       "    </tr>\n",
       "    <tr>\n",
       "      <td id=\"T_d32ef_row79_col0\" class=\"data row79 col0\" >Dekkoo</td>\n",
       "      <td id=\"T_d32ef_row79_col1\" class=\"data row79 col1\" >259</td>\n",
       "    </tr>\n",
       "    <tr>\n",
       "      <td id=\"T_d32ef_row80_col0\" class=\"data row80 col0\" >Umbra</td>\n",
       "      <td id=\"T_d32ef_row80_col1\" class=\"data row80 col1\" >250</td>\n",
       "    </tr>\n",
       "    <tr>\n",
       "      <td id=\"T_d32ef_row81_col0\" class=\"data row81 col0\" >TV Brasil Play</td>\n",
       "      <td id=\"T_d32ef_row81_col1\" class=\"data row81 col1\" >245</td>\n",
       "    </tr>\n",
       "    <tr>\n",
       "      <td id=\"T_d32ef_row82_col0\" class=\"data row82 col0\" >Gospel Play</td>\n",
       "      <td id=\"T_d32ef_row82_col1\" class=\"data row82 col1\" >240</td>\n",
       "    </tr>\n",
       "    <tr>\n",
       "      <td id=\"T_d32ef_row83_col0\" class=\"data row83 col0\" >Apple TV+</td>\n",
       "      <td id=\"T_d32ef_row83_col1\" class=\"data row83 col1\" >234</td>\n",
       "    </tr>\n",
       "    <tr>\n",
       "      <td id=\"T_d32ef_row84_col0\" class=\"data row84 col0\" >HispanTV</td>\n",
       "      <td id=\"T_d32ef_row84_col1\" class=\"data row84 col1\" >221</td>\n",
       "    </tr>\n",
       "    <tr>\n",
       "      <td id=\"T_d32ef_row85_col0\" class=\"data row85 col0\" >HENRI</td>\n",
       "      <td id=\"T_d32ef_row85_col1\" class=\"data row85 col1\" >197</td>\n",
       "    </tr>\n",
       "    <tr>\n",
       "      <td id=\"T_d32ef_row86_col0\" class=\"data row86 col0\" >DAZN</td>\n",
       "      <td id=\"T_d32ef_row86_col1\" class=\"data row86 col1\" >194</td>\n",
       "    </tr>\n",
       "    <tr>\n",
       "      <td id=\"T_d32ef_row87_col0\" class=\"data row87 col0\" >Libreflix</td>\n",
       "      <td id=\"T_d32ef_row87_col1\" class=\"data row87 col1\" >192</td>\n",
       "    </tr>\n",
       "    <tr>\n",
       "      <td id=\"T_d32ef_row88_col0\" class=\"data row88 col0\" >Retina Latina</td>\n",
       "      <td id=\"T_d32ef_row88_col1\" class=\"data row88 col1\" >179</td>\n",
       "    </tr>\n",
       "    <tr>\n",
       "      <td id=\"T_d32ef_row89_col0\" class=\"data row89 col0\" >99 Media</td>\n",
       "      <td id=\"T_d32ef_row89_col1\" class=\"data row89 col1\" >164</td>\n",
       "    </tr>\n",
       "    <tr>\n",
       "      <td id=\"T_d32ef_row90_col0\" class=\"data row90 col0\" >CGood TV</td>\n",
       "      <td id=\"T_d32ef_row90_col1\" class=\"data row90 col1\" >160</td>\n",
       "    </tr>\n",
       "    <tr>\n",
       "      <td id=\"T_d32ef_row91_col0\" class=\"data row91 col0\" >ALTBalaji</td>\n",
       "      <td id=\"T_d32ef_row91_col1\" class=\"data row91 col1\" >159</td>\n",
       "    </tr>\n",
       "    <tr>\n",
       "      <td id=\"T_d32ef_row92_col0\" class=\"data row92 col0\" >KINOA.TV</td>\n",
       "      <td id=\"T_d32ef_row92_col1\" class=\"data row92 col1\" >153</td>\n",
       "    </tr>\n",
       "    <tr>\n",
       "      <td id=\"T_d32ef_row93_col0\" class=\"data row93 col0\" >BroadwayHD</td>\n",
       "      <td id=\"T_d32ef_row93_col1\" class=\"data row93 col1\" >149</td>\n",
       "    </tr>\n",
       "    <tr>\n",
       "      <td id=\"T_d32ef_row94_col0\" class=\"data row94 col0\" >MovieSaints</td>\n",
       "      <td id=\"T_d32ef_row94_col1\" class=\"data row94 col1\" >148</td>\n",
       "    </tr>\n",
       "    <tr>\n",
       "      <td id=\"T_d32ef_row95_col0\" class=\"data row95 col0\" >Insight TV</td>\n",
       "      <td id=\"T_d32ef_row95_col1\" class=\"data row95 col1\" >145</td>\n",
       "    </tr>\n",
       "    <tr>\n",
       "      <td id=\"T_d32ef_row96_col0\" class=\"data row96 col0\" >SBT Videos</td>\n",
       "      <td id=\"T_d32ef_row96_col1\" class=\"data row96 col1\" >141</td>\n",
       "    </tr>\n",
       "    <tr>\n",
       "      <td id=\"T_d32ef_row97_col0\" class=\"data row97 col0\" >Arte1 Play</td>\n",
       "      <td id=\"T_d32ef_row97_col1\" class=\"data row97 col1\" >118</td>\n",
       "    </tr>\n",
       "    <tr>\n",
       "      <td id=\"T_d32ef_row98_col0\" class=\"data row98 col0\" >Globe Player</td>\n",
       "      <td id=\"T_d32ef_row98_col1\" class=\"data row98 col1\" >98</td>\n",
       "    </tr>\n",
       "    <tr>\n",
       "      <td id=\"T_d32ef_row99_col0\" class=\"data row99 col0\" >F1 TV</td>\n",
       "      <td id=\"T_d32ef_row99_col1\" class=\"data row99 col1\" >90</td>\n",
       "    </tr>\n",
       "    <tr>\n",
       "      <td id=\"T_d32ef_row100_col0\" class=\"data row100 col0\" >AFA Play</td>\n",
       "      <td id=\"T_d32ef_row100_col1\" class=\"data row100 col1\" >85</td>\n",
       "    </tr>\n",
       "    <tr>\n",
       "      <td id=\"T_d32ef_row101_col0\" class=\"data row101 col0\" >Fanatiz</td>\n",
       "      <td id=\"T_d32ef_row101_col1\" class=\"data row101 col1\" >85</td>\n",
       "    </tr>\n",
       "    <tr>\n",
       "      <td id=\"T_d32ef_row102_col0\" class=\"data row102 col0\" >YouTube Premium</td>\n",
       "      <td id=\"T_d32ef_row102_col1\" class=\"data row102 col1\" >84</td>\n",
       "    </tr>\n",
       "    <tr>\n",
       "      <td id=\"T_d32ef_row103_col0\" class=\"data row103 col0\" >Fish TV Play</td>\n",
       "      <td id=\"T_d32ef_row103_col1\" class=\"data row103 col1\" >47</td>\n",
       "    </tr>\n",
       "    <tr>\n",
       "      <td id=\"T_d32ef_row104_col0\" class=\"data row104 col0\" >MLB.TV</td>\n",
       "      <td id=\"T_d32ef_row104_col1\" class=\"data row104 col1\" >39</td>\n",
       "    </tr>\n",
       "    <tr>\n",
       "      <td id=\"T_d32ef_row105_col0\" class=\"data row105 col0\" >OperaVision</td>\n",
       "      <td id=\"T_d32ef_row105_col1\" class=\"data row105 col1\" >35</td>\n",
       "    </tr>\n",
       "    <tr>\n",
       "      <td id=\"T_d32ef_row106_col0\" class=\"data row106 col0\" >CirqueConnect</td>\n",
       "      <td id=\"T_d32ef_row106_col1\" class=\"data row106 col1\" >30</td>\n",
       "    </tr>\n",
       "    <tr>\n",
       "      <td id=\"T_d32ef_row107_col0\" class=\"data row107 col0\" >Combate</td>\n",
       "      <td id=\"T_d32ef_row107_col1\" class=\"data row107 col1\" >27</td>\n",
       "    </tr>\n",
       "    <tr>\n",
       "      <td id=\"T_d32ef_row108_col0\" class=\"data row108 col0\" >RedeTV!</td>\n",
       "      <td id=\"T_d32ef_row108_col1\" class=\"data row108 col1\" >23</td>\n",
       "    </tr>\n",
       "    <tr>\n",
       "      <td id=\"T_d32ef_row109_col0\" class=\"data row109 col0\" >GC Flix</td>\n",
       "      <td id=\"T_d32ef_row109_col1\" class=\"data row109 col1\" >18</td>\n",
       "    </tr>\n",
       "    <tr>\n",
       "      <td id=\"T_d32ef_row110_col0\" class=\"data row110 col0\" >AXN</td>\n",
       "      <td id=\"T_d32ef_row110_col1\" class=\"data row110 col1\" >9</td>\n",
       "    </tr>\n",
       "    <tr>\n",
       "      <td id=\"T_d32ef_row111_col0\" class=\"data row111 col0\" >Sony Channel</td>\n",
       "      <td id=\"T_d32ef_row111_col1\" class=\"data row111 col1\" >8</td>\n",
       "    </tr>\n",
       "  </tbody>\n",
       "</table>\n"
      ],
      "text/plain": [
       "<pandas.io.formats.style.Styler at 0x2b095abbcb0>"
      ]
     },
     "metadata": {},
     "output_type": "display_data"
    },
    {
     "data": {
      "text/html": [
       "<hr>"
      ],
      "text/plain": [
       "<IPython.core.display.HTML object>"
      ]
     },
     "metadata": {},
     "output_type": "display_data"
    },
    {
     "data": {
      "text/html": [
       "<br><h2>Semana 19/07/2024</h2>"
      ],
      "text/plain": [
       "<IPython.core.display.HTML object>"
      ]
     },
     "metadata": {},
     "output_type": "display_data"
    },
    {
     "data": {
      "text/html": [
       "<h4 style='color: #2E8B57;'>Novas Plataformas Cobertas</h4>"
      ],
      "text/plain": [
       "<IPython.core.display.HTML object>"
      ]
     },
     "metadata": {},
     "output_type": "display_data"
    },
    {
     "data": {
      "text/html": [
       "<style type=\"text/css\">\n",
       "#T_52af8_row0_col1 {\n",
       "  width: 10em;\n",
       "  background: linear-gradient(90deg, #90EE90 100.0%, transparent 100.0%);\n",
       "}\n",
       "#T_52af8_row1_col1 {\n",
       "  width: 10em;\n",
       "  background: linear-gradient(90deg, #90EE90 27.0%, transparent 27.0%);\n",
       "}\n",
       "#T_52af8_row2_col1 {\n",
       "  width: 10em;\n",
       "  background: linear-gradient(90deg, #90EE90 11.4%, transparent 11.4%);\n",
       "}\n",
       "#T_52af8_row3_col1 {\n",
       "  width: 10em;\n",
       "  background: linear-gradient(90deg, #90EE90 4.5%, transparent 4.5%);\n",
       "}\n",
       "#T_52af8_row4_col1 {\n",
       "  width: 10em;\n",
       "  background: linear-gradient(90deg, #90EE90 2.7%, transparent 2.7%);\n",
       "}\n",
       "#T_52af8_row5_col1 {\n",
       "  width: 10em;\n",
       "  background: linear-gradient(90deg, #90EE90 1.8%, transparent 1.8%);\n",
       "}\n",
       "</style>\n",
       "<table id=\"T_52af8\">\n",
       "  <thead>\n",
       "    <tr>\n",
       "      <th id=\"T_52af8_level0_col0\" class=\"col_heading level0 col0\" >Plataforma</th>\n",
       "      <th id=\"T_52af8_level0_col1\" class=\"col_heading level0 col1\" >Registros</th>\n",
       "    </tr>\n",
       "  </thead>\n",
       "  <tbody>\n",
       "    <tr>\n",
       "      <td id=\"T_52af8_row0_col0\" class=\"data row0 col0\" >YouTube</td>\n",
       "      <td id=\"T_52af8_row0_col1\" class=\"data row0 col1\" >8,695</td>\n",
       "    </tr>\n",
       "    <tr>\n",
       "      <td id=\"T_52af8_row1_col0\" class=\"data row1 col0\" >Tamanduá TV</td>\n",
       "      <td id=\"T_52af8_row1_col1\" class=\"data row1 col1\" >2,347</td>\n",
       "    </tr>\n",
       "    <tr>\n",
       "      <td id=\"T_52af8_row2_col0\" class=\"data row2 col0\" >Curta!On</td>\n",
       "      <td id=\"T_52af8_row2_col1\" class=\"data row2 col1\" >995</td>\n",
       "    </tr>\n",
       "    <tr>\n",
       "      <td id=\"T_52af8_row3_col0\" class=\"data row3 col0\" >Filmicca</td>\n",
       "      <td id=\"T_52af8_row3_col1\" class=\"data row3 col1\" >391</td>\n",
       "    </tr>\n",
       "    <tr>\n",
       "      <td id=\"T_52af8_row4_col0\" class=\"data row4 col0\" >Cardume</td>\n",
       "      <td id=\"T_52af8_row4_col1\" class=\"data row4 col1\" >235</td>\n",
       "    </tr>\n",
       "    <tr>\n",
       "      <td id=\"T_52af8_row5_col0\" class=\"data row5 col0\" >Cine Humberto Mauro Mais</td>\n",
       "      <td id=\"T_52af8_row5_col1\" class=\"data row5 col1\" >160</td>\n",
       "    </tr>\n",
       "  </tbody>\n",
       "</table>\n"
      ],
      "text/plain": [
       "<pandas.io.formats.style.Styler at 0x2b095555590>"
      ]
     },
     "metadata": {},
     "output_type": "display_data"
    },
    {
     "data": {
      "text/html": [
       "<h4>Variações >5% no Catálogo de Conteúdos</h4>"
      ],
      "text/plain": [
       "<IPython.core.display.HTML object>"
      ]
     },
     "metadata": {},
     "output_type": "display_data"
    },
    {
     "data": {
      "text/html": [
       "<style type=\"text/css\">\n",
       "#T_ca3d0_row0_col1 {\n",
       "  background-color: #fa9b58;\n",
       "  color: #000000;\n",
       "}\n",
       "</style>\n",
       "<table id=\"T_ca3d0\">\n",
       "  <thead>\n",
       "    <tr>\n",
       "      <th id=\"T_ca3d0_level0_col0\" class=\"col_heading level0 col0\" >Plataforma</th>\n",
       "      <th id=\"T_ca3d0_level0_col1\" class=\"col_heading level0 col1\" >Variação</th>\n",
       "      <th id=\"T_ca3d0_level0_col2\" class=\"col_heading level0 col2\" >Registros Anteriores</th>\n",
       "      <th id=\"T_ca3d0_level0_col3\" class=\"col_heading level0 col3\" >Registros Atuais</th>\n",
       "    </tr>\n",
       "  </thead>\n",
       "  <tbody>\n",
       "    <tr>\n",
       "      <td id=\"T_ca3d0_row0_col0\" class=\"data row0 col0\" >KweliTV</td>\n",
       "      <td id=\"T_ca3d0_row0_col1\" class=\"data row0 col1\" >-45.5%</td>\n",
       "      <td id=\"T_ca3d0_row0_col2\" class=\"data row0 col2\" >1,403</td>\n",
       "      <td id=\"T_ca3d0_row0_col3\" class=\"data row0 col3\" >764</td>\n",
       "    </tr>\n",
       "  </tbody>\n",
       "</table>\n"
      ],
      "text/plain": [
       "<pandas.io.formats.style.Styler at 0x2b095555590>"
      ]
     },
     "metadata": {},
     "output_type": "display_data"
    },
    {
     "data": {
      "text/html": [
       "<hr>"
      ],
      "text/plain": [
       "<IPython.core.display.HTML object>"
      ]
     },
     "metadata": {},
     "output_type": "display_data"
    },
    {
     "data": {
      "text/html": [
       "<br><h2>Semana 26/07/2024</h2>"
      ],
      "text/plain": [
       "<IPython.core.display.HTML object>"
      ]
     },
     "metadata": {},
     "output_type": "display_data"
    },
    {
     "data": {
      "text/html": [
       "<h4 style='color: #2E8B57;'>Novas Plataformas Cobertas</h4>"
      ],
      "text/plain": [
       "<IPython.core.display.HTML object>"
      ]
     },
     "metadata": {},
     "output_type": "display_data"
    },
    {
     "data": {
      "text/html": [
       "<style type=\"text/css\">\n",
       "#T_3d1dd_row0_col1 {\n",
       "  width: 10em;\n",
       "  background: linear-gradient(90deg, #90EE90 100.0%, transparent 100.0%);\n",
       "}\n",
       "#T_3d1dd_row1_col1 {\n",
       "  width: 10em;\n",
       "  background: linear-gradient(90deg, #90EE90 75.3%, transparent 75.3%);\n",
       "}\n",
       "</style>\n",
       "<table id=\"T_3d1dd\">\n",
       "  <thead>\n",
       "    <tr>\n",
       "      <th id=\"T_3d1dd_level0_col0\" class=\"col_heading level0 col0\" >Plataforma</th>\n",
       "      <th id=\"T_3d1dd_level0_col1\" class=\"col_heading level0 col1\" >Registros</th>\n",
       "    </tr>\n",
       "  </thead>\n",
       "  <tbody>\n",
       "    <tr>\n",
       "      <td id=\"T_3d1dd_row0_col0\" class=\"data row0 col0\" >Bombozila</td>\n",
       "      <td id=\"T_3d1dd_row0_col1\" class=\"data row0 col1\" >174</td>\n",
       "    </tr>\n",
       "    <tr>\n",
       "      <td id=\"T_3d1dd_row1_col0\" class=\"data row1 col0\" >MINASplay</td>\n",
       "      <td id=\"T_3d1dd_row1_col1\" class=\"data row1 col1\" >131</td>\n",
       "    </tr>\n",
       "  </tbody>\n",
       "</table>\n"
      ],
      "text/plain": [
       "<pandas.io.formats.style.Styler at 0x2b095555590>"
      ]
     },
     "metadata": {},
     "output_type": "display_data"
    },
    {
     "data": {
      "text/html": [
       "<h4>Variações >5% no Catálogo de Conteúdos</h4>"
      ],
      "text/plain": [
       "<IPython.core.display.HTML object>"
      ]
     },
     "metadata": {},
     "output_type": "display_data"
    },
    {
     "data": {
      "text/html": [
       "<style type=\"text/css\">\n",
       "#T_beca1_row0_col1 {\n",
       "  background-color: #148e4b;\n",
       "  color: #f1f1f1;\n",
       "}\n",
       "#T_beca1_row1_col1 {\n",
       "  background-color: #fcaa5f;\n",
       "  color: #000000;\n",
       "}\n",
       "#T_beca1_row2_col1 {\n",
       "  background-color: #f1f9ac;\n",
       "  color: #000000;\n",
       "}\n",
       "#T_beca1_row3_col1 {\n",
       "  background-color: #fff5ae;\n",
       "  color: #000000;\n",
       "}\n",
       "</style>\n",
       "<table id=\"T_beca1\">\n",
       "  <thead>\n",
       "    <tr>\n",
       "      <th id=\"T_beca1_level0_col0\" class=\"col_heading level0 col0\" >Plataforma</th>\n",
       "      <th id=\"T_beca1_level0_col1\" class=\"col_heading level0 col1\" >Variação</th>\n",
       "      <th id=\"T_beca1_level0_col2\" class=\"col_heading level0 col2\" >Registros Anteriores</th>\n",
       "      <th id=\"T_beca1_level0_col3\" class=\"col_heading level0 col3\" >Registros Atuais</th>\n",
       "    </tr>\n",
       "  </thead>\n",
       "  <tbody>\n",
       "    <tr>\n",
       "      <td id=\"T_beca1_row0_col0\" class=\"data row0 col0\" >KweliTV</td>\n",
       "      <td id=\"T_beca1_row0_col1\" class=\"data row0 col1\" >+83.9%</td>\n",
       "      <td id=\"T_beca1_row0_col2\" class=\"data row0 col2\" >764</td>\n",
       "      <td id=\"T_beca1_row0_col3\" class=\"data row0 col3\" >1,405</td>\n",
       "    </tr>\n",
       "    <tr>\n",
       "      <td id=\"T_beca1_row1_col0\" class=\"data row1 col0\" >Demand Africa</td>\n",
       "      <td id=\"T_beca1_row1_col1\" class=\"data row1 col1\" >-41.2%</td>\n",
       "      <td id=\"T_beca1_row1_col2\" class=\"data row1 col2\" >670</td>\n",
       "      <td id=\"T_beca1_row1_col3\" class=\"data row1 col3\" >394</td>\n",
       "    </tr>\n",
       "    <tr>\n",
       "      <td id=\"T_beca1_row2_col0\" class=\"data row2 col0\" >Means TV</td>\n",
       "      <td id=\"T_beca1_row2_col1\" class=\"data row2 col1\" >+7.3%</td>\n",
       "      <td id=\"T_beca1_row2_col2\" class=\"data row2 col2\" >2,087</td>\n",
       "      <td id=\"T_beca1_row2_col3\" class=\"data row2 col3\" >2,239</td>\n",
       "    </tr>\n",
       "    <tr>\n",
       "      <td id=\"T_beca1_row3_col0\" class=\"data row3 col0\" >Kidoodle.TV</td>\n",
       "      <td id=\"T_beca1_row3_col1\" class=\"data row3 col1\" >-6.5%</td>\n",
       "      <td id=\"T_beca1_row3_col2\" class=\"data row3 col2\" >1,138</td>\n",
       "      <td id=\"T_beca1_row3_col3\" class=\"data row3 col3\" >1,064</td>\n",
       "    </tr>\n",
       "  </tbody>\n",
       "</table>\n"
      ],
      "text/plain": [
       "<pandas.io.formats.style.Styler at 0x2b095555590>"
      ]
     },
     "metadata": {},
     "output_type": "display_data"
    },
    {
     "data": {
      "text/html": [
       "<hr>"
      ],
      "text/plain": [
       "<IPython.core.display.HTML object>"
      ]
     },
     "metadata": {},
     "output_type": "display_data"
    },
    {
     "data": {
      "text/html": [
       "<br><h2>Semana 02/08/2024</h2>"
      ],
      "text/plain": [
       "<IPython.core.display.HTML object>"
      ]
     },
     "metadata": {},
     "output_type": "display_data"
    },
    {
     "name": "stdout",
     "output_type": "stream",
     "text": [
      "Não houve variação no total de plataformas cobertas.\n"
     ]
    },
    {
     "data": {
      "text/html": [
       "<h4>Variações >5% no Catálogo de Conteúdos</h4>"
      ],
      "text/plain": [
       "<IPython.core.display.HTML object>"
      ]
     },
     "metadata": {},
     "output_type": "display_data"
    },
    {
     "data": {
      "text/html": [
       "<style type=\"text/css\">\n",
       "#T_bb066_row0_col1 {\n",
       "  background-color: #ebf7a3;\n",
       "  color: #000000;\n",
       "}\n",
       "</style>\n",
       "<table id=\"T_bb066\">\n",
       "  <thead>\n",
       "    <tr>\n",
       "      <th id=\"T_bb066_level0_col0\" class=\"col_heading level0 col0\" >Plataforma</th>\n",
       "      <th id=\"T_bb066_level0_col1\" class=\"col_heading level0 col1\" >Variação</th>\n",
       "      <th id=\"T_bb066_level0_col2\" class=\"col_heading level0 col2\" >Registros Anteriores</th>\n",
       "      <th id=\"T_bb066_level0_col3\" class=\"col_heading level0 col3\" >Registros Atuais</th>\n",
       "    </tr>\n",
       "  </thead>\n",
       "  <tbody>\n",
       "    <tr>\n",
       "      <td id=\"T_bb066_row0_col0\" class=\"data row0 col0\" >Cardume</td>\n",
       "      <td id=\"T_bb066_row0_col1\" class=\"data row0 col1\" >+10.2%</td>\n",
       "      <td id=\"T_bb066_row0_col2\" class=\"data row0 col2\" >235</td>\n",
       "      <td id=\"T_bb066_row0_col3\" class=\"data row0 col3\" >259</td>\n",
       "    </tr>\n",
       "  </tbody>\n",
       "</table>\n"
      ],
      "text/plain": [
       "<pandas.io.formats.style.Styler at 0x2b095555590>"
      ]
     },
     "metadata": {},
     "output_type": "display_data"
    },
    {
     "data": {
      "text/html": [
       "<hr>"
      ],
      "text/plain": [
       "<IPython.core.display.HTML object>"
      ]
     },
     "metadata": {},
     "output_type": "display_data"
    },
    {
     "data": {
      "text/html": [
       "<br><h2>Semana 08/08/2024</h2>"
      ],
      "text/plain": [
       "<IPython.core.display.HTML object>"
      ]
     },
     "metadata": {},
     "output_type": "display_data"
    },
    {
     "data": {
      "text/html": [
       "<h4 style='color: #2E8B57;'>Novas Plataformas Cobertas</h4>"
      ],
      "text/plain": [
       "<IPython.core.display.HTML object>"
      ]
     },
     "metadata": {},
     "output_type": "display_data"
    },
    {
     "data": {
      "text/html": [
       "<style type=\"text/css\">\n",
       "#T_a3f88_row0_col1 {\n",
       "  width: 10em;\n",
       "  background: linear-gradient(90deg, #90EE90 100.0%, transparent 100.0%);\n",
       "}\n",
       "</style>\n",
       "<table id=\"T_a3f88\">\n",
       "  <thead>\n",
       "    <tr>\n",
       "      <th id=\"T_a3f88_level0_col0\" class=\"col_heading level0 col0\" >Plataforma</th>\n",
       "      <th id=\"T_a3f88_level0_col1\" class=\"col_heading level0 col1\" >Registros</th>\n",
       "    </tr>\n",
       "  </thead>\n",
       "  <tbody>\n",
       "    <tr>\n",
       "      <td id=\"T_a3f88_row0_col0\" class=\"data row0 col0\" >CultSP Play</td>\n",
       "      <td id=\"T_a3f88_row0_col1\" class=\"data row0 col1\" >122</td>\n",
       "    </tr>\n",
       "  </tbody>\n",
       "</table>\n"
      ],
      "text/plain": [
       "<pandas.io.formats.style.Styler at 0x2b095555590>"
      ]
     },
     "metadata": {},
     "output_type": "display_data"
    },
    {
     "data": {
      "text/html": [
       "<h4 style='color: #CD5C5C;'>Plataformas que deixaram a cobertura</h4>"
      ],
      "text/plain": [
       "<IPython.core.display.HTML object>"
      ]
     },
     "metadata": {},
     "output_type": "display_data"
    },
    {
     "data": {
      "text/html": [
       "<style type=\"text/css\">\n",
       "#T_2569a_row0_col1 {\n",
       "  width: 10em;\n",
       "  background: linear-gradient(90deg, #FFA07A 100.0%, transparent 100.0%);\n",
       "}\n",
       "</style>\n",
       "<table id=\"T_2569a\">\n",
       "  <thead>\n",
       "    <tr>\n",
       "      <th id=\"T_2569a_level0_col0\" class=\"col_heading level0 col0\" >Plataforma</th>\n",
       "      <th id=\"T_2569a_level0_col1\" class=\"col_heading level0 col1\" >Registros Anteriores</th>\n",
       "    </tr>\n",
       "  </thead>\n",
       "  <tbody>\n",
       "    <tr>\n",
       "      <td id=\"T_2569a_row0_col0\" class=\"data row0 col0\" >CGood TV</td>\n",
       "      <td id=\"T_2569a_row0_col1\" class=\"data row0 col1\" >160</td>\n",
       "    </tr>\n",
       "  </tbody>\n",
       "</table>\n"
      ],
      "text/plain": [
       "<pandas.io.formats.style.Styler at 0x2b095555590>"
      ]
     },
     "metadata": {},
     "output_type": "display_data"
    },
    {
     "data": {
      "text/html": [
       "<h4>Variações >5% no Catálogo de Conteúdos</h4>"
      ],
      "text/plain": [
       "<IPython.core.display.HTML object>"
      ]
     },
     "metadata": {},
     "output_type": "display_data"
    },
    {
     "data": {
      "text/html": [
       "<style type=\"text/css\">\n",
       "#T_a7e80_row0_col1 {\n",
       "  background-color: #feeb9d;\n",
       "  color: #000000;\n",
       "}\n",
       "#T_a7e80_row1_col1, #T_a7e80_row2_col1 {\n",
       "  background-color: #fff5ae;\n",
       "  color: #000000;\n",
       "}\n",
       "#T_a7e80_row3_col1 {\n",
       "  background-color: #fff6b0;\n",
       "  color: #000000;\n",
       "}\n",
       "#T_a7e80_row4_col1 {\n",
       "  background-color: #f5fbb2;\n",
       "  color: #000000;\n",
       "}\n",
       "</style>\n",
       "<table id=\"T_a7e80\">\n",
       "  <thead>\n",
       "    <tr>\n",
       "      <th id=\"T_a7e80_level0_col0\" class=\"col_heading level0 col0\" >Plataforma</th>\n",
       "      <th id=\"T_a7e80_level0_col1\" class=\"col_heading level0 col1\" >Variação</th>\n",
       "      <th id=\"T_a7e80_level0_col2\" class=\"col_heading level0 col2\" >Registros Anteriores</th>\n",
       "      <th id=\"T_a7e80_level0_col3\" class=\"col_heading level0 col3\" >Registros Atuais</th>\n",
       "    </tr>\n",
       "  </thead>\n",
       "  <tbody>\n",
       "    <tr>\n",
       "      <td id=\"T_a7e80_row0_col0\" class=\"data row0 col0\" >Demand Africa</td>\n",
       "      <td id=\"T_a7e80_row0_col1\" class=\"data row0 col1\" >-12.7%</td>\n",
       "      <td id=\"T_a7e80_row0_col2\" class=\"data row0 col2\" >393</td>\n",
       "      <td id=\"T_a7e80_row0_col3\" class=\"data row0 col3\" >343</td>\n",
       "    </tr>\n",
       "    <tr>\n",
       "      <td id=\"T_a7e80_row1_col0\" class=\"data row1 col0\" >Cardume</td>\n",
       "      <td id=\"T_a7e80_row1_col1\" class=\"data row1 col1\" >-6.9%</td>\n",
       "      <td id=\"T_a7e80_row1_col2\" class=\"data row1 col2\" >259</td>\n",
       "      <td id=\"T_a7e80_row1_col3\" class=\"data row1 col3\" >241</td>\n",
       "    </tr>\n",
       "    <tr>\n",
       "      <td id=\"T_a7e80_row2_col0\" class=\"data row2 col0\" >OnDemandKorea</td>\n",
       "      <td id=\"T_a7e80_row2_col1\" class=\"data row2 col1\" >-6.8%</td>\n",
       "      <td id=\"T_a7e80_row2_col2\" class=\"data row2 col2\" >2,222</td>\n",
       "      <td id=\"T_a7e80_row2_col3\" class=\"data row2 col3\" >2,072</td>\n",
       "    </tr>\n",
       "    <tr>\n",
       "      <td id=\"T_a7e80_row3_col0\" class=\"data row3 col0\" >Troma NOW!</td>\n",
       "      <td id=\"T_a7e80_row3_col1\" class=\"data row3 col1\" >-5.8%</td>\n",
       "      <td id=\"T_a7e80_row3_col2\" class=\"data row3 col2\" >1,462</td>\n",
       "      <td id=\"T_a7e80_row3_col3\" class=\"data row3 col3\" >1,377</td>\n",
       "    </tr>\n",
       "    <tr>\n",
       "      <td id=\"T_a7e80_row4_col0\" class=\"data row4 col0\" >Claro Video</td>\n",
       "      <td id=\"T_a7e80_row4_col1\" class=\"data row4 col1\" >+5.2%</td>\n",
       "      <td id=\"T_a7e80_row4_col2\" class=\"data row4 col2\" >2,718</td>\n",
       "      <td id=\"T_a7e80_row4_col3\" class=\"data row4 col3\" >2,860</td>\n",
       "    </tr>\n",
       "  </tbody>\n",
       "</table>\n"
      ],
      "text/plain": [
       "<pandas.io.formats.style.Styler at 0x2b095555590>"
      ]
     },
     "metadata": {},
     "output_type": "display_data"
    },
    {
     "data": {
      "text/html": [
       "<hr>"
      ],
      "text/plain": [
       "<IPython.core.display.HTML object>"
      ]
     },
     "metadata": {},
     "output_type": "display_data"
    },
    {
     "data": {
      "text/html": [
       "<br><h2>Semana 15/08/2024</h2>"
      ],
      "text/plain": [
       "<IPython.core.display.HTML object>"
      ]
     },
     "metadata": {},
     "output_type": "display_data"
    },
    {
     "data": {
      "text/html": [
       "<h4 style='color: #2E8B57;'>Novas Plataformas Cobertas</h4>"
      ],
      "text/plain": [
       "<IPython.core.display.HTML object>"
      ]
     },
     "metadata": {},
     "output_type": "display_data"
    },
    {
     "data": {
      "text/html": [
       "<style type=\"text/css\">\n",
       "#T_3d18e_row0_col1 {\n",
       "  width: 10em;\n",
       "  background: linear-gradient(90deg, #90EE90 100.0%, transparent 100.0%);\n",
       "}\n",
       "</style>\n",
       "<table id=\"T_3d18e\">\n",
       "  <thead>\n",
       "    <tr>\n",
       "      <th id=\"T_3d18e_level0_col0\" class=\"col_heading level0 col0\" >Plataforma</th>\n",
       "      <th id=\"T_3d18e_level0_col1\" class=\"col_heading level0 col1\" >Registros</th>\n",
       "    </tr>\n",
       "  </thead>\n",
       "  <tbody>\n",
       "    <tr>\n",
       "      <td id=\"T_3d18e_row0_col0\" class=\"data row0 col0\" >Banco de Conteúdos Culturais</td>\n",
       "      <td id=\"T_3d18e_row0_col1\" class=\"data row0 col1\" >5,900</td>\n",
       "    </tr>\n",
       "  </tbody>\n",
       "</table>\n"
      ],
      "text/plain": [
       "<pandas.io.formats.style.Styler at 0x2b095555590>"
      ]
     },
     "metadata": {},
     "output_type": "display_data"
    },
    {
     "data": {
      "text/html": [
       "<hr>"
      ],
      "text/plain": [
       "<IPython.core.display.HTML object>"
      ]
     },
     "metadata": {},
     "output_type": "display_data"
    },
    {
     "data": {
      "text/html": [
       "<br><h2>Semana 23/08/2024</h2>"
      ],
      "text/plain": [
       "<IPython.core.display.HTML object>"
      ]
     },
     "metadata": {},
     "output_type": "display_data"
    },
    {
     "data": {
      "text/html": [
       "<h4 style='color: #2E8B57;'>Novas Plataformas Cobertas</h4>"
      ],
      "text/plain": [
       "<IPython.core.display.HTML object>"
      ]
     },
     "metadata": {},
     "output_type": "display_data"
    },
    {
     "data": {
      "text/html": [
       "<style type=\"text/css\">\n",
       "#T_e6f5d_row0_col1 {\n",
       "  width: 10em;\n",
       "  background: linear-gradient(90deg, #90EE90 100.0%, transparent 100.0%);\n",
       "}\n",
       "#T_e6f5d_row1_col1 {\n",
       "  width: 10em;\n",
       "  background: linear-gradient(90deg, #90EE90 33.2%, transparent 33.2%);\n",
       "}\n",
       "#T_e6f5d_row2_col1 {\n",
       "  width: 10em;\n",
       "  background: linear-gradient(90deg, #90EE90 31.0%, transparent 31.0%);\n",
       "}\n",
       "</style>\n",
       "<table id=\"T_e6f5d\">\n",
       "  <thead>\n",
       "    <tr>\n",
       "      <th id=\"T_e6f5d_level0_col0\" class=\"col_heading level0 col0\" >Plataforma</th>\n",
       "      <th id=\"T_e6f5d_level0_col1\" class=\"col_heading level0 col1\" >Registros</th>\n",
       "    </tr>\n",
       "  </thead>\n",
       "  <tbody>\n",
       "    <tr>\n",
       "      <td id=\"T_e6f5d_row0_col0\" class=\"data row0 col0\" >Embaúba Play</td>\n",
       "      <td id=\"T_e6f5d_row0_col1\" class=\"data row0 col1\" >590</td>\n",
       "    </tr>\n",
       "    <tr>\n",
       "      <td id=\"T_e6f5d_row1_col0\" class=\"data row1 col0\" >Itaú Cultural Play</td>\n",
       "      <td id=\"T_e6f5d_row1_col1\" class=\"data row1 col1\" >196</td>\n",
       "    </tr>\n",
       "    <tr>\n",
       "      <td id=\"T_e6f5d_row2_col0\" class=\"data row2 col0\" >Todesplay</td>\n",
       "      <td id=\"T_e6f5d_row2_col1\" class=\"data row2 col1\" >183</td>\n",
       "    </tr>\n",
       "  </tbody>\n",
       "</table>\n"
      ],
      "text/plain": [
       "<pandas.io.formats.style.Styler at 0x2b095555590>"
      ]
     },
     "metadata": {},
     "output_type": "display_data"
    },
    {
     "data": {
      "text/html": [
       "<h4>Variações >5% no Catálogo de Conteúdos</h4>"
      ],
      "text/plain": [
       "<IPython.core.display.HTML object>"
      ]
     },
     "metadata": {},
     "output_type": "display_data"
    },
    {
     "data": {
      "text/html": [
       "<style type=\"text/css\">\n",
       "#T_584df_row0_col1 {\n",
       "  background-color: #006837;\n",
       "  color: #f1f1f1;\n",
       "}\n",
       "#T_584df_row1_col1 {\n",
       "  background-color: #ebf7a3;\n",
       "  color: #000000;\n",
       "}\n",
       "#T_584df_row2_col1 {\n",
       "  background-color: #eff8aa;\n",
       "  color: #000000;\n",
       "}\n",
       "#T_584df_row3_col1 {\n",
       "  background-color: #f1f9ac;\n",
       "  color: #000000;\n",
       "}\n",
       "</style>\n",
       "<table id=\"T_584df\">\n",
       "  <thead>\n",
       "    <tr>\n",
       "      <th id=\"T_584df_level0_col0\" class=\"col_heading level0 col0\" >Plataforma</th>\n",
       "      <th id=\"T_584df_level0_col1\" class=\"col_heading level0 col1\" >Variação</th>\n",
       "      <th id=\"T_584df_level0_col2\" class=\"col_heading level0 col2\" >Registros Anteriores</th>\n",
       "      <th id=\"T_584df_level0_col3\" class=\"col_heading level0 col3\" >Registros Atuais</th>\n",
       "    </tr>\n",
       "  </thead>\n",
       "  <tbody>\n",
       "    <tr>\n",
       "      <td id=\"T_584df_row0_col0\" class=\"data row0 col0\" >CultSP Play</td>\n",
       "      <td id=\"T_584df_row0_col1\" class=\"data row0 col1\" >+1243.4%</td>\n",
       "      <td id=\"T_584df_row0_col2\" class=\"data row0 col2\" >122</td>\n",
       "      <td id=\"T_584df_row0_col3\" class=\"data row0 col3\" >1,639</td>\n",
       "    </tr>\n",
       "    <tr>\n",
       "      <td id=\"T_584df_row1_col0\" class=\"data row1 col0\" >UOL Play</td>\n",
       "      <td id=\"T_584df_row1_col1\" class=\"data row1 col1\" >+10.8%</td>\n",
       "      <td id=\"T_584df_row1_col2\" class=\"data row1 col2\" >753</td>\n",
       "      <td id=\"T_584df_row1_col3\" class=\"data row1 col3\" >834</td>\n",
       "    </tr>\n",
       "    <tr>\n",
       "      <td id=\"T_584df_row2_col0\" class=\"data row2 col0\" >MINASplay</td>\n",
       "      <td id=\"T_584df_row2_col1\" class=\"data row2 col1\" >+8.3%</td>\n",
       "      <td id=\"T_584df_row2_col2\" class=\"data row2 col2\" >133</td>\n",
       "      <td id=\"T_584df_row2_col3\" class=\"data row2 col3\" >144</td>\n",
       "    </tr>\n",
       "    <tr>\n",
       "      <td id=\"T_584df_row3_col0\" class=\"data row3 col0\" >Cardume</td>\n",
       "      <td id=\"T_584df_row3_col1\" class=\"data row3 col1\" >+7.1%</td>\n",
       "      <td id=\"T_584df_row3_col2\" class=\"data row3 col2\" >241</td>\n",
       "      <td id=\"T_584df_row3_col3\" class=\"data row3 col3\" >258</td>\n",
       "    </tr>\n",
       "  </tbody>\n",
       "</table>\n"
      ],
      "text/plain": [
       "<pandas.io.formats.style.Styler at 0x2b095555590>"
      ]
     },
     "metadata": {},
     "output_type": "display_data"
    },
    {
     "data": {
      "text/html": [
       "<hr>"
      ],
      "text/plain": [
       "<IPython.core.display.HTML object>"
      ]
     },
     "metadata": {},
     "output_type": "display_data"
    },
    {
     "data": {
      "text/html": [
       "<br><h2>Semana 30/08/2024</h2>"
      ],
      "text/plain": [
       "<IPython.core.display.HTML object>"
      ]
     },
     "metadata": {},
     "output_type": "display_data"
    },
    {
     "name": "stdout",
     "output_type": "stream",
     "text": [
      "Não houve variação no total de plataformas cobertas.\n"
     ]
    },
    {
     "data": {
      "text/html": [
       "<h4>Variações >5% no Catálogo de Conteúdos</h4>"
      ],
      "text/plain": [
       "<IPython.core.display.HTML object>"
      ]
     },
     "metadata": {},
     "output_type": "display_data"
    },
    {
     "data": {
      "text/html": [
       "<style type=\"text/css\">\n",
       "#T_1b079_row0_col1 {\n",
       "  background-color: #e8f59f;\n",
       "  color: #000000;\n",
       "}\n",
       "</style>\n",
       "<table id=\"T_1b079\">\n",
       "  <thead>\n",
       "    <tr>\n",
       "      <th id=\"T_1b079_level0_col0\" class=\"col_heading level0 col0\" >Plataforma</th>\n",
       "      <th id=\"T_1b079_level0_col1\" class=\"col_heading level0 col1\" >Variação</th>\n",
       "      <th id=\"T_1b079_level0_col2\" class=\"col_heading level0 col2\" >Registros Anteriores</th>\n",
       "      <th id=\"T_1b079_level0_col3\" class=\"col_heading level0 col3\" >Registros Atuais</th>\n",
       "    </tr>\n",
       "  </thead>\n",
       "  <tbody>\n",
       "    <tr>\n",
       "      <td id=\"T_1b079_row0_col0\" class=\"data row0 col0\" >Cine Humberto Mauro Mais</td>\n",
       "      <td id=\"T_1b079_row0_col1\" class=\"data row0 col1\" >+12.2%</td>\n",
       "      <td id=\"T_1b079_row0_col2\" class=\"data row0 col2\" >156</td>\n",
       "      <td id=\"T_1b079_row0_col3\" class=\"data row0 col3\" >175</td>\n",
       "    </tr>\n",
       "  </tbody>\n",
       "</table>\n"
      ],
      "text/plain": [
       "<pandas.io.formats.style.Styler at 0x2b095555590>"
      ]
     },
     "metadata": {},
     "output_type": "display_data"
    },
    {
     "data": {
      "text/html": [
       "<hr>"
      ],
      "text/plain": [
       "<IPython.core.display.HTML object>"
      ]
     },
     "metadata": {},
     "output_type": "display_data"
    },
    {
     "data": {
      "text/html": [
       "<br><h2>Semana 07/09/2024</h2>"
      ],
      "text/plain": [
       "<IPython.core.display.HTML object>"
      ]
     },
     "metadata": {},
     "output_type": "display_data"
    },
    {
     "name": "stdout",
     "output_type": "stream",
     "text": [
      "Não houve variação no total de plataformas cobertas.\n"
     ]
    },
    {
     "data": {
      "text/html": [
       "<hr>"
      ],
      "text/plain": [
       "<IPython.core.display.HTML object>"
      ]
     },
     "metadata": {},
     "output_type": "display_data"
    },
    {
     "data": {
      "text/html": [
       "<br><h2>Semana 13/09/2024</h2>"
      ],
      "text/plain": [
       "<IPython.core.display.HTML object>"
      ]
     },
     "metadata": {},
     "output_type": "display_data"
    },
    {
     "data": {
      "text/html": [
       "<h4 style='color: #2E8B57;'>Novas Plataformas Cobertas</h4>"
      ],
      "text/plain": [
       "<IPython.core.display.HTML object>"
      ]
     },
     "metadata": {},
     "output_type": "display_data"
    },
    {
     "data": {
      "text/html": [
       "<style type=\"text/css\">\n",
       "#T_0705f_row0_col1 {\n",
       "  width: 10em;\n",
       "  background: linear-gradient(90deg, #90EE90 100.0%, transparent 100.0%);\n",
       "}\n",
       "</style>\n",
       "<table id=\"T_0705f\">\n",
       "  <thead>\n",
       "    <tr>\n",
       "      <th id=\"T_0705f_level0_col0\" class=\"col_heading level0 col0\" >Plataforma</th>\n",
       "      <th id=\"T_0705f_level0_col1\" class=\"col_heading level0 col1\" >Registros</th>\n",
       "    </tr>\n",
       "  </thead>\n",
       "  <tbody>\n",
       "    <tr>\n",
       "      <td id=\"T_0705f_row0_col0\" class=\"data row0 col0\" >Spcine Play</td>\n",
       "      <td id=\"T_0705f_row0_col1\" class=\"data row0 col1\" >275</td>\n",
       "    </tr>\n",
       "  </tbody>\n",
       "</table>\n"
      ],
      "text/plain": [
       "<pandas.io.formats.style.Styler at 0x2b095555590>"
      ]
     },
     "metadata": {},
     "output_type": "display_data"
    },
    {
     "data": {
      "text/html": [
       "<h4>Variações >5% no Catálogo de Conteúdos</h4>"
      ],
      "text/plain": [
       "<IPython.core.display.HTML object>"
      ]
     },
     "metadata": {},
     "output_type": "display_data"
    },
    {
     "data": {
      "text/html": [
       "<style type=\"text/css\">\n",
       "#T_84cb5_row0_col1 {\n",
       "  background-color: #33a456;\n",
       "  color: #f1f1f1;\n",
       "}\n",
       "#T_84cb5_row1_col1 {\n",
       "  background-color: #feea9b;\n",
       "  color: #000000;\n",
       "}\n",
       "#T_84cb5_row2_col1 {\n",
       "  background-color: #fff1a8;\n",
       "  color: #000000;\n",
       "}\n",
       "#T_84cb5_row3_col1 {\n",
       "  background-color: #eff8aa;\n",
       "  color: #000000;\n",
       "}\n",
       "#T_84cb5_row4_col1 {\n",
       "  background-color: #f1f9ac;\n",
       "  color: #000000;\n",
       "}\n",
       "#T_84cb5_row5_col1 {\n",
       "  background-color: #fff3ac;\n",
       "  color: #000000;\n",
       "}\n",
       "#T_84cb5_row6_col1 {\n",
       "  background-color: #fff7b2;\n",
       "  color: #000000;\n",
       "}\n",
       "</style>\n",
       "<table id=\"T_84cb5\">\n",
       "  <thead>\n",
       "    <tr>\n",
       "      <th id=\"T_84cb5_level0_col0\" class=\"col_heading level0 col0\" >Plataforma</th>\n",
       "      <th id=\"T_84cb5_level0_col1\" class=\"col_heading level0 col1\" >Variação</th>\n",
       "      <th id=\"T_84cb5_level0_col2\" class=\"col_heading level0 col2\" >Registros Anteriores</th>\n",
       "      <th id=\"T_84cb5_level0_col3\" class=\"col_heading level0 col3\" >Registros Atuais</th>\n",
       "    </tr>\n",
       "  </thead>\n",
       "  <tbody>\n",
       "    <tr>\n",
       "      <td id=\"T_84cb5_row0_col0\" class=\"data row0 col0\" >Retina Latina</td>\n",
       "      <td id=\"T_84cb5_row0_col1\" class=\"data row0 col1\" >+73.2%</td>\n",
       "      <td id=\"T_84cb5_row0_col2\" class=\"data row0 col2\" >179</td>\n",
       "      <td id=\"T_84cb5_row0_col3\" class=\"data row0 col3\" >310</td>\n",
       "    </tr>\n",
       "    <tr>\n",
       "      <td id=\"T_84cb5_row1_col0\" class=\"data row1 col0\" >CultSP Play</td>\n",
       "      <td id=\"T_84cb5_row1_col1\" class=\"data row1 col1\" >-13.8%</td>\n",
       "      <td id=\"T_84cb5_row1_col2\" class=\"data row1 col2\" >1,639</td>\n",
       "      <td id=\"T_84cb5_row1_col3\" class=\"data row1 col3\" >1,413</td>\n",
       "    </tr>\n",
       "    <tr>\n",
       "      <td id=\"T_84cb5_row2_col0\" class=\"data row2 col0\" >Cardume</td>\n",
       "      <td id=\"T_84cb5_row2_col1\" class=\"data row2 col1\" >-8.9%</td>\n",
       "      <td id=\"T_84cb5_row2_col2\" class=\"data row2 col2\" >258</td>\n",
       "      <td id=\"T_84cb5_row2_col3\" class=\"data row2 col3\" >235</td>\n",
       "    </tr>\n",
       "    <tr>\n",
       "      <td id=\"T_84cb5_row3_col0\" class=\"data row3 col0\" >UOL Play</td>\n",
       "      <td id=\"T_84cb5_row3_col1\" class=\"data row3 col1\" >+8.1%</td>\n",
       "      <td id=\"T_84cb5_row3_col2\" class=\"data row3 col2\" >829</td>\n",
       "      <td id=\"T_84cb5_row3_col3\" class=\"data row3 col3\" >896</td>\n",
       "    </tr>\n",
       "    <tr>\n",
       "      <td id=\"T_84cb5_row4_col0\" class=\"data row4 col0\" >ShemarooMe</td>\n",
       "      <td id=\"T_84cb5_row4_col1\" class=\"data row4 col1\" >+7.5%</td>\n",
       "      <td id=\"T_84cb5_row4_col2\" class=\"data row4 col2\" >2,521</td>\n",
       "      <td id=\"T_84cb5_row4_col3\" class=\"data row4 col3\" >2,709</td>\n",
       "    </tr>\n",
       "    <tr>\n",
       "      <td id=\"T_84cb5_row5_col0\" class=\"data row5 col0\" >Means TV</td>\n",
       "      <td id=\"T_84cb5_row5_col1\" class=\"data row5 col1\" >-7.3%</td>\n",
       "      <td id=\"T_84cb5_row5_col2\" class=\"data row5 col2\" >2,259</td>\n",
       "      <td id=\"T_84cb5_row5_col3\" class=\"data row5 col3\" >2,093</td>\n",
       "    </tr>\n",
       "    <tr>\n",
       "      <td id=\"T_84cb5_row6_col0\" class=\"data row6 col0\" >Itaú Cultural Play</td>\n",
       "      <td id=\"T_84cb5_row6_col1\" class=\"data row6 col1\" >-5.4%</td>\n",
       "      <td id=\"T_84cb5_row6_col2\" class=\"data row6 col2\" >203</td>\n",
       "      <td id=\"T_84cb5_row6_col3\" class=\"data row6 col3\" >192</td>\n",
       "    </tr>\n",
       "  </tbody>\n",
       "</table>\n"
      ],
      "text/plain": [
       "<pandas.io.formats.style.Styler at 0x2b095555590>"
      ]
     },
     "metadata": {},
     "output_type": "display_data"
    },
    {
     "data": {
      "text/html": [
       "<hr>"
      ],
      "text/plain": [
       "<IPython.core.display.HTML object>"
      ]
     },
     "metadata": {},
     "output_type": "display_data"
    },
    {
     "data": {
      "text/html": [
       "<br><h2>Semana 20/09/2024</h2>"
      ],
      "text/plain": [
       "<IPython.core.display.HTML object>"
      ]
     },
     "metadata": {},
     "output_type": "display_data"
    },
    {
     "name": "stdout",
     "output_type": "stream",
     "text": [
      "Não houve variação no total de plataformas cobertas.\n"
     ]
    },
    {
     "data": {
      "text/html": [
       "<h4>Variações >5% no Catálogo de Conteúdos</h4>"
      ],
      "text/plain": [
       "<IPython.core.display.HTML object>"
      ]
     },
     "metadata": {},
     "output_type": "display_data"
    },
    {
     "data": {
      "text/html": [
       "<style type=\"text/css\">\n",
       "#T_44b17_row0_col1 {\n",
       "  background-color: #fece7c;\n",
       "  color: #000000;\n",
       "}\n",
       "</style>\n",
       "<table id=\"T_44b17\">\n",
       "  <thead>\n",
       "    <tr>\n",
       "      <th id=\"T_44b17_level0_col0\" class=\"col_heading level0 col0\" >Plataforma</th>\n",
       "      <th id=\"T_44b17_level0_col1\" class=\"col_heading level0 col1\" >Variação</th>\n",
       "      <th id=\"T_44b17_level0_col2\" class=\"col_heading level0 col2\" >Registros Anteriores</th>\n",
       "      <th id=\"T_44b17_level0_col3\" class=\"col_heading level0 col3\" >Registros Atuais</th>\n",
       "    </tr>\n",
       "  </thead>\n",
       "  <tbody>\n",
       "    <tr>\n",
       "      <td id=\"T_44b17_row0_col0\" class=\"data row0 col0\" >Sky+</td>\n",
       "      <td id=\"T_44b17_row0_col1\" class=\"data row0 col1\" >-26.7%</td>\n",
       "      <td id=\"T_44b17_row0_col2\" class=\"data row0 col2\" >11,338</td>\n",
       "      <td id=\"T_44b17_row0_col3\" class=\"data row0 col3\" >8,308</td>\n",
       "    </tr>\n",
       "  </tbody>\n",
       "</table>\n"
      ],
      "text/plain": [
       "<pandas.io.formats.style.Styler at 0x2b095555590>"
      ]
     },
     "metadata": {},
     "output_type": "display_data"
    },
    {
     "data": {
      "text/html": [
       "<hr>"
      ],
      "text/plain": [
       "<IPython.core.display.HTML object>"
      ]
     },
     "metadata": {},
     "output_type": "display_data"
    },
    {
     "data": {
      "text/html": [
       "<br><h2>Semana 27/09/2024</h2>"
      ],
      "text/plain": [
       "<IPython.core.display.HTML object>"
      ]
     },
     "metadata": {},
     "output_type": "display_data"
    },
    {
     "name": "stdout",
     "output_type": "stream",
     "text": [
      "Não houve variação no total de plataformas cobertas.\n"
     ]
    },
    {
     "data": {
      "text/html": [
       "<hr>"
      ],
      "text/plain": [
       "<IPython.core.display.HTML object>"
      ]
     },
     "metadata": {},
     "output_type": "display_data"
    },
    {
     "data": {
      "text/html": [
       "<br><h2>Semana 04/10/2024</h2>"
      ],
      "text/plain": [
       "<IPython.core.display.HTML object>"
      ]
     },
     "metadata": {},
     "output_type": "display_data"
    },
    {
     "name": "stdout",
     "output_type": "stream",
     "text": [
      "Não houve variação no total de plataformas cobertas.\n"
     ]
    },
    {
     "data": {
      "text/html": [
       "<h4>Variações >5% no Catálogo de Conteúdos</h4>"
      ],
      "text/plain": [
       "<IPython.core.display.HTML object>"
      ]
     },
     "metadata": {},
     "output_type": "display_data"
    },
    {
     "data": {
      "text/html": [
       "<style type=\"text/css\">\n",
       "#T_bc5df_row0_col1 {\n",
       "  background-color: #eef8a8;\n",
       "  color: #000000;\n",
       "}\n",
       "</style>\n",
       "<table id=\"T_bc5df\">\n",
       "  <thead>\n",
       "    <tr>\n",
       "      <th id=\"T_bc5df_level0_col0\" class=\"col_heading level0 col0\" >Plataforma</th>\n",
       "      <th id=\"T_bc5df_level0_col1\" class=\"col_heading level0 col1\" >Variação</th>\n",
       "      <th id=\"T_bc5df_level0_col2\" class=\"col_heading level0 col2\" >Registros Anteriores</th>\n",
       "      <th id=\"T_bc5df_level0_col3\" class=\"col_heading level0 col3\" >Registros Atuais</th>\n",
       "    </tr>\n",
       "  </thead>\n",
       "  <tbody>\n",
       "    <tr>\n",
       "      <td id=\"T_bc5df_row0_col0\" class=\"data row0 col0\" >IWantTFC</td>\n",
       "      <td id=\"T_bc5df_row0_col1\" class=\"data row0 col1\" >+9.0%</td>\n",
       "      <td id=\"T_bc5df_row0_col2\" class=\"data row0 col2\" >1,981</td>\n",
       "      <td id=\"T_bc5df_row0_col3\" class=\"data row0 col3\" >2,160</td>\n",
       "    </tr>\n",
       "  </tbody>\n",
       "</table>\n"
      ],
      "text/plain": [
       "<pandas.io.formats.style.Styler at 0x2b095555590>"
      ]
     },
     "metadata": {},
     "output_type": "display_data"
    },
    {
     "data": {
      "text/html": [
       "<hr>"
      ],
      "text/plain": [
       "<IPython.core.display.HTML object>"
      ]
     },
     "metadata": {},
     "output_type": "display_data"
    },
    {
     "data": {
      "text/html": [
       "<br><h2>Semana 19/10/2024</h2>"
      ],
      "text/plain": [
       "<IPython.core.display.HTML object>"
      ]
     },
     "metadata": {},
     "output_type": "display_data"
    },
    {
     "data": {
      "text/html": [
       "<h4 style='color: #2E8B57;'>Novas Plataformas Cobertas</h4>"
      ],
      "text/plain": [
       "<IPython.core.display.HTML object>"
      ]
     },
     "metadata": {},
     "output_type": "display_data"
    },
    {
     "data": {
      "text/html": [
       "<style type=\"text/css\">\n",
       "#T_f82e5_row0_col1 {\n",
       "  width: 10em;\n",
       "  background: linear-gradient(90deg, #90EE90 100.0%, transparent 100.0%);\n",
       "}\n",
       "</style>\n",
       "<table id=\"T_f82e5\">\n",
       "  <thead>\n",
       "    <tr>\n",
       "      <th id=\"T_f82e5_level0_col0\" class=\"col_heading level0 col0\" >Plataforma</th>\n",
       "      <th id=\"T_f82e5_level0_col1\" class=\"col_heading level0 col1\" >Registros</th>\n",
       "    </tr>\n",
       "  </thead>\n",
       "  <tbody>\n",
       "    <tr>\n",
       "      <td id=\"T_f82e5_row0_col0\" class=\"data row0 col0\" >TV Caiçara</td>\n",
       "      <td id=\"T_f82e5_row0_col1\" class=\"data row0 col1\" >351</td>\n",
       "    </tr>\n",
       "  </tbody>\n",
       "</table>\n"
      ],
      "text/plain": [
       "<pandas.io.formats.style.Styler at 0x2b095555590>"
      ]
     },
     "metadata": {},
     "output_type": "display_data"
    },
    {
     "data": {
      "text/html": [
       "<h4>Variações >5% no Catálogo de Conteúdos</h4>"
      ],
      "text/plain": [
       "<IPython.core.display.HTML object>"
      ]
     },
     "metadata": {},
     "output_type": "display_data"
    },
    {
     "data": {
      "text/html": [
       "<style type=\"text/css\">\n",
       "#T_8a24f_row0_col1 {\n",
       "  background-color: #fcaa5f;\n",
       "  color: #000000;\n",
       "}\n",
       "#T_8a24f_row1_col1 {\n",
       "  background-color: #e3f399;\n",
       "  color: #000000;\n",
       "}\n",
       "#T_8a24f_row2_col1 {\n",
       "  background-color: #ebf7a3;\n",
       "  color: #000000;\n",
       "}\n",
       "#T_8a24f_row3_col1 {\n",
       "  background-color: #eef8a8;\n",
       "  color: #000000;\n",
       "}\n",
       "#T_8a24f_row4_col1, #T_8a24f_row5_col1 {\n",
       "  background-color: #fff2aa;\n",
       "  color: #000000;\n",
       "}\n",
       "#T_8a24f_row6_col1 {\n",
       "  background-color: #f1f9ac;\n",
       "  color: #000000;\n",
       "}\n",
       "#T_8a24f_row7_col1 {\n",
       "  background-color: #f4fab0;\n",
       "  color: #000000;\n",
       "}\n",
       "</style>\n",
       "<table id=\"T_8a24f\">\n",
       "  <thead>\n",
       "    <tr>\n",
       "      <th id=\"T_8a24f_level0_col0\" class=\"col_heading level0 col0\" >Plataforma</th>\n",
       "      <th id=\"T_8a24f_level0_col1\" class=\"col_heading level0 col1\" >Variação</th>\n",
       "      <th id=\"T_8a24f_level0_col2\" class=\"col_heading level0 col2\" >Registros Anteriores</th>\n",
       "      <th id=\"T_8a24f_level0_col3\" class=\"col_heading level0 col3\" >Registros Atuais</th>\n",
       "    </tr>\n",
       "  </thead>\n",
       "  <tbody>\n",
       "    <tr>\n",
       "      <td id=\"T_8a24f_row0_col0\" class=\"data row0 col0\" >Met Opera on Demand</td>\n",
       "      <td id=\"T_8a24f_row0_col1\" class=\"data row0 col1\" >-41.2%</td>\n",
       "      <td id=\"T_8a24f_row0_col2\" class=\"data row0 col2\" >1,584</td>\n",
       "      <td id=\"T_8a24f_row0_col3\" class=\"data row0 col3\" >932</td>\n",
       "    </tr>\n",
       "    <tr>\n",
       "      <td id=\"T_8a24f_row1_col0\" class=\"data row1 col0\" >OnDemandKorea</td>\n",
       "      <td id=\"T_8a24f_row1_col1\" class=\"data row1 col1\" >+14.7%</td>\n",
       "      <td id=\"T_8a24f_row1_col2\" class=\"data row1 col2\" >2,033</td>\n",
       "      <td id=\"T_8a24f_row1_col3\" class=\"data row1 col3\" >2,332</td>\n",
       "    </tr>\n",
       "    <tr>\n",
       "      <td id=\"T_8a24f_row2_col0\" class=\"data row2 col0\" >CultSP Play</td>\n",
       "      <td id=\"T_8a24f_row2_col1\" class=\"data row2 col1\" >+10.5%</td>\n",
       "      <td id=\"T_8a24f_row2_col2\" class=\"data row2 col2\" >1,453</td>\n",
       "      <td id=\"T_8a24f_row2_col3\" class=\"data row2 col3\" >1,606</td>\n",
       "    </tr>\n",
       "    <tr>\n",
       "      <td id=\"T_8a24f_row3_col0\" class=\"data row3 col0\" >Anime Onegai</td>\n",
       "      <td id=\"T_8a24f_row3_col1\" class=\"data row3 col1\" >+8.8%</td>\n",
       "      <td id=\"T_8a24f_row3_col2\" class=\"data row3 col2\" >353</td>\n",
       "      <td id=\"T_8a24f_row3_col3\" class=\"data row3 col3\" >384</td>\n",
       "    </tr>\n",
       "    <tr>\n",
       "      <td id=\"T_8a24f_row4_col0\" class=\"data row4 col0\" >Means TV</td>\n",
       "      <td id=\"T_8a24f_row4_col1\" class=\"data row4 col1\" >-8.5%</td>\n",
       "      <td id=\"T_8a24f_row4_col2\" class=\"data row4 col2\" >2,093</td>\n",
       "      <td id=\"T_8a24f_row4_col3\" class=\"data row4 col3\" >1,915</td>\n",
       "    </tr>\n",
       "    <tr>\n",
       "      <td id=\"T_8a24f_row5_col0\" class=\"data row5 col0\" >ShemarooMe</td>\n",
       "      <td id=\"T_8a24f_row5_col1\" class=\"data row5 col1\" >-8.0%</td>\n",
       "      <td id=\"T_8a24f_row5_col2\" class=\"data row5 col2\" >2,708</td>\n",
       "      <td id=\"T_8a24f_row5_col3\" class=\"data row5 col3\" >2,492</td>\n",
       "    </tr>\n",
       "    <tr>\n",
       "      <td id=\"T_8a24f_row6_col0\" class=\"data row6 col0\" >Sky+</td>\n",
       "      <td id=\"T_8a24f_row6_col1\" class=\"data row6 col1\" >+7.8%</td>\n",
       "      <td id=\"T_8a24f_row6_col2\" class=\"data row6 col2\" >8,308</td>\n",
       "      <td id=\"T_8a24f_row6_col3\" class=\"data row6 col3\" >8,954</td>\n",
       "    </tr>\n",
       "    <tr>\n",
       "      <td id=\"T_8a24f_row7_col0\" class=\"data row7 col0\" >Bombozila</td>\n",
       "      <td id=\"T_8a24f_row7_col1\" class=\"data row7 col1\" >+5.6%</td>\n",
       "      <td id=\"T_8a24f_row7_col2\" class=\"data row7 col2\" >180</td>\n",
       "      <td id=\"T_8a24f_row7_col3\" class=\"data row7 col3\" >190</td>\n",
       "    </tr>\n",
       "  </tbody>\n",
       "</table>\n"
      ],
      "text/plain": [
       "<pandas.io.formats.style.Styler at 0x2b095555590>"
      ]
     },
     "metadata": {},
     "output_type": "display_data"
    },
    {
     "data": {
      "text/html": [
       "<hr>"
      ],
      "text/plain": [
       "<IPython.core.display.HTML object>"
      ]
     },
     "metadata": {},
     "output_type": "display_data"
    },
    {
     "data": {
      "text/html": [
       "<br><h2>Semana 25/10/2024</h2>"
      ],
      "text/plain": [
       "<IPython.core.display.HTML object>"
      ]
     },
     "metadata": {},
     "output_type": "display_data"
    },
    {
     "name": "stdout",
     "output_type": "stream",
     "text": [
      "Não houve variação no total de plataformas cobertas.\n"
     ]
    },
    {
     "data": {
      "text/html": [
       "<h4>Variações >5% no Catálogo de Conteúdos</h4>"
      ],
      "text/plain": [
       "<IPython.core.display.HTML object>"
      ]
     },
     "metadata": {},
     "output_type": "display_data"
    },
    {
     "data": {
      "text/html": [
       "<style type=\"text/css\">\n",
       "#T_6e62b_row0_col1 {\n",
       "  background-color: #e6f59d;\n",
       "  color: #000000;\n",
       "}\n",
       "#T_6e62b_row1_col1 {\n",
       "  background-color: #fff0a6;\n",
       "  color: #000000;\n",
       "}\n",
       "#T_6e62b_row2_col1 {\n",
       "  background-color: #fff7b2;\n",
       "  color: #000000;\n",
       "}\n",
       "</style>\n",
       "<table id=\"T_6e62b\">\n",
       "  <thead>\n",
       "    <tr>\n",
       "      <th id=\"T_6e62b_level0_col0\" class=\"col_heading level0 col0\" >Plataforma</th>\n",
       "      <th id=\"T_6e62b_level0_col1\" class=\"col_heading level0 col1\" >Variação</th>\n",
       "      <th id=\"T_6e62b_level0_col2\" class=\"col_heading level0 col2\" >Registros Anteriores</th>\n",
       "      <th id=\"T_6e62b_level0_col3\" class=\"col_heading level0 col3\" >Registros Atuais</th>\n",
       "    </tr>\n",
       "  </thead>\n",
       "  <tbody>\n",
       "    <tr>\n",
       "      <td id=\"T_6e62b_row0_col0\" class=\"data row0 col0\" >Todesplay</td>\n",
       "      <td id=\"T_6e62b_row0_col1\" class=\"data row0 col1\" >+12.7%</td>\n",
       "      <td id=\"T_6e62b_row0_col2\" class=\"data row0 col2\" >189</td>\n",
       "      <td id=\"T_6e62b_row0_col3\" class=\"data row0 col3\" >213</td>\n",
       "    </tr>\n",
       "    <tr>\n",
       "      <td id=\"T_6e62b_row1_col0\" class=\"data row1 col0\" >CultSP Play</td>\n",
       "      <td id=\"T_6e62b_row1_col1\" class=\"data row1 col1\" >-9.6%</td>\n",
       "      <td id=\"T_6e62b_row1_col2\" class=\"data row1 col2\" >1,606</td>\n",
       "      <td id=\"T_6e62b_row1_col3\" class=\"data row1 col3\" >1,452</td>\n",
       "    </tr>\n",
       "    <tr>\n",
       "      <td id=\"T_6e62b_row2_col0\" class=\"data row2 col0\" >History Hit</td>\n",
       "      <td id=\"T_6e62b_row2_col1\" class=\"data row2 col1\" >-5.0%</td>\n",
       "      <td id=\"T_6e62b_row2_col2\" class=\"data row2 col2\" >317</td>\n",
       "      <td id=\"T_6e62b_row2_col3\" class=\"data row2 col3\" >301</td>\n",
       "    </tr>\n",
       "  </tbody>\n",
       "</table>\n"
      ],
      "text/plain": [
       "<pandas.io.formats.style.Styler at 0x2b095555590>"
      ]
     },
     "metadata": {},
     "output_type": "display_data"
    },
    {
     "data": {
      "text/html": [
       "<hr>"
      ],
      "text/plain": [
       "<IPython.core.display.HTML object>"
      ]
     },
     "metadata": {},
     "output_type": "display_data"
    },
    {
     "data": {
      "text/html": [
       "<br><h2>Semana 01/11/2024</h2>"
      ],
      "text/plain": [
       "<IPython.core.display.HTML object>"
      ]
     },
     "metadata": {},
     "output_type": "display_data"
    },
    {
     "data": {
      "text/html": [
       "<h4 style='color: #2E8B57;'>Novas Plataformas Cobertas</h4>"
      ],
      "text/plain": [
       "<IPython.core.display.HTML object>"
      ]
     },
     "metadata": {},
     "output_type": "display_data"
    },
    {
     "data": {
      "text/html": [
       "<style type=\"text/css\">\n",
       "#T_4639e_row0_col1 {\n",
       "  width: 10em;\n",
       "  background: linear-gradient(90deg, #90EE90 100.0%, transparent 100.0%);\n",
       "}\n",
       "#T_4639e_row1_col1 {\n",
       "  width: 10em;\n",
       "  background: linear-gradient(90deg, #90EE90 8.0%, transparent 8.0%);\n",
       "}\n",
       "</style>\n",
       "<table id=\"T_4639e\">\n",
       "  <thead>\n",
       "    <tr>\n",
       "      <th id=\"T_4639e_level0_col0\" class=\"col_heading level0 col0\" >Plataforma</th>\n",
       "      <th id=\"T_4639e_level0_col1\" class=\"col_heading level0 col1\" >Registros</th>\n",
       "    </tr>\n",
       "  </thead>\n",
       "  <tbody>\n",
       "    <tr>\n",
       "      <td id=\"T_4639e_row0_col0\" class=\"data row0 col0\" >Darkflix+</td>\n",
       "      <td id=\"T_4639e_row0_col1\" class=\"data row0 col1\" >1,405</td>\n",
       "    </tr>\n",
       "    <tr>\n",
       "      <td id=\"T_4639e_row1_col0\" class=\"data row1 col0\" >Narrativas Indígenas do Nordeste</td>\n",
       "      <td id=\"T_4639e_row1_col1\" class=\"data row1 col1\" >112</td>\n",
       "    </tr>\n",
       "  </tbody>\n",
       "</table>\n"
      ],
      "text/plain": [
       "<pandas.io.formats.style.Styler at 0x2b095555590>"
      ]
     },
     "metadata": {},
     "output_type": "display_data"
    },
    {
     "data": {
      "text/html": [
       "<h4>Variações >5% no Catálogo de Conteúdos</h4>"
      ],
      "text/plain": [
       "<IPython.core.display.HTML object>"
      ]
     },
     "metadata": {},
     "output_type": "display_data"
    },
    {
     "data": {
      "text/html": [
       "<style type=\"text/css\">\n",
       "#T_129d2_row0_col1 {\n",
       "  background-color: #006837;\n",
       "  color: #f1f1f1;\n",
       "}\n",
       "#T_129d2_row1_col1 {\n",
       "  background-color: #fff2aa;\n",
       "  color: #000000;\n",
       "}\n",
       "#T_129d2_row2_col1 {\n",
       "  background-color: #f2faae;\n",
       "  color: #000000;\n",
       "}\n",
       "</style>\n",
       "<table id=\"T_129d2\">\n",
       "  <thead>\n",
       "    <tr>\n",
       "      <th id=\"T_129d2_level0_col0\" class=\"col_heading level0 col0\" >Plataforma</th>\n",
       "      <th id=\"T_129d2_level0_col1\" class=\"col_heading level0 col1\" >Variação</th>\n",
       "      <th id=\"T_129d2_level0_col2\" class=\"col_heading level0 col2\" >Registros Anteriores</th>\n",
       "      <th id=\"T_129d2_level0_col3\" class=\"col_heading level0 col3\" >Registros Atuais</th>\n",
       "    </tr>\n",
       "  </thead>\n",
       "  <tbody>\n",
       "    <tr>\n",
       "      <td id=\"T_129d2_row0_col0\" class=\"data row0 col0\" >SBT Videos</td>\n",
       "      <td id=\"T_129d2_row0_col1\" class=\"data row0 col1\" >+164.2%</td>\n",
       "      <td id=\"T_129d2_row0_col2\" class=\"data row0 col2\" >137</td>\n",
       "      <td id=\"T_129d2_row0_col3\" class=\"data row0 col3\" >362</td>\n",
       "    </tr>\n",
       "    <tr>\n",
       "      <td id=\"T_129d2_row1_col0\" class=\"data row1 col0\" >Todesplay</td>\n",
       "      <td id=\"T_129d2_row1_col1\" class=\"data row1 col1\" >-8.0%</td>\n",
       "      <td id=\"T_129d2_row1_col2\" class=\"data row1 col2\" >213</td>\n",
       "      <td id=\"T_129d2_row1_col3\" class=\"data row1 col3\" >196</td>\n",
       "    </tr>\n",
       "    <tr>\n",
       "      <td id=\"T_129d2_row2_col0\" class=\"data row2 col0\" >History Hit</td>\n",
       "      <td id=\"T_129d2_row2_col1\" class=\"data row2 col1\" >+6.6%</td>\n",
       "      <td id=\"T_129d2_row2_col2\" class=\"data row2 col2\" >301</td>\n",
       "      <td id=\"T_129d2_row2_col3\" class=\"data row2 col3\" >321</td>\n",
       "    </tr>\n",
       "  </tbody>\n",
       "</table>\n"
      ],
      "text/plain": [
       "<pandas.io.formats.style.Styler at 0x2b095555590>"
      ]
     },
     "metadata": {},
     "output_type": "display_data"
    },
    {
     "data": {
      "text/html": [
       "<hr>"
      ],
      "text/plain": [
       "<IPython.core.display.HTML object>"
      ]
     },
     "metadata": {},
     "output_type": "display_data"
    },
    {
     "data": {
      "text/html": [
       "<br><h2>Semana 08/11/2024</h2>"
      ],
      "text/plain": [
       "<IPython.core.display.HTML object>"
      ]
     },
     "metadata": {},
     "output_type": "display_data"
    },
    {
     "name": "stdout",
     "output_type": "stream",
     "text": [
      "Não houve variação no total de plataformas cobertas.\n"
     ]
    },
    {
     "data": {
      "text/html": [
       "<h4>Variações >5% no Catálogo de Conteúdos</h4>"
      ],
      "text/plain": [
       "<IPython.core.display.HTML object>"
      ]
     },
     "metadata": {},
     "output_type": "display_data"
    },
    {
     "data": {
      "text/html": [
       "<style type=\"text/css\">\n",
       "#T_d2b20_row0_col1 {\n",
       "  background-color: #fdc171;\n",
       "  color: #000000;\n",
       "}\n",
       "#T_d2b20_row1_col1 {\n",
       "  background-color: #bde379;\n",
       "  color: #000000;\n",
       "}\n",
       "#T_d2b20_row2_col1 {\n",
       "  background-color: #cbe982;\n",
       "  color: #000000;\n",
       "}\n",
       "#T_d2b20_row3_col1 {\n",
       "  background-color: #fff3ac;\n",
       "  color: #000000;\n",
       "}\n",
       "</style>\n",
       "<table id=\"T_d2b20\">\n",
       "  <thead>\n",
       "    <tr>\n",
       "      <th id=\"T_d2b20_level0_col0\" class=\"col_heading level0 col0\" >Plataforma</th>\n",
       "      <th id=\"T_d2b20_level0_col1\" class=\"col_heading level0 col1\" >Variação</th>\n",
       "      <th id=\"T_d2b20_level0_col2\" class=\"col_heading level0 col2\" >Registros Anteriores</th>\n",
       "      <th id=\"T_d2b20_level0_col3\" class=\"col_heading level0 col3\" >Registros Atuais</th>\n",
       "    </tr>\n",
       "  </thead>\n",
       "  <tbody>\n",
       "    <tr>\n",
       "      <td id=\"T_d2b20_row0_col0\" class=\"data row0 col0\" >Kidoodle.TV</td>\n",
       "      <td id=\"T_d2b20_row0_col1\" class=\"data row0 col1\" >-32.6%</td>\n",
       "      <td id=\"T_d2b20_row0_col2\" class=\"data row0 col2\" >1,072</td>\n",
       "      <td id=\"T_d2b20_row0_col3\" class=\"data row0 col3\" >723</td>\n",
       "    </tr>\n",
       "    <tr>\n",
       "      <td id=\"T_d2b20_row1_col0\" class=\"data row1 col0\" >Umbra</td>\n",
       "      <td id=\"T_d2b20_row1_col1\" class=\"data row1 col1\" >+30.7%</td>\n",
       "      <td id=\"T_d2b20_row1_col2\" class=\"data row1 col2\" >251</td>\n",
       "      <td id=\"T_d2b20_row1_col3\" class=\"data row1 col3\" >328</td>\n",
       "    </tr>\n",
       "    <tr>\n",
       "      <td id=\"T_d2b20_row2_col0\" class=\"data row2 col0\" >Means TV</td>\n",
       "      <td id=\"T_d2b20_row2_col1\" class=\"data row2 col1\" >+25.2%</td>\n",
       "      <td id=\"T_d2b20_row2_col2\" class=\"data row2 col2\" >1,915</td>\n",
       "      <td id=\"T_d2b20_row2_col3\" class=\"data row2 col3\" >2,397</td>\n",
       "    </tr>\n",
       "    <tr>\n",
       "      <td id=\"T_d2b20_row3_col0\" class=\"data row3 col0\" >Curta!On</td>\n",
       "      <td id=\"T_d2b20_row3_col1\" class=\"data row3 col1\" >-7.4%</td>\n",
       "      <td id=\"T_d2b20_row3_col2\" class=\"data row3 col2\" >990</td>\n",
       "      <td id=\"T_d2b20_row3_col3\" class=\"data row3 col3\" >917</td>\n",
       "    </tr>\n",
       "  </tbody>\n",
       "</table>\n"
      ],
      "text/plain": [
       "<pandas.io.formats.style.Styler at 0x2b095555590>"
      ]
     },
     "metadata": {},
     "output_type": "display_data"
    },
    {
     "data": {
      "text/html": [
       "<hr>"
      ],
      "text/plain": [
       "<IPython.core.display.HTML object>"
      ]
     },
     "metadata": {},
     "output_type": "display_data"
    },
    {
     "data": {
      "text/html": [
       "<br><h2>Semana 15/11/2024</h2>"
      ],
      "text/plain": [
       "<IPython.core.display.HTML object>"
      ]
     },
     "metadata": {},
     "output_type": "display_data"
    },
    {
     "data": {
      "text/html": [
       "<h4 style='color: #2E8B57;'>Novas Plataformas Cobertas</h4>"
      ],
      "text/plain": [
       "<IPython.core.display.HTML object>"
      ]
     },
     "metadata": {},
     "output_type": "display_data"
    },
    {
     "data": {
      "text/html": [
       "<style type=\"text/css\">\n",
       "#T_d81fb_row0_col1 {\n",
       "  width: 10em;\n",
       "  background: linear-gradient(90deg, #90EE90 100.0%, transparent 100.0%);\n",
       "}\n",
       "#T_d81fb_row1_col1 {\n",
       "  width: 10em;\n",
       "  background: linear-gradient(90deg, #90EE90 7.5%, transparent 7.5%);\n",
       "}\n",
       "</style>\n",
       "<table id=\"T_d81fb\">\n",
       "  <thead>\n",
       "    <tr>\n",
       "      <th id=\"T_d81fb_level0_col0\" class=\"col_heading level0 col0\" >Plataforma</th>\n",
       "      <th id=\"T_d81fb_level0_col1\" class=\"col_heading level0 col1\" >Registros</th>\n",
       "    </tr>\n",
       "  </thead>\n",
       "  <tbody>\n",
       "    <tr>\n",
       "      <td id=\"T_d81fb_row0_col0\" class=\"data row0 col0\" >Reserva Imovision</td>\n",
       "      <td id=\"T_d81fb_row0_col1\" class=\"data row0 col1\" >506</td>\n",
       "    </tr>\n",
       "    <tr>\n",
       "      <td id=\"T_d81fb_row1_col0\" class=\"data row1 col0\" >Sesc Digital</td>\n",
       "      <td id=\"T_d81fb_row1_col1\" class=\"data row1 col1\" >38</td>\n",
       "    </tr>\n",
       "  </tbody>\n",
       "</table>\n"
      ],
      "text/plain": [
       "<pandas.io.formats.style.Styler at 0x2b095555590>"
      ]
     },
     "metadata": {},
     "output_type": "display_data"
    },
    {
     "data": {
      "text/html": [
       "<h4>Variações >5% no Catálogo de Conteúdos</h4>"
      ],
      "text/plain": [
       "<IPython.core.display.HTML object>"
      ]
     },
     "metadata": {},
     "output_type": "display_data"
    },
    {
     "data": {
      "text/html": [
       "<style type=\"text/css\">\n",
       "#T_4cc0b_row0_col1 {\n",
       "  background-color: #f1f9ac;\n",
       "  color: #000000;\n",
       "}\n",
       "#T_4cc0b_row1_col1 {\n",
       "  background-color: #fff3ac;\n",
       "  color: #000000;\n",
       "}\n",
       "#T_4cc0b_row2_col1 {\n",
       "  background-color: #f2faae;\n",
       "  color: #000000;\n",
       "}\n",
       "#T_4cc0b_row3_col1 {\n",
       "  background-color: #f4fab0;\n",
       "  color: #000000;\n",
       "}\n",
       "</style>\n",
       "<table id=\"T_4cc0b\">\n",
       "  <thead>\n",
       "    <tr>\n",
       "      <th id=\"T_4cc0b_level0_col0\" class=\"col_heading level0 col0\" >Plataforma</th>\n",
       "      <th id=\"T_4cc0b_level0_col1\" class=\"col_heading level0 col1\" >Variação</th>\n",
       "      <th id=\"T_4cc0b_level0_col2\" class=\"col_heading level0 col2\" >Registros Anteriores</th>\n",
       "      <th id=\"T_4cc0b_level0_col3\" class=\"col_heading level0 col3\" >Registros Atuais</th>\n",
       "    </tr>\n",
       "  </thead>\n",
       "  <tbody>\n",
       "    <tr>\n",
       "      <td id=\"T_4cc0b_row0_col0\" class=\"data row0 col0\" >Teatrix</td>\n",
       "      <td id=\"T_4cc0b_row0_col1\" class=\"data row0 col1\" >+7.3%</td>\n",
       "      <td id=\"T_4cc0b_row0_col2\" class=\"data row0 col2\" >327</td>\n",
       "      <td id=\"T_4cc0b_row0_col3\" class=\"data row0 col3\" >351</td>\n",
       "    </tr>\n",
       "    <tr>\n",
       "      <td id=\"T_4cc0b_row1_col0\" class=\"data row1 col0\" >WOW Presents Plus</td>\n",
       "      <td id=\"T_4cc0b_row1_col1\" class=\"data row1 col1\" >-7.2%</td>\n",
       "      <td id=\"T_4cc0b_row1_col2\" class=\"data row1 col2\" >278</td>\n",
       "      <td id=\"T_4cc0b_row1_col3\" class=\"data row1 col3\" >258</td>\n",
       "    </tr>\n",
       "    <tr>\n",
       "      <td id=\"T_4cc0b_row2_col0\" class=\"data row2 col0\" >Spcine Play</td>\n",
       "      <td id=\"T_4cc0b_row2_col1\" class=\"data row2 col1\" >+6.8%</td>\n",
       "      <td id=\"T_4cc0b_row2_col2\" class=\"data row2 col2\" >265</td>\n",
       "      <td id=\"T_4cc0b_row2_col3\" class=\"data row2 col3\" >283</td>\n",
       "    </tr>\n",
       "    <tr>\n",
       "      <td id=\"T_4cc0b_row3_col0\" class=\"data row3 col0\" >Todesplay</td>\n",
       "      <td id=\"T_4cc0b_row3_col1\" class=\"data row3 col1\" >+5.7%</td>\n",
       "      <td id=\"T_4cc0b_row3_col2\" class=\"data row3 col2\" >192</td>\n",
       "      <td id=\"T_4cc0b_row3_col3\" class=\"data row3 col3\" >203</td>\n",
       "    </tr>\n",
       "  </tbody>\n",
       "</table>\n"
      ],
      "text/plain": [
       "<pandas.io.formats.style.Styler at 0x2b095555590>"
      ]
     },
     "metadata": {},
     "output_type": "display_data"
    },
    {
     "data": {
      "text/html": [
       "<hr>"
      ],
      "text/plain": [
       "<IPython.core.display.HTML object>"
      ]
     },
     "metadata": {},
     "output_type": "display_data"
    },
    {
     "data": {
      "text/html": [
       "<br><h2>Semana 21/11/2024</h2>"
      ],
      "text/plain": [
       "<IPython.core.display.HTML object>"
      ]
     },
     "metadata": {},
     "output_type": "display_data"
    },
    {
     "name": "stdout",
     "output_type": "stream",
     "text": [
      "Não houve variação no total de plataformas cobertas.\n"
     ]
    },
    {
     "data": {
      "text/html": [
       "<h4>Variações >5% no Catálogo de Conteúdos</h4>"
      ],
      "text/plain": [
       "<IPython.core.display.HTML object>"
      ]
     },
     "metadata": {},
     "output_type": "display_data"
    },
    {
     "data": {
      "text/html": [
       "<style type=\"text/css\">\n",
       "#T_0d21f_row0_col1 {\n",
       "  background-color: #fff1a8;\n",
       "  color: #000000;\n",
       "}\n",
       "</style>\n",
       "<table id=\"T_0d21f\">\n",
       "  <thead>\n",
       "    <tr>\n",
       "      <th id=\"T_0d21f_level0_col0\" class=\"col_heading level0 col0\" >Plataforma</th>\n",
       "      <th id=\"T_0d21f_level0_col1\" class=\"col_heading level0 col1\" >Variação</th>\n",
       "      <th id=\"T_0d21f_level0_col2\" class=\"col_heading level0 col2\" >Registros Anteriores</th>\n",
       "      <th id=\"T_0d21f_level0_col3\" class=\"col_heading level0 col3\" >Registros Atuais</th>\n",
       "    </tr>\n",
       "  </thead>\n",
       "  <tbody>\n",
       "    <tr>\n",
       "      <td id=\"T_0d21f_row0_col0\" class=\"data row0 col0\" >Cine Humberto Mauro Mais</td>\n",
       "      <td id=\"T_0d21f_row0_col1\" class=\"data row0 col1\" >-9.1%</td>\n",
       "      <td id=\"T_0d21f_row0_col2\" class=\"data row0 col2\" >175</td>\n",
       "      <td id=\"T_0d21f_row0_col3\" class=\"data row0 col3\" >159</td>\n",
       "    </tr>\n",
       "  </tbody>\n",
       "</table>\n"
      ],
      "text/plain": [
       "<pandas.io.formats.style.Styler at 0x2b095555590>"
      ]
     },
     "metadata": {},
     "output_type": "display_data"
    },
    {
     "data": {
      "text/html": [
       "<hr>"
      ],
      "text/plain": [
       "<IPython.core.display.HTML object>"
      ]
     },
     "metadata": {},
     "output_type": "display_data"
    },
    {
     "data": {
      "text/html": [
       "<br><h2>Semana 06/12/2024</h2>"
      ],
      "text/plain": [
       "<IPython.core.display.HTML object>"
      ]
     },
     "metadata": {},
     "output_type": "display_data"
    },
    {
     "data": {
      "text/html": [
       "<h4 style='color: #2E8B57;'>Novas Plataformas Cobertas</h4>"
      ],
      "text/plain": [
       "<IPython.core.display.HTML object>"
      ]
     },
     "metadata": {},
     "output_type": "display_data"
    },
    {
     "data": {
      "text/html": [
       "<style type=\"text/css\">\n",
       "#T_96ec9_row0_col1 {\n",
       "  width: 10em;\n",
       "  background: linear-gradient(90deg, #90EE90 100.0%, transparent 100.0%);\n",
       "}\n",
       "</style>\n",
       "<table id=\"T_96ec9\">\n",
       "  <thead>\n",
       "    <tr>\n",
       "      <th id=\"T_96ec9_level0_col0\" class=\"col_heading level0 col0\" >Plataforma</th>\n",
       "      <th id=\"T_96ec9_level0_col1\" class=\"col_heading level0 col1\" >Registros</th>\n",
       "    </tr>\n",
       "  </thead>\n",
       "  <tbody>\n",
       "    <tr>\n",
       "      <td id=\"T_96ec9_row0_col0\" class=\"data row0 col0\" >AmazôniaFLIX</td>\n",
       "      <td id=\"T_96ec9_row0_col1\" class=\"data row0 col1\" >133</td>\n",
       "    </tr>\n",
       "  </tbody>\n",
       "</table>\n"
      ],
      "text/plain": [
       "<pandas.io.formats.style.Styler at 0x2b095555590>"
      ]
     },
     "metadata": {},
     "output_type": "display_data"
    },
    {
     "data": {
      "text/html": [
       "<h4>Variações >5% no Catálogo de Conteúdos</h4>"
      ],
      "text/plain": [
       "<IPython.core.display.HTML object>"
      ]
     },
     "metadata": {},
     "output_type": "display_data"
    },
    {
     "data": {
      "text/html": [
       "<style type=\"text/css\">\n",
       "#T_b9c8e_row0_col1 {\n",
       "  background-color: #fed27f;\n",
       "  color: #000000;\n",
       "}\n",
       "#T_b9c8e_row1_col1 {\n",
       "  background-color: #d3ec87;\n",
       "  color: #000000;\n",
       "}\n",
       "#T_b9c8e_row2_col1 {\n",
       "  background-color: #f1f9ac;\n",
       "  color: #000000;\n",
       "}\n",
       "#T_b9c8e_row3_col1 {\n",
       "  background-color: #fff6b0;\n",
       "  color: #000000;\n",
       "}\n",
       "#T_b9c8e_row4_col1 {\n",
       "  background-color: #f4fab0;\n",
       "  color: #000000;\n",
       "}\n",
       "</style>\n",
       "<table id=\"T_b9c8e\">\n",
       "  <thead>\n",
       "    <tr>\n",
       "      <th id=\"T_b9c8e_level0_col0\" class=\"col_heading level0 col0\" >Plataforma</th>\n",
       "      <th id=\"T_b9c8e_level0_col1\" class=\"col_heading level0 col1\" >Variação</th>\n",
       "      <th id=\"T_b9c8e_level0_col2\" class=\"col_heading level0 col2\" >Registros Anteriores</th>\n",
       "      <th id=\"T_b9c8e_level0_col3\" class=\"col_heading level0 col3\" >Registros Atuais</th>\n",
       "    </tr>\n",
       "  </thead>\n",
       "  <tbody>\n",
       "    <tr>\n",
       "      <td id=\"T_b9c8e_row0_col0\" class=\"data row0 col0\" >Vivo Play</td>\n",
       "      <td id=\"T_b9c8e_row0_col1\" class=\"data row0 col1\" >-25.7%</td>\n",
       "      <td id=\"T_b9c8e_row0_col2\" class=\"data row0 col2\" >24,380</td>\n",
       "      <td id=\"T_b9c8e_row0_col3\" class=\"data row0 col3\" >18,109</td>\n",
       "    </tr>\n",
       "    <tr>\n",
       "      <td id=\"T_b9c8e_row1_col0\" class=\"data row1 col0\" >Cine Humberto Mauro Mais</td>\n",
       "      <td id=\"T_b9c8e_row1_col1\" class=\"data row1 col1\" >+22.0%</td>\n",
       "      <td id=\"T_b9c8e_row1_col2\" class=\"data row1 col2\" >159</td>\n",
       "      <td id=\"T_b9c8e_row1_col3\" class=\"data row1 col3\" >194</td>\n",
       "    </tr>\n",
       "    <tr>\n",
       "      <td id=\"T_b9c8e_row2_col0\" class=\"data row2 col0\" >WOW Presents Plus</td>\n",
       "      <td id=\"T_b9c8e_row2_col1\" class=\"data row2 col1\" >+7.8%</td>\n",
       "      <td id=\"T_b9c8e_row2_col2\" class=\"data row2 col2\" >258</td>\n",
       "      <td id=\"T_b9c8e_row2_col3\" class=\"data row2 col3\" >278</td>\n",
       "    </tr>\n",
       "    <tr>\n",
       "      <td id=\"T_b9c8e_row3_col0\" class=\"data row3 col0\" >Discovery+</td>\n",
       "      <td id=\"T_b9c8e_row3_col1\" class=\"data row3 col1\" >-6.0%</td>\n",
       "      <td id=\"T_b9c8e_row3_col2\" class=\"data row3 col2\" >1,559</td>\n",
       "      <td id=\"T_b9c8e_row3_col3\" class=\"data row3 col3\" >1,465</td>\n",
       "    </tr>\n",
       "    <tr>\n",
       "      <td id=\"T_b9c8e_row4_col0\" class=\"data row4 col0\" >Todesplay</td>\n",
       "      <td id=\"T_b9c8e_row4_col1\" class=\"data row4 col1\" >+5.9%</td>\n",
       "      <td id=\"T_b9c8e_row4_col2\" class=\"data row4 col2\" >203</td>\n",
       "      <td id=\"T_b9c8e_row4_col3\" class=\"data row4 col3\" >215</td>\n",
       "    </tr>\n",
       "  </tbody>\n",
       "</table>\n"
      ],
      "text/plain": [
       "<pandas.io.formats.style.Styler at 0x2b095555590>"
      ]
     },
     "metadata": {},
     "output_type": "display_data"
    },
    {
     "data": {
      "text/html": [
       "<hr>"
      ],
      "text/plain": [
       "<IPython.core.display.HTML object>"
      ]
     },
     "metadata": {},
     "output_type": "display_data"
    },
    {
     "data": {
      "text/html": [
       "<br><h2>Semana 13/12/2024</h2>"
      ],
      "text/plain": [
       "<IPython.core.display.HTML object>"
      ]
     },
     "metadata": {},
     "output_type": "display_data"
    },
    {
     "name": "stdout",
     "output_type": "stream",
     "text": [
      "Não houve variação no total de plataformas cobertas.\n"
     ]
    },
    {
     "data": {
      "text/html": [
       "<h4>Variações >5% no Catálogo de Conteúdos</h4>"
      ],
      "text/plain": [
       "<IPython.core.display.HTML object>"
      ]
     },
     "metadata": {},
     "output_type": "display_data"
    },
    {
     "data": {
      "text/html": [
       "<style type=\"text/css\">\n",
       "#T_bfadb_row0_col1 {\n",
       "  background-color: #006837;\n",
       "  color: #f1f1f1;\n",
       "}\n",
       "#T_bfadb_row1_col1 {\n",
       "  background-color: #82c966;\n",
       "  color: #000000;\n",
       "}\n",
       "#T_bfadb_row2_col1 {\n",
       "  background-color: #e2f397;\n",
       "  color: #000000;\n",
       "}\n",
       "#T_bfadb_row3_col1 {\n",
       "  background-color: #feeda1;\n",
       "  color: #000000;\n",
       "}\n",
       "#T_bfadb_row4_col1 {\n",
       "  background-color: #fff0a6;\n",
       "  color: #000000;\n",
       "}\n",
       "#T_bfadb_row5_col1 {\n",
       "  background-color: #fff2aa;\n",
       "  color: #000000;\n",
       "}\n",
       "#T_bfadb_row6_col1, #T_bfadb_row7_col1 {\n",
       "  background-color: #f5fbb2;\n",
       "  color: #000000;\n",
       "}\n",
       "</style>\n",
       "<table id=\"T_bfadb\">\n",
       "  <thead>\n",
       "    <tr>\n",
       "      <th id=\"T_bfadb_level0_col0\" class=\"col_heading level0 col0\" >Plataforma</th>\n",
       "      <th id=\"T_bfadb_level0_col1\" class=\"col_heading level0 col1\" >Variação</th>\n",
       "      <th id=\"T_bfadb_level0_col2\" class=\"col_heading level0 col2\" >Registros Anteriores</th>\n",
       "      <th id=\"T_bfadb_level0_col3\" class=\"col_heading level0 col3\" >Registros Atuais</th>\n",
       "    </tr>\n",
       "  </thead>\n",
       "  <tbody>\n",
       "    <tr>\n",
       "      <td id=\"T_bfadb_row0_col0\" class=\"data row0 col0\" >Filmbox+</td>\n",
       "      <td id=\"T_bfadb_row0_col1\" class=\"data row0 col1\" >+163.3%</td>\n",
       "      <td id=\"T_bfadb_row0_col2\" class=\"data row0 col2\" >425</td>\n",
       "      <td id=\"T_bfadb_row0_col3\" class=\"data row0 col3\" >1,119</td>\n",
       "    </tr>\n",
       "    <tr>\n",
       "      <td id=\"T_bfadb_row1_col0\" class=\"data row1 col0\" >Reserva Imovision</td>\n",
       "      <td id=\"T_bfadb_row1_col1\" class=\"data row1 col1\" >+50.8%</td>\n",
       "      <td id=\"T_bfadb_row1_col2\" class=\"data row1 col2\" >510</td>\n",
       "      <td id=\"T_bfadb_row1_col3\" class=\"data row1 col3\" >769</td>\n",
       "    </tr>\n",
       "    <tr>\n",
       "      <td id=\"T_bfadb_row2_col0\" class=\"data row2 col0\" >Canela.TV</td>\n",
       "      <td id=\"T_bfadb_row2_col1\" class=\"data row2 col1\" >+15.3%</td>\n",
       "      <td id=\"T_bfadb_row2_col2\" class=\"data row2 col2\" >2,717</td>\n",
       "      <td id=\"T_bfadb_row2_col3\" class=\"data row2 col3\" >3,132</td>\n",
       "    </tr>\n",
       "    <tr>\n",
       "      <td id=\"T_bfadb_row3_col0\" class=\"data row3 col0\" >Todesplay</td>\n",
       "      <td id=\"T_bfadb_row3_col1\" class=\"data row3 col1\" >-11.6%</td>\n",
       "      <td id=\"T_bfadb_row3_col2\" class=\"data row3 col2\" >215</td>\n",
       "      <td id=\"T_bfadb_row3_col3\" class=\"data row3 col3\" >190</td>\n",
       "    </tr>\n",
       "    <tr>\n",
       "      <td id=\"T_bfadb_row4_col0\" class=\"data row4 col0\" >Cine Humberto Mauro Mais</td>\n",
       "      <td id=\"T_bfadb_row4_col1\" class=\"data row4 col1\" >-9.8%</td>\n",
       "      <td id=\"T_bfadb_row4_col2\" class=\"data row4 col2\" >194</td>\n",
       "      <td id=\"T_bfadb_row4_col3\" class=\"data row4 col3\" >175</td>\n",
       "    </tr>\n",
       "    <tr>\n",
       "      <td id=\"T_bfadb_row5_col0\" class=\"data row5 col0\" >Itaú Cultural Play</td>\n",
       "      <td id=\"T_bfadb_row5_col1\" class=\"data row5 col1\" >-8.5%</td>\n",
       "      <td id=\"T_bfadb_row5_col2\" class=\"data row5 col2\" >211</td>\n",
       "      <td id=\"T_bfadb_row5_col3\" class=\"data row5 col3\" >193</td>\n",
       "    </tr>\n",
       "    <tr>\n",
       "      <td id=\"T_bfadb_row6_col0\" class=\"data row6 col0\" >Marquee TV</td>\n",
       "      <td id=\"T_bfadb_row6_col1\" class=\"data row6 col1\" >+5.1%</td>\n",
       "      <td id=\"T_bfadb_row6_col2\" class=\"data row6 col2\" >474</td>\n",
       "      <td id=\"T_bfadb_row6_col3\" class=\"data row6 col3\" >498</td>\n",
       "    </tr>\n",
       "    <tr>\n",
       "      <td id=\"T_bfadb_row7_col0\" class=\"data row7 col0\" >TV Brasil Play</td>\n",
       "      <td id=\"T_bfadb_row7_col1\" class=\"data row7 col1\" >+5.0%</td>\n",
       "      <td id=\"T_bfadb_row7_col2\" class=\"data row7 col2\" >259</td>\n",
       "      <td id=\"T_bfadb_row7_col3\" class=\"data row7 col3\" >272</td>\n",
       "    </tr>\n",
       "  </tbody>\n",
       "</table>\n"
      ],
      "text/plain": [
       "<pandas.io.formats.style.Styler at 0x2b095555590>"
      ]
     },
     "metadata": {},
     "output_type": "display_data"
    },
    {
     "data": {
      "text/html": [
       "<hr>"
      ],
      "text/plain": [
       "<IPython.core.display.HTML object>"
      ]
     },
     "metadata": {},
     "output_type": "display_data"
    },
    {
     "data": {
      "text/html": [
       "<br><h2>Semana 20/12/2024</h2>"
      ],
      "text/plain": [
       "<IPython.core.display.HTML object>"
      ]
     },
     "metadata": {},
     "output_type": "display_data"
    },
    {
     "name": "stdout",
     "output_type": "stream",
     "text": [
      "Não houve variação no total de plataformas cobertas.\n"
     ]
    },
    {
     "data": {
      "text/html": [
       "<h4>Variações >5% no Catálogo de Conteúdos</h4>"
      ],
      "text/plain": [
       "<IPython.core.display.HTML object>"
      ]
     },
     "metadata": {},
     "output_type": "display_data"
    },
    {
     "data": {
      "text/html": [
       "<style type=\"text/css\">\n",
       "#T_301cf_row0_col1 {\n",
       "  background-color: #e5f49b;\n",
       "  color: #000000;\n",
       "}\n",
       "#T_301cf_row1_col1 {\n",
       "  background-color: #e8f59f;\n",
       "  color: #000000;\n",
       "}\n",
       "#T_301cf_row2_col1 {\n",
       "  background-color: #fff5ae;\n",
       "  color: #000000;\n",
       "}\n",
       "#T_301cf_row3_col1 {\n",
       "  background-color: #fff7b2;\n",
       "  color: #000000;\n",
       "}\n",
       "</style>\n",
       "<table id=\"T_301cf\">\n",
       "  <thead>\n",
       "    <tr>\n",
       "      <th id=\"T_301cf_level0_col0\" class=\"col_heading level0 col0\" >Plataforma</th>\n",
       "      <th id=\"T_301cf_level0_col1\" class=\"col_heading level0 col1\" >Variação</th>\n",
       "      <th id=\"T_301cf_level0_col2\" class=\"col_heading level0 col2\" >Registros Anteriores</th>\n",
       "      <th id=\"T_301cf_level0_col3\" class=\"col_heading level0 col3\" >Registros Atuais</th>\n",
       "    </tr>\n",
       "  </thead>\n",
       "  <tbody>\n",
       "    <tr>\n",
       "      <td id=\"T_301cf_row0_col0\" class=\"data row0 col0\" >Itaú Cultural Play</td>\n",
       "      <td id=\"T_301cf_row0_col1\" class=\"data row0 col1\" >+14.0%</td>\n",
       "      <td id=\"T_301cf_row0_col2\" class=\"data row0 col2\" >193</td>\n",
       "      <td id=\"T_301cf_row0_col3\" class=\"data row0 col3\" >220</td>\n",
       "    </tr>\n",
       "    <tr>\n",
       "      <td id=\"T_301cf_row1_col0\" class=\"data row1 col0\" >Spcine Play</td>\n",
       "      <td id=\"T_301cf_row1_col1\" class=\"data row1 col1\" >+12.2%</td>\n",
       "      <td id=\"T_301cf_row1_col2\" class=\"data row1 col2\" >279</td>\n",
       "      <td id=\"T_301cf_row1_col3\" class=\"data row1 col3\" >313</td>\n",
       "    </tr>\n",
       "    <tr>\n",
       "      <td id=\"T_301cf_row2_col0\" class=\"data row2 col0\" >Arte1 Play</td>\n",
       "      <td id=\"T_301cf_row2_col1\" class=\"data row2 col1\" >-6.9%</td>\n",
       "      <td id=\"T_301cf_row2_col2\" class=\"data row2 col2\" >130</td>\n",
       "      <td id=\"T_301cf_row2_col3\" class=\"data row2 col3\" >121</td>\n",
       "    </tr>\n",
       "    <tr>\n",
       "      <td id=\"T_301cf_row3_col0\" class=\"data row3 col0\" >Discovery+</td>\n",
       "      <td id=\"T_301cf_row3_col1\" class=\"data row3 col1\" >-5.3%</td>\n",
       "      <td id=\"T_301cf_row3_col2\" class=\"data row3 col2\" >1,409</td>\n",
       "      <td id=\"T_301cf_row3_col3\" class=\"data row3 col3\" >1,334</td>\n",
       "    </tr>\n",
       "  </tbody>\n",
       "</table>\n"
      ],
      "text/plain": [
       "<pandas.io.formats.style.Styler at 0x2b095555590>"
      ]
     },
     "metadata": {},
     "output_type": "display_data"
    },
    {
     "data": {
      "text/html": [
       "<hr>"
      ],
      "text/plain": [
       "<IPython.core.display.HTML object>"
      ]
     },
     "metadata": {},
     "output_type": "display_data"
    },
    {
     "data": {
      "text/html": [
       "<br><h2>Semana 26/12/2024</h2>"
      ],
      "text/plain": [
       "<IPython.core.display.HTML object>"
      ]
     },
     "metadata": {},
     "output_type": "display_data"
    },
    {
     "name": "stdout",
     "output_type": "stream",
     "text": [
      "Não houve variação no total de plataformas cobertas.\n"
     ]
    },
    {
     "data": {
      "text/html": [
       "<h4>Variações >5% no Catálogo de Conteúdos</h4>"
      ],
      "text/plain": [
       "<IPython.core.display.HTML object>"
      ]
     },
     "metadata": {},
     "output_type": "display_data"
    },
    {
     "data": {
      "text/html": [
       "<style type=\"text/css\">\n",
       "#T_01311_row0_col1 {\n",
       "  background-color: #fff1a8;\n",
       "  color: #000000;\n",
       "}\n",
       "#T_01311_row1_col1 {\n",
       "  background-color: #fff7b2;\n",
       "  color: #000000;\n",
       "}\n",
       "</style>\n",
       "<table id=\"T_01311\">\n",
       "  <thead>\n",
       "    <tr>\n",
       "      <th id=\"T_01311_level0_col0\" class=\"col_heading level0 col0\" >Plataforma</th>\n",
       "      <th id=\"T_01311_level0_col1\" class=\"col_heading level0 col1\" >Variação</th>\n",
       "      <th id=\"T_01311_level0_col2\" class=\"col_heading level0 col2\" >Registros Anteriores</th>\n",
       "      <th id=\"T_01311_level0_col3\" class=\"col_heading level0 col3\" >Registros Atuais</th>\n",
       "    </tr>\n",
       "  </thead>\n",
       "  <tbody>\n",
       "    <tr>\n",
       "      <td id=\"T_01311_row0_col0\" class=\"data row0 col0\" >Spcine Play</td>\n",
       "      <td id=\"T_01311_row0_col1\" class=\"data row0 col1\" >-9.3%</td>\n",
       "      <td id=\"T_01311_row0_col2\" class=\"data row0 col2\" >313</td>\n",
       "      <td id=\"T_01311_row0_col3\" class=\"data row0 col3\" >284</td>\n",
       "    </tr>\n",
       "    <tr>\n",
       "      <td id=\"T_01311_row1_col0\" class=\"data row1 col0\" >Discovery+</td>\n",
       "      <td id=\"T_01311_row1_col1\" class=\"data row1 col1\" >-5.2%</td>\n",
       "      <td id=\"T_01311_row1_col2\" class=\"data row1 col2\" >1,334</td>\n",
       "      <td id=\"T_01311_row1_col3\" class=\"data row1 col3\" >1,265</td>\n",
       "    </tr>\n",
       "  </tbody>\n",
       "</table>\n"
      ],
      "text/plain": [
       "<pandas.io.formats.style.Styler at 0x2b095555590>"
      ]
     },
     "metadata": {},
     "output_type": "display_data"
    },
    {
     "data": {
      "text/html": [
       "<hr>"
      ],
      "text/plain": [
       "<IPython.core.display.HTML object>"
      ]
     },
     "metadata": {},
     "output_type": "display_data"
    },
    {
     "data": {
      "text/html": [
       "<br><h2>Semana 02/01/2025</h2>"
      ],
      "text/plain": [
       "<IPython.core.display.HTML object>"
      ]
     },
     "metadata": {},
     "output_type": "display_data"
    },
    {
     "name": "stdout",
     "output_type": "stream",
     "text": [
      "Não houve variação no total de plataformas cobertas.\n"
     ]
    },
    {
     "data": {
      "text/html": [
       "<h4>Variações >5% no Catálogo de Conteúdos</h4>"
      ],
      "text/plain": [
       "<IPython.core.display.HTML object>"
      ]
     },
     "metadata": {},
     "output_type": "display_data"
    },
    {
     "data": {
      "text/html": [
       "<style type=\"text/css\">\n",
       "#T_a0f3d_row0_col1 {\n",
       "  background-color: #d7ee8a;\n",
       "  color: #000000;\n",
       "}\n",
       "#T_a0f3d_row1_col1, #T_a0f3d_row2_col1 {\n",
       "  background-color: #eff8aa;\n",
       "  color: #000000;\n",
       "}\n",
       "#T_a0f3d_row3_col1 {\n",
       "  background-color: #f1f9ac;\n",
       "  color: #000000;\n",
       "}\n",
       "#T_a0f3d_row4_col1 {\n",
       "  background-color: #fff3ac;\n",
       "  color: #000000;\n",
       "}\n",
       "#T_a0f3d_row5_col1 {\n",
       "  background-color: #fff5ae;\n",
       "  color: #000000;\n",
       "}\n",
       "#T_a0f3d_row6_col1 {\n",
       "  background-color: #fff7b2;\n",
       "  color: #000000;\n",
       "}\n",
       "</style>\n",
       "<table id=\"T_a0f3d\">\n",
       "  <thead>\n",
       "    <tr>\n",
       "      <th id=\"T_a0f3d_level0_col0\" class=\"col_heading level0 col0\" >Plataforma</th>\n",
       "      <th id=\"T_a0f3d_level0_col1\" class=\"col_heading level0 col1\" >Variação</th>\n",
       "      <th id=\"T_a0f3d_level0_col2\" class=\"col_heading level0 col2\" >Registros Anteriores</th>\n",
       "      <th id=\"T_a0f3d_level0_col3\" class=\"col_heading level0 col3\" >Registros Atuais</th>\n",
       "    </tr>\n",
       "  </thead>\n",
       "  <tbody>\n",
       "    <tr>\n",
       "      <td id=\"T_a0f3d_row0_col0\" class=\"data row0 col0\" >Sesc Digital</td>\n",
       "      <td id=\"T_a0f3d_row0_col1\" class=\"data row0 col1\" >+21.1%</td>\n",
       "      <td id=\"T_a0f3d_row0_col2\" class=\"data row0 col2\" >38</td>\n",
       "      <td id=\"T_a0f3d_row0_col3\" class=\"data row0 col3\" >46</td>\n",
       "    </tr>\n",
       "    <tr>\n",
       "      <td id=\"T_a0f3d_row1_col0\" class=\"data row1 col0\" >Todesplay</td>\n",
       "      <td id=\"T_a0f3d_row1_col1\" class=\"data row1 col1\" >+8.3%</td>\n",
       "      <td id=\"T_a0f3d_row1_col2\" class=\"data row1 col2\" >192</td>\n",
       "      <td id=\"T_a0f3d_row1_col3\" class=\"data row1 col3\" >208</td>\n",
       "    </tr>\n",
       "    <tr>\n",
       "      <td id=\"T_a0f3d_row2_col0\" class=\"data row2 col0\" >CultSP Play</td>\n",
       "      <td id=\"T_a0f3d_row2_col1\" class=\"data row2 col1\" >+8.3%</td>\n",
       "      <td id=\"T_a0f3d_row2_col2\" class=\"data row2 col2\" >1,446</td>\n",
       "      <td id=\"T_a0f3d_row2_col3\" class=\"data row2 col3\" >1,566</td>\n",
       "    </tr>\n",
       "    <tr>\n",
       "      <td id=\"T_a0f3d_row3_col0\" class=\"data row3 col0\" >MINASplay</td>\n",
       "      <td id=\"T_a0f3d_row3_col1\" class=\"data row3 col1\" >+7.4%</td>\n",
       "      <td id=\"T_a0f3d_row3_col2\" class=\"data row3 col2\" >175</td>\n",
       "      <td id=\"T_a0f3d_row3_col3\" class=\"data row3 col3\" >188</td>\n",
       "    </tr>\n",
       "    <tr>\n",
       "      <td id=\"T_a0f3d_row4_col0\" class=\"data row4 col0\" >Retina Latina</td>\n",
       "      <td id=\"T_a0f3d_row4_col1\" class=\"data row4 col1\" >-7.1%</td>\n",
       "      <td id=\"T_a0f3d_row4_col2\" class=\"data row4 col2\" >322</td>\n",
       "      <td id=\"T_a0f3d_row4_col3\" class=\"data row4 col3\" >299</td>\n",
       "    </tr>\n",
       "    <tr>\n",
       "      <td id=\"T_a0f3d_row5_col0\" class=\"data row5 col0\" >Demand Africa</td>\n",
       "      <td id=\"T_a0f3d_row5_col1\" class=\"data row5 col1\" >-6.5%</td>\n",
       "      <td id=\"T_a0f3d_row5_col2\" class=\"data row5 col2\" >355</td>\n",
       "      <td id=\"T_a0f3d_row5_col3\" class=\"data row5 col3\" >332</td>\n",
       "    </tr>\n",
       "    <tr>\n",
       "      <td id=\"T_a0f3d_row6_col0\" class=\"data row6 col0\" >Itaú Cultural Play</td>\n",
       "      <td id=\"T_a0f3d_row6_col1\" class=\"data row6 col1\" >-5.0%</td>\n",
       "      <td id=\"T_a0f3d_row6_col2\" class=\"data row6 col2\" >219</td>\n",
       "      <td id=\"T_a0f3d_row6_col3\" class=\"data row6 col3\" >208</td>\n",
       "    </tr>\n",
       "  </tbody>\n",
       "</table>\n"
      ],
      "text/plain": [
       "<pandas.io.formats.style.Styler at 0x2b095555590>"
      ]
     },
     "metadata": {},
     "output_type": "display_data"
    },
    {
     "data": {
      "text/html": [
       "<hr>"
      ],
      "text/plain": [
       "<IPython.core.display.HTML object>"
      ]
     },
     "metadata": {},
     "output_type": "display_data"
    },
    {
     "data": {
      "text/html": [
       "<br><h2>Semana 17/01/2025</h2>"
      ],
      "text/plain": [
       "<IPython.core.display.HTML object>"
      ]
     },
     "metadata": {},
     "output_type": "display_data"
    },
    {
     "name": "stdout",
     "output_type": "stream",
     "text": [
      "Não houve variação no total de plataformas cobertas.\n"
     ]
    },
    {
     "data": {
      "text/html": [
       "<h4>Variações >5% no Catálogo de Conteúdos</h4>"
      ],
      "text/plain": [
       "<IPython.core.display.HTML object>"
      ]
     },
     "metadata": {},
     "output_type": "display_data"
    },
    {
     "data": {
      "text/html": [
       "<style type=\"text/css\">\n",
       "#T_c3085_row0_col1 {\n",
       "  background-color: #fece7c;\n",
       "  color: #000000;\n",
       "}\n",
       "#T_c3085_row1_col1 {\n",
       "  background-color: #fee797;\n",
       "  color: #000000;\n",
       "}\n",
       "#T_c3085_row2_col1 {\n",
       "  background-color: #f1f9ac;\n",
       "  color: #000000;\n",
       "}\n",
       "#T_c3085_row3_col1 {\n",
       "  background-color: #fff5ae;\n",
       "  color: #000000;\n",
       "}\n",
       "#T_c3085_row4_col1 {\n",
       "  background-color: #f2faae;\n",
       "  color: #000000;\n",
       "}\n",
       "#T_c3085_row5_col1, #T_c3085_row6_col1 {\n",
       "  background-color: #fff6b0;\n",
       "  color: #000000;\n",
       "}\n",
       "#T_c3085_row7_col1 {\n",
       "  background-color: #f4fab0;\n",
       "  color: #000000;\n",
       "}\n",
       "#T_c3085_row8_col1 {\n",
       "  background-color: #fff7b2;\n",
       "  color: #000000;\n",
       "}\n",
       "</style>\n",
       "<table id=\"T_c3085\">\n",
       "  <thead>\n",
       "    <tr>\n",
       "      <th id=\"T_c3085_level0_col0\" class=\"col_heading level0 col0\" >Plataforma</th>\n",
       "      <th id=\"T_c3085_level0_col1\" class=\"col_heading level0 col1\" >Variação</th>\n",
       "      <th id=\"T_c3085_level0_col2\" class=\"col_heading level0 col2\" >Registros Anteriores</th>\n",
       "      <th id=\"T_c3085_level0_col3\" class=\"col_heading level0 col3\" >Registros Atuais</th>\n",
       "    </tr>\n",
       "  </thead>\n",
       "  <tbody>\n",
       "    <tr>\n",
       "      <td id=\"T_c3085_row0_col0\" class=\"data row0 col0\" >MINASplay</td>\n",
       "      <td id=\"T_c3085_row0_col1\" class=\"data row0 col1\" >-27.1%</td>\n",
       "      <td id=\"T_c3085_row0_col2\" class=\"data row0 col2\" >188</td>\n",
       "      <td id=\"T_c3085_row0_col3\" class=\"data row0 col3\" >137</td>\n",
       "    </tr>\n",
       "    <tr>\n",
       "      <td id=\"T_c3085_row1_col0\" class=\"data row1 col0\" >Sesc Digital</td>\n",
       "      <td id=\"T_c3085_row1_col1\" class=\"data row1 col1\" >-15.2%</td>\n",
       "      <td id=\"T_c3085_row1_col2\" class=\"data row1 col2\" >46</td>\n",
       "      <td id=\"T_c3085_row1_col3\" class=\"data row1 col3\" >39</td>\n",
       "    </tr>\n",
       "    <tr>\n",
       "      <td id=\"T_c3085_row2_col0\" class=\"data row2 col0\" >SBT Videos</td>\n",
       "      <td id=\"T_c3085_row2_col1\" class=\"data row2 col1\" >+7.7%</td>\n",
       "      <td id=\"T_c3085_row2_col2\" class=\"data row2 col2\" >362</td>\n",
       "      <td id=\"T_c3085_row2_col3\" class=\"data row2 col3\" >390</td>\n",
       "    </tr>\n",
       "    <tr>\n",
       "      <td id=\"T_c3085_row3_col0\" class=\"data row3 col0\" >Todesplay</td>\n",
       "      <td id=\"T_c3085_row3_col1\" class=\"data row3 col1\" >-6.7%</td>\n",
       "      <td id=\"T_c3085_row3_col2\" class=\"data row3 col2\" >208</td>\n",
       "      <td id=\"T_c3085_row3_col3\" class=\"data row3 col3\" >194</td>\n",
       "    </tr>\n",
       "    <tr>\n",
       "      <td id=\"T_c3085_row4_col0\" class=\"data row4 col0\" >Claro Video</td>\n",
       "      <td id=\"T_c3085_row4_col1\" class=\"data row4 col1\" >+6.6%</td>\n",
       "      <td id=\"T_c3085_row4_col2\" class=\"data row4 col2\" >2,864</td>\n",
       "      <td id=\"T_c3085_row4_col3\" class=\"data row4 col3\" >3,052</td>\n",
       "    </tr>\n",
       "    <tr>\n",
       "      <td id=\"T_c3085_row5_col0\" class=\"data row5 col0\" >Belas Artes À La Carte</td>\n",
       "      <td id=\"T_c3085_row5_col1\" class=\"data row5 col1\" >-6.2%</td>\n",
       "      <td id=\"T_c3085_row5_col2\" class=\"data row5 col2\" >742</td>\n",
       "      <td id=\"T_c3085_row5_col3\" class=\"data row5 col3\" >696</td>\n",
       "    </tr>\n",
       "    <tr>\n",
       "      <td id=\"T_c3085_row6_col0\" class=\"data row6 col0\" >Filmzie</td>\n",
       "      <td id=\"T_c3085_row6_col1\" class=\"data row6 col1\" >-5.8%</td>\n",
       "      <td id=\"T_c3085_row6_col2\" class=\"data row6 col2\" >1,338</td>\n",
       "      <td id=\"T_c3085_row6_col3\" class=\"data row6 col3\" >1,261</td>\n",
       "    </tr>\n",
       "    <tr>\n",
       "      <td id=\"T_c3085_row7_col0\" class=\"data row7 col0\" >Cinemateca Pernambucana</td>\n",
       "      <td id=\"T_c3085_row7_col1\" class=\"data row7 col1\" >+5.7%</td>\n",
       "      <td id=\"T_c3085_row7_col2\" class=\"data row7 col2\" >369</td>\n",
       "      <td id=\"T_c3085_row7_col3\" class=\"data row7 col3\" >390</td>\n",
       "    </tr>\n",
       "    <tr>\n",
       "      <td id=\"T_c3085_row8_col0\" class=\"data row8 col0\" >History Hit</td>\n",
       "      <td id=\"T_c3085_row8_col1\" class=\"data row8 col1\" >-5.1%</td>\n",
       "      <td id=\"T_c3085_row8_col2\" class=\"data row8 col2\" >332</td>\n",
       "      <td id=\"T_c3085_row8_col3\" class=\"data row8 col3\" >315</td>\n",
       "    </tr>\n",
       "  </tbody>\n",
       "</table>\n"
      ],
      "text/plain": [
       "<pandas.io.formats.style.Styler at 0x2b095555590>"
      ]
     },
     "metadata": {},
     "output_type": "display_data"
    },
    {
     "data": {
      "text/html": [
       "<hr>"
      ],
      "text/plain": [
       "<IPython.core.display.HTML object>"
      ]
     },
     "metadata": {},
     "output_type": "display_data"
    },
    {
     "data": {
      "text/html": [
       "<br><h2>Semana 24/01/2025</h2>"
      ],
      "text/plain": [
       "<IPython.core.display.HTML object>"
      ]
     },
     "metadata": {},
     "output_type": "display_data"
    },
    {
     "name": "stdout",
     "output_type": "stream",
     "text": [
      "Não houve variação no total de plataformas cobertas.\n"
     ]
    },
    {
     "data": {
      "text/html": [
       "<h4>Variações >5% no Catálogo de Conteúdos</h4>"
      ],
      "text/plain": [
       "<IPython.core.display.HTML object>"
      ]
     },
     "metadata": {},
     "output_type": "display_data"
    },
    {
     "data": {
      "text/html": [
       "<style type=\"text/css\">\n",
       "#T_35b95_row0_col1 {\n",
       "  background-color: #c9e881;\n",
       "  color: #000000;\n",
       "}\n",
       "#T_35b95_row1_col1 {\n",
       "  background-color: #e6f59d;\n",
       "  color: #000000;\n",
       "}\n",
       "#T_35b95_row2_col1 {\n",
       "  background-color: #e9f6a1;\n",
       "  color: #000000;\n",
       "}\n",
       "#T_35b95_row3_col1 {\n",
       "  background-color: #f1f9ac;\n",
       "  color: #000000;\n",
       "}\n",
       "#T_35b95_row4_col1 {\n",
       "  background-color: #f2faae;\n",
       "  color: #000000;\n",
       "}\n",
       "</style>\n",
       "<table id=\"T_35b95\">\n",
       "  <thead>\n",
       "    <tr>\n",
       "      <th id=\"T_35b95_level0_col0\" class=\"col_heading level0 col0\" >Plataforma</th>\n",
       "      <th id=\"T_35b95_level0_col1\" class=\"col_heading level0 col1\" >Variação</th>\n",
       "      <th id=\"T_35b95_level0_col2\" class=\"col_heading level0 col2\" >Registros Anteriores</th>\n",
       "      <th id=\"T_35b95_level0_col3\" class=\"col_heading level0 col3\" >Registros Atuais</th>\n",
       "    </tr>\n",
       "  </thead>\n",
       "  <tbody>\n",
       "    <tr>\n",
       "      <td id=\"T_35b95_row0_col0\" class=\"data row0 col0\" >MINASplay</td>\n",
       "      <td id=\"T_35b95_row0_col1\" class=\"data row0 col1\" >+26.3%</td>\n",
       "      <td id=\"T_35b95_row0_col2\" class=\"data row0 col2\" >137</td>\n",
       "      <td id=\"T_35b95_row0_col3\" class=\"data row0 col3\" >173</td>\n",
       "    </tr>\n",
       "    <tr>\n",
       "      <td id=\"T_35b95_row1_col0\" class=\"data row1 col0\" >Demand Africa</td>\n",
       "      <td id=\"T_35b95_row1_col1\" class=\"data row1 col1\" >+13.3%</td>\n",
       "      <td id=\"T_35b95_row1_col2\" class=\"data row1 col2\" >332</td>\n",
       "      <td id=\"T_35b95_row1_col3\" class=\"data row1 col3\" >376</td>\n",
       "    </tr>\n",
       "    <tr>\n",
       "      <td id=\"T_35b95_row2_col0\" class=\"data row2 col0\" >CultSP Play</td>\n",
       "      <td id=\"T_35b95_row2_col1\" class=\"data row2 col1\" >+11.4%</td>\n",
       "      <td id=\"T_35b95_row2_col2\" class=\"data row2 col2\" >1,566</td>\n",
       "      <td id=\"T_35b95_row2_col3\" class=\"data row2 col3\" >1,744</td>\n",
       "    </tr>\n",
       "    <tr>\n",
       "      <td id=\"T_35b95_row3_col0\" class=\"data row3 col0\" >Sesc Digital</td>\n",
       "      <td id=\"T_35b95_row3_col1\" class=\"data row3 col1\" >+7.7%</td>\n",
       "      <td id=\"T_35b95_row3_col2\" class=\"data row3 col2\" >39</td>\n",
       "      <td id=\"T_35b95_row3_col3\" class=\"data row3 col3\" >42</td>\n",
       "    </tr>\n",
       "    <tr>\n",
       "      <td id=\"T_35b95_row4_col0\" class=\"data row4 col0\" >Filmicca</td>\n",
       "      <td id=\"T_35b95_row4_col1\" class=\"data row4 col1\" >+6.7%</td>\n",
       "      <td id=\"T_35b95_row4_col2\" class=\"data row4 col2\" >431</td>\n",
       "      <td id=\"T_35b95_row4_col3\" class=\"data row4 col3\" >460</td>\n",
       "    </tr>\n",
       "  </tbody>\n",
       "</table>\n"
      ],
      "text/plain": [
       "<pandas.io.formats.style.Styler at 0x2b095555590>"
      ]
     },
     "metadata": {},
     "output_type": "display_data"
    },
    {
     "data": {
      "text/html": [
       "<hr>"
      ],
      "text/plain": [
       "<IPython.core.display.HTML object>"
      ]
     },
     "metadata": {},
     "output_type": "display_data"
    },
    {
     "data": {
      "text/html": [
       "<br><h2>Semana 30/01/2025</h2>"
      ],
      "text/plain": [
       "<IPython.core.display.HTML object>"
      ]
     },
     "metadata": {},
     "output_type": "display_data"
    },
    {
     "name": "stdout",
     "output_type": "stream",
     "text": [
      "Não houve variação no total de plataformas cobertas.\n"
     ]
    },
    {
     "data": {
      "text/html": [
       "<h4>Variações >5% no Catálogo de Conteúdos</h4>"
      ],
      "text/plain": [
       "<IPython.core.display.HTML object>"
      ]
     },
     "metadata": {},
     "output_type": "display_data"
    },
    {
     "data": {
      "text/html": [
       "<style type=\"text/css\">\n",
       "#T_7e98b_row0_col1 {\n",
       "  background-color: #bde379;\n",
       "  color: #000000;\n",
       "}\n",
       "#T_7e98b_row1_col1 {\n",
       "  background-color: #fee28f;\n",
       "  color: #000000;\n",
       "}\n",
       "#T_7e98b_row2_col1 {\n",
       "  background-color: #fee695;\n",
       "  color: #000000;\n",
       "}\n",
       "#T_7e98b_row3_col1 {\n",
       "  background-color: #fff1a8;\n",
       "  color: #000000;\n",
       "}\n",
       "#T_7e98b_row4_col1 {\n",
       "  background-color: #f5fbb2;\n",
       "  color: #000000;\n",
       "}\n",
       "</style>\n",
       "<table id=\"T_7e98b\">\n",
       "  <thead>\n",
       "    <tr>\n",
       "      <th id=\"T_7e98b_level0_col0\" class=\"col_heading level0 col0\" >Plataforma</th>\n",
       "      <th id=\"T_7e98b_level0_col1\" class=\"col_heading level0 col1\" >Variação</th>\n",
       "      <th id=\"T_7e98b_level0_col2\" class=\"col_heading level0 col2\" >Registros Anteriores</th>\n",
       "      <th id=\"T_7e98b_level0_col3\" class=\"col_heading level0 col3\" >Registros Atuais</th>\n",
       "    </tr>\n",
       "  </thead>\n",
       "  <tbody>\n",
       "    <tr>\n",
       "      <td id=\"T_7e98b_row0_col0\" class=\"data row0 col0\" >MINASplay</td>\n",
       "      <td id=\"T_7e98b_row0_col1\" class=\"data row0 col1\" >+31.2%</td>\n",
       "      <td id=\"T_7e98b_row0_col2\" class=\"data row0 col2\" >173</td>\n",
       "      <td id=\"T_7e98b_row0_col3\" class=\"data row0 col3\" >227</td>\n",
       "    </tr>\n",
       "    <tr>\n",
       "      <td id=\"T_7e98b_row1_col0\" class=\"data row1 col0\" >Spcine Play</td>\n",
       "      <td id=\"T_7e98b_row1_col1\" class=\"data row1 col1\" >-18.5%</td>\n",
       "      <td id=\"T_7e98b_row1_col2\" class=\"data row1 col2\" >271</td>\n",
       "      <td id=\"T_7e98b_row1_col3\" class=\"data row1 col3\" >221</td>\n",
       "    </tr>\n",
       "    <tr>\n",
       "      <td id=\"T_7e98b_row2_col0\" class=\"data row2 col0\" >Cindie</td>\n",
       "      <td id=\"T_7e98b_row2_col1\" class=\"data row2 col1\" >-15.7%</td>\n",
       "      <td id=\"T_7e98b_row2_col2\" class=\"data row2 col2\" >553</td>\n",
       "      <td id=\"T_7e98b_row2_col3\" class=\"data row2 col3\" >466</td>\n",
       "    </tr>\n",
       "    <tr>\n",
       "      <td id=\"T_7e98b_row3_col0\" class=\"data row3 col0\" >Claro TV+</td>\n",
       "      <td id=\"T_7e98b_row3_col1\" class=\"data row3 col1\" >-9.3%</td>\n",
       "      <td id=\"T_7e98b_row3_col2\" class=\"data row3 col2\" >45,794</td>\n",
       "      <td id=\"T_7e98b_row3_col3\" class=\"data row3 col3\" >41,539</td>\n",
       "    </tr>\n",
       "    <tr>\n",
       "      <td id=\"T_7e98b_row4_col0\" class=\"data row4 col0\" >ALTBalaji</td>\n",
       "      <td id=\"T_7e98b_row4_col1\" class=\"data row4 col1\" >+5.4%</td>\n",
       "      <td id=\"T_7e98b_row4_col2\" class=\"data row4 col2\" >166</td>\n",
       "      <td id=\"T_7e98b_row4_col3\" class=\"data row4 col3\" >175</td>\n",
       "    </tr>\n",
       "  </tbody>\n",
       "</table>\n"
      ],
      "text/plain": [
       "<pandas.io.formats.style.Styler at 0x2b095555590>"
      ]
     },
     "metadata": {},
     "output_type": "display_data"
    },
    {
     "data": {
      "text/html": [
       "<hr>"
      ],
      "text/plain": [
       "<IPython.core.display.HTML object>"
      ]
     },
     "metadata": {},
     "output_type": "display_data"
    },
    {
     "data": {
      "text/html": [
       "<br><h2>Semana 07/02/2025</h2>"
      ],
      "text/plain": [
       "<IPython.core.display.HTML object>"
      ]
     },
     "metadata": {},
     "output_type": "display_data"
    },
    {
     "name": "stdout",
     "output_type": "stream",
     "text": [
      "Não houve variação no total de plataformas cobertas.\n"
     ]
    },
    {
     "data": {
      "text/html": [
       "<h4>Variações >5% no Catálogo de Conteúdos</h4>"
      ],
      "text/plain": [
       "<IPython.core.display.HTML object>"
      ]
     },
     "metadata": {},
     "output_type": "display_data"
    },
    {
     "data": {
      "text/html": [
       "<style type=\"text/css\">\n",
       "#T_bc9f5_row0_col1 {\n",
       "  background-color: #daf08d;\n",
       "  color: #000000;\n",
       "}\n",
       "#T_bc9f5_row1_col1 {\n",
       "  background-color: #e0f295;\n",
       "  color: #000000;\n",
       "}\n",
       "#T_bc9f5_row2_col1 {\n",
       "  background-color: #fff1a8;\n",
       "  color: #000000;\n",
       "}\n",
       "</style>\n",
       "<table id=\"T_bc9f5\">\n",
       "  <thead>\n",
       "    <tr>\n",
       "      <th id=\"T_bc9f5_level0_col0\" class=\"col_heading level0 col0\" >Plataforma</th>\n",
       "      <th id=\"T_bc9f5_level0_col1\" class=\"col_heading level0 col1\" >Variação</th>\n",
       "      <th id=\"T_bc9f5_level0_col2\" class=\"col_heading level0 col2\" >Registros Anteriores</th>\n",
       "      <th id=\"T_bc9f5_level0_col3\" class=\"col_heading level0 col3\" >Registros Atuais</th>\n",
       "    </tr>\n",
       "  </thead>\n",
       "  <tbody>\n",
       "    <tr>\n",
       "      <td id=\"T_bc9f5_row0_col0\" class=\"data row0 col0\" >Cindie</td>\n",
       "      <td id=\"T_bc9f5_row0_col1\" class=\"data row0 col1\" >+19.3%</td>\n",
       "      <td id=\"T_bc9f5_row0_col2\" class=\"data row0 col2\" >466</td>\n",
       "      <td id=\"T_bc9f5_row0_col3\" class=\"data row0 col3\" >556</td>\n",
       "    </tr>\n",
       "    <tr>\n",
       "      <td id=\"T_bc9f5_row1_col0\" class=\"data row1 col0\" >Todesplay</td>\n",
       "      <td id=\"T_bc9f5_row1_col1\" class=\"data row1 col1\" >+16.3%</td>\n",
       "      <td id=\"T_bc9f5_row1_col2\" class=\"data row1 col2\" >196</td>\n",
       "      <td id=\"T_bc9f5_row1_col3\" class=\"data row1 col3\" >228</td>\n",
       "    </tr>\n",
       "    <tr>\n",
       "      <td id=\"T_bc9f5_row2_col0\" class=\"data row2 col0\" >Spcine Play</td>\n",
       "      <td id=\"T_bc9f5_row2_col1\" class=\"data row2 col1\" >-8.6%</td>\n",
       "      <td id=\"T_bc9f5_row2_col2\" class=\"data row2 col2\" >221</td>\n",
       "      <td id=\"T_bc9f5_row2_col3\" class=\"data row2 col3\" >202</td>\n",
       "    </tr>\n",
       "  </tbody>\n",
       "</table>\n"
      ],
      "text/plain": [
       "<pandas.io.formats.style.Styler at 0x2b095555590>"
      ]
     },
     "metadata": {},
     "output_type": "display_data"
    },
    {
     "data": {
      "text/html": [
       "<hr>"
      ],
      "text/plain": [
       "<IPython.core.display.HTML object>"
      ]
     },
     "metadata": {},
     "output_type": "display_data"
    },
    {
     "data": {
      "text/html": [
       "<br><h2>Semana 14/02/2025</h2>"
      ],
      "text/plain": [
       "<IPython.core.display.HTML object>"
      ]
     },
     "metadata": {},
     "output_type": "display_data"
    },
    {
     "name": "stdout",
     "output_type": "stream",
     "text": [
      "Não houve variação no total de plataformas cobertas.\n"
     ]
    },
    {
     "data": {
      "text/html": [
       "<h4>Variações >5% no Catálogo de Conteúdos</h4>"
      ],
      "text/plain": [
       "<IPython.core.display.HTML object>"
      ]
     },
     "metadata": {},
     "output_type": "display_data"
    },
    {
     "data": {
      "text/html": [
       "<style type=\"text/css\">\n",
       "#T_385f9_row0_col1 {\n",
       "  background-color: #feea9b;\n",
       "  color: #000000;\n",
       "}\n",
       "#T_385f9_row1_col1 {\n",
       "  background-color: #f1f9ac;\n",
       "  color: #000000;\n",
       "}\n",
       "#T_385f9_row2_col1 {\n",
       "  background-color: #fff5ae;\n",
       "  color: #000000;\n",
       "}\n",
       "#T_385f9_row3_col1 {\n",
       "  background-color: #f4fab0;\n",
       "  color: #000000;\n",
       "}\n",
       "</style>\n",
       "<table id=\"T_385f9\">\n",
       "  <thead>\n",
       "    <tr>\n",
       "      <th id=\"T_385f9_level0_col0\" class=\"col_heading level0 col0\" >Plataforma</th>\n",
       "      <th id=\"T_385f9_level0_col1\" class=\"col_heading level0 col1\" >Variação</th>\n",
       "      <th id=\"T_385f9_level0_col2\" class=\"col_heading level0 col2\" >Registros Anteriores</th>\n",
       "      <th id=\"T_385f9_level0_col3\" class=\"col_heading level0 col3\" >Registros Atuais</th>\n",
       "    </tr>\n",
       "  </thead>\n",
       "  <tbody>\n",
       "    <tr>\n",
       "      <td id=\"T_385f9_row0_col0\" class=\"data row0 col0\" >Todesplay</td>\n",
       "      <td id=\"T_385f9_row0_col1\" class=\"data row0 col1\" >-14.0%</td>\n",
       "      <td id=\"T_385f9_row0_col2\" class=\"data row0 col2\" >228</td>\n",
       "      <td id=\"T_385f9_row0_col3\" class=\"data row0 col3\" >196</td>\n",
       "    </tr>\n",
       "    <tr>\n",
       "      <td id=\"T_385f9_row1_col0\" class=\"data row1 col0\" >UOL Play</td>\n",
       "      <td id=\"T_385f9_row1_col1\" class=\"data row1 col1\" >+7.4%</td>\n",
       "      <td id=\"T_385f9_row1_col2\" class=\"data row1 col2\" >934</td>\n",
       "      <td id=\"T_385f9_row1_col3\" class=\"data row1 col3\" >1,003</td>\n",
       "    </tr>\n",
       "    <tr>\n",
       "      <td id=\"T_385f9_row2_col0\" class=\"data row2 col0\" >IWantTFC</td>\n",
       "      <td id=\"T_385f9_row2_col1\" class=\"data row2 col1\" >-6.6%</td>\n",
       "      <td id=\"T_385f9_row2_col2\" class=\"data row2 col2\" >2,061</td>\n",
       "      <td id=\"T_385f9_row2_col3\" class=\"data row2 col3\" >1,925</td>\n",
       "    </tr>\n",
       "    <tr>\n",
       "      <td id=\"T_385f9_row3_col0\" class=\"data row3 col0\" >Itaú Cultural Play</td>\n",
       "      <td id=\"T_385f9_row3_col1\" class=\"data row3 col1\" >+5.6%</td>\n",
       "      <td id=\"T_385f9_row3_col2\" class=\"data row3 col2\" >215</td>\n",
       "      <td id=\"T_385f9_row3_col3\" class=\"data row3 col3\" >227</td>\n",
       "    </tr>\n",
       "  </tbody>\n",
       "</table>\n"
      ],
      "text/plain": [
       "<pandas.io.formats.style.Styler at 0x2b095555590>"
      ]
     },
     "metadata": {},
     "output_type": "display_data"
    },
    {
     "data": {
      "text/html": [
       "<hr>"
      ],
      "text/plain": [
       "<IPython.core.display.HTML object>"
      ]
     },
     "metadata": {},
     "output_type": "display_data"
    },
    {
     "data": {
      "text/html": [
       "<br><h2>Semana 20/02/2025</h2>"
      ],
      "text/plain": [
       "<IPython.core.display.HTML object>"
      ]
     },
     "metadata": {},
     "output_type": "display_data"
    },
    {
     "name": "stdout",
     "output_type": "stream",
     "text": [
      "Não houve variação no total de plataformas cobertas.\n"
     ]
    },
    {
     "data": {
      "text/html": [
       "<hr>"
      ],
      "text/plain": [
       "<IPython.core.display.HTML object>"
      ]
     },
     "metadata": {},
     "output_type": "display_data"
    },
    {
     "data": {
      "text/html": [
       "<br><h2>Semana 28/02/2025</h2>"
      ],
      "text/plain": [
       "<IPython.core.display.HTML object>"
      ]
     },
     "metadata": {},
     "output_type": "display_data"
    },
    {
     "name": "stdout",
     "output_type": "stream",
     "text": [
      "Não houve variação no total de plataformas cobertas.\n"
     ]
    },
    {
     "data": {
      "text/html": [
       "<h4>Variações >5% no Catálogo de Conteúdos</h4>"
      ],
      "text/plain": [
       "<IPython.core.display.HTML object>"
      ]
     },
     "metadata": {},
     "output_type": "display_data"
    },
    {
     "data": {
      "text/html": [
       "<style type=\"text/css\">\n",
       "#T_5e553_row0_col1 {\n",
       "  background-color: #ecf7a6;\n",
       "  color: #000000;\n",
       "}\n",
       "#T_5e553_row1_col1 {\n",
       "  background-color: #fff6b0;\n",
       "  color: #000000;\n",
       "}\n",
       "</style>\n",
       "<table id=\"T_5e553\">\n",
       "  <thead>\n",
       "    <tr>\n",
       "      <th id=\"T_5e553_level0_col0\" class=\"col_heading level0 col0\" >Plataforma</th>\n",
       "      <th id=\"T_5e553_level0_col1\" class=\"col_heading level0 col1\" >Variação</th>\n",
       "      <th id=\"T_5e553_level0_col2\" class=\"col_heading level0 col2\" >Registros Anteriores</th>\n",
       "      <th id=\"T_5e553_level0_col3\" class=\"col_heading level0 col3\" >Registros Atuais</th>\n",
       "    </tr>\n",
       "  </thead>\n",
       "  <tbody>\n",
       "    <tr>\n",
       "      <td id=\"T_5e553_row0_col0\" class=\"data row0 col0\" >DOCSVILLE</td>\n",
       "      <td id=\"T_5e553_row0_col1\" class=\"data row0 col1\" >+9.4%</td>\n",
       "      <td id=\"T_5e553_row0_col2\" class=\"data row0 col2\" >320</td>\n",
       "      <td id=\"T_5e553_row0_col3\" class=\"data row0 col3\" >350</td>\n",
       "    </tr>\n",
       "    <tr>\n",
       "      <td id=\"T_5e553_row1_col0\" class=\"data row1 col0\" >Spcine Play</td>\n",
       "      <td id=\"T_5e553_row1_col1\" class=\"data row1 col1\" >-5.9%</td>\n",
       "      <td id=\"T_5e553_row1_col2\" class=\"data row1 col2\" >203</td>\n",
       "      <td id=\"T_5e553_row1_col3\" class=\"data row1 col3\" >191</td>\n",
       "    </tr>\n",
       "  </tbody>\n",
       "</table>\n"
      ],
      "text/plain": [
       "<pandas.io.formats.style.Styler at 0x2b095555590>"
      ]
     },
     "metadata": {},
     "output_type": "display_data"
    },
    {
     "data": {
      "text/html": [
       "<hr>"
      ],
      "text/plain": [
       "<IPython.core.display.HTML object>"
      ]
     },
     "metadata": {},
     "output_type": "display_data"
    },
    {
     "data": {
      "text/html": [
       "<br><h2>Semana 08/03/2025</h2>"
      ],
      "text/plain": [
       "<IPython.core.display.HTML object>"
      ]
     },
     "metadata": {},
     "output_type": "display_data"
    },
    {
     "name": "stdout",
     "output_type": "stream",
     "text": [
      "Não houve variação no total de plataformas cobertas.\n"
     ]
    },
    {
     "data": {
      "text/html": [
       "<hr>"
      ],
      "text/plain": [
       "<IPython.core.display.HTML object>"
      ]
     },
     "metadata": {},
     "output_type": "display_data"
    },
    {
     "data": {
      "text/html": [
       "<br><h2>Semana 14/03/2025</h2>"
      ],
      "text/plain": [
       "<IPython.core.display.HTML object>"
      ]
     },
     "metadata": {},
     "output_type": "display_data"
    },
    {
     "name": "stdout",
     "output_type": "stream",
     "text": [
      "Não houve variação no total de plataformas cobertas.\n"
     ]
    },
    {
     "data": {
      "text/html": [
       "<h4>Variações >5% no Catálogo de Conteúdos</h4>"
      ],
      "text/plain": [
       "<IPython.core.display.HTML object>"
      ]
     },
     "metadata": {},
     "output_type": "display_data"
    },
    {
     "data": {
      "text/html": [
       "<style type=\"text/css\">\n",
       "#T_16723_row0_col1 {\n",
       "  background-color: #fece7c;\n",
       "  color: #000000;\n",
       "}\n",
       "#T_16723_row1_col1 {\n",
       "  background-color: #fff3ac;\n",
       "  color: #000000;\n",
       "}\n",
       "#T_16723_row2_col1 {\n",
       "  background-color: #f5fbb2;\n",
       "  color: #000000;\n",
       "}\n",
       "</style>\n",
       "<table id=\"T_16723\">\n",
       "  <thead>\n",
       "    <tr>\n",
       "      <th id=\"T_16723_level0_col0\" class=\"col_heading level0 col0\" >Plataforma</th>\n",
       "      <th id=\"T_16723_level0_col1\" class=\"col_heading level0 col1\" >Variação</th>\n",
       "      <th id=\"T_16723_level0_col2\" class=\"col_heading level0 col2\" >Registros Anteriores</th>\n",
       "      <th id=\"T_16723_level0_col3\" class=\"col_heading level0 col3\" >Registros Atuais</th>\n",
       "    </tr>\n",
       "  </thead>\n",
       "  <tbody>\n",
       "    <tr>\n",
       "      <td id=\"T_16723_row0_col0\" class=\"data row0 col0\" >IWantTFC</td>\n",
       "      <td id=\"T_16723_row0_col1\" class=\"data row0 col1\" >-27.1%</td>\n",
       "      <td id=\"T_16723_row0_col2\" class=\"data row0 col2\" >1,848</td>\n",
       "      <td id=\"T_16723_row0_col3\" class=\"data row0 col3\" >1,348</td>\n",
       "    </tr>\n",
       "    <tr>\n",
       "      <td id=\"T_16723_row1_col0\" class=\"data row1 col0\" >Marquee TV</td>\n",
       "      <td id=\"T_16723_row1_col1\" class=\"data row1 col1\" >-7.2%</td>\n",
       "      <td id=\"T_16723_row1_col2\" class=\"data row1 col2\" >515</td>\n",
       "      <td id=\"T_16723_row1_col3\" class=\"data row1 col3\" >478</td>\n",
       "    </tr>\n",
       "    <tr>\n",
       "      <td id=\"T_16723_row2_col0\" class=\"data row2 col0\" >MINASplay</td>\n",
       "      <td id=\"T_16723_row2_col1\" class=\"data row2 col1\" >+5.1%</td>\n",
       "      <td id=\"T_16723_row2_col2\" class=\"data row2 col2\" >234</td>\n",
       "      <td id=\"T_16723_row2_col3\" class=\"data row2 col3\" >246</td>\n",
       "    </tr>\n",
       "  </tbody>\n",
       "</table>\n"
      ],
      "text/plain": [
       "<pandas.io.formats.style.Styler at 0x2b095555590>"
      ]
     },
     "metadata": {},
     "output_type": "display_data"
    },
    {
     "data": {
      "text/html": [
       "<hr>"
      ],
      "text/plain": [
       "<IPython.core.display.HTML object>"
      ]
     },
     "metadata": {},
     "output_type": "display_data"
    },
    {
     "data": {
      "text/html": [
       "<br><h2>Semana 20/03/2025</h2>"
      ],
      "text/plain": [
       "<IPython.core.display.HTML object>"
      ]
     },
     "metadata": {},
     "output_type": "display_data"
    },
    {
     "data": {
      "text/html": [
       "<h4 style='color: #CD5C5C;'>Plataformas que deixaram a cobertura</h4>"
      ],
      "text/plain": [
       "<IPython.core.display.HTML object>"
      ]
     },
     "metadata": {},
     "output_type": "display_data"
    },
    {
     "data": {
      "text/html": [
       "<style type=\"text/css\">\n",
       "#T_52bfd_row0_col1 {\n",
       "  width: 10em;\n",
       "  background: linear-gradient(90deg, #FFA07A 100.0%, transparent 100.0%);\n",
       "}\n",
       "</style>\n",
       "<table id=\"T_52bfd\">\n",
       "  <thead>\n",
       "    <tr>\n",
       "      <th id=\"T_52bfd_level0_col0\" class=\"col_heading level0 col0\" >Plataforma</th>\n",
       "      <th id=\"T_52bfd_level0_col1\" class=\"col_heading level0 col1\" >Registros Anteriores</th>\n",
       "    </tr>\n",
       "  </thead>\n",
       "  <tbody>\n",
       "    <tr>\n",
       "      <td id=\"T_52bfd_row0_col0\" class=\"data row0 col0\" >Box Brazil Play</td>\n",
       "      <td id=\"T_52bfd_row0_col1\" class=\"data row0 col1\" >1,088</td>\n",
       "    </tr>\n",
       "  </tbody>\n",
       "</table>\n"
      ],
      "text/plain": [
       "<pandas.io.formats.style.Styler at 0x2b095555590>"
      ]
     },
     "metadata": {},
     "output_type": "display_data"
    },
    {
     "data": {
      "text/html": [
       "<h4>Variações >5% no Catálogo de Conteúdos</h4>"
      ],
      "text/plain": [
       "<IPython.core.display.HTML object>"
      ]
     },
     "metadata": {},
     "output_type": "display_data"
    },
    {
     "data": {
      "text/html": [
       "<style type=\"text/css\">\n",
       "#T_11045_row0_col1 {\n",
       "  background-color: #fed683;\n",
       "  color: #000000;\n",
       "}\n",
       "#T_11045_row1_col1 {\n",
       "  background-color: #fff0a6;\n",
       "  color: #000000;\n",
       "}\n",
       "#T_11045_row2_col1 {\n",
       "  background-color: #f2faae;\n",
       "  color: #000000;\n",
       "}\n",
       "#T_11045_row3_col1 {\n",
       "  background-color: #fff5ae;\n",
       "  color: #000000;\n",
       "}\n",
       "#T_11045_row4_col1 {\n",
       "  background-color: #fff7b2;\n",
       "  color: #000000;\n",
       "}\n",
       "</style>\n",
       "<table id=\"T_11045\">\n",
       "  <thead>\n",
       "    <tr>\n",
       "      <th id=\"T_11045_level0_col0\" class=\"col_heading level0 col0\" >Plataforma</th>\n",
       "      <th id=\"T_11045_level0_col1\" class=\"col_heading level0 col1\" >Variação</th>\n",
       "      <th id=\"T_11045_level0_col2\" class=\"col_heading level0 col2\" >Registros Anteriores</th>\n",
       "      <th id=\"T_11045_level0_col3\" class=\"col_heading level0 col3\" >Registros Atuais</th>\n",
       "    </tr>\n",
       "  </thead>\n",
       "  <tbody>\n",
       "    <tr>\n",
       "      <td id=\"T_11045_row0_col0\" class=\"data row0 col0\" >WOW Presents Plus</td>\n",
       "      <td id=\"T_11045_row0_col1\" class=\"data row0 col1\" >-23.7%</td>\n",
       "      <td id=\"T_11045_row0_col2\" class=\"data row0 col2\" >278</td>\n",
       "      <td id=\"T_11045_row0_col3\" class=\"data row0 col3\" >212</td>\n",
       "    </tr>\n",
       "    <tr>\n",
       "      <td id=\"T_11045_row1_col0\" class=\"data row1 col0\" >UOL Play</td>\n",
       "      <td id=\"T_11045_row1_col1\" class=\"data row1 col1\" >-9.5%</td>\n",
       "      <td id=\"T_11045_row1_col2\" class=\"data row1 col2\" >1,065</td>\n",
       "      <td id=\"T_11045_row1_col3\" class=\"data row1 col3\" >964</td>\n",
       "    </tr>\n",
       "    <tr>\n",
       "      <td id=\"T_11045_row2_col0\" class=\"data row2 col0\" >Itaú Cultural Play</td>\n",
       "      <td id=\"T_11045_row2_col1\" class=\"data row2 col1\" >+6.7%</td>\n",
       "      <td id=\"T_11045_row2_col2\" class=\"data row2 col2\" >239</td>\n",
       "      <td id=\"T_11045_row2_col3\" class=\"data row2 col3\" >255</td>\n",
       "    </tr>\n",
       "    <tr>\n",
       "      <td id=\"T_11045_row3_col0\" class=\"data row3 col0\" >IWantTFC</td>\n",
       "      <td id=\"T_11045_row3_col1\" class=\"data row3 col1\" >-6.6%</td>\n",
       "      <td id=\"T_11045_row3_col2\" class=\"data row3 col2\" >1,348</td>\n",
       "      <td id=\"T_11045_row3_col3\" class=\"data row3 col3\" >1,259</td>\n",
       "    </tr>\n",
       "    <tr>\n",
       "      <td id=\"T_11045_row4_col0\" class=\"data row4 col0\" >Canais Globo</td>\n",
       "      <td id=\"T_11045_row4_col1\" class=\"data row4 col1\" >-5.3%</td>\n",
       "      <td id=\"T_11045_row4_col2\" class=\"data row4 col2\" >1,636</td>\n",
       "      <td id=\"T_11045_row4_col3\" class=\"data row4 col3\" >1,549</td>\n",
       "    </tr>\n",
       "  </tbody>\n",
       "</table>\n"
      ],
      "text/plain": [
       "<pandas.io.formats.style.Styler at 0x2b095555590>"
      ]
     },
     "metadata": {},
     "output_type": "display_data"
    },
    {
     "data": {
      "text/html": [
       "<hr>"
      ],
      "text/plain": [
       "<IPython.core.display.HTML object>"
      ]
     },
     "metadata": {},
     "output_type": "display_data"
    },
    {
     "data": {
      "text/html": [
       "<br><h2>Semana 29/03/2025</h2>"
      ],
      "text/plain": [
       "<IPython.core.display.HTML object>"
      ]
     },
     "metadata": {},
     "output_type": "display_data"
    },
    {
     "name": "stdout",
     "output_type": "stream",
     "text": [
      "Não houve variação no total de plataformas cobertas.\n"
     ]
    },
    {
     "data": {
      "text/html": [
       "<h4>Variações >5% no Catálogo de Conteúdos</h4>"
      ],
      "text/plain": [
       "<IPython.core.display.HTML object>"
      ]
     },
     "metadata": {},
     "output_type": "display_data"
    },
    {
     "data": {
      "text/html": [
       "<style type=\"text/css\">\n",
       "#T_9f99f_row0_col1 {\n",
       "  background-color: #eef8a8;\n",
       "  color: #000000;\n",
       "}\n",
       "#T_9f99f_row1_col1 {\n",
       "  background-color: #f5fbb2;\n",
       "  color: #000000;\n",
       "}\n",
       "</style>\n",
       "<table id=\"T_9f99f\">\n",
       "  <thead>\n",
       "    <tr>\n",
       "      <th id=\"T_9f99f_level0_col0\" class=\"col_heading level0 col0\" >Plataforma</th>\n",
       "      <th id=\"T_9f99f_level0_col1\" class=\"col_heading level0 col1\" >Variação</th>\n",
       "      <th id=\"T_9f99f_level0_col2\" class=\"col_heading level0 col2\" >Registros Anteriores</th>\n",
       "      <th id=\"T_9f99f_level0_col3\" class=\"col_heading level0 col3\" >Registros Atuais</th>\n",
       "    </tr>\n",
       "  </thead>\n",
       "  <tbody>\n",
       "    <tr>\n",
       "      <td id=\"T_9f99f_row0_col0\" class=\"data row0 col0\" >UOL Play</td>\n",
       "      <td id=\"T_9f99f_row0_col1\" class=\"data row0 col1\" >+9.1%</td>\n",
       "      <td id=\"T_9f99f_row0_col2\" class=\"data row0 col2\" >964</td>\n",
       "      <td id=\"T_9f99f_row0_col3\" class=\"data row0 col3\" >1,052</td>\n",
       "    </tr>\n",
       "    <tr>\n",
       "      <td id=\"T_9f99f_row1_col0\" class=\"data row1 col0\" >WOW Presents Plus</td>\n",
       "      <td id=\"T_9f99f_row1_col1\" class=\"data row1 col1\" >+5.2%</td>\n",
       "      <td id=\"T_9f99f_row1_col2\" class=\"data row1 col2\" >212</td>\n",
       "      <td id=\"T_9f99f_row1_col3\" class=\"data row1 col3\" >223</td>\n",
       "    </tr>\n",
       "  </tbody>\n",
       "</table>\n"
      ],
      "text/plain": [
       "<pandas.io.formats.style.Styler at 0x2b095555590>"
      ]
     },
     "metadata": {},
     "output_type": "display_data"
    },
    {
     "data": {
      "text/html": [
       "<hr>"
      ],
      "text/plain": [
       "<IPython.core.display.HTML object>"
      ]
     },
     "metadata": {},
     "output_type": "display_data"
    },
    {
     "data": {
      "text/html": [
       "<br><h2>Semana 04/04/2025</h2>"
      ],
      "text/plain": [
       "<IPython.core.display.HTML object>"
      ]
     },
     "metadata": {},
     "output_type": "display_data"
    },
    {
     "name": "stdout",
     "output_type": "stream",
     "text": [
      "Não houve variação no total de plataformas cobertas.\n"
     ]
    },
    {
     "data": {
      "text/html": [
       "<h4>Variações >5% no Catálogo de Conteúdos</h4>"
      ],
      "text/plain": [
       "<IPython.core.display.HTML object>"
      ]
     },
     "metadata": {},
     "output_type": "display_data"
    },
    {
     "data": {
      "text/html": [
       "<style type=\"text/css\">\n",
       "#T_18a78_row0_col1 {\n",
       "  background-color: #006837;\n",
       "  color: #f1f1f1;\n",
       "}\n",
       "#T_18a78_row1_col1 {\n",
       "  background-color: #fecc7b;\n",
       "  color: #000000;\n",
       "}\n",
       "#T_18a78_row2_col1 {\n",
       "  background-color: #e2f397;\n",
       "  color: #000000;\n",
       "}\n",
       "#T_18a78_row3_col1 {\n",
       "  background-color: #fee999;\n",
       "  color: #000000;\n",
       "}\n",
       "</style>\n",
       "<table id=\"T_18a78\">\n",
       "  <thead>\n",
       "    <tr>\n",
       "      <th id=\"T_18a78_level0_col0\" class=\"col_heading level0 col0\" >Plataforma</th>\n",
       "      <th id=\"T_18a78_level0_col1\" class=\"col_heading level0 col1\" >Variação</th>\n",
       "      <th id=\"T_18a78_level0_col2\" class=\"col_heading level0 col2\" >Registros Anteriores</th>\n",
       "      <th id=\"T_18a78_level0_col3\" class=\"col_heading level0 col3\" >Registros Atuais</th>\n",
       "    </tr>\n",
       "  </thead>\n",
       "  <tbody>\n",
       "    <tr>\n",
       "      <td id=\"T_18a78_row0_col0\" class=\"data row0 col0\" >Arte1 Play</td>\n",
       "      <td id=\"T_18a78_row0_col1\" class=\"data row0 col1\" >+2032.5%</td>\n",
       "      <td id=\"T_18a78_row0_col2\" class=\"data row0 col2\" >120</td>\n",
       "      <td id=\"T_18a78_row0_col3\" class=\"data row0 col3\" >2,559</td>\n",
       "    </tr>\n",
       "    <tr>\n",
       "      <td id=\"T_18a78_row1_col0\" class=\"data row1 col0\" >Umbra</td>\n",
       "      <td id=\"T_18a78_row1_col1\" class=\"data row1 col1\" >-27.5%</td>\n",
       "      <td id=\"T_18a78_row1_col2\" class=\"data row1 col2\" >335</td>\n",
       "      <td id=\"T_18a78_row1_col3\" class=\"data row1 col3\" >243</td>\n",
       "    </tr>\n",
       "    <tr>\n",
       "      <td id=\"T_18a78_row2_col0\" class=\"data row2 col0\" >Spcine Play</td>\n",
       "      <td id=\"T_18a78_row2_col1\" class=\"data row2 col1\" >+15.2%</td>\n",
       "      <td id=\"T_18a78_row2_col2\" class=\"data row2 col2\" >191</td>\n",
       "      <td id=\"T_18a78_row2_col3\" class=\"data row2 col3\" >220</td>\n",
       "    </tr>\n",
       "    <tr>\n",
       "      <td id=\"T_18a78_row3_col0\" class=\"data row3 col0\" >Anime Onegai</td>\n",
       "      <td id=\"T_18a78_row3_col1\" class=\"data row3 col1\" >-14.2%</td>\n",
       "      <td id=\"T_18a78_row3_col2\" class=\"data row3 col2\" >424</td>\n",
       "      <td id=\"T_18a78_row3_col3\" class=\"data row3 col3\" >364</td>\n",
       "    </tr>\n",
       "  </tbody>\n",
       "</table>\n"
      ],
      "text/plain": [
       "<pandas.io.formats.style.Styler at 0x2b095555590>"
      ]
     },
     "metadata": {},
     "output_type": "display_data"
    },
    {
     "data": {
      "text/html": [
       "<hr>"
      ],
      "text/plain": [
       "<IPython.core.display.HTML object>"
      ]
     },
     "metadata": {},
     "output_type": "display_data"
    },
    {
     "data": {
      "text/html": [
       "<br><h2>Semana 11/04/2025</h2>"
      ],
      "text/plain": [
       "<IPython.core.display.HTML object>"
      ]
     },
     "metadata": {},
     "output_type": "display_data"
    },
    {
     "name": "stdout",
     "output_type": "stream",
     "text": [
      "Não houve variação no total de plataformas cobertas.\n"
     ]
    },
    {
     "data": {
      "text/html": [
       "<h4>Variações >5% no Catálogo de Conteúdos</h4>"
      ],
      "text/plain": [
       "<IPython.core.display.HTML object>"
      ]
     },
     "metadata": {},
     "output_type": "display_data"
    },
    {
     "data": {
      "text/html": [
       "<style type=\"text/css\">\n",
       "#T_d386c_row0_col1 {\n",
       "  background-color: #abdb6d;\n",
       "  color: #000000;\n",
       "}\n",
       "#T_d386c_row1_col1, #T_d386c_row3_col1 {\n",
       "  background-color: #eef8a8;\n",
       "  color: #000000;\n",
       "}\n",
       "#T_d386c_row2_col1 {\n",
       "  background-color: #fff1a8;\n",
       "  color: #000000;\n",
       "}\n",
       "#T_d386c_row4_col1, #T_d386c_row5_col1 {\n",
       "  background-color: #fff2aa;\n",
       "  color: #000000;\n",
       "}\n",
       "#T_d386c_row6_col1 {\n",
       "  background-color: #fff3ac;\n",
       "  color: #000000;\n",
       "}\n",
       "#T_d386c_row7_col1 {\n",
       "  background-color: #f5fbb2;\n",
       "  color: #000000;\n",
       "}\n",
       "</style>\n",
       "<table id=\"T_d386c\">\n",
       "  <thead>\n",
       "    <tr>\n",
       "      <th id=\"T_d386c_level0_col0\" class=\"col_heading level0 col0\" >Plataforma</th>\n",
       "      <th id=\"T_d386c_level0_col1\" class=\"col_heading level0 col1\" >Variação</th>\n",
       "      <th id=\"T_d386c_level0_col2\" class=\"col_heading level0 col2\" >Registros Anteriores</th>\n",
       "      <th id=\"T_d386c_level0_col3\" class=\"col_heading level0 col3\" >Registros Atuais</th>\n",
       "    </tr>\n",
       "  </thead>\n",
       "  <tbody>\n",
       "    <tr>\n",
       "      <td id=\"T_d386c_row0_col0\" class=\"data row0 col0\" >Umbra</td>\n",
       "      <td id=\"T_d386c_row0_col1\" class=\"data row0 col1\" >+37.9%</td>\n",
       "      <td id=\"T_d386c_row0_col2\" class=\"data row0 col2\" >243</td>\n",
       "      <td id=\"T_d386c_row0_col3\" class=\"data row0 col3\" >335</td>\n",
       "    </tr>\n",
       "    <tr>\n",
       "      <td id=\"T_d386c_row1_col0\" class=\"data row1 col0\" >Reserva Imovision</td>\n",
       "      <td id=\"T_d386c_row1_col1\" class=\"data row1 col1\" >+9.3%</td>\n",
       "      <td id=\"T_d386c_row1_col2\" class=\"data row1 col2\" >789</td>\n",
       "      <td id=\"T_d386c_row1_col3\" class=\"data row1 col3\" >862</td>\n",
       "    </tr>\n",
       "    <tr>\n",
       "      <td id=\"T_d386c_row2_col0\" class=\"data row2 col0\" >History Hit</td>\n",
       "      <td id=\"T_d386c_row2_col1\" class=\"data row2 col1\" >-8.8%</td>\n",
       "      <td id=\"T_d386c_row2_col2\" class=\"data row2 col2\" >364</td>\n",
       "      <td id=\"T_d386c_row2_col3\" class=\"data row2 col3\" >332</td>\n",
       "    </tr>\n",
       "    <tr>\n",
       "      <td id=\"T_d386c_row3_col0\" class=\"data row3 col0\" >UOL Play</td>\n",
       "      <td id=\"T_d386c_row3_col1\" class=\"data row3 col1\" >+8.7%</td>\n",
       "      <td id=\"T_d386c_row3_col2\" class=\"data row3 col2\" >1,052</td>\n",
       "      <td id=\"T_d386c_row3_col3\" class=\"data row3 col3\" >1,144</td>\n",
       "    </tr>\n",
       "    <tr>\n",
       "      <td id=\"T_d386c_row4_col0\" class=\"data row4 col0\" >Itaú Cultural Play</td>\n",
       "      <td id=\"T_d386c_row4_col1\" class=\"data row4 col1\" >-8.4%</td>\n",
       "      <td id=\"T_d386c_row4_col2\" class=\"data row4 col2\" >249</td>\n",
       "      <td id=\"T_d386c_row4_col3\" class=\"data row4 col3\" >228</td>\n",
       "    </tr>\n",
       "    <tr>\n",
       "      <td id=\"T_d386c_row5_col0\" class=\"data row5 col0\" >Mercado Play</td>\n",
       "      <td id=\"T_d386c_row5_col1\" class=\"data row5 col1\" >-8.3%</td>\n",
       "      <td id=\"T_d386c_row5_col2\" class=\"data row5 col2\" >2,054</td>\n",
       "      <td id=\"T_d386c_row5_col3\" class=\"data row5 col3\" >1,884</td>\n",
       "    </tr>\n",
       "    <tr>\n",
       "      <td id=\"T_d386c_row6_col0\" class=\"data row6 col0\" >MUBI</td>\n",
       "      <td id=\"T_d386c_row6_col1\" class=\"data row6 col1\" >-7.2%</td>\n",
       "      <td id=\"T_d386c_row6_col2\" class=\"data row6 col2\" >682</td>\n",
       "      <td id=\"T_d386c_row6_col3\" class=\"data row6 col3\" >633</td>\n",
       "    </tr>\n",
       "    <tr>\n",
       "      <td id=\"T_d386c_row7_col0\" class=\"data row7 col0\" >SBT Videos</td>\n",
       "      <td id=\"T_d386c_row7_col1\" class=\"data row7 col1\" >+5.1%</td>\n",
       "      <td id=\"T_d386c_row7_col2\" class=\"data row7 col2\" >412</td>\n",
       "      <td id=\"T_d386c_row7_col3\" class=\"data row7 col3\" >433</td>\n",
       "    </tr>\n",
       "  </tbody>\n",
       "</table>\n"
      ],
      "text/plain": [
       "<pandas.io.formats.style.Styler at 0x2b095555590>"
      ]
     },
     "metadata": {},
     "output_type": "display_data"
    },
    {
     "data": {
      "text/html": [
       "<hr>"
      ],
      "text/plain": [
       "<IPython.core.display.HTML object>"
      ]
     },
     "metadata": {},
     "output_type": "display_data"
    },
    {
     "data": {
      "text/html": [
       "<br><h2>Semana 18/04/2025</h2>"
      ],
      "text/plain": [
       "<IPython.core.display.HTML object>"
      ]
     },
     "metadata": {},
     "output_type": "display_data"
    },
    {
     "name": "stdout",
     "output_type": "stream",
     "text": [
      "Não houve variação no total de plataformas cobertas.\n"
     ]
    },
    {
     "data": {
      "text/html": [
       "<h4>Variações >5% no Catálogo de Conteúdos</h4>"
      ],
      "text/plain": [
       "<IPython.core.display.HTML object>"
      ]
     },
     "metadata": {},
     "output_type": "display_data"
    },
    {
     "data": {
      "text/html": [
       "<style type=\"text/css\">\n",
       "#T_7ceca_row0_col1 {\n",
       "  background-color: #006837;\n",
       "  color: #f1f1f1;\n",
       "}\n",
       "#T_7ceca_row1_col1 {\n",
       "  background-color: #feeda1;\n",
       "  color: #000000;\n",
       "}\n",
       "#T_7ceca_row2_col1 {\n",
       "  background-color: #eff8aa;\n",
       "  color: #000000;\n",
       "}\n",
       "#T_7ceca_row3_col1 {\n",
       "  background-color: #fff6b0;\n",
       "  color: #000000;\n",
       "}\n",
       "</style>\n",
       "<table id=\"T_7ceca\">\n",
       "  <thead>\n",
       "    <tr>\n",
       "      <th id=\"T_7ceca_level0_col0\" class=\"col_heading level0 col0\" >Plataforma</th>\n",
       "      <th id=\"T_7ceca_level0_col1\" class=\"col_heading level0 col1\" >Variação</th>\n",
       "      <th id=\"T_7ceca_level0_col2\" class=\"col_heading level0 col2\" >Registros Anteriores</th>\n",
       "      <th id=\"T_7ceca_level0_col3\" class=\"col_heading level0 col3\" >Registros Atuais</th>\n",
       "    </tr>\n",
       "  </thead>\n",
       "  <tbody>\n",
       "    <tr>\n",
       "      <td id=\"T_7ceca_row0_col0\" class=\"data row0 col0\" >Sesc Digital</td>\n",
       "      <td id=\"T_7ceca_row0_col1\" class=\"data row0 col1\" >+454.8%</td>\n",
       "      <td id=\"T_7ceca_row0_col2\" class=\"data row0 col2\" >42</td>\n",
       "      <td id=\"T_7ceca_row0_col3\" class=\"data row0 col3\" >233</td>\n",
       "    </tr>\n",
       "    <tr>\n",
       "      <td id=\"T_7ceca_row1_col0\" class=\"data row1 col0\" >Vivo Play</td>\n",
       "      <td id=\"T_7ceca_row1_col1\" class=\"data row1 col1\" >-11.4%</td>\n",
       "      <td id=\"T_7ceca_row1_col2\" class=\"data row1 col2\" >18,183</td>\n",
       "      <td id=\"T_7ceca_row1_col3\" class=\"data row1 col3\" >16,109</td>\n",
       "    </tr>\n",
       "    <tr>\n",
       "      <td id=\"T_7ceca_row2_col0\" class=\"data row2 col0\" >History Hit</td>\n",
       "      <td id=\"T_7ceca_row2_col1\" class=\"data row2 col1\" >+8.4%</td>\n",
       "      <td id=\"T_7ceca_row2_col2\" class=\"data row2 col2\" >332</td>\n",
       "      <td id=\"T_7ceca_row2_col3\" class=\"data row2 col3\" >360</td>\n",
       "    </tr>\n",
       "    <tr>\n",
       "      <td id=\"T_7ceca_row3_col0\" class=\"data row3 col0\" >IWantTFC</td>\n",
       "      <td id=\"T_7ceca_row3_col1\" class=\"data row3 col1\" >-5.9%</td>\n",
       "      <td id=\"T_7ceca_row3_col2\" class=\"data row3 col2\" >1,254</td>\n",
       "      <td id=\"T_7ceca_row3_col3\" class=\"data row3 col3\" >1,180</td>\n",
       "    </tr>\n",
       "  </tbody>\n",
       "</table>\n"
      ],
      "text/plain": [
       "<pandas.io.formats.style.Styler at 0x2b095555590>"
      ]
     },
     "metadata": {},
     "output_type": "display_data"
    },
    {
     "data": {
      "text/html": [
       "<hr>"
      ],
      "text/plain": [
       "<IPython.core.display.HTML object>"
      ]
     },
     "metadata": {},
     "output_type": "display_data"
    },
    {
     "data": {
      "text/html": [
       "<br><h2>Semana 21/04/2025</h2>"
      ],
      "text/plain": [
       "<IPython.core.display.HTML object>"
      ]
     },
     "metadata": {},
     "output_type": "display_data"
    },
    {
     "name": "stdout",
     "output_type": "stream",
     "text": [
      "Não houve variação no total de plataformas cobertas.\n"
     ]
    },
    {
     "data": {
      "text/html": [
       "<hr>"
      ],
      "text/plain": [
       "<IPython.core.display.HTML object>"
      ]
     },
     "metadata": {},
     "output_type": "display_data"
    },
    {
     "data": {
      "text/html": [
       "<br><h2>Semana 01/05/2025</h2>"
      ],
      "text/plain": [
       "<IPython.core.display.HTML object>"
      ]
     },
     "metadata": {},
     "output_type": "display_data"
    },
    {
     "name": "stdout",
     "output_type": "stream",
     "text": [
      "Não houve variação no total de plataformas cobertas.\n"
     ]
    },
    {
     "data": {
      "text/html": [
       "<h4>Variações >5% no Catálogo de Conteúdos</h4>"
      ],
      "text/plain": [
       "<IPython.core.display.HTML object>"
      ]
     },
     "metadata": {},
     "output_type": "display_data"
    },
    {
     "data": {
      "text/html": [
       "<style type=\"text/css\">\n",
       "#T_21a14_row0_col1 {\n",
       "  background-color: #f1f9ac;\n",
       "  color: #000000;\n",
       "}\n",
       "#T_21a14_row1_col1 {\n",
       "  background-color: #fff5ae;\n",
       "  color: #000000;\n",
       "}\n",
       "</style>\n",
       "<table id=\"T_21a14\">\n",
       "  <thead>\n",
       "    <tr>\n",
       "      <th id=\"T_21a14_level0_col0\" class=\"col_heading level0 col0\" >Plataforma</th>\n",
       "      <th id=\"T_21a14_level0_col1\" class=\"col_heading level0 col1\" >Variação</th>\n",
       "      <th id=\"T_21a14_level0_col2\" class=\"col_heading level0 col2\" >Registros Anteriores</th>\n",
       "      <th id=\"T_21a14_level0_col3\" class=\"col_heading level0 col3\" >Registros Atuais</th>\n",
       "    </tr>\n",
       "  </thead>\n",
       "  <tbody>\n",
       "    <tr>\n",
       "      <td id=\"T_21a14_row0_col0\" class=\"data row0 col0\" >Filmbox+</td>\n",
       "      <td id=\"T_21a14_row0_col1\" class=\"data row0 col1\" >+7.2%</td>\n",
       "      <td id=\"T_21a14_row0_col2\" class=\"data row0 col2\" >1,133</td>\n",
       "      <td id=\"T_21a14_row0_col3\" class=\"data row0 col3\" >1,215</td>\n",
       "    </tr>\n",
       "    <tr>\n",
       "      <td id=\"T_21a14_row1_col0\" class=\"data row1 col0\" >Curta!On</td>\n",
       "      <td id=\"T_21a14_row1_col1\" class=\"data row1 col1\" >-6.8%</td>\n",
       "      <td id=\"T_21a14_row1_col2\" class=\"data row1 col2\" >964</td>\n",
       "      <td id=\"T_21a14_row1_col3\" class=\"data row1 col3\" >898</td>\n",
       "    </tr>\n",
       "  </tbody>\n",
       "</table>\n"
      ],
      "text/plain": [
       "<pandas.io.formats.style.Styler at 0x2b095555590>"
      ]
     },
     "metadata": {},
     "output_type": "display_data"
    },
    {
     "data": {
      "text/html": [
       "<hr>"
      ],
      "text/plain": [
       "<IPython.core.display.HTML object>"
      ]
     },
     "metadata": {},
     "output_type": "display_data"
    },
    {
     "data": {
      "text/html": [
       "<br><h2>Semana 10/05/2025</h2>"
      ],
      "text/plain": [
       "<IPython.core.display.HTML object>"
      ]
     },
     "metadata": {},
     "output_type": "display_data"
    },
    {
     "data": {
      "text/html": [
       "<h4 style='color: #2E8B57;'>Novas Plataformas Cobertas</h4>"
      ],
      "text/plain": [
       "<IPython.core.display.HTML object>"
      ]
     },
     "metadata": {},
     "output_type": "display_data"
    },
    {
     "data": {
      "text/html": [
       "<style type=\"text/css\">\n",
       "#T_bb26b_row0_col1 {\n",
       "  width: 10em;\n",
       "  background: linear-gradient(90deg, #90EE90 100.0%, transparent 100.0%);\n",
       "}\n",
       "</style>\n",
       "<table id=\"T_bb26b\">\n",
       "  <thead>\n",
       "    <tr>\n",
       "      <th id=\"T_bb26b_level0_col0\" class=\"col_heading level0 col0\" >Plataforma</th>\n",
       "      <th id=\"T_bb26b_level0_col1\" class=\"col_heading level0 col1\" >Registros</th>\n",
       "    </tr>\n",
       "  </thead>\n",
       "  <tbody>\n",
       "    <tr>\n",
       "      <td id=\"T_bb26b_row0_col0\" class=\"data row0 col0\" >Reel Short</td>\n",
       "      <td id=\"T_bb26b_row0_col1\" class=\"data row0 col1\" >808</td>\n",
       "    </tr>\n",
       "  </tbody>\n",
       "</table>\n"
      ],
      "text/plain": [
       "<pandas.io.formats.style.Styler at 0x2b095555590>"
      ]
     },
     "metadata": {},
     "output_type": "display_data"
    },
    {
     "data": {
      "text/html": [
       "<h4>Variações >5% no Catálogo de Conteúdos</h4>"
      ],
      "text/plain": [
       "<IPython.core.display.HTML object>"
      ]
     },
     "metadata": {},
     "output_type": "display_data"
    },
    {
     "data": {
      "text/html": [
       "<style type=\"text/css\">\n",
       "#T_21969_row0_col1 {\n",
       "  background-color: #fa9857;\n",
       "  color: #000000;\n",
       "}\n",
       "#T_21969_row1_col1 {\n",
       "  background-color: #eff8aa;\n",
       "  color: #000000;\n",
       "}\n",
       "#T_21969_row2_col1 {\n",
       "  background-color: #fff3ac;\n",
       "  color: #000000;\n",
       "}\n",
       "#T_21969_row3_col1 {\n",
       "  background-color: #f1f9ac;\n",
       "  color: #000000;\n",
       "}\n",
       "#T_21969_row4_col1 {\n",
       "  background-color: #fff7b2;\n",
       "  color: #000000;\n",
       "}\n",
       "</style>\n",
       "<table id=\"T_21969\">\n",
       "  <thead>\n",
       "    <tr>\n",
       "      <th id=\"T_21969_level0_col0\" class=\"col_heading level0 col0\" >Plataforma</th>\n",
       "      <th id=\"T_21969_level0_col1\" class=\"col_heading level0 col1\" >Variação</th>\n",
       "      <th id=\"T_21969_level0_col2\" class=\"col_heading level0 col2\" >Registros Anteriores</th>\n",
       "      <th id=\"T_21969_level0_col3\" class=\"col_heading level0 col3\" >Registros Atuais</th>\n",
       "    </tr>\n",
       "  </thead>\n",
       "  <tbody>\n",
       "    <tr>\n",
       "      <td id=\"T_21969_row0_col0\" class=\"data row0 col0\" >ShemarooMe</td>\n",
       "      <td id=\"T_21969_row0_col1\" class=\"data row0 col1\" >-46.3%</td>\n",
       "      <td id=\"T_21969_row0_col2\" class=\"data row0 col2\" >2,513</td>\n",
       "      <td id=\"T_21969_row0_col3\" class=\"data row0 col3\" >1,349</td>\n",
       "    </tr>\n",
       "    <tr>\n",
       "      <td id=\"T_21969_row1_col0\" class=\"data row1 col0\" >Curta!On</td>\n",
       "      <td id=\"T_21969_row1_col1\" class=\"data row1 col1\" >+8.2%</td>\n",
       "      <td id=\"T_21969_row1_col2\" class=\"data row1 col2\" >898</td>\n",
       "      <td id=\"T_21969_row1_col3\" class=\"data row1 col3\" >972</td>\n",
       "    </tr>\n",
       "    <tr>\n",
       "      <td id=\"T_21969_row2_col0\" class=\"data row2 col0\" >Kidoodle.TV</td>\n",
       "      <td id=\"T_21969_row2_col1\" class=\"data row2 col1\" >-7.7%</td>\n",
       "      <td id=\"T_21969_row2_col2\" class=\"data row2 col2\" >865</td>\n",
       "      <td id=\"T_21969_row2_col3\" class=\"data row2 col3\" >798</td>\n",
       "    </tr>\n",
       "    <tr>\n",
       "      <td id=\"T_21969_row3_col0\" class=\"data row3 col0\" >Retina Latina</td>\n",
       "      <td id=\"T_21969_row3_col1\" class=\"data row3 col1\" >+7.1%</td>\n",
       "      <td id=\"T_21969_row3_col2\" class=\"data row3 col2\" >340</td>\n",
       "      <td id=\"T_21969_row3_col3\" class=\"data row3 col3\" >364</td>\n",
       "    </tr>\n",
       "    <tr>\n",
       "      <td id=\"T_21969_row4_col0\" class=\"data row4 col0\" >Itaú Cultural Play</td>\n",
       "      <td id=\"T_21969_row4_col1\" class=\"data row4 col1\" >-5.0%</td>\n",
       "      <td id=\"T_21969_row4_col2\" class=\"data row4 col2\" >239</td>\n",
       "      <td id=\"T_21969_row4_col3\" class=\"data row4 col3\" >227</td>\n",
       "    </tr>\n",
       "  </tbody>\n",
       "</table>\n"
      ],
      "text/plain": [
       "<pandas.io.formats.style.Styler at 0x2b095555590>"
      ]
     },
     "metadata": {},
     "output_type": "display_data"
    },
    {
     "data": {
      "text/html": [
       "<hr>"
      ],
      "text/plain": [
       "<IPython.core.display.HTML object>"
      ]
     },
     "metadata": {},
     "output_type": "display_data"
    },
    {
     "data": {
      "text/html": [
       "<br><h2>Semana 15/05/2025</h2>"
      ],
      "text/plain": [
       "<IPython.core.display.HTML object>"
      ]
     },
     "metadata": {},
     "output_type": "display_data"
    },
    {
     "name": "stdout",
     "output_type": "stream",
     "text": [
      "Não houve variação no total de plataformas cobertas.\n"
     ]
    },
    {
     "data": {
      "text/html": [
       "<h4>Variações >5% no Catálogo de Conteúdos</h4>"
      ],
      "text/plain": [
       "<IPython.core.display.HTML object>"
      ]
     },
     "metadata": {},
     "output_type": "display_data"
    },
    {
     "data": {
      "text/html": [
       "<style type=\"text/css\">\n",
       "#T_3b84b_row0_col1 {\n",
       "  background-color: #73c264;\n",
       "  color: #000000;\n",
       "}\n",
       "#T_3b84b_row1_col1 {\n",
       "  background-color: #e9f6a1;\n",
       "  color: #000000;\n",
       "}\n",
       "#T_3b84b_row2_col1 {\n",
       "  background-color: #f1f9ac;\n",
       "  color: #000000;\n",
       "}\n",
       "#T_3b84b_row3_col1 {\n",
       "  background-color: #fff5ae;\n",
       "  color: #000000;\n",
       "}\n",
       "#T_3b84b_row4_col1 {\n",
       "  background-color: #fff7b2;\n",
       "  color: #000000;\n",
       "}\n",
       "</style>\n",
       "<table id=\"T_3b84b\">\n",
       "  <thead>\n",
       "    <tr>\n",
       "      <th id=\"T_3b84b_level0_col0\" class=\"col_heading level0 col0\" >Plataforma</th>\n",
       "      <th id=\"T_3b84b_level0_col1\" class=\"col_heading level0 col1\" >Variação</th>\n",
       "      <th id=\"T_3b84b_level0_col2\" class=\"col_heading level0 col2\" >Registros Anteriores</th>\n",
       "      <th id=\"T_3b84b_level0_col3\" class=\"col_heading level0 col3\" >Registros Atuais</th>\n",
       "    </tr>\n",
       "  </thead>\n",
       "  <tbody>\n",
       "    <tr>\n",
       "      <td id=\"T_3b84b_row0_col0\" class=\"data row0 col0\" >ShemarooMe</td>\n",
       "      <td id=\"T_3b84b_row0_col1\" class=\"data row0 col1\" >+55.9%</td>\n",
       "      <td id=\"T_3b84b_row0_col2\" class=\"data row0 col2\" >1,349</td>\n",
       "      <td id=\"T_3b84b_row0_col3\" class=\"data row0 col3\" >2,103</td>\n",
       "    </tr>\n",
       "    <tr>\n",
       "      <td id=\"T_3b84b_row1_col0\" class=\"data row1 col0\" >Todesplay</td>\n",
       "      <td id=\"T_3b84b_row1_col1\" class=\"data row1 col1\" >+11.2%</td>\n",
       "      <td id=\"T_3b84b_row1_col2\" class=\"data row1 col2\" >196</td>\n",
       "      <td id=\"T_3b84b_row1_col3\" class=\"data row1 col3\" >218</td>\n",
       "    </tr>\n",
       "    <tr>\n",
       "      <td id=\"T_3b84b_row2_col0\" class=\"data row2 col0\" >Itaú Cultural Play</td>\n",
       "      <td id=\"T_3b84b_row2_col1\" class=\"data row2 col1\" >+7.5%</td>\n",
       "      <td id=\"T_3b84b_row2_col2\" class=\"data row2 col2\" >227</td>\n",
       "      <td id=\"T_3b84b_row2_col3\" class=\"data row2 col3\" >244</td>\n",
       "    </tr>\n",
       "    <tr>\n",
       "      <td id=\"T_3b84b_row3_col0\" class=\"data row3 col0\" >Crunchyroll</td>\n",
       "      <td id=\"T_3b84b_row3_col1\" class=\"data row3 col1\" >-6.5%</td>\n",
       "      <td id=\"T_3b84b_row3_col2\" class=\"data row3 col2\" >1,712</td>\n",
       "      <td id=\"T_3b84b_row3_col3\" class=\"data row3 col3\" >1,600</td>\n",
       "    </tr>\n",
       "    <tr>\n",
       "      <td id=\"T_3b84b_row4_col0\" class=\"data row4 col0\" >Spcine Play</td>\n",
       "      <td id=\"T_3b84b_row4_col1\" class=\"data row4 col1\" >-5.2%</td>\n",
       "      <td id=\"T_3b84b_row4_col2\" class=\"data row4 col2\" >230</td>\n",
       "      <td id=\"T_3b84b_row4_col3\" class=\"data row4 col3\" >218</td>\n",
       "    </tr>\n",
       "  </tbody>\n",
       "</table>\n"
      ],
      "text/plain": [
       "<pandas.io.formats.style.Styler at 0x2b095555590>"
      ]
     },
     "metadata": {},
     "output_type": "display_data"
    },
    {
     "data": {
      "text/html": [
       "<hr>"
      ],
      "text/plain": [
       "<IPython.core.display.HTML object>"
      ]
     },
     "metadata": {},
     "output_type": "display_data"
    },
    {
     "data": {
      "text/html": [
       "<br><h2>Semana 22/05/2025</h2>"
      ],
      "text/plain": [
       "<IPython.core.display.HTML object>"
      ]
     },
     "metadata": {},
     "output_type": "display_data"
    },
    {
     "data": {
      "text/html": [
       "<h4 style='color: #CD5C5C;'>Plataformas que deixaram a cobertura</h4>"
      ],
      "text/plain": [
       "<IPython.core.display.HTML object>"
      ]
     },
     "metadata": {},
     "output_type": "display_data"
    },
    {
     "data": {
      "text/html": [
       "<style type=\"text/css\">\n",
       "#T_5de54_row0_col1 {\n",
       "  width: 10em;\n",
       "  background: linear-gradient(90deg, #FFA07A 100.0%, transparent 100.0%);\n",
       "}\n",
       "</style>\n",
       "<table id=\"T_5de54\">\n",
       "  <thead>\n",
       "    <tr>\n",
       "      <th id=\"T_5de54_level0_col0\" class=\"col_heading level0 col0\" >Plataforma</th>\n",
       "      <th id=\"T_5de54_level0_col1\" class=\"col_heading level0 col1\" >Registros Anteriores</th>\n",
       "    </tr>\n",
       "  </thead>\n",
       "  <tbody>\n",
       "    <tr>\n",
       "      <td id=\"T_5de54_row0_col0\" class=\"data row0 col0\" >Discovery+</td>\n",
       "      <td id=\"T_5de54_row0_col1\" class=\"data row0 col1\" >1,249</td>\n",
       "    </tr>\n",
       "  </tbody>\n",
       "</table>\n"
      ],
      "text/plain": [
       "<pandas.io.formats.style.Styler at 0x2b095555590>"
      ]
     },
     "metadata": {},
     "output_type": "display_data"
    },
    {
     "data": {
      "text/html": [
       "<h4>Variações >5% no Catálogo de Conteúdos</h4>"
      ],
      "text/plain": [
       "<IPython.core.display.HTML object>"
      ]
     },
     "metadata": {},
     "output_type": "display_data"
    },
    {
     "data": {
      "text/html": [
       "<style type=\"text/css\">\n",
       "#T_cfe5a_row0_col1, #T_cfe5a_row1_col1 {\n",
       "  background-color: #f2faae;\n",
       "  color: #000000;\n",
       "}\n",
       "</style>\n",
       "<table id=\"T_cfe5a\">\n",
       "  <thead>\n",
       "    <tr>\n",
       "      <th id=\"T_cfe5a_level0_col0\" class=\"col_heading level0 col0\" >Plataforma</th>\n",
       "      <th id=\"T_cfe5a_level0_col1\" class=\"col_heading level0 col1\" >Variação</th>\n",
       "      <th id=\"T_cfe5a_level0_col2\" class=\"col_heading level0 col2\" >Registros Anteriores</th>\n",
       "      <th id=\"T_cfe5a_level0_col3\" class=\"col_heading level0 col3\" >Registros Atuais</th>\n",
       "    </tr>\n",
       "  </thead>\n",
       "  <tbody>\n",
       "    <tr>\n",
       "      <td id=\"T_cfe5a_row0_col0\" class=\"data row0 col0\" >Crunchyroll</td>\n",
       "      <td id=\"T_cfe5a_row0_col1\" class=\"data row0 col1\" >+6.8%</td>\n",
       "      <td id=\"T_cfe5a_row0_col2\" class=\"data row0 col2\" >1,600</td>\n",
       "      <td id=\"T_cfe5a_row0_col3\" class=\"data row0 col3\" >1,709</td>\n",
       "    </tr>\n",
       "    <tr>\n",
       "      <td id=\"T_cfe5a_row1_col0\" class=\"data row1 col0\" >Darkflix+</td>\n",
       "      <td id=\"T_cfe5a_row1_col1\" class=\"data row1 col1\" >+6.6%</td>\n",
       "      <td id=\"T_cfe5a_row1_col2\" class=\"data row1 col2\" >1,480</td>\n",
       "      <td id=\"T_cfe5a_row1_col3\" class=\"data row1 col3\" >1,577</td>\n",
       "    </tr>\n",
       "  </tbody>\n",
       "</table>\n"
      ],
      "text/plain": [
       "<pandas.io.formats.style.Styler at 0x2b095555590>"
      ]
     },
     "metadata": {},
     "output_type": "display_data"
    },
    {
     "data": {
      "text/html": [
       "<hr>"
      ],
      "text/plain": [
       "<IPython.core.display.HTML object>"
      ]
     },
     "metadata": {},
     "output_type": "display_data"
    },
    {
     "data": {
      "text/html": [
       "<br><h2>Semana 30/05/2025</h2>"
      ],
      "text/plain": [
       "<IPython.core.display.HTML object>"
      ]
     },
     "metadata": {},
     "output_type": "display_data"
    },
    {
     "name": "stdout",
     "output_type": "stream",
     "text": [
      "Não houve variação no total de plataformas cobertas.\n"
     ]
    },
    {
     "data": {
      "text/html": [
       "<h4>Variações >5% no Catálogo de Conteúdos</h4>"
      ],
      "text/plain": [
       "<IPython.core.display.HTML object>"
      ]
     },
     "metadata": {},
     "output_type": "display_data"
    },
    {
     "data": {
      "text/html": [
       "<style type=\"text/css\">\n",
       "#T_fbbb8_row0_col1 {\n",
       "  background-color: #fff6b0;\n",
       "  color: #000000;\n",
       "}\n",
       "#T_fbbb8_row1_col1, #T_fbbb8_row2_col1 {\n",
       "  background-color: #fff7b2;\n",
       "  color: #000000;\n",
       "}\n",
       "#T_fbbb8_row3_col1 {\n",
       "  background-color: #f5fbb2;\n",
       "  color: #000000;\n",
       "}\n",
       "</style>\n",
       "<table id=\"T_fbbb8\">\n",
       "  <thead>\n",
       "    <tr>\n",
       "      <th id=\"T_fbbb8_level0_col0\" class=\"col_heading level0 col0\" >Plataforma</th>\n",
       "      <th id=\"T_fbbb8_level0_col1\" class=\"col_heading level0 col1\" >Variação</th>\n",
       "      <th id=\"T_fbbb8_level0_col2\" class=\"col_heading level0 col2\" >Registros Anteriores</th>\n",
       "      <th id=\"T_fbbb8_level0_col3\" class=\"col_heading level0 col3\" >Registros Atuais</th>\n",
       "    </tr>\n",
       "  </thead>\n",
       "  <tbody>\n",
       "    <tr>\n",
       "      <td id=\"T_fbbb8_row0_col0\" class=\"data row0 col0\" >Canela.TV</td>\n",
       "      <td id=\"T_fbbb8_row0_col1\" class=\"data row0 col1\" >-5.8%</td>\n",
       "      <td id=\"T_fbbb8_row0_col2\" class=\"data row0 col2\" >3,191</td>\n",
       "      <td id=\"T_fbbb8_row0_col3\" class=\"data row0 col3\" >3,005</td>\n",
       "    </tr>\n",
       "    <tr>\n",
       "      <td id=\"T_fbbb8_row1_col0\" class=\"data row1 col0\" >Itaú Cultural Play</td>\n",
       "      <td id=\"T_fbbb8_row1_col1\" class=\"data row1 col1\" >-5.1%</td>\n",
       "      <td id=\"T_fbbb8_row1_col2\" class=\"data row1 col2\" >234</td>\n",
       "      <td id=\"T_fbbb8_row1_col3\" class=\"data row1 col3\" >222</td>\n",
       "    </tr>\n",
       "    <tr>\n",
       "      <td id=\"T_fbbb8_row2_col0\" class=\"data row2 col0\" >History Hit</td>\n",
       "      <td id=\"T_fbbb8_row2_col1\" class=\"data row2 col1\" >-5.0%</td>\n",
       "      <td id=\"T_fbbb8_row2_col2\" class=\"data row2 col2\" >357</td>\n",
       "      <td id=\"T_fbbb8_row2_col3\" class=\"data row2 col3\" >339</td>\n",
       "    </tr>\n",
       "    <tr>\n",
       "      <td id=\"T_fbbb8_row3_col0\" class=\"data row3 col0\" >Mercado Play</td>\n",
       "      <td id=\"T_fbbb8_row3_col1\" class=\"data row3 col1\" >+5.0%</td>\n",
       "      <td id=\"T_fbbb8_row3_col2\" class=\"data row3 col2\" >1,954</td>\n",
       "      <td id=\"T_fbbb8_row3_col3\" class=\"data row3 col3\" >2,052</td>\n",
       "    </tr>\n",
       "  </tbody>\n",
       "</table>\n"
      ],
      "text/plain": [
       "<pandas.io.formats.style.Styler at 0x2b095555590>"
      ]
     },
     "metadata": {},
     "output_type": "display_data"
    },
    {
     "data": {
      "text/html": [
       "<hr>"
      ],
      "text/plain": [
       "<IPython.core.display.HTML object>"
      ]
     },
     "metadata": {},
     "output_type": "display_data"
    },
    {
     "data": {
      "text/html": [
       "<br><h2>Semana 05/06/2025</h2>"
      ],
      "text/plain": [
       "<IPython.core.display.HTML object>"
      ]
     },
     "metadata": {},
     "output_type": "display_data"
    },
    {
     "name": "stdout",
     "output_type": "stream",
     "text": [
      "Não houve variação no total de plataformas cobertas.\n"
     ]
    },
    {
     "data": {
      "text/html": [
       "<h4>Variações >5% no Catálogo de Conteúdos</h4>"
      ],
      "text/plain": [
       "<IPython.core.display.HTML object>"
      ]
     },
     "metadata": {},
     "output_type": "display_data"
    },
    {
     "data": {
      "text/html": [
       "<style type=\"text/css\">\n",
       "#T_f5057_row0_col1 {\n",
       "  background-color: #006837;\n",
       "  color: #f1f1f1;\n",
       "}\n",
       "#T_f5057_row1_col1 {\n",
       "  background-color: #249d53;\n",
       "  color: #f1f1f1;\n",
       "}\n",
       "#T_f5057_row2_col1 {\n",
       "  background-color: #fa9857;\n",
       "  color: #000000;\n",
       "}\n",
       "#T_f5057_row3_col1 {\n",
       "  background-color: #fff3ac;\n",
       "  color: #000000;\n",
       "}\n",
       "</style>\n",
       "<table id=\"T_f5057\">\n",
       "  <thead>\n",
       "    <tr>\n",
       "      <th id=\"T_f5057_level0_col0\" class=\"col_heading level0 col0\" >Plataforma</th>\n",
       "      <th id=\"T_f5057_level0_col1\" class=\"col_heading level0 col1\" >Variação</th>\n",
       "      <th id=\"T_f5057_level0_col2\" class=\"col_heading level0 col2\" >Registros Anteriores</th>\n",
       "      <th id=\"T_f5057_level0_col3\" class=\"col_heading level0 col3\" >Registros Atuais</th>\n",
       "    </tr>\n",
       "  </thead>\n",
       "  <tbody>\n",
       "    <tr>\n",
       "      <td id=\"T_f5057_row0_col0\" class=\"data row0 col0\" >Filmzie</td>\n",
       "      <td id=\"T_f5057_row0_col1\" class=\"data row0 col1\" >+135.2%</td>\n",
       "      <td id=\"T_f5057_row0_col2\" class=\"data row0 col2\" >1,284</td>\n",
       "      <td id=\"T_f5057_row0_col3\" class=\"data row0 col3\" >3,020</td>\n",
       "    </tr>\n",
       "    <tr>\n",
       "      <td id=\"T_f5057_row1_col0\" class=\"data row1 col0\" >IWantTFC</td>\n",
       "      <td id=\"T_f5057_row1_col1\" class=\"data row1 col1\" >+76.7%</td>\n",
       "      <td id=\"T_f5057_row1_col2\" class=\"data row1 col2\" >1,177</td>\n",
       "      <td id=\"T_f5057_row1_col3\" class=\"data row1 col3\" >2,080</td>\n",
       "    </tr>\n",
       "    <tr>\n",
       "      <td id=\"T_f5057_row2_col0\" class=\"data row2 col0\" >Revry</td>\n",
       "      <td id=\"T_f5057_row2_col1\" class=\"data row2 col1\" >-46.2%</td>\n",
       "      <td id=\"T_f5057_row2_col2\" class=\"data row2 col2\" >749</td>\n",
       "      <td id=\"T_f5057_row2_col3\" class=\"data row2 col3\" >403</td>\n",
       "    </tr>\n",
       "    <tr>\n",
       "      <td id=\"T_f5057_row3_col0\" class=\"data row3 col0\" >Demand Africa</td>\n",
       "      <td id=\"T_f5057_row3_col1\" class=\"data row3 col1\" >-7.1%</td>\n",
       "      <td id=\"T_f5057_row3_col2\" class=\"data row3 col2\" >367</td>\n",
       "      <td id=\"T_f5057_row3_col3\" class=\"data row3 col3\" >341</td>\n",
       "    </tr>\n",
       "  </tbody>\n",
       "</table>\n"
      ],
      "text/plain": [
       "<pandas.io.formats.style.Styler at 0x2b095555590>"
      ]
     },
     "metadata": {},
     "output_type": "display_data"
    },
    {
     "data": {
      "text/html": [
       "<hr>"
      ],
      "text/plain": [
       "<IPython.core.display.HTML object>"
      ]
     },
     "metadata": {},
     "output_type": "display_data"
    },
    {
     "data": {
      "text/html": [
       "<br><h2>Semana 12/06/2025</h2>"
      ],
      "text/plain": [
       "<IPython.core.display.HTML object>"
      ]
     },
     "metadata": {},
     "output_type": "display_data"
    },
    {
     "name": "stdout",
     "output_type": "stream",
     "text": [
      "Não houve variação no total de plataformas cobertas.\n"
     ]
    },
    {
     "data": {
      "text/html": [
       "<h4>Variações >5% no Catálogo de Conteúdos</h4>"
      ],
      "text/plain": [
       "<IPython.core.display.HTML object>"
      ]
     },
     "metadata": {},
     "output_type": "display_data"
    },
    {
     "data": {
      "text/html": [
       "<style type=\"text/css\">\n",
       "#T_880af_row0_col1 {\n",
       "  background-color: #eff8aa;\n",
       "  color: #000000;\n",
       "}\n",
       "#T_880af_row1_col1 {\n",
       "  background-color: #f1f9ac;\n",
       "  color: #000000;\n",
       "}\n",
       "#T_880af_row2_col1 {\n",
       "  background-color: #fff6b0;\n",
       "  color: #000000;\n",
       "}\n",
       "#T_880af_row3_col1 {\n",
       "  background-color: #f4fab0;\n",
       "  color: #000000;\n",
       "}\n",
       "</style>\n",
       "<table id=\"T_880af\">\n",
       "  <thead>\n",
       "    <tr>\n",
       "      <th id=\"T_880af_level0_col0\" class=\"col_heading level0 col0\" >Plataforma</th>\n",
       "      <th id=\"T_880af_level0_col1\" class=\"col_heading level0 col1\" >Variação</th>\n",
       "      <th id=\"T_880af_level0_col2\" class=\"col_heading level0 col2\" >Registros Anteriores</th>\n",
       "      <th id=\"T_880af_level0_col3\" class=\"col_heading level0 col3\" >Registros Atuais</th>\n",
       "    </tr>\n",
       "  </thead>\n",
       "  <tbody>\n",
       "    <tr>\n",
       "      <td id=\"T_880af_row0_col0\" class=\"data row0 col0\" >History Hit</td>\n",
       "      <td id=\"T_880af_row0_col1\" class=\"data row0 col1\" >+8.0%</td>\n",
       "      <td id=\"T_880af_row0_col2\" class=\"data row0 col2\" >336</td>\n",
       "      <td id=\"T_880af_row0_col3\" class=\"data row0 col3\" >363</td>\n",
       "    </tr>\n",
       "    <tr>\n",
       "      <td id=\"T_880af_row1_col0\" class=\"data row1 col0\" >Canela.TV</td>\n",
       "      <td id=\"T_880af_row1_col1\" class=\"data row1 col1\" >+7.5%</td>\n",
       "      <td id=\"T_880af_row1_col2\" class=\"data row1 col2\" >2,919</td>\n",
       "      <td id=\"T_880af_row1_col3\" class=\"data row1 col3\" >3,137</td>\n",
       "    </tr>\n",
       "    <tr>\n",
       "      <td id=\"T_880af_row2_col0\" class=\"data row2 col0\" >Filmicca</td>\n",
       "      <td id=\"T_880af_row2_col1\" class=\"data row2 col1\" >-5.9%</td>\n",
       "      <td id=\"T_880af_row2_col2\" class=\"data row2 col2\" >510</td>\n",
       "      <td id=\"T_880af_row2_col3\" class=\"data row2 col3\" >480</td>\n",
       "    </tr>\n",
       "    <tr>\n",
       "      <td id=\"T_880af_row3_col0\" class=\"data row3 col0\" >Darkflix+</td>\n",
       "      <td id=\"T_880af_row3_col1\" class=\"data row3 col1\" >+5.8%</td>\n",
       "      <td id=\"T_880af_row3_col2\" class=\"data row3 col2\" >1,528</td>\n",
       "      <td id=\"T_880af_row3_col3\" class=\"data row3 col3\" >1,616</td>\n",
       "    </tr>\n",
       "  </tbody>\n",
       "</table>\n"
      ],
      "text/plain": [
       "<pandas.io.formats.style.Styler at 0x2b095555590>"
      ]
     },
     "metadata": {},
     "output_type": "display_data"
    },
    {
     "data": {
      "text/html": [
       "<hr>"
      ],
      "text/plain": [
       "<IPython.core.display.HTML object>"
      ]
     },
     "metadata": {},
     "output_type": "display_data"
    },
    {
     "data": {
      "text/html": [
       "<br><h2>Semana 19/06/2025</h2>"
      ],
      "text/plain": [
       "<IPython.core.display.HTML object>"
      ]
     },
     "metadata": {},
     "output_type": "display_data"
    },
    {
     "data": {
      "text/html": [
       "<h4 style='color: #CD5C5C;'>Plataformas que deixaram a cobertura</h4>"
      ],
      "text/plain": [
       "<IPython.core.display.HTML object>"
      ]
     },
     "metadata": {},
     "output_type": "display_data"
    },
    {
     "data": {
      "text/html": [
       "<style type=\"text/css\">\n",
       "#T_0c9fd_row0_col1 {\n",
       "  width: 10em;\n",
       "  background: linear-gradient(90deg, #FFA07A 100.0%, transparent 100.0%);\n",
       "}\n",
       "</style>\n",
       "<table id=\"T_0c9fd\">\n",
       "  <thead>\n",
       "    <tr>\n",
       "      <th id=\"T_0c9fd_level0_col0\" class=\"col_heading level0 col0\" >Plataforma</th>\n",
       "      <th id=\"T_0c9fd_level0_col1\" class=\"col_heading level0 col1\" >Registros Anteriores</th>\n",
       "    </tr>\n",
       "  </thead>\n",
       "  <tbody>\n",
       "    <tr>\n",
       "      <td id=\"T_0c9fd_row0_col0\" class=\"data row0 col0\" >Canais Globo</td>\n",
       "      <td id=\"T_0c9fd_row0_col1\" class=\"data row0 col1\" >1,605</td>\n",
       "    </tr>\n",
       "  </tbody>\n",
       "</table>\n"
      ],
      "text/plain": [
       "<pandas.io.formats.style.Styler at 0x2b095555590>"
      ]
     },
     "metadata": {},
     "output_type": "display_data"
    },
    {
     "data": {
      "text/html": [
       "<h4>Variações >5% no Catálogo de Conteúdos</h4>"
      ],
      "text/plain": [
       "<IPython.core.display.HTML object>"
      ]
     },
     "metadata": {},
     "output_type": "display_data"
    },
    {
     "data": {
      "text/html": [
       "<style type=\"text/css\">\n",
       "#T_ee845_row0_col1 {\n",
       "  background-color: #fff0a6;\n",
       "  color: #000000;\n",
       "}\n",
       "#T_ee845_row1_col1 {\n",
       "  background-color: #fff6b0;\n",
       "  color: #000000;\n",
       "}\n",
       "</style>\n",
       "<table id=\"T_ee845\">\n",
       "  <thead>\n",
       "    <tr>\n",
       "      <th id=\"T_ee845_level0_col0\" class=\"col_heading level0 col0\" >Plataforma</th>\n",
       "      <th id=\"T_ee845_level0_col1\" class=\"col_heading level0 col1\" >Variação</th>\n",
       "      <th id=\"T_ee845_level0_col2\" class=\"col_heading level0 col2\" >Registros Anteriores</th>\n",
       "      <th id=\"T_ee845_level0_col3\" class=\"col_heading level0 col3\" >Registros Atuais</th>\n",
       "    </tr>\n",
       "  </thead>\n",
       "  <tbody>\n",
       "    <tr>\n",
       "      <td id=\"T_ee845_row0_col0\" class=\"data row0 col0\" >Darkflix+</td>\n",
       "      <td id=\"T_ee845_row0_col1\" class=\"data row0 col1\" >-10.1%</td>\n",
       "      <td id=\"T_ee845_row0_col2\" class=\"data row0 col2\" >1,616</td>\n",
       "      <td id=\"T_ee845_row0_col3\" class=\"data row0 col3\" >1,453</td>\n",
       "    </tr>\n",
       "    <tr>\n",
       "      <td id=\"T_ee845_row1_col0\" class=\"data row1 col0\" >Revry</td>\n",
       "      <td id=\"T_ee845_row1_col1\" class=\"data row1 col1\" >-6.0%</td>\n",
       "      <td id=\"T_ee845_row1_col2\" class=\"data row1 col2\" >403</td>\n",
       "      <td id=\"T_ee845_row1_col3\" class=\"data row1 col3\" >379</td>\n",
       "    </tr>\n",
       "  </tbody>\n",
       "</table>\n"
      ],
      "text/plain": [
       "<pandas.io.formats.style.Styler at 0x2b095555590>"
      ]
     },
     "metadata": {},
     "output_type": "display_data"
    },
    {
     "data": {
      "text/html": [
       "<hr>"
      ],
      "text/plain": [
       "<IPython.core.display.HTML object>"
      ]
     },
     "metadata": {},
     "output_type": "display_data"
    },
    {
     "data": {
      "text/html": [
       "<br><h2>Semana 26/06/2025</h2>"
      ],
      "text/plain": [
       "<IPython.core.display.HTML object>"
      ]
     },
     "metadata": {},
     "output_type": "display_data"
    },
    {
     "name": "stdout",
     "output_type": "stream",
     "text": [
      "Não houve variação no total de plataformas cobertas.\n"
     ]
    },
    {
     "data": {
      "text/html": [
       "<h4>Variações >5% no Catálogo de Conteúdos</h4>"
      ],
      "text/plain": [
       "<IPython.core.display.HTML object>"
      ]
     },
     "metadata": {},
     "output_type": "display_data"
    },
    {
     "data": {
      "text/html": [
       "<style type=\"text/css\">\n",
       "#T_ea7e8_row0_col1 {\n",
       "  background-color: #f1f9ac;\n",
       "  color: #000000;\n",
       "}\n",
       "#T_ea7e8_row1_col1 {\n",
       "  background-color: #fff7b2;\n",
       "  color: #000000;\n",
       "}\n",
       "</style>\n",
       "<table id=\"T_ea7e8\">\n",
       "  <thead>\n",
       "    <tr>\n",
       "      <th id=\"T_ea7e8_level0_col0\" class=\"col_heading level0 col0\" >Plataforma</th>\n",
       "      <th id=\"T_ea7e8_level0_col1\" class=\"col_heading level0 col1\" >Variação</th>\n",
       "      <th id=\"T_ea7e8_level0_col2\" class=\"col_heading level0 col2\" >Registros Anteriores</th>\n",
       "      <th id=\"T_ea7e8_level0_col3\" class=\"col_heading level0 col3\" >Registros Atuais</th>\n",
       "    </tr>\n",
       "  </thead>\n",
       "  <tbody>\n",
       "    <tr>\n",
       "      <td id=\"T_ea7e8_row0_col0\" class=\"data row0 col0\" >MUBI</td>\n",
       "      <td id=\"T_ea7e8_row0_col1\" class=\"data row0 col1\" >+7.6%</td>\n",
       "      <td id=\"T_ea7e8_row0_col2\" class=\"data row0 col2\" >632</td>\n",
       "      <td id=\"T_ea7e8_row0_col3\" class=\"data row0 col3\" >680</td>\n",
       "    </tr>\n",
       "    <tr>\n",
       "      <td id=\"T_ea7e8_row1_col0\" class=\"data row1 col0\" >TVN Play</td>\n",
       "      <td id=\"T_ea7e8_row1_col1\" class=\"data row1 col1\" >-5.2%</td>\n",
       "      <td id=\"T_ea7e8_row1_col2\" class=\"data row1 col2\" >421</td>\n",
       "      <td id=\"T_ea7e8_row1_col3\" class=\"data row1 col3\" >399</td>\n",
       "    </tr>\n",
       "  </tbody>\n",
       "</table>\n"
      ],
      "text/plain": [
       "<pandas.io.formats.style.Styler at 0x2b095555590>"
      ]
     },
     "metadata": {},
     "output_type": "display_data"
    },
    {
     "data": {
      "text/html": [
       "<hr>"
      ],
      "text/plain": [
       "<IPython.core.display.HTML object>"
      ]
     },
     "metadata": {},
     "output_type": "display_data"
    },
    {
     "data": {
      "text/html": [
       "<br><h2>Semana 10/07/2025</h2>"
      ],
      "text/plain": [
       "<IPython.core.display.HTML object>"
      ]
     },
     "metadata": {},
     "output_type": "display_data"
    },
    {
     "data": {
      "text/html": [
       "<h4 style='color: #CD5C5C;'>Plataformas que deixaram a cobertura</h4>"
      ],
      "text/plain": [
       "<IPython.core.display.HTML object>"
      ]
     },
     "metadata": {},
     "output_type": "display_data"
    },
    {
     "data": {
      "text/html": [
       "<style type=\"text/css\">\n",
       "#T_ad6b1_row0_col1 {\n",
       "  width: 10em;\n",
       "  background: linear-gradient(90deg, #FFA07A 100.0%, transparent 100.0%);\n",
       "}\n",
       "</style>\n",
       "<table id=\"T_ad6b1\">\n",
       "  <thead>\n",
       "    <tr>\n",
       "      <th id=\"T_ad6b1_level0_col0\" class=\"col_heading level0 col0\" >Plataforma</th>\n",
       "      <th id=\"T_ad6b1_level0_col1\" class=\"col_heading level0 col1\" >Registros Anteriores</th>\n",
       "    </tr>\n",
       "  </thead>\n",
       "  <tbody>\n",
       "    <tr>\n",
       "      <td id=\"T_ad6b1_row0_col0\" class=\"data row0 col0\" >Insight TV</td>\n",
       "      <td id=\"T_ad6b1_row0_col1\" class=\"data row0 col1\" >149</td>\n",
       "    </tr>\n",
       "  </tbody>\n",
       "</table>\n"
      ],
      "text/plain": [
       "<pandas.io.formats.style.Styler at 0x2b095555590>"
      ]
     },
     "metadata": {},
     "output_type": "display_data"
    },
    {
     "data": {
      "text/html": [
       "<h4>Variações >5% no Catálogo de Conteúdos</h4>"
      ],
      "text/plain": [
       "<IPython.core.display.HTML object>"
      ]
     },
     "metadata": {},
     "output_type": "display_data"
    },
    {
     "data": {
      "text/html": [
       "<style type=\"text/css\">\n",
       "#T_088d6_row0_col1 {\n",
       "  background-color: #279f53;\n",
       "  color: #f1f1f1;\n",
       "}\n",
       "#T_088d6_row1_col1 {\n",
       "  background-color: #feca79;\n",
       "  color: #000000;\n",
       "}\n",
       "#T_088d6_row2_col1 {\n",
       "  background-color: #e5f49b;\n",
       "  color: #000000;\n",
       "}\n",
       "#T_088d6_row3_col1 {\n",
       "  background-color: #eff8aa;\n",
       "  color: #000000;\n",
       "}\n",
       "#T_088d6_row4_col1 {\n",
       "  background-color: #fff5ae;\n",
       "  color: #000000;\n",
       "}\n",
       "#T_088d6_row5_col1 {\n",
       "  background-color: #f4fab0;\n",
       "  color: #000000;\n",
       "}\n",
       "</style>\n",
       "<table id=\"T_088d6\">\n",
       "  <thead>\n",
       "    <tr>\n",
       "      <th id=\"T_088d6_level0_col0\" class=\"col_heading level0 col0\" >Plataforma</th>\n",
       "      <th id=\"T_088d6_level0_col1\" class=\"col_heading level0 col1\" >Variação</th>\n",
       "      <th id=\"T_088d6_level0_col2\" class=\"col_heading level0 col2\" >Registros Anteriores</th>\n",
       "      <th id=\"T_088d6_level0_col3\" class=\"col_heading level0 col3\" >Registros Atuais</th>\n",
       "    </tr>\n",
       "  </thead>\n",
       "  <tbody>\n",
       "    <tr>\n",
       "      <td id=\"T_088d6_row0_col0\" class=\"data row0 col0\" >MovieSaints</td>\n",
       "      <td id=\"T_088d6_row0_col1\" class=\"data row0 col1\" >+76.4%</td>\n",
       "      <td id=\"T_088d6_row0_col2\" class=\"data row0 col2\" >157</td>\n",
       "      <td id=\"T_088d6_row0_col3\" class=\"data row0 col3\" >277</td>\n",
       "    </tr>\n",
       "    <tr>\n",
       "      <td id=\"T_088d6_row1_col0\" class=\"data row1 col0\" >Canela.TV</td>\n",
       "      <td id=\"T_088d6_row1_col1\" class=\"data row1 col1\" >-28.7%</td>\n",
       "      <td id=\"T_088d6_row1_col2\" class=\"data row1 col2\" >3,137</td>\n",
       "      <td id=\"T_088d6_row1_col3\" class=\"data row1 col3\" >2,236</td>\n",
       "    </tr>\n",
       "    <tr>\n",
       "      <td id=\"T_088d6_row2_col0\" class=\"data row2 col0\" >UOL Play</td>\n",
       "      <td id=\"T_088d6_row2_col1\" class=\"data row2 col1\" >+13.5%</td>\n",
       "      <td id=\"T_088d6_row2_col2\" class=\"data row2 col2\" >1,144</td>\n",
       "      <td id=\"T_088d6_row2_col3\" class=\"data row2 col3\" >1,298</td>\n",
       "    </tr>\n",
       "    <tr>\n",
       "      <td id=\"T_088d6_row3_col0\" class=\"data row3 col0\" >NBA League Pass</td>\n",
       "      <td id=\"T_088d6_row3_col1\" class=\"data row3 col1\" >+8.4%</td>\n",
       "      <td id=\"T_088d6_row3_col2\" class=\"data row3 col2\" >29,440</td>\n",
       "      <td id=\"T_088d6_row3_col3\" class=\"data row3 col3\" >31,913</td>\n",
       "    </tr>\n",
       "    <tr>\n",
       "      <td id=\"T_088d6_row4_col0\" class=\"data row4 col0\" >Todesplay</td>\n",
       "      <td id=\"T_088d6_row4_col1\" class=\"data row4 col1\" >-6.5%</td>\n",
       "      <td id=\"T_088d6_row4_col2\" class=\"data row4 col2\" >216</td>\n",
       "      <td id=\"T_088d6_row4_col3\" class=\"data row4 col3\" >202</td>\n",
       "    </tr>\n",
       "    <tr>\n",
       "      <td id=\"T_088d6_row5_col0\" class=\"data row5 col0\" >ShemarooMe</td>\n",
       "      <td id=\"T_088d6_row5_col1\" class=\"data row5 col1\" >+5.6%</td>\n",
       "      <td id=\"T_088d6_row5_col2\" class=\"data row5 col2\" >2,161</td>\n",
       "      <td id=\"T_088d6_row5_col3\" class=\"data row5 col3\" >2,282</td>\n",
       "    </tr>\n",
       "  </tbody>\n",
       "</table>\n"
      ],
      "text/plain": [
       "<pandas.io.formats.style.Styler at 0x2b095555590>"
      ]
     },
     "metadata": {},
     "output_type": "display_data"
    },
    {
     "data": {
      "text/html": [
       "<hr>"
      ],
      "text/plain": [
       "<IPython.core.display.HTML object>"
      ]
     },
     "metadata": {},
     "output_type": "display_data"
    },
    {
     "data": {
      "text/html": [
       "<br><h2>Semana 17/07/2025</h2>"
      ],
      "text/plain": [
       "<IPython.core.display.HTML object>"
      ]
     },
     "metadata": {},
     "output_type": "display_data"
    },
    {
     "name": "stdout",
     "output_type": "stream",
     "text": [
      "Não houve variação no total de plataformas cobertas.\n"
     ]
    },
    {
     "data": {
      "text/html": [
       "<hr>"
      ],
      "text/plain": [
       "<IPython.core.display.HTML object>"
      ]
     },
     "metadata": {},
     "output_type": "display_data"
    },
    {
     "data": {
      "text/html": [
       "<br><h2>Semana 25/07/2025</h2>"
      ],
      "text/plain": [
       "<IPython.core.display.HTML object>"
      ]
     },
     "metadata": {},
     "output_type": "display_data"
    },
    {
     "name": "stdout",
     "output_type": "stream",
     "text": [
      "Não houve variação no total de plataformas cobertas.\n"
     ]
    },
    {
     "data": {
      "text/html": [
       "<h4>Variações >5% no Catálogo de Conteúdos</h4>"
      ],
      "text/plain": [
       "<IPython.core.display.HTML object>"
      ]
     },
     "metadata": {},
     "output_type": "display_data"
    },
    {
     "data": {
      "text/html": [
       "<style type=\"text/css\">\n",
       "#T_4d57c_row0_col1 {\n",
       "  background-color: #dcf08f;\n",
       "  color: #000000;\n",
       "}\n",
       "#T_4d57c_row1_col1 {\n",
       "  background-color: #fee797;\n",
       "  color: #000000;\n",
       "}\n",
       "</style>\n",
       "<table id=\"T_4d57c\">\n",
       "  <thead>\n",
       "    <tr>\n",
       "      <th id=\"T_4d57c_level0_col0\" class=\"col_heading level0 col0\" >Plataforma</th>\n",
       "      <th id=\"T_4d57c_level0_col1\" class=\"col_heading level0 col1\" >Variação</th>\n",
       "      <th id=\"T_4d57c_level0_col2\" class=\"col_heading level0 col2\" >Registros Anteriores</th>\n",
       "      <th id=\"T_4d57c_level0_col3\" class=\"col_heading level0 col3\" >Registros Atuais</th>\n",
       "    </tr>\n",
       "  </thead>\n",
       "  <tbody>\n",
       "    <tr>\n",
       "      <td id=\"T_4d57c_row0_col0\" class=\"data row0 col0\" >WOW Presents Plus</td>\n",
       "      <td id=\"T_4d57c_row0_col1\" class=\"data row0 col1\" >+18.5%</td>\n",
       "      <td id=\"T_4d57c_row0_col2\" class=\"data row0 col2\" >227</td>\n",
       "      <td id=\"T_4d57c_row0_col3\" class=\"data row0 col3\" >269</td>\n",
       "    </tr>\n",
       "    <tr>\n",
       "      <td id=\"T_4d57c_row1_col0\" class=\"data row1 col0\" >Vivo Play</td>\n",
       "      <td id=\"T_4d57c_row1_col1\" class=\"data row1 col1\" >-15.6%</td>\n",
       "      <td id=\"T_4d57c_row1_col2\" class=\"data row1 col2\" >16,379</td>\n",
       "      <td id=\"T_4d57c_row1_col3\" class=\"data row1 col3\" >13,826</td>\n",
       "    </tr>\n",
       "  </tbody>\n",
       "</table>\n"
      ],
      "text/plain": [
       "<pandas.io.formats.style.Styler at 0x2b095555590>"
      ]
     },
     "metadata": {},
     "output_type": "display_data"
    },
    {
     "data": {
      "text/html": [
       "<hr>"
      ],
      "text/plain": [
       "<IPython.core.display.HTML object>"
      ]
     },
     "metadata": {},
     "output_type": "display_data"
    },
    {
     "data": {
      "text/html": [
       "<br><h2>Semana 31/07/2025</h2>"
      ],
      "text/plain": [
       "<IPython.core.display.HTML object>"
      ]
     },
     "metadata": {},
     "output_type": "display_data"
    },
    {
     "data": {
      "text/html": [
       "<h4 style='color: #2E8B57;'>Novas Plataformas Cobertas</h4>"
      ],
      "text/plain": [
       "<IPython.core.display.HTML object>"
      ]
     },
     "metadata": {},
     "output_type": "display_data"
    },
    {
     "data": {
      "text/html": [
       "<style type=\"text/css\">\n",
       "#T_30f94_row0_col1 {\n",
       "  width: 10em;\n",
       "  background: linear-gradient(90deg, #90EE90 100.0%, transparent 100.0%);\n",
       "}\n",
       "</style>\n",
       "<table id=\"T_30f94\">\n",
       "  <thead>\n",
       "    <tr>\n",
       "      <th id=\"T_30f94_level0_col0\" class=\"col_heading level0 col0\" >Plataforma</th>\n",
       "      <th id=\"T_30f94_level0_col1\" class=\"col_heading level0 col1\" >Registros</th>\n",
       "    </tr>\n",
       "  </thead>\n",
       "  <tbody>\n",
       "    <tr>\n",
       "      <td id=\"T_30f94_row0_col0\" class=\"data row0 col0\" >Universal+</td>\n",
       "      <td id=\"T_30f94_row0_col1\" class=\"data row0 col1\" >123</td>\n",
       "    </tr>\n",
       "  </tbody>\n",
       "</table>\n"
      ],
      "text/plain": [
       "<pandas.io.formats.style.Styler at 0x2b095555590>"
      ]
     },
     "metadata": {},
     "output_type": "display_data"
    },
    {
     "data": {
      "text/html": [
       "<h4 style='color: #CD5C5C;'>Plataformas que deixaram a cobertura</h4>"
      ],
      "text/plain": [
       "<IPython.core.display.HTML object>"
      ]
     },
     "metadata": {},
     "output_type": "display_data"
    },
    {
     "data": {
      "text/html": [
       "<style type=\"text/css\">\n",
       "#T_53ba9_row0_col1 {\n",
       "  width: 10em;\n",
       "  background: linear-gradient(90deg, #FFA07A 100.0%, transparent 100.0%);\n",
       "}\n",
       "#T_53ba9_row1_col1 {\n",
       "  width: 10em;\n",
       "  background: linear-gradient(90deg, #FFA07A 73.0%, transparent 73.0%);\n",
       "}\n",
       "#T_53ba9_row2_col1 {\n",
       "  width: 10em;\n",
       "  background: linear-gradient(90deg, #FFA07A 34.1%, transparent 34.1%);\n",
       "}\n",
       "#T_53ba9_row3_col1 {\n",
       "  width: 10em;\n",
       "  background: linear-gradient(90deg, #FFA07A 31.4%, transparent 31.4%);\n",
       "}\n",
       "#T_53ba9_row4_col1 {\n",
       "  width: 10em;\n",
       "  background: linear-gradient(90deg, #FFA07A 25.3%, transparent 25.3%);\n",
       "}\n",
       "#T_53ba9_row5_col1 {\n",
       "  width: 10em;\n",
       "  background: linear-gradient(90deg, #FFA07A 23.2%, transparent 23.2%);\n",
       "}\n",
       "#T_53ba9_row6_col1 {\n",
       "  width: 10em;\n",
       "  background: linear-gradient(90deg, #FFA07A 19.3%, transparent 19.3%);\n",
       "}\n",
       "#T_53ba9_row7_col1 {\n",
       "  width: 10em;\n",
       "  background: linear-gradient(90deg, #FFA07A 15.5%, transparent 15.5%);\n",
       "}\n",
       "#T_53ba9_row8_col1 {\n",
       "  width: 10em;\n",
       "  background: linear-gradient(90deg, #FFA07A 14.6%, transparent 14.6%);\n",
       "}\n",
       "#T_53ba9_row9_col1 {\n",
       "  width: 10em;\n",
       "  background: linear-gradient(90deg, #FFA07A 14.2%, transparent 14.2%);\n",
       "}\n",
       "#T_53ba9_row10_col1 {\n",
       "  width: 10em;\n",
       "  background: linear-gradient(90deg, #FFA07A 12.6%, transparent 12.6%);\n",
       "}\n",
       "#T_53ba9_row11_col1 {\n",
       "  width: 10em;\n",
       "  background: linear-gradient(90deg, #FFA07A 12.1%, transparent 12.1%);\n",
       "}\n",
       "#T_53ba9_row12_col1 {\n",
       "  width: 10em;\n",
       "  background: linear-gradient(90deg, #FFA07A 11.7%, transparent 11.7%);\n",
       "}\n",
       "#T_53ba9_row13_col1 {\n",
       "  width: 10em;\n",
       "  background: linear-gradient(90deg, #FFA07A 11.4%, transparent 11.4%);\n",
       "}\n",
       "#T_53ba9_row14_col1 {\n",
       "  width: 10em;\n",
       "  background: linear-gradient(90deg, #FFA07A 11.3%, transparent 11.3%);\n",
       "}\n",
       "#T_53ba9_row15_col1 {\n",
       "  width: 10em;\n",
       "  background: linear-gradient(90deg, #FFA07A 11.2%, transparent 11.2%);\n",
       "}\n",
       "#T_53ba9_row16_col1 {\n",
       "  width: 10em;\n",
       "  background: linear-gradient(90deg, #FFA07A 9.7%, transparent 9.7%);\n",
       "}\n",
       "#T_53ba9_row17_col1 {\n",
       "  width: 10em;\n",
       "  background: linear-gradient(90deg, #FFA07A 8.9%, transparent 8.9%);\n",
       "}\n",
       "#T_53ba9_row18_col1 {\n",
       "  width: 10em;\n",
       "  background: linear-gradient(90deg, #FFA07A 8.3%, transparent 8.3%);\n",
       "}\n",
       "#T_53ba9_row19_col1 {\n",
       "  width: 10em;\n",
       "  background: linear-gradient(90deg, #FFA07A 7.8%, transparent 7.8%);\n",
       "}\n",
       "#T_53ba9_row20_col1, #T_53ba9_row21_col1 {\n",
       "  width: 10em;\n",
       "  background: linear-gradient(90deg, #FFA07A 7.5%, transparent 7.5%);\n",
       "}\n",
       "#T_53ba9_row22_col1 {\n",
       "  width: 10em;\n",
       "  background: linear-gradient(90deg, #FFA07A 7.4%, transparent 7.4%);\n",
       "}\n",
       "#T_53ba9_row23_col1 {\n",
       "  width: 10em;\n",
       "  background: linear-gradient(90deg, #FFA07A 7.2%, transparent 7.2%);\n",
       "}\n",
       "#T_53ba9_row24_col1 {\n",
       "  width: 10em;\n",
       "  background: linear-gradient(90deg, #FFA07A 6.3%, transparent 6.3%);\n",
       "}\n",
       "#T_53ba9_row25_col1 {\n",
       "  width: 10em;\n",
       "  background: linear-gradient(90deg, #FFA07A 6.2%, transparent 6.2%);\n",
       "}\n",
       "#T_53ba9_row26_col1 {\n",
       "  width: 10em;\n",
       "  background: linear-gradient(90deg, #FFA07A 6.1%, transparent 6.1%);\n",
       "}\n",
       "#T_53ba9_row27_col1 {\n",
       "  width: 10em;\n",
       "  background: linear-gradient(90deg, #FFA07A 5.9%, transparent 5.9%);\n",
       "}\n",
       "#T_53ba9_row28_col1 {\n",
       "  width: 10em;\n",
       "  background: linear-gradient(90deg, #FFA07A 5.8%, transparent 5.8%);\n",
       "}\n",
       "#T_53ba9_row29_col1, #T_53ba9_row30_col1 {\n",
       "  width: 10em;\n",
       "  background: linear-gradient(90deg, #FFA07A 5.7%, transparent 5.7%);\n",
       "}\n",
       "#T_53ba9_row31_col1, #T_53ba9_row32_col1 {\n",
       "  width: 10em;\n",
       "  background: linear-gradient(90deg, #FFA07A 5.5%, transparent 5.5%);\n",
       "}\n",
       "#T_53ba9_row33_col1 {\n",
       "  width: 10em;\n",
       "  background: linear-gradient(90deg, #FFA07A 5.4%, transparent 5.4%);\n",
       "}\n",
       "#T_53ba9_row34_col1 {\n",
       "  width: 10em;\n",
       "  background: linear-gradient(90deg, #FFA07A 5.3%, transparent 5.3%);\n",
       "}\n",
       "#T_53ba9_row35_col1 {\n",
       "  width: 10em;\n",
       "  background: linear-gradient(90deg, #FFA07A 4.9%, transparent 4.9%);\n",
       "}\n",
       "#T_53ba9_row36_col1 {\n",
       "  width: 10em;\n",
       "  background: linear-gradient(90deg, #FFA07A 4.5%, transparent 4.5%);\n",
       "}\n",
       "#T_53ba9_row37_col1 {\n",
       "  width: 10em;\n",
       "  background: linear-gradient(90deg, #FFA07A 4.4%, transparent 4.4%);\n",
       "}\n",
       "#T_53ba9_row38_col1 {\n",
       "  width: 10em;\n",
       "  background: linear-gradient(90deg, #FFA07A 4.3%, transparent 4.3%);\n",
       "}\n",
       "#T_53ba9_row39_col1, #T_53ba9_row40_col1 {\n",
       "  width: 10em;\n",
       "  background: linear-gradient(90deg, #FFA07A 4.2%, transparent 4.2%);\n",
       "}\n",
       "#T_53ba9_row41_col1 {\n",
       "  width: 10em;\n",
       "  background: linear-gradient(90deg, #FFA07A 4.1%, transparent 4.1%);\n",
       "}\n",
       "#T_53ba9_row42_col1 {\n",
       "  width: 10em;\n",
       "  background: linear-gradient(90deg, #FFA07A 3.9%, transparent 3.9%);\n",
       "}\n",
       "#T_53ba9_row43_col1, #T_53ba9_row44_col1 {\n",
       "  width: 10em;\n",
       "  background: linear-gradient(90deg, #FFA07A 3.6%, transparent 3.6%);\n",
       "}\n",
       "#T_53ba9_row45_col1 {\n",
       "  width: 10em;\n",
       "  background: linear-gradient(90deg, #FFA07A 3.5%, transparent 3.5%);\n",
       "}\n",
       "#T_53ba9_row46_col1, #T_53ba9_row47_col1 {\n",
       "  width: 10em;\n",
       "  background: linear-gradient(90deg, #FFA07A 3.2%, transparent 3.2%);\n",
       "}\n",
       "#T_53ba9_row48_col1 {\n",
       "  width: 10em;\n",
       "  background: linear-gradient(90deg, #FFA07A 2.9%, transparent 2.9%);\n",
       "}\n",
       "#T_53ba9_row49_col1 {\n",
       "  width: 10em;\n",
       "  background: linear-gradient(90deg, #FFA07A 2.8%, transparent 2.8%);\n",
       "}\n",
       "#T_53ba9_row50_col1 {\n",
       "  width: 10em;\n",
       "  background: linear-gradient(90deg, #FFA07A 2.5%, transparent 2.5%);\n",
       "}\n",
       "#T_53ba9_row51_col1, #T_53ba9_row52_col1, #T_53ba9_row53_col1, #T_53ba9_row54_col1 {\n",
       "  width: 10em;\n",
       "  background: linear-gradient(90deg, #FFA07A 2.4%, transparent 2.4%);\n",
       "}\n",
       "#T_53ba9_row55_col1 {\n",
       "  width: 10em;\n",
       "  background: linear-gradient(90deg, #FFA07A 2.2%, transparent 2.2%);\n",
       "}\n",
       "#T_53ba9_row56_col1, #T_53ba9_row57_col1, #T_53ba9_row58_col1 {\n",
       "  width: 10em;\n",
       "  background: linear-gradient(90deg, #FFA07A 1.9%, transparent 1.9%);\n",
       "}\n",
       "#T_53ba9_row59_col1, #T_53ba9_row60_col1 {\n",
       "  width: 10em;\n",
       "  background: linear-gradient(90deg, #FFA07A 1.8%, transparent 1.8%);\n",
       "}\n",
       "#T_53ba9_row61_col1 {\n",
       "  width: 10em;\n",
       "  background: linear-gradient(90deg, #FFA07A 1.7%, transparent 1.7%);\n",
       "}\n",
       "#T_53ba9_row62_col1, #T_53ba9_row63_col1 {\n",
       "  width: 10em;\n",
       "  background: linear-gradient(90deg, #FFA07A 1.6%, transparent 1.6%);\n",
       "}\n",
       "#T_53ba9_row64_col1, #T_53ba9_row65_col1 {\n",
       "  width: 10em;\n",
       "  background: linear-gradient(90deg, #FFA07A 1.5%, transparent 1.5%);\n",
       "}\n",
       "#T_53ba9_row66_col1 {\n",
       "  width: 10em;\n",
       "  background: linear-gradient(90deg, #FFA07A 1.3%, transparent 1.3%);\n",
       "}\n",
       "#T_53ba9_row67_col1, #T_53ba9_row68_col1 {\n",
       "  width: 10em;\n",
       "  background: linear-gradient(90deg, #FFA07A 1.2%, transparent 1.2%);\n",
       "}\n",
       "#T_53ba9_row69_col1, #T_53ba9_row70_col1 {\n",
       "  width: 10em;\n",
       "  background: linear-gradient(90deg, #FFA07A 1.1%, transparent 1.1%);\n",
       "}\n",
       "#T_53ba9_row71_col1, #T_53ba9_row72_col1, #T_53ba9_row73_col1 {\n",
       "  width: 10em;\n",
       "  background: linear-gradient(90deg, #FFA07A 1.0%, transparent 1.0%);\n",
       "}\n",
       "#T_53ba9_row74_col1, #T_53ba9_row75_col1, #T_53ba9_row76_col1, #T_53ba9_row77_col1, #T_53ba9_row78_col1, #T_53ba9_row79_col1, #T_53ba9_row80_col1, #T_53ba9_row81_col1 {\n",
       "  width: 10em;\n",
       "  background: linear-gradient(90deg, #FFA07A 0.9%, transparent 0.9%);\n",
       "}\n",
       "#T_53ba9_row82_col1, #T_53ba9_row83_col1, #T_53ba9_row84_col1 {\n",
       "  width: 10em;\n",
       "  background: linear-gradient(90deg, #FFA07A 0.8%, transparent 0.8%);\n",
       "}\n",
       "#T_53ba9_row85_col1, #T_53ba9_row86_col1, #T_53ba9_row87_col1, #T_53ba9_row88_col1 {\n",
       "  width: 10em;\n",
       "  background: linear-gradient(90deg, #FFA07A 0.7%, transparent 0.7%);\n",
       "}\n",
       "#T_53ba9_row89_col1, #T_53ba9_row90_col1, #T_53ba9_row91_col1, #T_53ba9_row92_col1 {\n",
       "  width: 10em;\n",
       "  background: linear-gradient(90deg, #FFA07A 0.6%, transparent 0.6%);\n",
       "}\n",
       "#T_53ba9_row93_col1, #T_53ba9_row94_col1, #T_53ba9_row95_col1, #T_53ba9_row96_col1, #T_53ba9_row97_col1, #T_53ba9_row98_col1, #T_53ba9_row99_col1 {\n",
       "  width: 10em;\n",
       "  background: linear-gradient(90deg, #FFA07A 0.5%, transparent 0.5%);\n",
       "}\n",
       "#T_53ba9_row100_col1, #T_53ba9_row101_col1 {\n",
       "  width: 10em;\n",
       "  background: linear-gradient(90deg, #FFA07A 0.4%, transparent 0.4%);\n",
       "}\n",
       "#T_53ba9_row102_col1, #T_53ba9_row103_col1, #T_53ba9_row104_col1 {\n",
       "  width: 10em;\n",
       "  background: linear-gradient(90deg, #FFA07A 0.3%, transparent 0.3%);\n",
       "}\n",
       "</style>\n",
       "<table id=\"T_53ba9\">\n",
       "  <thead>\n",
       "    <tr>\n",
       "      <th id=\"T_53ba9_level0_col0\" class=\"col_heading level0 col0\" >Plataforma</th>\n",
       "      <th id=\"T_53ba9_level0_col1\" class=\"col_heading level0 col1\" >Registros Anteriores</th>\n",
       "    </tr>\n",
       "  </thead>\n",
       "  <tbody>\n",
       "    <tr>\n",
       "      <td id=\"T_53ba9_row0_col0\" class=\"data row0 col0\" >Claro TV+</td>\n",
       "      <td id=\"T_53ba9_row0_col1\" class=\"data row0 col1\" >40,494</td>\n",
       "    </tr>\n",
       "    <tr>\n",
       "      <td id=\"T_53ba9_row1_col0\" class=\"data row1 col0\" >Amazon Prime Video</td>\n",
       "      <td id=\"T_53ba9_row1_col1\" class=\"data row1 col1\" >29,554</td>\n",
       "    </tr>\n",
       "    <tr>\n",
       "      <td id=\"T_53ba9_row2_col0\" class=\"data row2 col0\" >Vivo Play</td>\n",
       "      <td id=\"T_53ba9_row2_col1\" class=\"data row2 col1\" >13,826</td>\n",
       "    </tr>\n",
       "    <tr>\n",
       "      <td id=\"T_53ba9_row3_col0\" class=\"data row3 col0\" >Plex</td>\n",
       "      <td id=\"T_53ba9_row3_col1\" class=\"data row3 col1\" >12,705</td>\n",
       "    </tr>\n",
       "    <tr>\n",
       "      <td id=\"T_53ba9_row4_col0\" class=\"data row4 col0\" >Sky+</td>\n",
       "      <td id=\"T_53ba9_row4_col1\" class=\"data row4 col1\" >10,264</td>\n",
       "    </tr>\n",
       "    <tr>\n",
       "      <td id=\"T_53ba9_row5_col0\" class=\"data row5 col0\" >YouTube</td>\n",
       "      <td id=\"T_53ba9_row5_col1\" class=\"data row5 col1\" >9,396</td>\n",
       "    </tr>\n",
       "    <tr>\n",
       "      <td id=\"T_53ba9_row6_col0\" class=\"data row6 col0\" >Netflix</td>\n",
       "      <td id=\"T_53ba9_row6_col1\" class=\"data row6 col1\" >7,796</td>\n",
       "    </tr>\n",
       "    <tr>\n",
       "      <td id=\"T_53ba9_row7_col0\" class=\"data row7 col0\" >UNIVER VIDEO</td>\n",
       "      <td id=\"T_53ba9_row7_col1\" class=\"data row7 col1\" >6,285</td>\n",
       "    </tr>\n",
       "    <tr>\n",
       "      <td id=\"T_53ba9_row8_col0\" class=\"data row8 col0\" >Banco de Conteúdos Culturais</td>\n",
       "      <td id=\"T_53ba9_row8_col1\" class=\"data row8 col1\" >5,929</td>\n",
       "    </tr>\n",
       "    <tr>\n",
       "      <td id=\"T_53ba9_row9_col0\" class=\"data row9 col0\" >Looke</td>\n",
       "      <td id=\"T_53ba9_row9_col1\" class=\"data row9 col1\" >5,753</td>\n",
       "    </tr>\n",
       "    <tr>\n",
       "      <td id=\"T_53ba9_row10_col0\" class=\"data row10 col0\" >DaFilms</td>\n",
       "      <td id=\"T_53ba9_row10_col1\" class=\"data row10 col1\" >5,104</td>\n",
       "    </tr>\n",
       "    <tr>\n",
       "      <td id=\"T_53ba9_row11_col0\" class=\"data row11 col0\" >iQIYI</td>\n",
       "      <td id=\"T_53ba9_row11_col1\" class=\"data row11 col1\" >4,916</td>\n",
       "    </tr>\n",
       "    <tr>\n",
       "      <td id=\"T_53ba9_row12_col0\" class=\"data row12 col0\" >Zee5</td>\n",
       "      <td id=\"T_53ba9_row12_col1\" class=\"data row12 col1\" >4,739</td>\n",
       "    </tr>\n",
       "    <tr>\n",
       "      <td id=\"T_53ba9_row13_col0\" class=\"data row13 col0\" >Globoplay</td>\n",
       "      <td id=\"T_53ba9_row13_col1\" class=\"data row13 col1\" >4,600</td>\n",
       "    </tr>\n",
       "    <tr>\n",
       "      <td id=\"T_53ba9_row14_col0\" class=\"data row14 col0\" >FIFA+</td>\n",
       "      <td id=\"T_53ba9_row14_col1\" class=\"data row14 col1\" >4,576</td>\n",
       "    </tr>\n",
       "    <tr>\n",
       "      <td id=\"T_53ba9_row15_col0\" class=\"data row15 col0\" >Microsoft Movies & TV</td>\n",
       "      <td id=\"T_53ba9_row15_col1\" class=\"data row15 col1\" >4,546</td>\n",
       "    </tr>\n",
       "    <tr>\n",
       "      <td id=\"T_53ba9_row16_col0\" class=\"data row16 col0\" >Max</td>\n",
       "      <td id=\"T_53ba9_row16_col1\" class=\"data row16 col1\" >3,942</td>\n",
       "    </tr>\n",
       "    <tr>\n",
       "      <td id=\"T_53ba9_row17_col0\" class=\"data row17 col0\" >Viddsee</td>\n",
       "      <td id=\"T_53ba9_row17_col1\" class=\"data row17 col1\" >3,616</td>\n",
       "    </tr>\n",
       "    <tr>\n",
       "      <td id=\"T_53ba9_row18_col0\" class=\"data row18 col0\" >IndieFlix</td>\n",
       "      <td id=\"T_53ba9_row18_col1\" class=\"data row18 col1\" >3,345</td>\n",
       "    </tr>\n",
       "    <tr>\n",
       "      <td id=\"T_53ba9_row19_col0\" class=\"data row19 col0\" >Filmzie</td>\n",
       "      <td id=\"T_53ba9_row19_col1\" class=\"data row19 col1\" >3,148</td>\n",
       "    </tr>\n",
       "    <tr>\n",
       "      <td id=\"T_53ba9_row20_col0\" class=\"data row20 col0\" >Pluto TV</td>\n",
       "      <td id=\"T_53ba9_row20_col1\" class=\"data row20 col1\" >3,043</td>\n",
       "    </tr>\n",
       "    <tr>\n",
       "      <td id=\"T_53ba9_row21_col0\" class=\"data row21 col0\" >Claro Video</td>\n",
       "      <td id=\"T_53ba9_row21_col1\" class=\"data row21 col1\" >3,039</td>\n",
       "    </tr>\n",
       "    <tr>\n",
       "      <td id=\"T_53ba9_row22_col0\" class=\"data row22 col0\" >Means TV</td>\n",
       "      <td id=\"T_53ba9_row22_col1\" class=\"data row22 col1\" >2,983</td>\n",
       "    </tr>\n",
       "    <tr>\n",
       "      <td id=\"T_53ba9_row23_col0\" class=\"data row23 col0\" >Disney+</td>\n",
       "      <td id=\"T_53ba9_row23_col1\" class=\"data row23 col1\" >2,911</td>\n",
       "    </tr>\n",
       "    <tr>\n",
       "      <td id=\"T_53ba9_row24_col0\" class=\"data row24 col0\" >Arte1 Play</td>\n",
       "      <td id=\"T_53ba9_row24_col1\" class=\"data row24 col1\" >2,550</td>\n",
       "    </tr>\n",
       "    <tr>\n",
       "      <td id=\"T_53ba9_row25_col0\" class=\"data row25 col0\" >Qello Concerts</td>\n",
       "      <td id=\"T_53ba9_row25_col1\" class=\"data row25 col1\" >2,519</td>\n",
       "    </tr>\n",
       "    <tr>\n",
       "      <td id=\"T_53ba9_row26_col0\" class=\"data row26 col0\" >NetMovies</td>\n",
       "      <td id=\"T_53ba9_row26_col1\" class=\"data row26 col1\" >2,489</td>\n",
       "    </tr>\n",
       "    <tr>\n",
       "      <td id=\"T_53ba9_row27_col0\" class=\"data row27 col0\" >Tamanduá TV</td>\n",
       "      <td id=\"T_53ba9_row27_col1\" class=\"data row27 col1\" >2,407</td>\n",
       "    </tr>\n",
       "    <tr>\n",
       "      <td id=\"T_53ba9_row28_col0\" class=\"data row28 col0\" >OnDemandKorea</td>\n",
       "      <td id=\"T_53ba9_row28_col1\" class=\"data row28 col1\" >2,356</td>\n",
       "    </tr>\n",
       "    <tr>\n",
       "      <td id=\"T_53ba9_row29_col0\" class=\"data row29 col0\" >ShemarooMe</td>\n",
       "      <td id=\"T_53ba9_row29_col1\" class=\"data row29 col1\" >2,302</td>\n",
       "    </tr>\n",
       "    <tr>\n",
       "      <td id=\"T_53ba9_row30_col0\" class=\"data row30 col0\" >Canela.TV</td>\n",
       "      <td id=\"T_53ba9_row30_col1\" class=\"data row30 col1\" >2,294</td>\n",
       "    </tr>\n",
       "    <tr>\n",
       "      <td id=\"T_53ba9_row31_col0\" class=\"data row31 col0\" >IWantTFC</td>\n",
       "      <td id=\"T_53ba9_row31_col1\" class=\"data row31 col1\" >2,241</td>\n",
       "    </tr>\n",
       "    <tr>\n",
       "      <td id=\"T_53ba9_row32_col0\" class=\"data row32 col0\" >FlixOlé</td>\n",
       "      <td id=\"T_53ba9_row32_col1\" class=\"data row32 col1\" >2,223</td>\n",
       "    </tr>\n",
       "    <tr>\n",
       "      <td id=\"T_53ba9_row33_col0\" class=\"data row33 col0\" >Rakuten Viki</td>\n",
       "      <td id=\"T_53ba9_row33_col1\" class=\"data row33 col1\" >2,190</td>\n",
       "    </tr>\n",
       "    <tr>\n",
       "      <td id=\"T_53ba9_row34_col0\" class=\"data row34 col0\" >GuideDoc</td>\n",
       "      <td id=\"T_53ba9_row34_col1\" class=\"data row34 col1\" >2,140</td>\n",
       "    </tr>\n",
       "    <tr>\n",
       "      <td id=\"T_53ba9_row35_col0\" class=\"data row35 col0\" >Mercado Play</td>\n",
       "      <td id=\"T_53ba9_row35_col1\" class=\"data row35 col1\" >1,980</td>\n",
       "    </tr>\n",
       "    <tr>\n",
       "      <td id=\"T_53ba9_row36_col0\" class=\"data row36 col0\" >Watch</td>\n",
       "      <td id=\"T_53ba9_row36_col1\" class=\"data row36 col1\" >1,821</td>\n",
       "    </tr>\n",
       "    <tr>\n",
       "      <td id=\"T_53ba9_row37_col0\" class=\"data row37 col0\" >CultSP Play</td>\n",
       "      <td id=\"T_53ba9_row37_col1\" class=\"data row37 col1\" >1,800</td>\n",
       "    </tr>\n",
       "    <tr>\n",
       "      <td id=\"T_53ba9_row38_col0\" class=\"data row38 col0\" >Crunchyroll</td>\n",
       "      <td id=\"T_53ba9_row38_col1\" class=\"data row38 col1\" >1,754</td>\n",
       "    </tr>\n",
       "    <tr>\n",
       "      <td id=\"T_53ba9_row39_col0\" class=\"data row39 col0\" >KOCOWA+</td>\n",
       "      <td id=\"T_53ba9_row39_col1\" class=\"data row39 col1\" >1,718</td>\n",
       "    </tr>\n",
       "    <tr>\n",
       "      <td id=\"T_53ba9_row40_col0\" class=\"data row40 col0\" >Simply South</td>\n",
       "      <td id=\"T_53ba9_row40_col1\" class=\"data row40 col1\" >1,715</td>\n",
       "    </tr>\n",
       "    <tr>\n",
       "      <td id=\"T_53ba9_row41_col0\" class=\"data row41 col0\" >Digital Concert Hall</td>\n",
       "      <td id=\"T_53ba9_row41_col1\" class=\"data row41 col1\" >1,659</td>\n",
       "    </tr>\n",
       "    <tr>\n",
       "      <td id=\"T_53ba9_row42_col0\" class=\"data row42 col0\" >Troma NOW!</td>\n",
       "      <td id=\"T_53ba9_row42_col1\" class=\"data row42 col1\" >1,596</td>\n",
       "    </tr>\n",
       "    <tr>\n",
       "      <td id=\"T_53ba9_row43_col0\" class=\"data row43 col0\" >KweliTV</td>\n",
       "      <td id=\"T_53ba9_row43_col1\" class=\"data row43 col1\" >1,477</td>\n",
       "    </tr>\n",
       "    <tr>\n",
       "      <td id=\"T_53ba9_row44_col0\" class=\"data row44 col0\" >Darkflix+</td>\n",
       "      <td id=\"T_53ba9_row44_col1\" class=\"data row44 col1\" >1,451</td>\n",
       "    </tr>\n",
       "    <tr>\n",
       "      <td id=\"T_53ba9_row45_col0\" class=\"data row45 col0\" >Cultpix</td>\n",
       "      <td id=\"T_53ba9_row45_col1\" class=\"data row45 col1\" >1,433</td>\n",
       "    </tr>\n",
       "    <tr>\n",
       "      <td id=\"T_53ba9_row46_col0\" class=\"data row46 col0\" >Filmbox+</td>\n",
       "      <td id=\"T_53ba9_row46_col1\" class=\"data row46 col1\" >1,308</td>\n",
       "    </tr>\n",
       "    <tr>\n",
       "      <td id=\"T_53ba9_row47_col0\" class=\"data row47 col0\" >UOL Play</td>\n",
       "      <td id=\"T_53ba9_row47_col1\" class=\"data row47 col1\" >1,298</td>\n",
       "    </tr>\n",
       "    <tr>\n",
       "      <td id=\"T_53ba9_row48_col0\" class=\"data row48 col0\" >Paramount+</td>\n",
       "      <td id=\"T_53ba9_row48_col1\" class=\"data row48 col1\" >1,164</td>\n",
       "    </tr>\n",
       "    <tr>\n",
       "      <td id=\"T_53ba9_row49_col0\" class=\"data row49 col0\" >MagellanTV</td>\n",
       "      <td id=\"T_53ba9_row49_col1\" class=\"data row49 col1\" >1,137</td>\n",
       "    </tr>\n",
       "    <tr>\n",
       "      <td id=\"T_53ba9_row50_col0\" class=\"data row50 col0\" >Met Opera on Demand</td>\n",
       "      <td id=\"T_53ba9_row50_col1\" class=\"data row50 col1\" >1,012</td>\n",
       "    </tr>\n",
       "    <tr>\n",
       "      <td id=\"T_53ba9_row51_col0\" class=\"data row51 col0\" >Oldflix</td>\n",
       "      <td id=\"T_53ba9_row51_col1\" class=\"data row51 col1\" >979</td>\n",
       "    </tr>\n",
       "    <tr>\n",
       "      <td id=\"T_53ba9_row52_col0\" class=\"data row52 col0\" >Curta!On</td>\n",
       "      <td id=\"T_53ba9_row52_col1\" class=\"data row52 col1\" >975</td>\n",
       "    </tr>\n",
       "    <tr>\n",
       "      <td id=\"T_53ba9_row53_col0\" class=\"data row53 col0\" >Reel Short</td>\n",
       "      <td id=\"T_53ba9_row53_col1\" class=\"data row53 col1\" >972</td>\n",
       "    </tr>\n",
       "    <tr>\n",
       "      <td id=\"T_53ba9_row54_col0\" class=\"data row54 col0\" >CINE.AR PLAY</td>\n",
       "      <td id=\"T_53ba9_row54_col1\" class=\"data row54 col1\" >963</td>\n",
       "    </tr>\n",
       "    <tr>\n",
       "      <td id=\"T_53ba9_row55_col0\" class=\"data row55 col0\" >Reserva Imovision</td>\n",
       "      <td id=\"T_53ba9_row55_col1\" class=\"data row55 col1\" >896</td>\n",
       "    </tr>\n",
       "    <tr>\n",
       "      <td id=\"T_53ba9_row56_col0\" class=\"data row56 col0\" >Kidoodle.TV</td>\n",
       "      <td id=\"T_53ba9_row56_col1\" class=\"data row56 col1\" >779</td>\n",
       "    </tr>\n",
       "    <tr>\n",
       "      <td id=\"T_53ba9_row57_col0\" class=\"data row57 col0\" >IFI Archive Player</td>\n",
       "      <td id=\"T_53ba9_row57_col1\" class=\"data row57 col1\" >773</td>\n",
       "    </tr>\n",
       "    <tr>\n",
       "      <td id=\"T_53ba9_row58_col0\" class=\"data row58 col0\" >Hoichoi</td>\n",
       "      <td id=\"T_53ba9_row58_col1\" class=\"data row58 col1\" >772</td>\n",
       "    </tr>\n",
       "    <tr>\n",
       "      <td id=\"T_53ba9_row59_col0\" class=\"data row59 col0\" >Curiosity Stream</td>\n",
       "      <td id=\"T_53ba9_row59_col1\" class=\"data row59 col1\" >749</td>\n",
       "    </tr>\n",
       "    <tr>\n",
       "      <td id=\"T_53ba9_row60_col0\" class=\"data row60 col0\" >Embaúba Play</td>\n",
       "      <td id=\"T_53ba9_row60_col1\" class=\"data row60 col1\" >727</td>\n",
       "    </tr>\n",
       "    <tr>\n",
       "      <td id=\"T_53ba9_row61_col0\" class=\"data row61 col0\" >MUBI</td>\n",
       "      <td id=\"T_53ba9_row61_col1\" class=\"data row61 col1\" >682</td>\n",
       "    </tr>\n",
       "    <tr>\n",
       "      <td id=\"T_53ba9_row62_col0\" class=\"data row62 col0\" >Belas Artes À La Carte</td>\n",
       "      <td id=\"T_53ba9_row62_col1\" class=\"data row62 col1\" >642</td>\n",
       "    </tr>\n",
       "    <tr>\n",
       "      <td id=\"T_53ba9_row63_col0\" class=\"data row63 col0\" >PlayPlus</td>\n",
       "      <td id=\"T_53ba9_row63_col1\" class=\"data row63 col1\" >633</td>\n",
       "    </tr>\n",
       "    <tr>\n",
       "      <td id=\"T_53ba9_row64_col0\" class=\"data row64 col0\" >Selecta TV</td>\n",
       "      <td id=\"T_53ba9_row64_col1\" class=\"data row64 col1\" >607</td>\n",
       "    </tr>\n",
       "    <tr>\n",
       "      <td id=\"T_53ba9_row65_col0\" class=\"data row65 col0\" >Cindie</td>\n",
       "      <td id=\"T_53ba9_row65_col1\" class=\"data row65 col1\" >594</td>\n",
       "    </tr>\n",
       "    <tr>\n",
       "      <td id=\"T_53ba9_row66_col0\" class=\"data row66 col0\" >OCULTO.TV</td>\n",
       "      <td id=\"T_53ba9_row66_col1\" class=\"data row66 col1\" >527</td>\n",
       "    </tr>\n",
       "    <tr>\n",
       "      <td id=\"T_53ba9_row67_col0\" class=\"data row67 col0\" >Filmicca</td>\n",
       "      <td id=\"T_53ba9_row67_col1\" class=\"data row67 col1\" >496</td>\n",
       "    </tr>\n",
       "    <tr>\n",
       "      <td id=\"T_53ba9_row68_col0\" class=\"data row68 col0\" >Nebula</td>\n",
       "      <td id=\"T_53ba9_row68_col1\" class=\"data row68 col1\" >471</td>\n",
       "    </tr>\n",
       "    <tr>\n",
       "      <td id=\"T_53ba9_row69_col0\" class=\"data row69 col0\" >Marquee TV</td>\n",
       "      <td id=\"T_53ba9_row69_col1\" class=\"data row69 col1\" >454</td>\n",
       "    </tr>\n",
       "    <tr>\n",
       "      <td id=\"T_53ba9_row70_col0\" class=\"data row70 col0\" >American Indian Film Gallery</td>\n",
       "      <td id=\"T_53ba9_row70_col1\" class=\"data row70 col1\" >445</td>\n",
       "    </tr>\n",
       "    <tr>\n",
       "      <td id=\"T_53ba9_row71_col0\" class=\"data row71 col0\" >TVN Play</td>\n",
       "      <td id=\"T_53ba9_row71_col1\" class=\"data row71 col1\" >407</td>\n",
       "    </tr>\n",
       "    <tr>\n",
       "      <td id=\"T_53ba9_row72_col0\" class=\"data row72 col0\" >Cinemateca Pernambucana</td>\n",
       "      <td id=\"T_53ba9_row72_col1\" class=\"data row72 col1\" >390</td>\n",
       "    </tr>\n",
       "    <tr>\n",
       "      <td id=\"T_53ba9_row73_col0\" class=\"data row73 col0\" >Teatrix</td>\n",
       "      <td id=\"T_53ba9_row73_col1\" class=\"data row73 col1\" >387</td>\n",
       "    </tr>\n",
       "    <tr>\n",
       "      <td id=\"T_53ba9_row74_col0\" class=\"data row74 col0\" >DOCSVILLE</td>\n",
       "      <td id=\"T_53ba9_row74_col1\" class=\"data row74 col1\" >377</td>\n",
       "    </tr>\n",
       "    <tr>\n",
       "      <td id=\"T_53ba9_row75_col0\" class=\"data row75 col0\" >Anime Onegai</td>\n",
       "      <td id=\"T_53ba9_row75_col1\" class=\"data row75 col1\" >373</td>\n",
       "    </tr>\n",
       "    <tr>\n",
       "      <td id=\"T_53ba9_row76_col0\" class=\"data row76 col0\" >Retina Latina</td>\n",
       "      <td id=\"T_53ba9_row76_col1\" class=\"data row76 col1\" >365</td>\n",
       "    </tr>\n",
       "    <tr>\n",
       "      <td id=\"T_53ba9_row77_col0\" class=\"data row77 col0\" >Toon Goggles</td>\n",
       "      <td id=\"T_53ba9_row77_col1\" class=\"data row77 col1\" >359</td>\n",
       "    </tr>\n",
       "    <tr>\n",
       "      <td id=\"T_53ba9_row78_col0\" class=\"data row78 col0\" >History Hit</td>\n",
       "      <td id=\"T_53ba9_row78_col1\" class=\"data row78 col1\" >359</td>\n",
       "    </tr>\n",
       "    <tr>\n",
       "      <td id=\"T_53ba9_row79_col0\" class=\"data row79 col0\" >Revry</td>\n",
       "      <td id=\"T_53ba9_row79_col1\" class=\"data row79 col1\" >356</td>\n",
       "    </tr>\n",
       "    <tr>\n",
       "      <td id=\"T_53ba9_row80_col0\" class=\"data row80 col0\" >TV Caiçara</td>\n",
       "      <td id=\"T_53ba9_row80_col1\" class=\"data row80 col1\" >351</td>\n",
       "    </tr>\n",
       "    <tr>\n",
       "      <td id=\"T_53ba9_row81_col0\" class=\"data row81 col0\" >Demand Africa</td>\n",
       "      <td id=\"T_53ba9_row81_col1\" class=\"data row81 col1\" >349</td>\n",
       "    </tr>\n",
       "    <tr>\n",
       "      <td id=\"T_53ba9_row82_col0\" class=\"data row82 col0\" >MINASplay</td>\n",
       "      <td id=\"T_53ba9_row82_col1\" class=\"data row82 col1\" >334</td>\n",
       "    </tr>\n",
       "    <tr>\n",
       "      <td id=\"T_53ba9_row83_col0\" class=\"data row83 col0\" >Umbra</td>\n",
       "      <td id=\"T_53ba9_row83_col1\" class=\"data row83 col1\" >317</td>\n",
       "    </tr>\n",
       "    <tr>\n",
       "      <td id=\"T_53ba9_row84_col0\" class=\"data row84 col0\" >TV Brasil Play</td>\n",
       "      <td id=\"T_53ba9_row84_col1\" class=\"data row84 col1\" >304</td>\n",
       "    </tr>\n",
       "    <tr>\n",
       "      <td id=\"T_53ba9_row85_col0\" class=\"data row85 col0\" >Apple TV+</td>\n",
       "      <td id=\"T_53ba9_row85_col1\" class=\"data row85 col1\" >284</td>\n",
       "    </tr>\n",
       "    <tr>\n",
       "      <td id=\"T_53ba9_row86_col0\" class=\"data row86 col0\" >Digital Theatre</td>\n",
       "      <td id=\"T_53ba9_row86_col1\" class=\"data row86 col1\" >278</td>\n",
       "    </tr>\n",
       "    <tr>\n",
       "      <td id=\"T_53ba9_row87_col0\" class=\"data row87 col0\" >MovieSaints</td>\n",
       "      <td id=\"T_53ba9_row87_col1\" class=\"data row87 col1\" >278</td>\n",
       "    </tr>\n",
       "    <tr>\n",
       "      <td id=\"T_53ba9_row88_col0\" class=\"data row88 col0\" >WOW Presents Plus</td>\n",
       "      <td id=\"T_53ba9_row88_col1\" class=\"data row88 col1\" >269</td>\n",
       "    </tr>\n",
       "    <tr>\n",
       "      <td id=\"T_53ba9_row89_col0\" class=\"data row89 col0\" >Dekkoo</td>\n",
       "      <td id=\"T_53ba9_row89_col1\" class=\"data row89 col1\" >251</td>\n",
       "    </tr>\n",
       "    <tr>\n",
       "      <td id=\"T_53ba9_row90_col0\" class=\"data row90 col0\" >Itaú Cultural Play</td>\n",
       "      <td id=\"T_53ba9_row90_col1\" class=\"data row90 col1\" >243</td>\n",
       "    </tr>\n",
       "    <tr>\n",
       "      <td id=\"T_53ba9_row91_col0\" class=\"data row91 col0\" >Sesc Digital</td>\n",
       "      <td id=\"T_53ba9_row91_col1\" class=\"data row91 col1\" >236</td>\n",
       "    </tr>\n",
       "    <tr>\n",
       "      <td id=\"T_53ba9_row92_col0\" class=\"data row92 col0\" >Cardume</td>\n",
       "      <td id=\"T_53ba9_row92_col1\" class=\"data row92 col1\" >233</td>\n",
       "    </tr>\n",
       "    <tr>\n",
       "      <td id=\"T_53ba9_row93_col0\" class=\"data row93 col0\" >HENRI</td>\n",
       "      <td id=\"T_53ba9_row93_col1\" class=\"data row93 col1\" >222</td>\n",
       "    </tr>\n",
       "    <tr>\n",
       "      <td id=\"T_53ba9_row94_col0\" class=\"data row94 col0\" >Bombozila</td>\n",
       "      <td id=\"T_53ba9_row94_col1\" class=\"data row94 col1\" >213</td>\n",
       "    </tr>\n",
       "    <tr>\n",
       "      <td id=\"T_53ba9_row95_col0\" class=\"data row95 col0\" >Spcine Play</td>\n",
       "      <td id=\"T_53ba9_row95_col1\" class=\"data row95 col1\" >207</td>\n",
       "    </tr>\n",
       "    <tr>\n",
       "      <td id=\"T_53ba9_row96_col0\" class=\"data row96 col0\" >Todesplay</td>\n",
       "      <td id=\"T_53ba9_row96_col1\" class=\"data row96 col1\" >202</td>\n",
       "    </tr>\n",
       "    <tr>\n",
       "      <td id=\"T_53ba9_row97_col0\" class=\"data row97 col0\" >ALTBalaji</td>\n",
       "      <td id=\"T_53ba9_row97_col1\" class=\"data row97 col1\" >199</td>\n",
       "    </tr>\n",
       "    <tr>\n",
       "      <td id=\"T_53ba9_row98_col0\" class=\"data row98 col0\" >Libreflix</td>\n",
       "      <td id=\"T_53ba9_row98_col1\" class=\"data row98 col1\" >190</td>\n",
       "    </tr>\n",
       "    <tr>\n",
       "      <td id=\"T_53ba9_row99_col0\" class=\"data row99 col0\" >Cine Humberto Mauro Mais</td>\n",
       "      <td id=\"T_53ba9_row99_col1\" class=\"data row99 col1\" >184</td>\n",
       "    </tr>\n",
       "    <tr>\n",
       "      <td id=\"T_53ba9_row100_col0\" class=\"data row100 col0\" >99 Media</td>\n",
       "      <td id=\"T_53ba9_row100_col1\" class=\"data row100 col1\" >169</td>\n",
       "    </tr>\n",
       "    <tr>\n",
       "      <td id=\"T_53ba9_row101_col0\" class=\"data row101 col0\" >KINOA.TV</td>\n",
       "      <td id=\"T_53ba9_row101_col1\" class=\"data row101 col1\" >153</td>\n",
       "    </tr>\n",
       "    <tr>\n",
       "      <td id=\"T_53ba9_row102_col0\" class=\"data row102 col0\" >AmazôniaFLIX</td>\n",
       "      <td id=\"T_53ba9_row102_col1\" class=\"data row102 col1\" >133</td>\n",
       "    </tr>\n",
       "    <tr>\n",
       "      <td id=\"T_53ba9_row103_col0\" class=\"data row103 col0\" >BroadwayHD</td>\n",
       "      <td id=\"T_53ba9_row103_col1\" class=\"data row103 col1\" >120</td>\n",
       "    </tr>\n",
       "    <tr>\n",
       "      <td id=\"T_53ba9_row104_col0\" class=\"data row104 col0\" >Narrativas Indígenas do Nordeste</td>\n",
       "      <td id=\"T_53ba9_row104_col1\" class=\"data row104 col1\" >112</td>\n",
       "    </tr>\n",
       "  </tbody>\n",
       "</table>\n"
      ],
      "text/plain": [
       "<pandas.io.formats.style.Styler at 0x2b095555590>"
      ]
     },
     "metadata": {},
     "output_type": "display_data"
    },
    {
     "data": {
      "text/html": [
       "<hr>"
      ],
      "text/plain": [
       "<IPython.core.display.HTML object>"
      ]
     },
     "metadata": {},
     "output_type": "display_data"
    },
    {
     "data": {
      "text/html": [
       "<br><h2>Semana 07/08/2025</h2>"
      ],
      "text/plain": [
       "<IPython.core.display.HTML object>"
      ]
     },
     "metadata": {},
     "output_type": "display_data"
    },
    {
     "data": {
      "text/html": [
       "<h4 style='color: #DAA520;'>Plataformas que Retornaram à Cobertura</h4>"
      ],
      "text/plain": [
       "<IPython.core.display.HTML object>"
      ]
     },
     "metadata": {},
     "output_type": "display_data"
    },
    {
     "data": {
      "text/html": [
       "<style type=\"text/css\">\n",
       "#T_e4326_row0_col1 {\n",
       "  width: 10em;\n",
       "  background: linear-gradient(90deg, #FFD700 100.0%, transparent 100.0%);\n",
       "}\n",
       "#T_e4326_row1_col1 {\n",
       "  width: 10em;\n",
       "  background: linear-gradient(90deg, #FFD700 78.7%, transparent 78.7%);\n",
       "}\n",
       "#T_e4326_row2_col1 {\n",
       "  width: 10em;\n",
       "  background: linear-gradient(90deg, #FFD700 37.3%, transparent 37.3%);\n",
       "}\n",
       "#T_e4326_row3_col1 {\n",
       "  width: 10em;\n",
       "  background: linear-gradient(90deg, #FFD700 33.6%, transparent 33.6%);\n",
       "}\n",
       "#T_e4326_row4_col1 {\n",
       "  width: 10em;\n",
       "  background: linear-gradient(90deg, #FFD700 27.0%, transparent 27.0%);\n",
       "}\n",
       "#T_e4326_row5_col1 {\n",
       "  width: 10em;\n",
       "  background: linear-gradient(90deg, #FFD700 24.8%, transparent 24.8%);\n",
       "}\n",
       "#T_e4326_row6_col1 {\n",
       "  width: 10em;\n",
       "  background: linear-gradient(90deg, #FFD700 20.5%, transparent 20.5%);\n",
       "}\n",
       "#T_e4326_row7_col1 {\n",
       "  width: 10em;\n",
       "  background: linear-gradient(90deg, #FFD700 16.6%, transparent 16.6%);\n",
       "}\n",
       "#T_e4326_row8_col1 {\n",
       "  width: 10em;\n",
       "  background: linear-gradient(90deg, #FFD700 15.6%, transparent 15.6%);\n",
       "}\n",
       "#T_e4326_row9_col1 {\n",
       "  width: 10em;\n",
       "  background: linear-gradient(90deg, #FFD700 15.2%, transparent 15.2%);\n",
       "}\n",
       "#T_e4326_row10_col1 {\n",
       "  width: 10em;\n",
       "  background: linear-gradient(90deg, #FFD700 13.5%, transparent 13.5%);\n",
       "}\n",
       "#T_e4326_row11_col1 {\n",
       "  width: 10em;\n",
       "  background: linear-gradient(90deg, #FFD700 13.0%, transparent 13.0%);\n",
       "}\n",
       "#T_e4326_row12_col1 {\n",
       "  width: 10em;\n",
       "  background: linear-gradient(90deg, #FFD700 12.5%, transparent 12.5%);\n",
       "}\n",
       "#T_e4326_row13_col1 {\n",
       "  width: 10em;\n",
       "  background: linear-gradient(90deg, #FFD700 12.1%, transparent 12.1%);\n",
       "}\n",
       "#T_e4326_row14_col1 {\n",
       "  width: 10em;\n",
       "  background: linear-gradient(90deg, #FFD700 11.9%, transparent 11.9%);\n",
       "}\n",
       "#T_e4326_row15_col1 {\n",
       "  width: 10em;\n",
       "  background: linear-gradient(90deg, #FFD700 10.4%, transparent 10.4%);\n",
       "}\n",
       "#T_e4326_row16_col1 {\n",
       "  width: 10em;\n",
       "  background: linear-gradient(90deg, #FFD700 9.5%, transparent 9.5%);\n",
       "}\n",
       "#T_e4326_row17_col1 {\n",
       "  width: 10em;\n",
       "  background: linear-gradient(90deg, #FFD700 8.8%, transparent 8.8%);\n",
       "}\n",
       "#T_e4326_row18_col1 {\n",
       "  width: 10em;\n",
       "  background: linear-gradient(90deg, #FFD700 8.4%, transparent 8.4%);\n",
       "}\n",
       "#T_e4326_row19_col1 {\n",
       "  width: 10em;\n",
       "  background: linear-gradient(90deg, #FFD700 8.0%, transparent 8.0%);\n",
       "}\n",
       "#T_e4326_row20_col1, #T_e4326_row21_col1 {\n",
       "  width: 10em;\n",
       "  background: linear-gradient(90deg, #FFD700 7.9%, transparent 7.9%);\n",
       "}\n",
       "#T_e4326_row22_col1 {\n",
       "  width: 10em;\n",
       "  background: linear-gradient(90deg, #FFD700 7.7%, transparent 7.7%);\n",
       "}\n",
       "#T_e4326_row23_col1 {\n",
       "  width: 10em;\n",
       "  background: linear-gradient(90deg, #FFD700 6.7%, transparent 6.7%);\n",
       "}\n",
       "#T_e4326_row24_col1 {\n",
       "  width: 10em;\n",
       "  background: linear-gradient(90deg, #FFD700 6.6%, transparent 6.6%);\n",
       "}\n",
       "#T_e4326_row25_col1 {\n",
       "  width: 10em;\n",
       "  background: linear-gradient(90deg, #FFD700 6.5%, transparent 6.5%);\n",
       "}\n",
       "#T_e4326_row26_col1 {\n",
       "  width: 10em;\n",
       "  background: linear-gradient(90deg, #FFD700 6.3%, transparent 6.3%);\n",
       "}\n",
       "#T_e4326_row27_col1 {\n",
       "  width: 10em;\n",
       "  background: linear-gradient(90deg, #FFD700 6.2%, transparent 6.2%);\n",
       "}\n",
       "#T_e4326_row28_col1 {\n",
       "  width: 10em;\n",
       "  background: linear-gradient(90deg, #FFD700 6.1%, transparent 6.1%);\n",
       "}\n",
       "#T_e4326_row29_col1 {\n",
       "  width: 10em;\n",
       "  background: linear-gradient(90deg, #FFD700 6.0%, transparent 6.0%);\n",
       "}\n",
       "#T_e4326_row30_col1, #T_e4326_row31_col1 {\n",
       "  width: 10em;\n",
       "  background: linear-gradient(90deg, #FFD700 5.9%, transparent 5.9%);\n",
       "}\n",
       "#T_e4326_row32_col1 {\n",
       "  width: 10em;\n",
       "  background: linear-gradient(90deg, #FFD700 5.7%, transparent 5.7%);\n",
       "}\n",
       "#T_e4326_row33_col1 {\n",
       "  width: 10em;\n",
       "  background: linear-gradient(90deg, #FFD700 5.5%, transparent 5.5%);\n",
       "}\n",
       "#T_e4326_row34_col1 {\n",
       "  width: 10em;\n",
       "  background: linear-gradient(90deg, #FFD700 5.1%, transparent 5.1%);\n",
       "}\n",
       "#T_e4326_row35_col1 {\n",
       "  width: 10em;\n",
       "  background: linear-gradient(90deg, #FFD700 4.9%, transparent 4.9%);\n",
       "}\n",
       "#T_e4326_row36_col1 {\n",
       "  width: 10em;\n",
       "  background: linear-gradient(90deg, #FFD700 4.8%, transparent 4.8%);\n",
       "}\n",
       "#T_e4326_row37_col1 {\n",
       "  width: 10em;\n",
       "  background: linear-gradient(90deg, #FFD700 4.6%, transparent 4.6%);\n",
       "}\n",
       "#T_e4326_row38_col1, #T_e4326_row39_col1 {\n",
       "  width: 10em;\n",
       "  background: linear-gradient(90deg, #FFD700 4.5%, transparent 4.5%);\n",
       "}\n",
       "#T_e4326_row40_col1 {\n",
       "  width: 10em;\n",
       "  background: linear-gradient(90deg, #FFD700 4.4%, transparent 4.4%);\n",
       "}\n",
       "#T_e4326_row41_col1 {\n",
       "  width: 10em;\n",
       "  background: linear-gradient(90deg, #FFD700 4.2%, transparent 4.2%);\n",
       "}\n",
       "#T_e4326_row42_col1 {\n",
       "  width: 10em;\n",
       "  background: linear-gradient(90deg, #FFD700 3.9%, transparent 3.9%);\n",
       "}\n",
       "#T_e4326_row43_col1, #T_e4326_row44_col1 {\n",
       "  width: 10em;\n",
       "  background: linear-gradient(90deg, #FFD700 3.8%, transparent 3.8%);\n",
       "}\n",
       "#T_e4326_row45_col1, #T_e4326_row46_col1 {\n",
       "  width: 10em;\n",
       "  background: linear-gradient(90deg, #FFD700 3.4%, transparent 3.4%);\n",
       "}\n",
       "#T_e4326_row47_col1 {\n",
       "  width: 10em;\n",
       "  background: linear-gradient(90deg, #FFD700 3.1%, transparent 3.1%);\n",
       "}\n",
       "#T_e4326_row48_col1 {\n",
       "  width: 10em;\n",
       "  background: linear-gradient(90deg, #FFD700 3.0%, transparent 3.0%);\n",
       "}\n",
       "#T_e4326_row49_col1 {\n",
       "  width: 10em;\n",
       "  background: linear-gradient(90deg, #FFD700 2.7%, transparent 2.7%);\n",
       "}\n",
       "#T_e4326_row50_col1, #T_e4326_row51_col1 {\n",
       "  width: 10em;\n",
       "  background: linear-gradient(90deg, #FFD700 2.6%, transparent 2.6%);\n",
       "}\n",
       "#T_e4326_row52_col1 {\n",
       "  width: 10em;\n",
       "  background: linear-gradient(90deg, #FFD700 2.5%, transparent 2.5%);\n",
       "}\n",
       "#T_e4326_row53_col1, #T_e4326_row54_col1 {\n",
       "  width: 10em;\n",
       "  background: linear-gradient(90deg, #FFD700 2.4%, transparent 2.4%);\n",
       "}\n",
       "#T_e4326_row55_col1 {\n",
       "  width: 10em;\n",
       "  background: linear-gradient(90deg, #FFD700 2.1%, transparent 2.1%);\n",
       "}\n",
       "#T_e4326_row56_col1, #T_e4326_row57_col1, #T_e4326_row58_col1, #T_e4326_row59_col1 {\n",
       "  width: 10em;\n",
       "  background: linear-gradient(90deg, #FFD700 2.0%, transparent 2.0%);\n",
       "}\n",
       "#T_e4326_row60_col1 {\n",
       "  width: 10em;\n",
       "  background: linear-gradient(90deg, #FFD700 1.8%, transparent 1.8%);\n",
       "}\n",
       "#T_e4326_row61_col1 {\n",
       "  width: 10em;\n",
       "  background: linear-gradient(90deg, #FFD700 1.7%, transparent 1.7%);\n",
       "}\n",
       "#T_e4326_row62_col1, #T_e4326_row63_col1, #T_e4326_row64_col1 {\n",
       "  width: 10em;\n",
       "  background: linear-gradient(90deg, #FFD700 1.6%, transparent 1.6%);\n",
       "}\n",
       "#T_e4326_row65_col1 {\n",
       "  width: 10em;\n",
       "  background: linear-gradient(90deg, #FFD700 1.4%, transparent 1.4%);\n",
       "}\n",
       "#T_e4326_row66_col1 {\n",
       "  width: 10em;\n",
       "  background: linear-gradient(90deg, #FFD700 1.3%, transparent 1.3%);\n",
       "}\n",
       "#T_e4326_row67_col1, #T_e4326_row68_col1, #T_e4326_row69_col1 {\n",
       "  width: 10em;\n",
       "  background: linear-gradient(90deg, #FFD700 1.2%, transparent 1.2%);\n",
       "}\n",
       "#T_e4326_row70_col1 {\n",
       "  width: 10em;\n",
       "  background: linear-gradient(90deg, #FFD700 1.1%, transparent 1.1%);\n",
       "}\n",
       "#T_e4326_row71_col1, #T_e4326_row72_col1, #T_e4326_row73_col1, #T_e4326_row74_col1, #T_e4326_row75_col1, #T_e4326_row76_col1 {\n",
       "  width: 10em;\n",
       "  background: linear-gradient(90deg, #FFD700 1.0%, transparent 1.0%);\n",
       "}\n",
       "#T_e4326_row77_col1, #T_e4326_row78_col1, #T_e4326_row79_col1, #T_e4326_row80_col1, #T_e4326_row81_col1 {\n",
       "  width: 10em;\n",
       "  background: linear-gradient(90deg, #FFD700 0.9%, transparent 0.9%);\n",
       "}\n",
       "#T_e4326_row82_col1, #T_e4326_row83_col1, #T_e4326_row84_col1 {\n",
       "  width: 10em;\n",
       "  background: linear-gradient(90deg, #FFD700 0.8%, transparent 0.8%);\n",
       "}\n",
       "#T_e4326_row85_col1, #T_e4326_row86_col1, #T_e4326_row87_col1, #T_e4326_row88_col1 {\n",
       "  width: 10em;\n",
       "  background: linear-gradient(90deg, #FFD700 0.7%, transparent 0.7%);\n",
       "}\n",
       "#T_e4326_row89_col1, #T_e4326_row90_col1, #T_e4326_row91_col1, #T_e4326_row92_col1, #T_e4326_row93_col1, #T_e4326_row94_col1 {\n",
       "  width: 10em;\n",
       "  background: linear-gradient(90deg, #FFD700 0.6%, transparent 0.6%);\n",
       "}\n",
       "#T_e4326_row95_col1, #T_e4326_row96_col1, #T_e4326_row97_col1, #T_e4326_row98_col1 {\n",
       "  width: 10em;\n",
       "  background: linear-gradient(90deg, #FFD700 0.5%, transparent 0.5%);\n",
       "}\n",
       "#T_e4326_row99_col1, #T_e4326_row100_col1, #T_e4326_row101_col1 {\n",
       "  width: 10em;\n",
       "  background: linear-gradient(90deg, #FFD700 0.4%, transparent 0.4%);\n",
       "}\n",
       "#T_e4326_row102_col1, #T_e4326_row103_col1 {\n",
       "  width: 10em;\n",
       "  background: linear-gradient(90deg, #FFD700 0.3%, transparent 0.3%);\n",
       "}\n",
       "</style>\n",
       "<table id=\"T_e4326\">\n",
       "  <thead>\n",
       "    <tr>\n",
       "      <th id=\"T_e4326_level0_col0\" class=\"col_heading level0 col0\" >Plataforma</th>\n",
       "      <th id=\"T_e4326_level0_col1\" class=\"col_heading level0 col1\" >Registros Atuais</th>\n",
       "    </tr>\n",
       "  </thead>\n",
       "  <tbody>\n",
       "    <tr>\n",
       "      <td id=\"T_e4326_row0_col0\" class=\"data row0 col0\" >Claro TV+</td>\n",
       "      <td id=\"T_e4326_row0_col1\" class=\"data row0 col1\" >37,965</td>\n",
       "    </tr>\n",
       "    <tr>\n",
       "      <td id=\"T_e4326_row1_col0\" class=\"data row1 col0\" >Amazon Prime Video</td>\n",
       "      <td id=\"T_e4326_row1_col1\" class=\"data row1 col1\" >29,890</td>\n",
       "    </tr>\n",
       "    <tr>\n",
       "      <td id=\"T_e4326_row2_col0\" class=\"data row2 col0\" >Vivo Play</td>\n",
       "      <td id=\"T_e4326_row2_col1\" class=\"data row2 col1\" >14,152</td>\n",
       "    </tr>\n",
       "    <tr>\n",
       "      <td id=\"T_e4326_row3_col0\" class=\"data row3 col0\" >Plex</td>\n",
       "      <td id=\"T_e4326_row3_col1\" class=\"data row3 col1\" >12,756</td>\n",
       "    </tr>\n",
       "    <tr>\n",
       "      <td id=\"T_e4326_row4_col0\" class=\"data row4 col0\" >Sky+</td>\n",
       "      <td id=\"T_e4326_row4_col1\" class=\"data row4 col1\" >10,264</td>\n",
       "    </tr>\n",
       "    <tr>\n",
       "      <td id=\"T_e4326_row5_col0\" class=\"data row5 col0\" >YouTube</td>\n",
       "      <td id=\"T_e4326_row5_col1\" class=\"data row5 col1\" >9,425</td>\n",
       "    </tr>\n",
       "    <tr>\n",
       "      <td id=\"T_e4326_row6_col0\" class=\"data row6 col0\" >Netflix</td>\n",
       "      <td id=\"T_e4326_row6_col1\" class=\"data row6 col1\" >7,780</td>\n",
       "    </tr>\n",
       "    <tr>\n",
       "      <td id=\"T_e4326_row7_col0\" class=\"data row7 col0\" >UNIVER VIDEO</td>\n",
       "      <td id=\"T_e4326_row7_col1\" class=\"data row7 col1\" >6,285</td>\n",
       "    </tr>\n",
       "    <tr>\n",
       "      <td id=\"T_e4326_row8_col0\" class=\"data row8 col0\" >Banco de Conteúdos Culturais</td>\n",
       "      <td id=\"T_e4326_row8_col1\" class=\"data row8 col1\" >5,929</td>\n",
       "    </tr>\n",
       "    <tr>\n",
       "      <td id=\"T_e4326_row9_col0\" class=\"data row9 col0\" >Looke</td>\n",
       "      <td id=\"T_e4326_row9_col1\" class=\"data row9 col1\" >5,768</td>\n",
       "    </tr>\n",
       "    <tr>\n",
       "      <td id=\"T_e4326_row10_col0\" class=\"data row10 col0\" >DaFilms</td>\n",
       "      <td id=\"T_e4326_row10_col1\" class=\"data row10 col1\" >5,108</td>\n",
       "    </tr>\n",
       "    <tr>\n",
       "      <td id=\"T_e4326_row11_col0\" class=\"data row11 col0\" >iQIYI</td>\n",
       "      <td id=\"T_e4326_row11_col1\" class=\"data row11 col1\" >4,927</td>\n",
       "    </tr>\n",
       "    <tr>\n",
       "      <td id=\"T_e4326_row12_col0\" class=\"data row12 col0\" >Zee5</td>\n",
       "      <td id=\"T_e4326_row12_col1\" class=\"data row12 col1\" >4,753</td>\n",
       "    </tr>\n",
       "    <tr>\n",
       "      <td id=\"T_e4326_row13_col0\" class=\"data row13 col0\" >FIFA+</td>\n",
       "      <td id=\"T_e4326_row13_col1\" class=\"data row13 col1\" >4,576</td>\n",
       "    </tr>\n",
       "    <tr>\n",
       "      <td id=\"T_e4326_row14_col0\" class=\"data row14 col0\" >Globoplay</td>\n",
       "      <td id=\"T_e4326_row14_col1\" class=\"data row14 col1\" >4,510</td>\n",
       "    </tr>\n",
       "    <tr>\n",
       "      <td id=\"T_e4326_row15_col0\" class=\"data row15 col0\" >Max</td>\n",
       "      <td id=\"T_e4326_row15_col1\" class=\"data row15 col1\" >3,945</td>\n",
       "    </tr>\n",
       "    <tr>\n",
       "      <td id=\"T_e4326_row16_col0\" class=\"data row16 col0\" >Viddsee</td>\n",
       "      <td id=\"T_e4326_row16_col1\" class=\"data row16 col1\" >3,616</td>\n",
       "    </tr>\n",
       "    <tr>\n",
       "      <td id=\"T_e4326_row17_col0\" class=\"data row17 col0\" >IndieFlix</td>\n",
       "      <td id=\"T_e4326_row17_col1\" class=\"data row17 col1\" >3,343</td>\n",
       "    </tr>\n",
       "    <tr>\n",
       "      <td id=\"T_e4326_row18_col0\" class=\"data row18 col0\" >Filmzie</td>\n",
       "      <td id=\"T_e4326_row18_col1\" class=\"data row18 col1\" >3,171</td>\n",
       "    </tr>\n",
       "    <tr>\n",
       "      <td id=\"T_e4326_row19_col0\" class=\"data row19 col0\" >Claro Video</td>\n",
       "      <td id=\"T_e4326_row19_col1\" class=\"data row19 col1\" >3,031</td>\n",
       "    </tr>\n",
       "    <tr>\n",
       "      <td id=\"T_e4326_row20_col0\" class=\"data row20 col0\" >Means TV</td>\n",
       "      <td id=\"T_e4326_row20_col1\" class=\"data row20 col1\" >2,994</td>\n",
       "    </tr>\n",
       "    <tr>\n",
       "      <td id=\"T_e4326_row21_col0\" class=\"data row21 col0\" >Pluto TV</td>\n",
       "      <td id=\"T_e4326_row21_col1\" class=\"data row21 col1\" >2,986</td>\n",
       "    </tr>\n",
       "    <tr>\n",
       "      <td id=\"T_e4326_row22_col0\" class=\"data row22 col0\" >Disney+</td>\n",
       "      <td id=\"T_e4326_row22_col1\" class=\"data row22 col1\" >2,911</td>\n",
       "    </tr>\n",
       "    <tr>\n",
       "      <td id=\"T_e4326_row23_col0\" class=\"data row23 col0\" >Arte1 Play</td>\n",
       "      <td id=\"T_e4326_row23_col1\" class=\"data row23 col1\" >2,550</td>\n",
       "    </tr>\n",
       "    <tr>\n",
       "      <td id=\"T_e4326_row24_col0\" class=\"data row24 col0\" >Qello Concerts</td>\n",
       "      <td id=\"T_e4326_row24_col1\" class=\"data row24 col1\" >2,519</td>\n",
       "    </tr>\n",
       "    <tr>\n",
       "      <td id=\"T_e4326_row25_col0\" class=\"data row25 col0\" >NetMovies</td>\n",
       "      <td id=\"T_e4326_row25_col1\" class=\"data row25 col1\" >2,482</td>\n",
       "    </tr>\n",
       "    <tr>\n",
       "      <td id=\"T_e4326_row26_col0\" class=\"data row26 col0\" >Tamanduá TV</td>\n",
       "      <td id=\"T_e4326_row26_col1\" class=\"data row26 col1\" >2,381</td>\n",
       "    </tr>\n",
       "    <tr>\n",
       "      <td id=\"T_e4326_row27_col0\" class=\"data row27 col0\" >OnDemandKorea</td>\n",
       "      <td id=\"T_e4326_row27_col1\" class=\"data row27 col1\" >2,353</td>\n",
       "    </tr>\n",
       "    <tr>\n",
       "      <td id=\"T_e4326_row28_col0\" class=\"data row28 col0\" >Canela.TV</td>\n",
       "      <td id=\"T_e4326_row28_col1\" class=\"data row28 col1\" >2,303</td>\n",
       "    </tr>\n",
       "    <tr>\n",
       "      <td id=\"T_e4326_row29_col0\" class=\"data row29 col0\" >ShemarooMe</td>\n",
       "      <td id=\"T_e4326_row29_col1\" class=\"data row29 col1\" >2,295</td>\n",
       "    </tr>\n",
       "    <tr>\n",
       "      <td id=\"T_e4326_row30_col0\" class=\"data row30 col0\" >IWantTFC</td>\n",
       "      <td id=\"T_e4326_row30_col1\" class=\"data row30 col1\" >2,252</td>\n",
       "    </tr>\n",
       "    <tr>\n",
       "      <td id=\"T_e4326_row31_col0\" class=\"data row31 col0\" >FlixOlé</td>\n",
       "      <td id=\"T_e4326_row31_col1\" class=\"data row31 col1\" >2,226</td>\n",
       "    </tr>\n",
       "    <tr>\n",
       "      <td id=\"T_e4326_row32_col0\" class=\"data row32 col0\" >GuideDoc</td>\n",
       "      <td id=\"T_e4326_row32_col1\" class=\"data row32 col1\" >2,150</td>\n",
       "    </tr>\n",
       "    <tr>\n",
       "      <td id=\"T_e4326_row33_col0\" class=\"data row33 col0\" >Rakuten Viki</td>\n",
       "      <td id=\"T_e4326_row33_col1\" class=\"data row33 col1\" >2,091</td>\n",
       "    </tr>\n",
       "    <tr>\n",
       "      <td id=\"T_e4326_row34_col0\" class=\"data row34 col0\" >Mercado Play</td>\n",
       "      <td id=\"T_e4326_row34_col1\" class=\"data row34 col1\" >1,935</td>\n",
       "    </tr>\n",
       "    <tr>\n",
       "      <td id=\"T_e4326_row35_col0\" class=\"data row35 col0\" >Watch</td>\n",
       "      <td id=\"T_e4326_row35_col1\" class=\"data row35 col1\" >1,861</td>\n",
       "    </tr>\n",
       "    <tr>\n",
       "      <td id=\"T_e4326_row36_col0\" class=\"data row36 col0\" >CultSP Play</td>\n",
       "      <td id=\"T_e4326_row36_col1\" class=\"data row36 col1\" >1,806</td>\n",
       "    </tr>\n",
       "    <tr>\n",
       "      <td id=\"T_e4326_row37_col0\" class=\"data row37 col0\" >Crunchyroll</td>\n",
       "      <td id=\"T_e4326_row37_col1\" class=\"data row37 col1\" >1,752</td>\n",
       "    </tr>\n",
       "    <tr>\n",
       "      <td id=\"T_e4326_row38_col0\" class=\"data row38 col0\" >Simply South</td>\n",
       "      <td id=\"T_e4326_row38_col1\" class=\"data row38 col1\" >1,723</td>\n",
       "    </tr>\n",
       "    <tr>\n",
       "      <td id=\"T_e4326_row39_col0\" class=\"data row39 col0\" >KOCOWA+</td>\n",
       "      <td id=\"T_e4326_row39_col1\" class=\"data row39 col1\" >1,721</td>\n",
       "    </tr>\n",
       "    <tr>\n",
       "      <td id=\"T_e4326_row40_col0\" class=\"data row40 col0\" >Digital Concert Hall</td>\n",
       "      <td id=\"T_e4326_row40_col1\" class=\"data row40 col1\" >1,662</td>\n",
       "    </tr>\n",
       "    <tr>\n",
       "      <td id=\"T_e4326_row41_col0\" class=\"data row41 col0\" >Troma NOW!</td>\n",
       "      <td id=\"T_e4326_row41_col1\" class=\"data row41 col1\" >1,600</td>\n",
       "    </tr>\n",
       "    <tr>\n",
       "      <td id=\"T_e4326_row42_col0\" class=\"data row42 col0\" >KweliTV</td>\n",
       "      <td id=\"T_e4326_row42_col1\" class=\"data row42 col1\" >1,477</td>\n",
       "    </tr>\n",
       "    <tr>\n",
       "      <td id=\"T_e4326_row43_col0\" class=\"data row43 col0\" >Cultpix</td>\n",
       "      <td id=\"T_e4326_row43_col1\" class=\"data row43 col1\" >1,455</td>\n",
       "    </tr>\n",
       "    <tr>\n",
       "      <td id=\"T_e4326_row44_col0\" class=\"data row44 col0\" >Darkflix+</td>\n",
       "      <td id=\"T_e4326_row44_col1\" class=\"data row44 col1\" >1,451</td>\n",
       "    </tr>\n",
       "    <tr>\n",
       "      <td id=\"T_e4326_row45_col0\" class=\"data row45 col0\" >Filmbox+</td>\n",
       "      <td id=\"T_e4326_row45_col1\" class=\"data row45 col1\" >1,308</td>\n",
       "    </tr>\n",
       "    <tr>\n",
       "      <td id=\"T_e4326_row46_col0\" class=\"data row46 col0\" >UOL Play</td>\n",
       "      <td id=\"T_e4326_row46_col1\" class=\"data row46 col1\" >1,298</td>\n",
       "    </tr>\n",
       "    <tr>\n",
       "      <td id=\"T_e4326_row47_col0\" class=\"data row47 col0\" >Paramount+</td>\n",
       "      <td id=\"T_e4326_row47_col1\" class=\"data row47 col1\" >1,176</td>\n",
       "    </tr>\n",
       "    <tr>\n",
       "      <td id=\"T_e4326_row48_col0\" class=\"data row48 col0\" >MagellanTV</td>\n",
       "      <td id=\"T_e4326_row48_col1\" class=\"data row48 col1\" >1,135</td>\n",
       "    </tr>\n",
       "    <tr>\n",
       "      <td id=\"T_e4326_row49_col0\" class=\"data row49 col0\" >Met Opera on Demand</td>\n",
       "      <td id=\"T_e4326_row49_col1\" class=\"data row49 col1\" >1,012</td>\n",
       "    </tr>\n",
       "    <tr>\n",
       "      <td id=\"T_e4326_row50_col0\" class=\"data row50 col0\" >Reel Short</td>\n",
       "      <td id=\"T_e4326_row50_col1\" class=\"data row50 col1\" >1,002</td>\n",
       "    </tr>\n",
       "    <tr>\n",
       "      <td id=\"T_e4326_row51_col0\" class=\"data row51 col0\" >Oldflix</td>\n",
       "      <td id=\"T_e4326_row51_col1\" class=\"data row51 col1\" >979</td>\n",
       "    </tr>\n",
       "    <tr>\n",
       "      <td id=\"T_e4326_row52_col0\" class=\"data row52 col0\" >CINE.AR PLAY</td>\n",
       "      <td id=\"T_e4326_row52_col1\" class=\"data row52 col1\" >954</td>\n",
       "    </tr>\n",
       "    <tr>\n",
       "      <td id=\"T_e4326_row53_col0\" class=\"data row53 col0\" >Curta!On</td>\n",
       "      <td id=\"T_e4326_row53_col1\" class=\"data row53 col1\" >926</td>\n",
       "    </tr>\n",
       "    <tr>\n",
       "      <td id=\"T_e4326_row54_col0\" class=\"data row54 col0\" >Reserva Imovision</td>\n",
       "      <td id=\"T_e4326_row54_col1\" class=\"data row54 col1\" >896</td>\n",
       "    </tr>\n",
       "    <tr>\n",
       "      <td id=\"T_e4326_row55_col0\" class=\"data row55 col0\" >Kidoodle.TV</td>\n",
       "      <td id=\"T_e4326_row55_col1\" class=\"data row55 col1\" >779</td>\n",
       "    </tr>\n",
       "    <tr>\n",
       "      <td id=\"T_e4326_row56_col0\" class=\"data row56 col0\" >IFI Archive Player</td>\n",
       "      <td id=\"T_e4326_row56_col1\" class=\"data row56 col1\" >773</td>\n",
       "    </tr>\n",
       "    <tr>\n",
       "      <td id=\"T_e4326_row57_col0\" class=\"data row57 col0\" >Hoichoi</td>\n",
       "      <td id=\"T_e4326_row57_col1\" class=\"data row57 col1\" >766</td>\n",
       "    </tr>\n",
       "    <tr>\n",
       "      <td id=\"T_e4326_row58_col0\" class=\"data row58 col0\" >Curiosity Stream</td>\n",
       "      <td id=\"T_e4326_row58_col1\" class=\"data row58 col1\" >752</td>\n",
       "    </tr>\n",
       "    <tr>\n",
       "      <td id=\"T_e4326_row59_col0\" class=\"data row59 col0\" >Embaúba Play</td>\n",
       "      <td id=\"T_e4326_row59_col1\" class=\"data row59 col1\" >742</td>\n",
       "    </tr>\n",
       "    <tr>\n",
       "      <td id=\"T_e4326_row60_col0\" class=\"data row60 col0\" >MUBI</td>\n",
       "      <td id=\"T_e4326_row60_col1\" class=\"data row60 col1\" >673</td>\n",
       "    </tr>\n",
       "    <tr>\n",
       "      <td id=\"T_e4326_row61_col0\" class=\"data row61 col0\" >Belas Artes À La Carte</td>\n",
       "      <td id=\"T_e4326_row61_col1\" class=\"data row61 col1\" >645</td>\n",
       "    </tr>\n",
       "    <tr>\n",
       "      <td id=\"T_e4326_row62_col0\" class=\"data row62 col0\" >PlayPlus</td>\n",
       "      <td id=\"T_e4326_row62_col1\" class=\"data row62 col1\" >624</td>\n",
       "    </tr>\n",
       "    <tr>\n",
       "      <td id=\"T_e4326_row63_col0\" class=\"data row63 col0\" >Selecta TV</td>\n",
       "      <td id=\"T_e4326_row63_col1\" class=\"data row63 col1\" >609</td>\n",
       "    </tr>\n",
       "    <tr>\n",
       "      <td id=\"T_e4326_row64_col0\" class=\"data row64 col0\" >Cindie</td>\n",
       "      <td id=\"T_e4326_row64_col1\" class=\"data row64 col1\" >598</td>\n",
       "    </tr>\n",
       "    <tr>\n",
       "      <td id=\"T_e4326_row65_col0\" class=\"data row65 col0\" >OCULTO.TV</td>\n",
       "      <td id=\"T_e4326_row65_col1\" class=\"data row65 col1\" >527</td>\n",
       "    </tr>\n",
       "    <tr>\n",
       "      <td id=\"T_e4326_row66_col0\" class=\"data row66 col0\" >Filmicca</td>\n",
       "      <td id=\"T_e4326_row66_col1\" class=\"data row66 col1\" >495</td>\n",
       "    </tr>\n",
       "    <tr>\n",
       "      <td id=\"T_e4326_row67_col0\" class=\"data row67 col0\" >Nebula</td>\n",
       "      <td id=\"T_e4326_row67_col1\" class=\"data row67 col1\" >471</td>\n",
       "    </tr>\n",
       "    <tr>\n",
       "      <td id=\"T_e4326_row68_col0\" class=\"data row68 col0\" >Marquee TV</td>\n",
       "      <td id=\"T_e4326_row68_col1\" class=\"data row68 col1\" >454</td>\n",
       "    </tr>\n",
       "    <tr>\n",
       "      <td id=\"T_e4326_row69_col0\" class=\"data row69 col0\" >American Indian Film Gallery</td>\n",
       "      <td id=\"T_e4326_row69_col1\" class=\"data row69 col1\" >445</td>\n",
       "    </tr>\n",
       "    <tr>\n",
       "      <td id=\"T_e4326_row70_col0\" class=\"data row70 col0\" >TVN Play</td>\n",
       "      <td id=\"T_e4326_row70_col1\" class=\"data row70 col1\" >408</td>\n",
       "    </tr>\n",
       "    <tr>\n",
       "      <td id=\"T_e4326_row71_col0\" class=\"data row71 col0\" >Cinemateca Pernambucana</td>\n",
       "      <td id=\"T_e4326_row71_col1\" class=\"data row71 col1\" >390</td>\n",
       "    </tr>\n",
       "    <tr>\n",
       "      <td id=\"T_e4326_row72_col0\" class=\"data row72 col0\" >Retina Latina</td>\n",
       "      <td id=\"T_e4326_row72_col1\" class=\"data row72 col1\" >390</td>\n",
       "    </tr>\n",
       "    <tr>\n",
       "      <td id=\"T_e4326_row73_col0\" class=\"data row73 col0\" >Teatrix</td>\n",
       "      <td id=\"T_e4326_row73_col1\" class=\"data row73 col1\" >389</td>\n",
       "    </tr>\n",
       "    <tr>\n",
       "      <td id=\"T_e4326_row74_col0\" class=\"data row74 col0\" >DOCSVILLE</td>\n",
       "      <td id=\"T_e4326_row74_col1\" class=\"data row74 col1\" >388</td>\n",
       "    </tr>\n",
       "    <tr>\n",
       "      <td id=\"T_e4326_row75_col0\" class=\"data row75 col0\" >Anime Onegai</td>\n",
       "      <td id=\"T_e4326_row75_col1\" class=\"data row75 col1\" >371</td>\n",
       "    </tr>\n",
       "    <tr>\n",
       "      <td id=\"T_e4326_row76_col0\" class=\"data row76 col0\" >History Hit</td>\n",
       "      <td id=\"T_e4326_row76_col1\" class=\"data row76 col1\" >363</td>\n",
       "    </tr>\n",
       "    <tr>\n",
       "      <td id=\"T_e4326_row77_col0\" class=\"data row77 col0\" >Toon Goggles</td>\n",
       "      <td id=\"T_e4326_row77_col1\" class=\"data row77 col1\" >359</td>\n",
       "    </tr>\n",
       "    <tr>\n",
       "      <td id=\"T_e4326_row78_col0\" class=\"data row78 col0\" >Revry</td>\n",
       "      <td id=\"T_e4326_row78_col1\" class=\"data row78 col1\" >356</td>\n",
       "    </tr>\n",
       "    <tr>\n",
       "      <td id=\"T_e4326_row79_col0\" class=\"data row79 col0\" >TV Caiçara</td>\n",
       "      <td id=\"T_e4326_row79_col1\" class=\"data row79 col1\" >351</td>\n",
       "    </tr>\n",
       "    <tr>\n",
       "      <td id=\"T_e4326_row80_col0\" class=\"data row80 col0\" >Demand Africa</td>\n",
       "      <td id=\"T_e4326_row80_col1\" class=\"data row80 col1\" >348</td>\n",
       "    </tr>\n",
       "    <tr>\n",
       "      <td id=\"T_e4326_row81_col0\" class=\"data row81 col0\" >MINASplay</td>\n",
       "      <td id=\"T_e4326_row81_col1\" class=\"data row81 col1\" >334</td>\n",
       "    </tr>\n",
       "    <tr>\n",
       "      <td id=\"T_e4326_row82_col0\" class=\"data row82 col0\" >Umbra</td>\n",
       "      <td id=\"T_e4326_row82_col1\" class=\"data row82 col1\" >314</td>\n",
       "    </tr>\n",
       "    <tr>\n",
       "      <td id=\"T_e4326_row83_col0\" class=\"data row83 col0\" >TV Brasil Play</td>\n",
       "      <td id=\"T_e4326_row83_col1\" class=\"data row83 col1\" >304</td>\n",
       "    </tr>\n",
       "    <tr>\n",
       "      <td id=\"T_e4326_row84_col0\" class=\"data row84 col0\" >Apple TV+</td>\n",
       "      <td id=\"T_e4326_row84_col1\" class=\"data row84 col1\" >286</td>\n",
       "    </tr>\n",
       "    <tr>\n",
       "      <td id=\"T_e4326_row85_col0\" class=\"data row85 col0\" >Digital Theatre</td>\n",
       "      <td id=\"T_e4326_row85_col1\" class=\"data row85 col1\" >278</td>\n",
       "    </tr>\n",
       "    <tr>\n",
       "      <td id=\"T_e4326_row86_col0\" class=\"data row86 col0\" >MovieSaints</td>\n",
       "      <td id=\"T_e4326_row86_col1\" class=\"data row86 col1\" >278</td>\n",
       "    </tr>\n",
       "    <tr>\n",
       "      <td id=\"T_e4326_row87_col0\" class=\"data row87 col0\" >WOW Presents Plus</td>\n",
       "      <td id=\"T_e4326_row87_col1\" class=\"data row87 col1\" >274</td>\n",
       "    </tr>\n",
       "    <tr>\n",
       "      <td id=\"T_e4326_row88_col0\" class=\"data row88 col0\" >Dekkoo</td>\n",
       "      <td id=\"T_e4326_row88_col1\" class=\"data row88 col1\" >252</td>\n",
       "    </tr>\n",
       "    <tr>\n",
       "      <td id=\"T_e4326_row89_col0\" class=\"data row89 col0\" >Itaú Cultural Play</td>\n",
       "      <td id=\"T_e4326_row89_col1\" class=\"data row89 col1\" >246</td>\n",
       "    </tr>\n",
       "    <tr>\n",
       "      <td id=\"T_e4326_row90_col0\" class=\"data row90 col0\" >Sesc Digital</td>\n",
       "      <td id=\"T_e4326_row90_col1\" class=\"data row90 col1\" >236</td>\n",
       "    </tr>\n",
       "    <tr>\n",
       "      <td id=\"T_e4326_row91_col0\" class=\"data row91 col0\" >Cardume</td>\n",
       "      <td id=\"T_e4326_row91_col1\" class=\"data row91 col1\" >233</td>\n",
       "    </tr>\n",
       "    <tr>\n",
       "      <td id=\"T_e4326_row92_col0\" class=\"data row92 col0\" >HENRI</td>\n",
       "      <td id=\"T_e4326_row92_col1\" class=\"data row92 col1\" >222</td>\n",
       "    </tr>\n",
       "    <tr>\n",
       "      <td id=\"T_e4326_row93_col0\" class=\"data row93 col0\" >Cine Humberto Mauro Mais</td>\n",
       "      <td id=\"T_e4326_row93_col1\" class=\"data row93 col1\" >222</td>\n",
       "    </tr>\n",
       "    <tr>\n",
       "      <td id=\"T_e4326_row94_col0\" class=\"data row94 col0\" >Bombozila</td>\n",
       "      <td id=\"T_e4326_row94_col1\" class=\"data row94 col1\" >213</td>\n",
       "    </tr>\n",
       "    <tr>\n",
       "      <td id=\"T_e4326_row95_col0\" class=\"data row95 col0\" >Spcine Play</td>\n",
       "      <td id=\"T_e4326_row95_col1\" class=\"data row95 col1\" >207</td>\n",
       "    </tr>\n",
       "    <tr>\n",
       "      <td id=\"T_e4326_row96_col0\" class=\"data row96 col0\" >Todesplay</td>\n",
       "      <td id=\"T_e4326_row96_col1\" class=\"data row96 col1\" >205</td>\n",
       "    </tr>\n",
       "    <tr>\n",
       "      <td id=\"T_e4326_row97_col0\" class=\"data row97 col0\" >ALTBalaji</td>\n",
       "      <td id=\"T_e4326_row97_col1\" class=\"data row97 col1\" >199</td>\n",
       "    </tr>\n",
       "    <tr>\n",
       "      <td id=\"T_e4326_row98_col0\" class=\"data row98 col0\" >Libreflix</td>\n",
       "      <td id=\"T_e4326_row98_col1\" class=\"data row98 col1\" >190</td>\n",
       "    </tr>\n",
       "    <tr>\n",
       "      <td id=\"T_e4326_row99_col0\" class=\"data row99 col0\" >99 Media</td>\n",
       "      <td id=\"T_e4326_row99_col1\" class=\"data row99 col1\" >169</td>\n",
       "    </tr>\n",
       "    <tr>\n",
       "      <td id=\"T_e4326_row100_col0\" class=\"data row100 col0\" >KINOA.TV</td>\n",
       "      <td id=\"T_e4326_row100_col1\" class=\"data row100 col1\" >153</td>\n",
       "    </tr>\n",
       "    <tr>\n",
       "      <td id=\"T_e4326_row101_col0\" class=\"data row101 col0\" >AmazôniaFLIX</td>\n",
       "      <td id=\"T_e4326_row101_col1\" class=\"data row101 col1\" >133</td>\n",
       "    </tr>\n",
       "    <tr>\n",
       "      <td id=\"T_e4326_row102_col0\" class=\"data row102 col0\" >BroadwayHD</td>\n",
       "      <td id=\"T_e4326_row102_col1\" class=\"data row102 col1\" >120</td>\n",
       "    </tr>\n",
       "    <tr>\n",
       "      <td id=\"T_e4326_row103_col0\" class=\"data row103 col0\" >Narrativas Indígenas do Nordeste</td>\n",
       "      <td id=\"T_e4326_row103_col1\" class=\"data row103 col1\" >112</td>\n",
       "    </tr>\n",
       "  </tbody>\n",
       "</table>\n"
      ],
      "text/plain": [
       "<pandas.io.formats.style.Styler at 0x2b095555590>"
      ]
     },
     "metadata": {},
     "output_type": "display_data"
    },
    {
     "data": {
      "text/html": [
       "<h4>Variações >5% no Catálogo de Conteúdos</h4>"
      ],
      "text/plain": [
       "<IPython.core.display.HTML object>"
      ]
     },
     "metadata": {},
     "output_type": "display_data"
    },
    {
     "data": {
      "text/html": [
       "<style type=\"text/css\">\n",
       "#T_17bcd_row0_col1 {\n",
       "  background-color: #006837;\n",
       "  color: #f1f1f1;\n",
       "}\n",
       "</style>\n",
       "<table id=\"T_17bcd\">\n",
       "  <thead>\n",
       "    <tr>\n",
       "      <th id=\"T_17bcd_level0_col0\" class=\"col_heading level0 col0\" >Plataforma</th>\n",
       "      <th id=\"T_17bcd_level0_col1\" class=\"col_heading level0 col1\" >Variação</th>\n",
       "      <th id=\"T_17bcd_level0_col2\" class=\"col_heading level0 col2\" >Registros Anteriores</th>\n",
       "      <th id=\"T_17bcd_level0_col3\" class=\"col_heading level0 col3\" >Registros Atuais</th>\n",
       "    </tr>\n",
       "  </thead>\n",
       "  <tbody>\n",
       "    <tr>\n",
       "      <td id=\"T_17bcd_row0_col0\" class=\"data row0 col0\" >Universal+</td>\n",
       "      <td id=\"T_17bcd_row0_col1\" class=\"data row0 col1\" >+308.1%</td>\n",
       "      <td id=\"T_17bcd_row0_col2\" class=\"data row0 col2\" >123</td>\n",
       "      <td id=\"T_17bcd_row0_col3\" class=\"data row0 col3\" >502</td>\n",
       "    </tr>\n",
       "  </tbody>\n",
       "</table>\n"
      ],
      "text/plain": [
       "<pandas.io.formats.style.Styler at 0x2b095555590>"
      ]
     },
     "metadata": {},
     "output_type": "display_data"
    },
    {
     "data": {
      "text/html": [
       "<hr>"
      ],
      "text/plain": [
       "<IPython.core.display.HTML object>"
      ]
     },
     "metadata": {},
     "output_type": "display_data"
    },
    {
     "data": {
      "text/html": [
       "<br><h2>Semana 14/08/2025</h2>"
      ],
      "text/plain": [
       "<IPython.core.display.HTML object>"
      ]
     },
     "metadata": {},
     "output_type": "display_data"
    },
    {
     "name": "stdout",
     "output_type": "stream",
     "text": [
      "Não houve variação no total de plataformas cobertas.\n"
     ]
    },
    {
     "data": {
      "text/html": [
       "<h4>Variações >5% no Catálogo de Conteúdos</h4>"
      ],
      "text/plain": [
       "<IPython.core.display.HTML object>"
      ]
     },
     "metadata": {},
     "output_type": "display_data"
    },
    {
     "data": {
      "text/html": [
       "<style type=\"text/css\">\n",
       "#T_e96a9_row0_col1 {\n",
       "  background-color: #006837;\n",
       "  color: #f1f1f1;\n",
       "}\n",
       "#T_e96a9_row1_col1 {\n",
       "  background-color: #de402e;\n",
       "  color: #f1f1f1;\n",
       "}\n",
       "#T_e96a9_row2_col1 {\n",
       "  background-color: #e9f6a1;\n",
       "  color: #000000;\n",
       "}\n",
       "</style>\n",
       "<table id=\"T_e96a9\">\n",
       "  <thead>\n",
       "    <tr>\n",
       "      <th id=\"T_e96a9_level0_col0\" class=\"col_heading level0 col0\" >Plataforma</th>\n",
       "      <th id=\"T_e96a9_level0_col1\" class=\"col_heading level0 col1\" >Variação</th>\n",
       "      <th id=\"T_e96a9_level0_col2\" class=\"col_heading level0 col2\" >Registros Anteriores</th>\n",
       "      <th id=\"T_e96a9_level0_col3\" class=\"col_heading level0 col3\" >Registros Atuais</th>\n",
       "    </tr>\n",
       "  </thead>\n",
       "  <tbody>\n",
       "    <tr>\n",
       "      <td id=\"T_e96a9_row0_col0\" class=\"data row0 col0\" >Simply South</td>\n",
       "      <td id=\"T_e96a9_row0_col1\" class=\"data row0 col1\" >+100.7%</td>\n",
       "      <td id=\"T_e96a9_row0_col2\" class=\"data row0 col2\" >1,723</td>\n",
       "      <td id=\"T_e96a9_row0_col3\" class=\"data row0 col3\" >3,458</td>\n",
       "    </tr>\n",
       "    <tr>\n",
       "      <td id=\"T_e96a9_row1_col0\" class=\"data row1 col0\" >IWantTFC</td>\n",
       "      <td id=\"T_e96a9_row1_col1\" class=\"data row1 col1\" >-75.0%</td>\n",
       "      <td id=\"T_e96a9_row1_col2\" class=\"data row1 col2\" >2,252</td>\n",
       "      <td id=\"T_e96a9_row1_col3\" class=\"data row1 col3\" >564</td>\n",
       "    </tr>\n",
       "    <tr>\n",
       "      <td id=\"T_e96a9_row2_col0\" class=\"data row2 col0\" >Itaú Cultural Play</td>\n",
       "      <td id=\"T_e96a9_row2_col1\" class=\"data row2 col1\" >+11.0%</td>\n",
       "      <td id=\"T_e96a9_row2_col2\" class=\"data row2 col2\" >246</td>\n",
       "      <td id=\"T_e96a9_row2_col3\" class=\"data row2 col3\" >273</td>\n",
       "    </tr>\n",
       "  </tbody>\n",
       "</table>\n"
      ],
      "text/plain": [
       "<pandas.io.formats.style.Styler at 0x2b095555590>"
      ]
     },
     "metadata": {},
     "output_type": "display_data"
    },
    {
     "data": {
      "text/html": [
       "<hr>"
      ],
      "text/plain": [
       "<IPython.core.display.HTML object>"
      ]
     },
     "metadata": {},
     "output_type": "display_data"
    },
    {
     "data": {
      "text/html": [
       "<br><h2>Semana 21/08/2025</h2>"
      ],
      "text/plain": [
       "<IPython.core.display.HTML object>"
      ]
     },
     "metadata": {},
     "output_type": "display_data"
    },
    {
     "name": "stdout",
     "output_type": "stream",
     "text": [
      "Não houve variação no total de plataformas cobertas.\n"
     ]
    },
    {
     "data": {
      "text/html": [
       "<h4>Variações >5% no Catálogo de Conteúdos</h4>"
      ],
      "text/plain": [
       "<IPython.core.display.HTML object>"
      ]
     },
     "metadata": {},
     "output_type": "display_data"
    },
    {
     "data": {
      "text/html": [
       "<style type=\"text/css\">\n",
       "#T_6f98a_row0_col1 {\n",
       "  background-color: #ee613e;\n",
       "  color: #f1f1f1;\n",
       "}\n",
       "#T_6f98a_row1_col1 {\n",
       "  background-color: #f98e52;\n",
       "  color: #f1f1f1;\n",
       "}\n",
       "#T_6f98a_row2_col1 {\n",
       "  background-color: #eef8a8;\n",
       "  color: #000000;\n",
       "}\n",
       "#T_6f98a_row3_col1 {\n",
       "  background-color: #f2faae;\n",
       "  color: #000000;\n",
       "}\n",
       "</style>\n",
       "<table id=\"T_6f98a\">\n",
       "  <thead>\n",
       "    <tr>\n",
       "      <th id=\"T_6f98a_level0_col0\" class=\"col_heading level0 col0\" >Plataforma</th>\n",
       "      <th id=\"T_6f98a_level0_col1\" class=\"col_heading level0 col1\" >Variação</th>\n",
       "      <th id=\"T_6f98a_level0_col2\" class=\"col_heading level0 col2\" >Registros Anteriores</th>\n",
       "      <th id=\"T_6f98a_level0_col3\" class=\"col_heading level0 col3\" >Registros Atuais</th>\n",
       "    </tr>\n",
       "  </thead>\n",
       "  <tbody>\n",
       "    <tr>\n",
       "      <td id=\"T_6f98a_row0_col0\" class=\"data row0 col0\" >SBT Videos</td>\n",
       "      <td id=\"T_6f98a_row0_col1\" class=\"data row0 col1\" >-63.8%</td>\n",
       "      <td id=\"T_6f98a_row0_col2\" class=\"data row0 col2\" >442</td>\n",
       "      <td id=\"T_6f98a_row0_col3\" class=\"data row0 col3\" >160</td>\n",
       "    </tr>\n",
       "    <tr>\n",
       "      <td id=\"T_6f98a_row1_col0\" class=\"data row1 col0\" >Simply South</td>\n",
       "      <td id=\"T_6f98a_row1_col1\" class=\"data row1 col1\" >-49.9%</td>\n",
       "      <td id=\"T_6f98a_row1_col2\" class=\"data row1 col2\" >3,458</td>\n",
       "      <td id=\"T_6f98a_row1_col3\" class=\"data row1 col3\" >1,732</td>\n",
       "    </tr>\n",
       "    <tr>\n",
       "      <td id=\"T_6f98a_row2_col0\" class=\"data row2 col0\" >Itaú Cultural Play</td>\n",
       "      <td id=\"T_6f98a_row2_col1\" class=\"data row2 col1\" >+9.2%</td>\n",
       "      <td id=\"T_6f98a_row2_col2\" class=\"data row2 col2\" >273</td>\n",
       "      <td id=\"T_6f98a_row2_col3\" class=\"data row2 col3\" >298</td>\n",
       "    </tr>\n",
       "    <tr>\n",
       "      <td id=\"T_6f98a_row3_col0\" class=\"data row3 col0\" >TV Brasil Play</td>\n",
       "      <td id=\"T_6f98a_row3_col1\" class=\"data row3 col1\" >+6.6%</td>\n",
       "      <td id=\"T_6f98a_row3_col2\" class=\"data row3 col2\" >290</td>\n",
       "      <td id=\"T_6f98a_row3_col3\" class=\"data row3 col3\" >309</td>\n",
       "    </tr>\n",
       "  </tbody>\n",
       "</table>\n"
      ],
      "text/plain": [
       "<pandas.io.formats.style.Styler at 0x2b095555590>"
      ]
     },
     "metadata": {},
     "output_type": "display_data"
    },
    {
     "data": {
      "text/html": [
       "<hr>"
      ],
      "text/plain": [
       "<IPython.core.display.HTML object>"
      ]
     },
     "metadata": {},
     "output_type": "display_data"
    },
    {
     "data": {
      "text/html": [
       "<br><h2>Semana 28/08/2025</h2>"
      ],
      "text/plain": [
       "<IPython.core.display.HTML object>"
      ]
     },
     "metadata": {},
     "output_type": "display_data"
    },
    {
     "name": "stdout",
     "output_type": "stream",
     "text": [
      "Não houve variação no total de plataformas cobertas.\n"
     ]
    },
    {
     "data": {
      "text/html": [
       "<h4>Variações >5% no Catálogo de Conteúdos</h4>"
      ],
      "text/plain": [
       "<IPython.core.display.HTML object>"
      ]
     },
     "metadata": {},
     "output_type": "display_data"
    },
    {
     "data": {
      "text/html": [
       "<style type=\"text/css\">\n",
       "#T_3fa91_row0_col1 {\n",
       "  background-color: #f98e52;\n",
       "  color: #f1f1f1;\n",
       "}\n",
       "#T_3fa91_row1_col1 {\n",
       "  background-color: #eff8aa;\n",
       "  color: #000000;\n",
       "}\n",
       "#T_3fa91_row2_col1 {\n",
       "  background-color: #fff6b0;\n",
       "  color: #000000;\n",
       "}\n",
       "</style>\n",
       "<table id=\"T_3fa91\">\n",
       "  <thead>\n",
       "    <tr>\n",
       "      <th id=\"T_3fa91_level0_col0\" class=\"col_heading level0 col0\" >Plataforma</th>\n",
       "      <th id=\"T_3fa91_level0_col1\" class=\"col_heading level0 col1\" >Variação</th>\n",
       "      <th id=\"T_3fa91_level0_col2\" class=\"col_heading level0 col2\" >Registros Anteriores</th>\n",
       "      <th id=\"T_3fa91_level0_col3\" class=\"col_heading level0 col3\" >Registros Atuais</th>\n",
       "    </tr>\n",
       "  </thead>\n",
       "  <tbody>\n",
       "    <tr>\n",
       "      <td id=\"T_3fa91_row0_col0\" class=\"data row0 col0\" >KINOA.TV</td>\n",
       "      <td id=\"T_3fa91_row0_col1\" class=\"data row0 col1\" >-49.7%</td>\n",
       "      <td id=\"T_3fa91_row0_col2\" class=\"data row0 col2\" >153</td>\n",
       "      <td id=\"T_3fa91_row0_col3\" class=\"data row0 col3\" >77</td>\n",
       "    </tr>\n",
       "    <tr>\n",
       "      <td id=\"T_3fa91_row1_col0\" class=\"data row1 col0\" >Canela.TV</td>\n",
       "      <td id=\"T_3fa91_row1_col1\" class=\"data row1 col1\" >+8.2%</td>\n",
       "      <td id=\"T_3fa91_row1_col2\" class=\"data row1 col2\" >2,306</td>\n",
       "      <td id=\"T_3fa91_row1_col3\" class=\"data row1 col3\" >2,496</td>\n",
       "    </tr>\n",
       "    <tr>\n",
       "      <td id=\"T_3fa91_row2_col0\" class=\"data row2 col0\" >TV Brasil Play</td>\n",
       "      <td id=\"T_3fa91_row2_col1\" class=\"data row2 col1\" >-5.8%</td>\n",
       "      <td id=\"T_3fa91_row2_col2\" class=\"data row2 col2\" >309</td>\n",
       "      <td id=\"T_3fa91_row2_col3\" class=\"data row2 col3\" >291</td>\n",
       "    </tr>\n",
       "  </tbody>\n",
       "</table>\n"
      ],
      "text/plain": [
       "<pandas.io.formats.style.Styler at 0x2b095555590>"
      ]
     },
     "metadata": {},
     "output_type": "display_data"
    },
    {
     "data": {
      "text/html": [
       "<hr>"
      ],
      "text/plain": [
       "<IPython.core.display.HTML object>"
      ]
     },
     "metadata": {},
     "output_type": "display_data"
    }
   ],
   "source": [
    "# ==============================================================================\n",
    "# Bloco 2: GERAÇÃO DO RELATÓRIO COMPLETO DE VALIDAÇÃO (VERSÃO FINAL CORRIGIDA)\n",
    "# ==============================================================================\n",
    "\n",
    "if plataformas_controle_ok:\n",
    "    print(\"\\nIniciando a geração do relatório de validação...\")\n",
    "    try:\n",
    "        con = duckdb.connect(database=':memory:')\n",
    "        \n",
    "        # 1. Gera a tabela de linha do tempo completa\n",
    "        query_timeline = f\"\"\"\n",
    "        SELECT data_ref, Platform_Name, COUNT(*) as total_registros\n",
    "        FROM read_parquet('{CAMINHO_PARQUETS}', union_by_name=true)\n",
    "        GROUP BY data_ref, Platform_Name\n",
    "        \"\"\"\n",
    "        df_timeline_raw = con.execute(query_timeline).fetch_df()\n",
    "        df_timeline_pivot = df_timeline_raw.pivot_table(\n",
    "            index='Platform_Name', columns='data_ref', values='total_registros'\n",
    "        ).fillna(0).astype(int)\n",
    "        \n",
    "        df_timeline_pivot = df_timeline_pivot.sort_index(axis=1)\n",
    "        \n",
    "        # Salva CSV e XLSX com data/hora\n",
    "        timestamp = datetime.now().strftime(\"%Y-%m-%d_%H%M%S\")\n",
    "        caminho_csv = PASTA_PROCESSED / f'relatorio_timeline_plataformas_{timestamp}.csv'\n",
    "        caminho_xlsx = PASTA_PROCESSED / f'relatorio_timeline_plataformas_{timestamp}.xlsx'\n",
    "        \n",
    "        df_timeline_pivot.to_csv(caminho_csv, sep=';', encoding='utf-8-sig')\n",
    "        df_timeline_pivot.to_excel(caminho_xlsx)\n",
    "        print(f\"✔ Tabela de timeline completa salva em CSV e XLSX com o timestamp: {timestamp}\")\n",
    "\n",
    "        # 2. Análise de Novidades e Mudanças (Cronológica e Visual)\n",
    "        print(\"\\n\" + \"=\"*60)\n",
    "        print(\"--- RELATÓRIO CRONOLÓGICO DE MUDANÇAS E NOVIDADES ---\")\n",
    "        print(\"=\"*60)\n",
    "        \n",
    "        plataformas_nos_dados = set(df_timeline_pivot.index)\n",
    "        novas_plataformas = plataformas_nos_dados - set(df_controle['Plataforma'])\n",
    "        if novas_plataformas:\n",
    "            display(HTML(\"<h3>[!] NOVAS PLATAFORMAS ENCONTRADAS (não estão no seu arquivo de controle)</h3>\"))\n",
    "            df_novas = pd.DataFrame(sorted(list(novas_plataformas)), columns=['Plataforma'])\n",
    "            display(df_novas.style.hide(axis=\"index\"))\n",
    "        else:\n",
    "            display(HTML(\"<h4>✔ Nenhuma plataforma nova (fora do arquivo de controle) foi detectada.</h4>\"))\n",
    "\n",
    "        # 3. Análise de Variação de Catálogo semana a semana\n",
    "        for i in range(len(df_timeline_pivot.columns)):\n",
    "            semana_atual_str = df_timeline_pivot.columns[i]\n",
    "            semana_atual_dt = pd.to_datetime(semana_atual_str)\n",
    "            \n",
    "            display(HTML(f\"<br><h2>Semana {semana_atual_dt.strftime('%d/%m/%Y')}</h2>\"))\n",
    "\n",
    "            if i == 0:\n",
    "                print(\"Esta é a primeira semana do histórico. Os dados abaixo servem como base inicial.\")\n",
    "                base_inicial = df_timeline_pivot[[semana_atual_str]].reset_index()\n",
    "                base_inicial = base_inicial[base_inicial[semana_atual_str] > 0]\n",
    "                base_inicial.columns = ['Plataforma', 'Registros']\n",
    "                display(base_inicial.sort_values(by='Registros', ascending=False)\n",
    "                        .style.format({'Registros': '{:,}'}).hide(axis=\"index\"))\n",
    "                display(HTML(\"<hr>\"))\n",
    "                continue\n",
    "\n",
    "            semana_anterior_str = df_timeline_pivot.columns[i-1]\n",
    "            entradas, saidas, gaps, variacoes = [], [], [], []\n",
    "\n",
    "            for plataforma in PLATAFORMAS_PARA_MANTER:\n",
    "                if plataforma not in df_timeline_pivot.index: continue\n",
    "                registros_anteriores = df_timeline_pivot.loc[plataforma, semana_anterior_str]\n",
    "                registros_atuais = df_timeline_pivot.loc[plataforma, semana_atual_str]\n",
    "                \n",
    "                if registros_atuais > 0 and registros_anteriores == 0:\n",
    "                    if df_timeline_pivot.loc[plataforma, :semana_anterior_str].sum() > 0:\n",
    "                        gaps.append({'Plataforma': plataforma, 'Registros Atuais': registros_atuais})\n",
    "                    else:\n",
    "                        entradas.append({'Plataforma': plataforma, 'Registros': registros_atuais})\n",
    "                elif registros_anteriores > 0 and registros_atuais == 0:\n",
    "                    saidas.append({'Plataforma': plataforma, 'Registros Anteriores': registros_anteriores})\n",
    "                elif registros_anteriores > 0 and registros_atuais > 0:\n",
    "                    variacao = (registros_atuais - registros_anteriores) / registros_anteriores # <-- LINHA CORRIGIDA\n",
    "                    if abs(variacao) > 0.05:\n",
    "                        variacoes.append({'Plataforma': plataforma, 'Variação': variacao, 'Registros Anteriores': registros_anteriores, 'Registros Atuais': registros_atuais})\n",
    "            \n",
    "            if not any([entradas, saidas, gaps]):\n",
    "                print(\"Não houve variação no total de plataformas cobertas.\")\n",
    "            \n",
    "            if entradas:\n",
    "                display(HTML(\"<h4 style='color: #2E8B57;'>Novas Plataformas Cobertas</h4>\"))\n",
    "                df_entradas = pd.DataFrame(entradas).sort_values(by='Registros', ascending=False)\n",
    "                display(df_entradas.style.format({'Registros': '{:,}'}).bar(subset=['Registros'], color='#90EE90').hide(axis=\"index\"))\n",
    "\n",
    "            if saidas:\n",
    "                display(HTML(\"<h4 style='color: #CD5C5C;'>Plataformas que deixaram a cobertura</h4>\"))\n",
    "                df_saidas = pd.DataFrame(saidas).sort_values(by='Registros Anteriores', ascending=False)\n",
    "                display(df_saidas.style.format({'Registros Anteriores': '{:,}'}).bar(subset=['Registros Anteriores'], color='#FFA07A').hide(axis=\"index\"))\n",
    "\n",
    "            if gaps:\n",
    "                display(HTML(\"<h4 style='color: #DAA520;'>Plataformas que Retornaram à Cobertura</h4>\"))\n",
    "                df_gaps = pd.DataFrame(gaps).sort_values(by='Registros Atuais', ascending=False)\n",
    "                display(df_gaps.style.format({'Registros Atuais': '{:,}'}).bar(subset=['Registros Atuais'], color='#FFD700').hide(axis=\"index\"))\n",
    "\n",
    "            if variacoes:\n",
    "                display(HTML(\"<h4>Variações >5% no Catálogo de Conteúdos</h4>\"))\n",
    "                df_variacoes = pd.DataFrame(variacoes).sort_values(by='Variação', key=abs, ascending=False)\n",
    "                display(df_variacoes.style.format({'Variação': '{:+.1%}', 'Registros Anteriores': '{:,}', 'Registros Atuais': '{:,}'}).background_gradient(subset=['Variação'], cmap='RdYlGn', vmin=-1, vmax=1).hide(axis=\"index\"))\n",
    "\n",
    "            display(HTML(\"<hr>\")) \n",
    "\n",
    "    except Exception as e:\n",
    "        print(f\"ERRO ao gerar o relatório de validação: {e}\")\n",
    "        traceback.print_exc()"
   ]
  },
  {
   "cell_type": "code",
   "execution_count": 5,
   "id": "8c25c0d0-e0ec-47a7-b202-be40efe1e49b",
   "metadata": {},
   "outputs": [
    {
     "name": "stdout",
     "output_type": "stream",
     "text": [
      "\n",
      "============================================================\n",
      "--- CONSOLIDAÇÃO E FILTRAGEM FINAL (MODO OTIMIZADO) ---\n",
      "============================================================\n",
      "Consolidando e filtrando dados diretamente no banco de dados...\n"
     ]
    },
    {
     "data": {
      "application/vnd.jupyter.widget-view+json": {
       "model_id": "62871573d7d74fd2b0568cc2672cf1f9",
       "version_major": 2,
       "version_minor": 0
      },
      "text/plain": [
       "FloatProgress(value=0.0, layout=Layout(width='auto'), style=ProgressStyle(bar_color='black'))"
      ]
     },
     "metadata": {},
     "output_type": "display_data"
    },
    {
     "name": "stdout",
     "output_type": "stream",
     "text": [
      "✔ Arquivo consolidado e filtrado salvo em: 'dados_catalogo\\processed\\dados_consolidados_filtrados.parquet'\n",
      "\n",
      "Processo concluído com sucesso com baixo uso de memória!\n"
     ]
    }
   ],
   "source": [
    "# ==============================================================================\n",
    "# Bloco 3: CONSOLIDAÇÃO E FILTRAGEM FINAL (VERSÃO OTIMIZADA PARA MEMÓRIA)\n",
    "# ==============================================================================\n",
    "if plataformas_controle_ok:\n",
    "    print(\"\\n\" + \"=\"*60)\n",
    "    print(\"--- CONSOLIDAÇÃO E FILTRAGEM FINAL (MODO OTIMIZADO) ---\")\n",
    "    print(\"=\"*60)\n",
    "    \n",
    "    con = None\n",
    "    try:\n",
    "        con = duckdb.connect(database=':memory:')\n",
    "        \n",
    "        # Converte a lista de plataformas para um formato que o SQL entende (ex: ('Netflix', 'Max', ...))\n",
    "        plataformas_sql = tuple(PLATAFORMAS_PARA_MANTER)\n",
    "        \n",
    "        print(\"Consolidando e filtrando dados diretamente no banco de dados...\")\n",
    "\n",
    "        # Cria uma query que já filtra e se prepara para salvar\n",
    "        # A cláusula WHERE aplica o filtro de plataformas diretamente no DuckDB\n",
    "        # A cláusula COPY salva o resultado sem passar por um DataFrame gigante no Pandas\n",
    "        query_filtragem_e_salvamento = f\"\"\"\n",
    "        COPY (\n",
    "            SELECT *\n",
    "            FROM read_parquet('{CAMINHO_PARQUETS}', union_by_name=true)\n",
    "            WHERE Platform_Name IN {plataformas_sql}\n",
    "        ) TO '{ARQUIVO_CONSOLIDADO_FILTRADO}' (FORMAT PARQUET, COMPRESSION 'snappy');\n",
    "        \"\"\"\n",
    "        \n",
    "        # Executa a operação\n",
    "        con.execute(query_filtragem_e_salvamento)\n",
    "        \n",
    "        print(f\"✔ Arquivo consolidado e filtrado salvo em: '{ARQUIVO_CONSOLIDADO_FILTRADO}'\")\n",
    "        print(\"\\nProcesso concluído com sucesso com baixo uso de memória!\")\n",
    "\n",
    "    except Exception as e:\n",
    "        print(f\"ERRO ao consolidar e filtrar os dados: {e}\")\n",
    "    \n",
    "    finally:\n",
    "        if con:\n",
    "            con.close()"
   ]
  }
 ],
 "metadata": {
  "kernelspec": {
   "display_name": "SPLINK-VOD",
   "language": "python",
   "name": "ancine"
  },
  "language_info": {
   "codemirror_mode": {
    "name": "ipython",
    "version": 3
   },
   "file_extension": ".py",
   "mimetype": "text/x-python",
   "name": "python",
   "nbconvert_exporter": "python",
   "pygments_lexer": "ipython3",
   "version": "3.13.5"
  }
 },
 "nbformat": 4,
 "nbformat_minor": 5
}

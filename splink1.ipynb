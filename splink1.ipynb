{
 "cells": [
  {
   "cell_type": "code",
   "execution_count": 7,
   "id": "dc67b209-8db2-45c4-ab90-20c1c15bc5d0",
   "metadata": {},
   "outputs": [
    {
     "name": "stdout",
     "output_type": "stream",
     "text": [
      "Ambiente configurado com sucesso.\n"
     ]
    }
   ],
   "source": [
    "# ===================================================================================\n",
    "# 1. CONFIGURAÇÃO DO AMBIENTE E IMPORTAÇÕES\n",
    "# ===================================================================================\n",
    "!pip install splink -q\n",
    "\n",
    "import duckdb\n",
    "import pandas as pd\n",
    "from splink import Linker, SettingsCreator, DuckDBAPI\n",
    "import splink.comparison_library as cl\n",
    "from splink import block_on\n",
    "from splink.exploratory import completeness_chart, profile_columns\n",
    "from splink.blocking_analysis import cumulative_comparisons_to_be_scored_from_blocking_rules_chart, n_largest_blocks\n",
    "\n",
    "print(\"Ambiente configurado com sucesso.\")"
   ]
  },
  {
   "cell_type": "code",
   "execution_count": 8,
   "id": "07f0d413-f304-4ba8-aa3d-3524076ca747",
   "metadata": {},
   "outputs": [
    {
     "name": "stdout",
     "output_type": "stream",
     "text": [
      "View 'dados_completos' (15 milhões de linhas) criada.\n",
      "View 'dados_amostra' (200 mil linhas) criada para exploração rápida.\n",
      "\n",
      "Verificação -> Linhas no dataset completo: 14,806,386 | Linhas na amostra: 200,000\n"
     ]
    }
   ],
   "source": [
    "# ===================================================================================\n",
    "# 2. CONEXÃO, PRÉ-PROCESSAMENTO E AMOSTRAGEM\n",
    "# ===================================================================================\n",
    "path_dados = 'dados_catalogo/processed/dados_consolidados_filtrados.parquet'\n",
    "con = duckdb.connect(database=':memory:', read_only=False)\n",
    "db_api = DuckDBAPI(connection=con)\n",
    "\n",
    "# SQL para criar a VIEW com o dataset completo e colunas de array\n",
    "sql_completo = f\"\"\"\n",
    "CREATE OR REPLACE VIEW dados_completos AS\n",
    "SELECT\n",
    "    *,\n",
    "    list_distinct(list_sort(string_to_array(trim(BB_Cast), ','))) as BB_Cast_array,\n",
    "    list_distinct(list_sort(string_to_array(trim(BB_Directors), ','))) as BB_Directors_array\n",
    "FROM read_parquet('{path_dados}');\n",
    "\"\"\"\n",
    "con.execute(sql_completo)\n",
    "print(\"View 'dados_completos' (15 milhões de linhas) criada.\")\n",
    "\n",
    "# SQL para criar a VIEW com uma amostra de 200 mil linhas para exploração\n",
    "sql_amostra = \"\"\"\n",
    "CREATE OR REPLACE VIEW dados_amostra AS\n",
    "SELECT * FROM dados_completos USING SAMPLE 200000 ROWS;\n",
    "\"\"\"\n",
    "con.execute(sql_amostra)\n",
    "print(\"View 'dados_amostra' (200 mil linhas) criada para exploração rápida.\")\n",
    "\n",
    "# Verificando a contagem de linhas em cada view\n",
    "total_rows = con.execute(\"SELECT COUNT(*) FROM dados_completos\").fetchone()[0]\n",
    "sample_rows = con.execute(\"SELECT COUNT(*) FROM dados_amostra\").fetchone()[0]\n",
    "print(f\"\\nVerificação -> Linhas no dataset completo: {total_rows:,} | Linhas na amostra: {sample_rows:,}\")"
   ]
  },
  {
   "cell_type": "code",
   "execution_count": 15,
   "id": "2734ee60-b629-48ac-95e8-60625440c4bf",
   "metadata": {},
   "outputs": [
    {
     "name": "stdout",
     "output_type": "stream",
     "text": [
      "Configurações do modelo Splink criadas.\n"
     ]
    }
   ],
   "source": [
    "# ===================================================================================\n",
    "# CÉLULA 3: CONFIGURAÇÃO DO MODELO COM REGRA DE BLOQUEIO ESTRITA\n",
    "# ===================================================================================\n",
    "# Usando a regra de bloqueio simultânea para Título, Ano e Diretores, como solicitado.\n",
    "# Esta regra é muito mais restritiva e eficiente.\n",
    "settings = SettingsCreator(\n",
    "    link_type=\"dedupe_only\",\n",
    "    unique_id_column_name=\"BB_UID\",\n",
    "    \n",
    "    blocking_rules_to_generate_predictions=[\n",
    "        block_on(\"BB_Title\", \"BB_Year\", \"BB_Directors\"),\n",
    "    ],\n",
    "    \n",
    "    comparisons=[\n",
    "        cl.JaroWinklerAtThresholds(\"BB_Title\", [0.9, 0.7]),\n",
    "        cl.ExactMatch(\"BB_Year\"),\n",
    "        cl.ArrayIntersectAtSizes(\"BB_Directors_array\", [1]),\n",
    "        cl.ArrayIntersectAtSizes(\"BB_Cast_array\", [3, 1]),\n",
    "    ]\n",
    ")\n",
    "print(\"Configurações do modelo Splink criadas.\")\n"
   ]
  },
  {
   "cell_type": "code",
   "execution_count": 10,
   "id": "938a1f4d-3cd7-46bc-ab65-ec8dc3571eb9",
   "metadata": {},
   "outputs": [
    {
     "name": "stdout",
     "output_type": "stream",
     "text": [
      "\n",
      "--- Perfil da Coluna BB_Title (executando na amostra) ---\n"
     ]
    },
    {
     "data": {
      "application/vnd.jupyter.widget-view+json": {
       "model_id": "af206c012ffc4935839164ba599f73c1",
       "version_major": 2,
       "version_minor": 0
      },
      "text/plain": [
       "FloatProgress(value=0.0, layout=Layout(width='auto'), style=ProgressStyle(bar_color='black'))"
      ]
     },
     "metadata": {},
     "output_type": "display_data"
    },
    {
     "data": {
      "text/html": [
       "\n",
       "<style>\n",
       "  #altair-viz-4e9181b11c5f4972aadc790ec78f38e6.vega-embed {\n",
       "    width: 100%;\n",
       "    display: flex;\n",
       "  }\n",
       "\n",
       "  #altair-viz-4e9181b11c5f4972aadc790ec78f38e6.vega-embed details,\n",
       "  #altair-viz-4e9181b11c5f4972aadc790ec78f38e6.vega-embed details summary {\n",
       "    position: relative;\n",
       "  }\n",
       "</style>\n",
       "<div id=\"altair-viz-4e9181b11c5f4972aadc790ec78f38e6\"></div>\n",
       "<script type=\"text/javascript\">\n",
       "  var VEGA_DEBUG = (typeof VEGA_DEBUG == \"undefined\") ? {} : VEGA_DEBUG;\n",
       "  (function(spec, embedOpt){\n",
       "    let outputDiv = document.currentScript.previousElementSibling;\n",
       "    if (outputDiv.id !== \"altair-viz-4e9181b11c5f4972aadc790ec78f38e6\") {\n",
       "      outputDiv = document.getElementById(\"altair-viz-4e9181b11c5f4972aadc790ec78f38e6\");\n",
       "    }\n",
       "\n",
       "    const paths = {\n",
       "      \"vega\": \"https://cdn.jsdelivr.net/npm/vega@5?noext\",\n",
       "      \"vega-lib\": \"https://cdn.jsdelivr.net/npm/vega-lib?noext\",\n",
       "      \"vega-lite\": \"https://cdn.jsdelivr.net/npm/vega-lite@5.20.1?noext\",\n",
       "      \"vega-embed\": \"https://cdn.jsdelivr.net/npm/vega-embed@6?noext\",\n",
       "    };\n",
       "\n",
       "    function maybeLoadScript(lib, version) {\n",
       "      var key = `${lib.replace(\"-\", \"\")}_version`;\n",
       "      return (VEGA_DEBUG[key] == version) ?\n",
       "        Promise.resolve(paths[lib]) :\n",
       "        new Promise(function(resolve, reject) {\n",
       "          var s = document.createElement('script');\n",
       "          document.getElementsByTagName(\"head\")[0].appendChild(s);\n",
       "          s.async = true;\n",
       "          s.onload = () => {\n",
       "            VEGA_DEBUG[key] = version;\n",
       "            return resolve(paths[lib]);\n",
       "          };\n",
       "          s.onerror = () => reject(`Error loading script: ${paths[lib]}`);\n",
       "          s.src = paths[lib];\n",
       "        });\n",
       "    }\n",
       "\n",
       "    function showError(err) {\n",
       "      outputDiv.innerHTML = `<div class=\"error\" style=\"color:red;\">${err}</div>`;\n",
       "      throw err;\n",
       "    }\n",
       "\n",
       "    function displayChart(vegaEmbed) {\n",
       "      vegaEmbed(outputDiv, spec, embedOpt)\n",
       "        .catch(err => showError(`Javascript Error: ${err.message}<br>This usually means there's a typo in your chart specification. See the javascript console for the full traceback.`));\n",
       "    }\n",
       "\n",
       "    if(typeof define === \"function\" && define.amd) {\n",
       "      requirejs.config({paths});\n",
       "      let deps = [\"vega-embed\"];\n",
       "      require(deps, displayChart, err => showError(`Error loading script: ${err.message}`));\n",
       "    } else {\n",
       "      maybeLoadScript(\"vega\", \"5\")\n",
       "        .then(() => maybeLoadScript(\"vega-lite\", \"5.20.1\"))\n",
       "        .then(() => maybeLoadScript(\"vega-embed\", \"6\"))\n",
       "        .catch(showError)\n",
       "        .then(() => displayChart(vegaEmbed));\n",
       "    }\n",
       "  })({\"config\": {\"view\": {\"continuousWidth\": 400, \"continuousHeight\": 300}}, \"vconcat\": [{\"hconcat\": [{\"mark\": {\"type\": \"line\", \"interpolate\": \"step-before\"}, \"data\": {\"values\": [{\"percentile_ex_nulls\": 0.9998003840446472, \"percentile_inc_nulls\": 0.9998049736022949, \"value_count\": 39, \"group_name\": \"BB_Title\", \"total_non_null_rows\": 195348, \"total_rows_inc_nulls\": 200000, \"sum_tokens_in_value_count_group\": 39, \"distinct_value_count\": 88648}, {\"percentile_ex_nulls\": 0.999631404876709, \"percentile_inc_nulls\": 0.9996399879455566, \"value_count\": 33, \"group_name\": \"BB_Title\", \"total_non_null_rows\": 195348, \"total_rows_inc_nulls\": 200000, \"sum_tokens_in_value_count_group\": 33, \"distinct_value_count\": 88648}, {\"percentile_ex_nulls\": 0.9993550181388855, \"percentile_inc_nulls\": 0.9993699789047241, \"value_count\": 27, \"group_name\": \"BB_Title\", \"total_non_null_rows\": 195348, \"total_rows_inc_nulls\": 200000, \"sum_tokens_in_value_count_group\": 54, \"distinct_value_count\": 88648}, {\"percentile_ex_nulls\": 0.9990888237953186, \"percentile_inc_nulls\": 0.9991099834442139, \"value_count\": 26, \"group_name\": \"BB_Title\", \"total_non_null_rows\": 195348, \"total_rows_inc_nulls\": 200000, \"sum_tokens_in_value_count_group\": 52, \"distinct_value_count\": 88648}, {\"percentile_ex_nulls\": 0.99844890832901, \"percentile_inc_nulls\": 0.9984850287437439, \"value_count\": 25, \"group_name\": \"BB_Title\", \"total_non_null_rows\": 195348, \"total_rows_inc_nulls\": 200000, \"sum_tokens_in_value_count_group\": 125, \"distinct_value_count\": 88648}, {\"percentile_ex_nulls\": 0.9977117776870728, \"percentile_inc_nulls\": 0.9977650046348572, \"value_count\": 24, \"group_name\": \"BB_Title\", \"total_non_null_rows\": 195348, \"total_rows_inc_nulls\": 200000, \"sum_tokens_in_value_count_group\": 144, \"distinct_value_count\": 88648}, {\"percentile_ex_nulls\": 0.9971486926078796, \"percentile_inc_nulls\": 0.9972149729728699, \"value_count\": 22, \"group_name\": \"BB_Title\", \"total_non_null_rows\": 195348, \"total_rows_inc_nulls\": 200000, \"sum_tokens_in_value_count_group\": 110, \"distinct_value_count\": 88648}, {\"percentile_ex_nulls\": 0.9966111779212952, \"percentile_inc_nulls\": 0.9966899752616882, \"value_count\": 21, \"group_name\": \"BB_Title\", \"total_non_null_rows\": 195348, \"total_rows_inc_nulls\": 200000, \"sum_tokens_in_value_count_group\": 105, \"distinct_value_count\": 88648}, {\"percentile_ex_nulls\": 0.9955873489379883, \"percentile_inc_nulls\": 0.9956899881362915, \"value_count\": 20, \"group_name\": \"BB_Title\", \"total_non_null_rows\": 195348, \"total_rows_inc_nulls\": 200000, \"sum_tokens_in_value_count_group\": 200, \"distinct_value_count\": 88648}, {\"percentile_ex_nulls\": 0.993933916091919, \"percentile_inc_nulls\": 0.9940750002861023, \"value_count\": 19, \"group_name\": \"BB_Title\", \"total_non_null_rows\": 195348, \"total_rows_inc_nulls\": 200000, \"sum_tokens_in_value_count_group\": 323, \"distinct_value_count\": 88648}, {\"percentile_ex_nulls\": 0.9921832084655762, \"percentile_inc_nulls\": 0.9923650026321411, \"value_count\": 18, \"group_name\": \"BB_Title\", \"total_non_null_rows\": 195348, \"total_rows_inc_nulls\": 200000, \"sum_tokens_in_value_count_group\": 342, \"distinct_value_count\": 88648}, {\"percentile_ex_nulls\": 0.9888762831687927, \"percentile_inc_nulls\": 0.9891350269317627, \"value_count\": 17, \"group_name\": \"BB_Title\", \"total_non_null_rows\": 195348, \"total_rows_inc_nulls\": 200000, \"sum_tokens_in_value_count_group\": 646, \"distinct_value_count\": 88648}, {\"percentile_ex_nulls\": 0.98568195104599, \"percentile_inc_nulls\": 0.9860150218009949, \"value_count\": 16, \"group_name\": \"BB_Title\", \"total_non_null_rows\": 195348, \"total_rows_inc_nulls\": 200000, \"sum_tokens_in_value_count_group\": 624, \"distinct_value_count\": 88648}, {\"percentile_ex_nulls\": 0.9790783524513245, \"percentile_inc_nulls\": 0.9795650243759155, \"value_count\": 15, \"group_name\": \"BB_Title\", \"total_non_null_rows\": 195348, \"total_rows_inc_nulls\": 200000, \"sum_tokens_in_value_count_group\": 1290, \"distinct_value_count\": 88648}, {\"percentile_ex_nulls\": 0.9723416566848755, \"percentile_inc_nulls\": 0.972985029220581, \"value_count\": 14, \"group_name\": \"BB_Title\", \"total_non_null_rows\": 195348, \"total_rows_inc_nulls\": 200000, \"sum_tokens_in_value_count_group\": 1316, \"distinct_value_count\": 88648}, {\"percentile_ex_nulls\": 0.9617605209350586, \"percentile_inc_nulls\": 0.9626500010490417, \"value_count\": 13, \"group_name\": \"BB_Title\", \"total_non_null_rows\": 195348, \"total_rows_inc_nulls\": 200000, \"sum_tokens_in_value_count_group\": 2067, \"distinct_value_count\": 88648}, {\"percentile_ex_nulls\": 0.9475705027580261, \"percentile_inc_nulls\": 0.9487900137901306, \"value_count\": 12, \"group_name\": \"BB_Title\", \"total_non_null_rows\": 195348, \"total_rows_inc_nulls\": 200000, \"sum_tokens_in_value_count_group\": 2772, \"distinct_value_count\": 88648}, {\"percentile_ex_nulls\": 0.9258912205696106, \"percentile_inc_nulls\": 0.9276149868965149, \"value_count\": 11, \"group_name\": \"BB_Title\", \"total_non_null_rows\": 195348, \"total_rows_inc_nulls\": 200000, \"sum_tokens_in_value_count_group\": 4235, \"distinct_value_count\": 88648}, {\"percentile_ex_nulls\": 0.9003982543945312, \"percentile_inc_nulls\": 0.9027149677276611, \"value_count\": 10, \"group_name\": \"BB_Title\", \"total_non_null_rows\": 195348, \"total_rows_inc_nulls\": 200000, \"sum_tokens_in_value_count_group\": 4980, \"distinct_value_count\": 88648}, {\"percentile_ex_nulls\": 0.8674570322036743, \"percentile_inc_nulls\": 0.8705400228500366, \"value_count\": 9, \"group_name\": \"BB_Title\", \"total_non_null_rows\": 195348, \"total_rows_inc_nulls\": 200000, \"sum_tokens_in_value_count_group\": 6435, \"distinct_value_count\": 88648}, {\"percentile_ex_nulls\": 0.8275692462921143, \"percentile_inc_nulls\": 0.8315799832344055, \"value_count\": 8, \"group_name\": \"BB_Title\", \"total_non_null_rows\": 195348, \"total_rows_inc_nulls\": 200000, \"sum_tokens_in_value_count_group\": 7792, \"distinct_value_count\": 88648}, {\"percentile_ex_nulls\": 0.7766857147216797, \"percentile_inc_nulls\": 0.7818800210952759, \"value_count\": 7, \"group_name\": \"BB_Title\", \"total_non_null_rows\": 195348, \"total_rows_inc_nulls\": 200000, \"sum_tokens_in_value_count_group\": 9940, \"distinct_value_count\": 88648}, {\"percentile_ex_nulls\": 0.7183897495269775, \"percentile_inc_nulls\": 0.7249400019645691, \"value_count\": 6, \"group_name\": \"BB_Title\", \"total_non_null_rows\": 195348, \"total_rows_inc_nulls\": 200000, \"sum_tokens_in_value_count_group\": 11388, \"distinct_value_count\": 88648}, {\"percentile_ex_nulls\": 0.6506644487380981, \"percentile_inc_nulls\": 0.6587899923324585, \"value_count\": 5, \"group_name\": \"BB_Title\", \"total_non_null_rows\": 195348, \"total_rows_inc_nulls\": 200000, \"sum_tokens_in_value_count_group\": 13230, \"distinct_value_count\": 88648}, {\"percentile_ex_nulls\": 0.5647869110107422, \"percentile_inc_nulls\": 0.574910044670105, \"value_count\": 4, \"group_name\": \"BB_Title\", \"total_non_null_rows\": 195348, \"total_rows_inc_nulls\": 200000, \"sum_tokens_in_value_count_group\": 16776, \"distinct_value_count\": 88648}, {\"percentile_ex_nulls\": 0.4440332055091858, \"percentile_inc_nulls\": 0.45696502923965454, \"value_count\": 3, \"group_name\": \"BB_Title\", \"total_non_null_rows\": 195348, \"total_rows_inc_nulls\": 200000, \"sum_tokens_in_value_count_group\": 23589, \"distinct_value_count\": 88648}, {\"percentile_ex_nulls\": 0.2453519105911255, \"percentile_inc_nulls\": 0.2629050016403198, \"value_count\": 2, \"group_name\": \"BB_Title\", \"total_non_null_rows\": 195348, \"total_rows_inc_nulls\": 200000, \"sum_tokens_in_value_count_group\": 38812, \"distinct_value_count\": 88648}, {\"percentile_ex_nulls\": 0.0, \"percentile_inc_nulls\": 0.023259997367858887, \"value_count\": 1, \"group_name\": \"BB_Title\", \"total_non_null_rows\": 195348, \"total_rows_inc_nulls\": 200000, \"sum_tokens_in_value_count_group\": 47929, \"distinct_value_count\": 88648}, {\"percentile_ex_nulls\": 1.0, \"percentile_inc_nulls\": 1.0, \"value_count\": 39, \"group_name\": \"BB_Title\", \"total_non_null_rows\": 195348, \"total_rows_inc_nulls\": 200000, \"sum_tokens_in_value_count_group\": 39, \"distinct_value_count\": 88648}]}, \"encoding\": {\"tooltip\": [{\"field\": \"value_count\", \"type\": \"quantitative\"}, {\"field\": \"percentile_ex_nulls\", \"type\": \"quantitative\"}, {\"field\": \"percentile_inc_nulls\", \"type\": \"quantitative\"}, {\"field\": \"total_non_null_rows\", \"type\": \"quantitative\"}, {\"field\": \"total_rows_inc_nulls\", \"type\": \"quantitative\"}], \"x\": {\"field\": \"percentile_ex_nulls\", \"sort\": \"descending\", \"title\": \"Percentile\", \"type\": \"quantitative\"}, \"y\": {\"field\": \"value_count\", \"title\": \"Count of values\", \"type\": \"quantitative\"}}, \"title\": {\"text\": \"Distribution of counts of values in column BB_Title\", \"subtitle\": \"In this col, 4,652 values (2.3%) are null and there are 88648 distinct values\"}}, {\"mark\": \"bar\", \"data\": {\"values\": [{\"value_count\": 39, \"group_name\": \"BB_Title\", \"value\": \"The Mummy\", \"total_non_null_rows\": 195348, \"total_rows_inc_nulls\": 200000, \"distinct_value_count\": 88648}, {\"value_count\": 33, \"group_name\": \"BB_Title\", \"value\": \"Home\", \"total_non_null_rows\": 195348, \"total_rows_inc_nulls\": 200000, \"distinct_value_count\": 88648}, {\"value_count\": 27, \"group_name\": \"BB_Title\", \"value\": \"Scream\", \"total_non_null_rows\": 195348, \"total_rows_inc_nulls\": 200000, \"distinct_value_count\": 88648}, {\"value_count\": 27, \"group_name\": \"BB_Title\", \"value\": \"Shadow\", \"total_non_null_rows\": 195348, \"total_rows_inc_nulls\": 200000, \"distinct_value_count\": 88648}, {\"value_count\": 26, \"group_name\": \"BB_Title\", \"value\": \"Mercy\", \"total_non_null_rows\": 195348, \"total_rows_inc_nulls\": 200000, \"distinct_value_count\": 88648}, {\"value_count\": 26, \"group_name\": \"BB_Title\", \"value\": \"Little Women\", \"total_non_null_rows\": 195348, \"total_rows_inc_nulls\": 200000, \"distinct_value_count\": 88648}, {\"value_count\": 25, \"group_name\": \"BB_Title\", \"value\": \"Breathless\", \"total_non_null_rows\": 195348, \"total_rows_inc_nulls\": 200000, \"distinct_value_count\": 88648}, {\"value_count\": 25, \"group_name\": \"BB_Title\", \"value\": \"The Pact\", \"total_non_null_rows\": 195348, \"total_rows_inc_nulls\": 200000, \"distinct_value_count\": 88648}, {\"value_count\": 25, \"group_name\": \"BB_Title\", \"value\": \"Captive\", \"total_non_null_rows\": 195348, \"total_rows_inc_nulls\": 200000, \"distinct_value_count\": 88648}, {\"value_count\": 25, \"group_name\": \"BB_Title\", \"value\": \"Life\", \"total_non_null_rows\": 195348, \"total_rows_inc_nulls\": 200000, \"distinct_value_count\": 88648}]}, \"encoding\": {\"tooltip\": [{\"field\": \"value\", \"type\": \"nominal\"}, {\"field\": \"value_count\", \"type\": \"quantitative\"}, {\"field\": \"total_non_null_rows\", \"type\": \"quantitative\"}, {\"field\": \"total_rows_inc_nulls\", \"type\": \"quantitative\"}], \"x\": {\"field\": \"value\", \"sort\": \"-y\", \"title\": null, \"type\": \"nominal\"}, \"y\": {\"field\": \"value_count\", \"title\": \"Value count\", \"type\": \"quantitative\"}}, \"title\": \"Top 10 values by value count\"}, {\"mark\": \"bar\", \"data\": {\"values\": [{\"value_count\": 1, \"group_name\": \"BB_Title\", \"value\": \"The Great Master\", \"total_non_null_rows\": 195348, \"total_rows_inc_nulls\": 200000, \"distinct_value_count\": 88648}, {\"value_count\": 1, \"group_name\": \"BB_Title\", \"value\": \"Ninfetas imorais 16\", \"total_non_null_rows\": 195348, \"total_rows_inc_nulls\": 200000, \"distinct_value_count\": 88648}, {\"value_count\": 1, \"group_name\": \"BB_Title\", \"value\": \"The Tri-Cities Thunder\", \"total_non_null_rows\": 195348, \"total_rows_inc_nulls\": 200000, \"distinct_value_count\": 88648}, {\"value_count\": 1, \"group_name\": \"BB_Title\", \"value\": \"Bank of Seoul\", \"total_non_null_rows\": 195348, \"total_rows_inc_nulls\": 200000, \"distinct_value_count\": 88648}, {\"value_count\": 1, \"group_name\": \"BB_Title\", \"value\": \"Festival De Circo Online De S\\u00e3o Paulo | Cabar\\u00e9 Virtual Vol. 5\", \"total_non_null_rows\": 195348, \"total_rows_inc_nulls\": 200000, \"distinct_value_count\": 88648}, {\"value_count\": 1, \"group_name\": \"BB_Title\", \"value\": \"Street Fighter - A \\u00daltima Batalha (LEG)\", \"total_non_null_rows\": 195348, \"total_rows_inc_nulls\": 200000, \"distinct_value_count\": 88648}, {\"value_count\": 1, \"group_name\": \"BB_Title\", \"value\": \"Light the Fuse\\u2026 Sartana Is Coming\", \"total_non_null_rows\": 195348, \"total_rows_inc_nulls\": 200000, \"distinct_value_count\": 88648}, {\"value_count\": 1, \"group_name\": \"BB_Title\", \"value\": \"The Supreme Uneasiness: Incessant Portrait of Fernando Vallejo\", \"total_non_null_rows\": 195348, \"total_rows_inc_nulls\": 200000, \"distinct_value_count\": 88648}, {\"value_count\": 1, \"group_name\": \"BB_Title\", \"value\": \"The Alpha Incident\", \"total_non_null_rows\": 195348, \"total_rows_inc_nulls\": 200000, \"distinct_value_count\": 88648}, {\"value_count\": 1, \"group_name\": \"BB_Title\", \"value\": \"Last Bottle\", \"total_non_null_rows\": 195348, \"total_rows_inc_nulls\": 200000, \"distinct_value_count\": 88648}]}, \"encoding\": {\"tooltip\": [{\"field\": \"value\", \"type\": \"nominal\"}, {\"field\": \"value_count\", \"type\": \"quantitative\"}, {\"field\": \"total_non_null_rows\", \"type\": \"quantitative\"}, {\"field\": \"total_rows_inc_nulls\", \"type\": \"quantitative\"}], \"x\": {\"field\": \"value\", \"sort\": \"-y\", \"title\": null, \"type\": \"nominal\"}, \"y\": {\"field\": \"value_count\", \"scale\": {\"domain\": [0, 39]}, \"title\": \"Value count\", \"type\": \"quantitative\"}}, \"title\": \"Bottom 10 values by value count\"}]}], \"$schema\": \"https://vega.github.io/schema/vega-lite/v5.9.3.json\"}, {\"mode\": \"vega-lite\"});\n",
       "</script>"
      ],
      "text/plain": [
       "alt.VConcatChart(...)"
      ]
     },
     "execution_count": 10,
     "metadata": {},
     "output_type": "execute_result"
    }
   ],
   "source": [
    "print(\"\\n--- Perfil da Coluna BB_Title (executando na amostra) ---\")\n",
    "profile_columns(\"dados_amostra\", column_expressions=[\"BB_Title\"], db_api=db_api)"
   ]
  },
  {
   "cell_type": "code",
   "execution_count": null,
   "id": "4e7ef165-258a-4684-8d49-fa6e186f11a1",
   "metadata": {},
   "outputs": [
    {
     "name": "stderr",
     "output_type": "stream",
     "text": [
      "----- Estimating u probabilities using random sampling -----\n"
     ]
    },
    {
     "name": "stdout",
     "output_type": "stream",
     "text": [
      "\n",
      "Iniciando estimação das probabilidades 'u'...\n"
     ]
    },
    {
     "data": {
      "application/vnd.jupyter.widget-view+json": {
       "model_id": "0fcc8dae248046bb8753db671d5dea7a",
       "version_major": 2,
       "version_minor": 0
      },
      "text/plain": [
       "FloatProgress(value=0.0, layout=Layout(width='auto'), style=ProgressStyle(bar_color='black'))"
      ]
     },
     "metadata": {},
     "output_type": "display_data"
    },
    {
     "data": {
      "application/vnd.jupyter.widget-view+json": {
       "model_id": "503bc7b9148d4bdc994d118de4811474",
       "version_major": 2,
       "version_minor": 0
      },
      "text/plain": [
       "FloatProgress(value=0.0, layout=Layout(width='auto'), style=ProgressStyle(bar_color='black'))"
      ]
     },
     "metadata": {},
     "output_type": "display_data"
    },
    {
     "name": "stderr",
     "output_type": "stream",
     "text": [
      "\n",
      "Estimated u probabilities using random sampling\n",
      "\n",
      "Your model is not yet fully trained. Missing estimates for:\n",
      "    - BB_Title (no m values are trained).\n",
      "    - BB_Year (no m values are trained).\n",
      "    - BB_Directors_array (no m values are trained).\n",
      "    - BB_Cast_array (no m values are trained).\n"
     ]
    },
    {
     "name": "stdout",
     "output_type": "stream",
     "text": [
      "\n",
      "Iniciando 1ª sessão de treinamento EM...\n"
     ]
    },
    {
     "data": {
      "application/vnd.jupyter.widget-view+json": {
       "model_id": "f01ec7dc794243adaecf78460fccd02d",
       "version_major": 2,
       "version_minor": 0
      },
      "text/plain": [
       "FloatProgress(value=0.0, layout=Layout(width='auto'), style=ProgressStyle(bar_color='black'))"
      ]
     },
     "metadata": {},
     "output_type": "display_data"
    },
    {
     "name": "stderr",
     "output_type": "stream",
     "text": [
      "\n",
      "----- Starting EM training session -----\n",
      "\n",
      "Estimating the m probabilities of the model by blocking on:\n",
      "(l.\"BB_Title\" = r.\"BB_Title\") AND (l.\"BB_Year\" = r.\"BB_Year\")\n",
      "\n",
      "Parameter estimates will be made for the following comparison(s):\n",
      "    - BB_Directors_array\n",
      "    - BB_Cast_array\n",
      "\n",
      "Parameter estimates cannot be made for the following comparison(s) since they are used in the blocking rules: \n",
      "    - BB_Title\n",
      "    - BB_Year\n"
     ]
    },
    {
     "data": {
      "application/vnd.jupyter.widget-view+json": {
       "model_id": "a28da06891e7472abe59345b39b8d3e6",
       "version_major": 2,
       "version_minor": 0
      },
      "text/plain": [
       "FloatProgress(value=0.0, layout=Layout(width='auto'), style=ProgressStyle(bar_color='black'))"
      ]
     },
     "metadata": {},
     "output_type": "display_data"
    },
    {
     "data": {
      "application/vnd.jupyter.widget-view+json": {
       "model_id": "f493c6a1a886448baf6ecfbc2e07156e",
       "version_major": 2,
       "version_minor": 0
      },
      "text/plain": [
       "FloatProgress(value=0.0, layout=Layout(width='auto'), style=ProgressStyle(bar_color='black'))"
      ]
     },
     "metadata": {},
     "output_type": "display_data"
    }
   ],
   "source": [
    "# ===================================================================================\n",
    "# CÉLULA 4: TREINAMENTO E PREDIÇÃO\n",
    "# ===================================================================================\n",
    "# Instanciamos o Linker e a API do DuckDB\n",
    "db_api = DuckDBAPI(connection=con)\n",
    "linker = Linker(\"dados_completos\", settings, db_api=db_api)\n",
    "\n",
    "# Treinamento dos parâmetros 'u' (ocorrências em pares aleatórios)\n",
    "print(\"\\nIniciando estimação das probabilidades 'u'...\")\n",
    "linker.training.estimate_u_using_random_sampling(max_pairs=5e6)\n",
    "\n",
    "# Treinamento dos parâmetros 'm' (ocorrências em pares correspondentes)\n",
    "# Usamos regras de bloqueio estritas para um treinamento eficiente\n",
    "print(\"\\nIniciando 1ª sessão de treinamento EM...\")\n",
    "linker.training.estimate_parameters_using_expectation_maximisation(block_on(\"BB_Title\", \"BB_Year\"))\n",
    "\n",
    "print(\"\\nIniciando 2ª sessão de treinamento EM...\")\n",
    "linker.training.estimate_parameters_using_expectation_maximisation(block_on(\"BB_Directors\", \"BB_Year\"))\n",
    "\n",
    "print(\"\\nTreinamento concluído. Gerando o gráfico de pesos...\")\n",
    "display(linker.visualisations.match_weights_chart())\n",
    "\n",
    "# Predição e Clusterização\n",
    "print(\"\\nExecutando a predição de duplicatas...\")\n",
    "df_predict = linker.inference.predict()\n",
    "\n",
    "print(\"\\nAgrupando os resultados em clusters...\")\n",
    "clusters = linker.clustering.cluster_pairwise_predictions_at_threshold(df_predict, threshold_match_probability=0.95)\n"
   ]
  },
  {
   "cell_type": "code",
   "execution_count": null,
   "id": "88119842-b3b3-4aa7-abd8-b77b417b4bf5",
   "metadata": {},
   "outputs": [],
   "source": [
    "# Investigando os maiores blocos na amostra para a regra \"BB_Title\"\n",
    "print(\"\\n--- Maiores Blocos para 'block_on(\\\"BB_Title\\\")' (na amostra) ---\")\n",
    "n_largest_blocks(\n",
    "    \"dados_amostra\",\n",
    "    block_on(\"BB_Title\"),\n",
    "    db_api=db_api,\n",
    "    link_type=\"dedupe_only\",\n",
    "    n_largest=10\n",
    ").as_pandas_dataframe()"
   ]
  },
  {
   "cell_type": "markdown",
   "id": "1b313838-caed-4600-bac7-bd28d529b014",
   "metadata": {},
   "source": [
    "Interpretação da Análise Exploratória:\n",
    "\n",
    "O completeness_chart nos mostrará se alguma coluna-chave tem muitos dados faltantes, o que diminuiria sua utilidade.\n",
    "\n",
    "O profile_columns para BB_Title provavelmente revelará uma alta cardinalidade (muitos títulos únicos), mas também pode mostrar uma \"cauda longa\" de títulos muito frequentes (skew). Para BB_Year, veremos a distribuição de lançamentos ao longo do tempo."
   ]
  },
  {
   "cell_type": "markdown",
   "id": "3757ee4d-42de-4ba5-971c-b0e956a5292a",
   "metadata": {},
   "source": [
    "Célula 3: Análise e Seleção de Regras de Bloqueio\n",
    "Esta é uma etapa crítica para a performance. Vamos analisar diferentes regras de bloqueio para encontrar um conjunto que reduza o número de comparações a um nível gerenciável, sem perder muitos matches verdadeiros."
   ]
  },
  {
   "cell_type": "code",
   "execution_count": null,
   "id": "8c731901-e91f-4e9a-bfe2-07c4893115f7",
   "metadata": {},
   "outputs": [],
   "source": [
    "# ===================================================================================\n",
    "# 5. CONFIGURAÇÃO DO MODELO SPLINK\n",
    "# ===================================================================================\n",
    "settings = SettingsCreator(\n",
    "    link_type=\"dedupe_only\",\n",
    "    unique_id_column_name=\"BB_UID\",\n",
    "    blocking_rules_to_generate_predictions=[\n",
    "        block_on(\"substr(BB_Title, 1, 3)\", \"BB_Year\"),\n",
    "        block_on(\"substr(BB_Directors, 1, 5)\", \"BB_Year\"),\n",
    "    ],\n",
    "    comparisons=[\n",
    "        cl.JaroWinklerAtThresholds(\"BB_Title\", [0.9, 0.7]),\n",
    "        cl.ExactMatch(\"BB_Year\"),\n",
    "        cl.ArrayIntersectAtSizes(\"BB_Cast_array\", [3, 1]),\n",
    "        cl.ArrayIntersectAtSizes(\"BB_Directors_array\", [1]),\n",
    "    ],\n",
    "    retain_intermediate_calculation_columns=True,\n",
    "    retain_matching_columns=True,\n",
    ")\n",
    "print(\"Configuração (settings) do Splink criada.\")"
   ]
  },
  {
   "cell_type": "code",
   "execution_count": null,
   "id": "1a3ec2f7-e654-4bf2-9847-8b8819fdfb55",
   "metadata": {},
   "outputs": [],
   "source": [
    "# ===================================================================================\n",
    "# 6. TREINAMENTO DO MODELO (NO DATASET COMPLETO)\n",
    "# ===================================================================================\n",
    "# IMPORTANTE: Agora instanciamos o Linker com a view do dataset COMPLETO\n",
    "print(\"Iniciando o Linker no dataset completo de 15 milhões de linhas...\")\n",
    "linker = Linker(\"dados_completos\", settings, db_api=db_api)\n",
    "\n",
    "# A estimação de 'u' pode ser demorada. Usamos um número grande de pares para precisão.\n",
    "print(\"\\n--- Estimando probabilidades 'u' no dataset completo... ---\")\n",
    "linker.training.estimate_u_using_random_sampling(max_pairs=10e6) # 10 milhões de pares\n",
    "\n",
    "# O treinamento EM usa regras de bloqueio restritas para ser eficiente\n",
    "print(\"\\n--- Iniciando 1ª sessão de treinamento EM (bloqueando por Título e Ano) ---\")\n",
    "linker.training.estimate_parameters_using_expectation_maximisation(block_on(\"BB_Title\", \"BB_Year\"))\n",
    "\n",
    "print(\"\\n--- Iniciando 2ª sessão de treinamento EM (bloqueando por Diretores e Ano) ---\")\n",
    "linker.training.estimate_parameters_using_expectation_maximisation(block_on(\"BB_Directors\", \"BB_Year\"))\n",
    "\n",
    "print(\"\\nTreinamento do modelo concluído!\")"
   ]
  },
  {
   "cell_type": "code",
   "execution_count": null,
   "id": "29dbf7f4-5b46-4baa-a2cc-69412119eb88",
   "metadata": {},
   "outputs": [],
   "source": [
    "# ===================================================================================\n",
    "# 7. ANÁLISE DO MODELO E PREDIÇÃO FINAL\n",
    "# ===================================================================================\n",
    "print(\"--- Gráfico de Pesos de Correspondência (Match Weights) do modelo final ---\")\n",
    "linker.visualisations.match_weights_chart()"
   ]
  },
  {
   "cell_type": "code",
   "execution_count": null,
   "id": "12606551-69dd-43eb-b5cf-b8247efd80f5",
   "metadata": {},
   "outputs": [],
   "source": [
    "# Executa a predição no dataset completo\n",
    "print(\"\\n--- Executando a predição de duplicatas no dataset completo ---\")\n",
    "df_predict = linker.inference.predict()\n",
    "\n",
    "# Agrupa os resultados em clusters para gerar a tabela de vínculos\n",
    "print(\"\\n--- Gerando a Tabela de Vínculos (ID Canônico) ---\")\n",
    "clusters = linker.clustering.cluster_pairwise_predictions_at_threshold(df_predict, threshold_match_probability=0.95)\n",
    "\n",
    "print(\"\\nAmostra da Tabela de Vínculos (BB_UID -> cluster_id):\")\n",
    "display(clusters.as_pandas_dataframe(limit=20))"
   ]
  },
  {
   "cell_type": "code",
   "execution_count": null,
   "id": "2dfb813c-3499-499c-82c9-f2bddf6f887b",
   "metadata": {},
   "outputs": [],
   "source": [
    "import os\n",
    "import platform\n",
    "import time\n",
    "\n",
    "# Tempo em segundos antes de hibernar (aqui: 60 segundos = 1 minuto)\n",
    "tempo_espera = 60\n",
    "\n",
    "# Só executa se estiver no Windows\n",
    "if platform.system() == \"Windows\":\n",
    "    print(f\"O computador vai hibernar em {tempo_espera} segundos...\")\n",
    "    time.sleep(tempo_espera)\n",
    "    os.system(\"shutdown /h\")\n",
    "else:\n",
    "    print(\"Este comando de hibernação só funciona no Windows.\")\n"
   ]
  },
  {
   "cell_type": "code",
   "execution_count": null,
   "id": "dd82b3c0-72ea-43d7-ba16-08cfd02f1264",
   "metadata": {},
   "outputs": [],
   "source": []
  }
 ],
 "metadata": {
  "kernelspec": {
   "display_name": "SPLINK-VOD",
   "language": "python",
   "name": "ancine"
  },
  "language_info": {
   "codemirror_mode": {
    "name": "ipython",
    "version": 3
   },
   "file_extension": ".py",
   "mimetype": "text/x-python",
   "name": "python",
   "nbconvert_exporter": "python",
   "pygments_lexer": "ipython3",
   "version": "3.13.5"
  }
 },
 "nbformat": 4,
 "nbformat_minor": 5
}

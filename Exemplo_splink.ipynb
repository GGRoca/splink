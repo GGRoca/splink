{
 "cells": [
  {
   "cell_type": "code",
   "execution_count": 8,
   "id": "9bb27a8d-8c88-406d-be9e-fe70232fe805",
   "metadata": {},
   "outputs": [
    {
     "name": "stdout",
     "output_type": "stream",
     "text": [
      "Ambiente configurado com sucesso.\n"
     ]
    }
   ],
   "source": [
    "# ===================================================================================\n",
    "# 1. CONFIGURAÇÃO DO AMBIENTE E IMPORTAÇÕES\n",
    "# ===================================================================================\n",
    "!pip install splink -q\n",
    "\n",
    "import duckdb\n",
    "import pandas as pd\n",
    "from splink import Linker, SettingsCreator, DuckDBAPI\n",
    "# Importando as bibliotecas de comparação e níveis de comparação\n",
    "import splink.comparison_library as cl\n",
    "import splink.comparison_level_library as cll\n",
    "from splink import block_on\n",
    "from splink.exploratory import completeness_chart, profile_columns\n",
    "from splink.blocking_analysis import cumulative_comparisons_to_be_scored_from_blocking_rules_chart\n",
    "\n",
    "print(\"Ambiente configurado com sucesso.\")"
   ]
  },
  {
   "cell_type": "code",
   "execution_count": 9,
   "id": "d5b6ac56-24ca-4b74-8d06-4c2ec6612c5f",
   "metadata": {},
   "outputs": [
    {
     "name": "stdout",
     "output_type": "stream",
     "text": [
      "View 'dados_amostra' (30 mil linhas) criada para uma exploração rápida.\n"
     ]
    }
   ],
   "source": [
    "# ===================================================================================\n",
    "# 2. CONEXÃO, PRÉ-PROCESSAMENTO E AMOSTRAGEM\n",
    "# ===================================================================================\n",
    "path_dados = 'dados_catalogo/processed/dados_consolidados_filtrados.parquet'\n",
    "con = duckdb.connect(database=':memory:', read_only=False)\n",
    "db_api = DuckDBAPI(connection=con)\n",
    "\n",
    "# SQL para criar a VIEW com o dataset completo e as colunas de array\n",
    "sql_completo = f\"\"\"\n",
    "CREATE OR REPLACE VIEW dados_completos AS\n",
    "SELECT *,\n",
    "    list_distinct(list_sort(string_to_array(trim(BB_Cast), ','))) as BB_Cast_array,\n",
    "    list_distinct(list_sort(string_to_array(trim(BB_Directors), ','))) as BB_Directors_array\n",
    "FROM read_parquet('{path_dados}');\n",
    "\"\"\"\n",
    "con.execute(sql_completo)\n",
    "\n",
    "# Usaremos uma amostra para todo o processo de desenvolvimento do modelo.\n",
    "sql_amostra = \"CREATE OR REPLACE VIEW dados_amostra AS SELECT * FROM dados_completos USING SAMPLE 30000 ROWS;\"\n",
    "con.execute(sql_amostra)\n",
    "print(\"View 'dados_amostra' (30 mil linhas) criada para uma exploração rápida.\")"
   ]
  },
  {
   "cell_type": "code",
   "execution_count": 11,
   "id": "79f62f28-f165-4e49-a663-e71eb0616628",
   "metadata": {},
   "outputs": [
    {
     "name": "stdout",
     "output_type": "stream",
     "text": [
      "--- Análise de Completude ---\n"
     ]
    },
    {
     "data": {
      "application/vnd.jupyter.widget-view+json": {
       "model_id": "5456f5d83cc24e26bc00a4172933515b",
       "version_major": 2,
       "version_minor": 0
      },
      "text/plain": [
       "FloatProgress(value=0.0, layout=Layout(width='auto'), style=ProgressStyle(bar_color='black'))"
      ]
     },
     "metadata": {},
     "output_type": "display_data"
    },
    {
     "data": {
      "text/html": [
       "\n",
       "<style>\n",
       "  #altair-viz-01c4d30737464f4b9ae94ea81fa5b185.vega-embed {\n",
       "    width: 100%;\n",
       "    display: flex;\n",
       "  }\n",
       "\n",
       "  #altair-viz-01c4d30737464f4b9ae94ea81fa5b185.vega-embed details,\n",
       "  #altair-viz-01c4d30737464f4b9ae94ea81fa5b185.vega-embed details summary {\n",
       "    position: relative;\n",
       "  }\n",
       "</style>\n",
       "<div id=\"altair-viz-01c4d30737464f4b9ae94ea81fa5b185\"></div>\n",
       "<script type=\"text/javascript\">\n",
       "  var VEGA_DEBUG = (typeof VEGA_DEBUG == \"undefined\") ? {} : VEGA_DEBUG;\n",
       "  (function(spec, embedOpt){\n",
       "    let outputDiv = document.currentScript.previousElementSibling;\n",
       "    if (outputDiv.id !== \"altair-viz-01c4d30737464f4b9ae94ea81fa5b185\") {\n",
       "      outputDiv = document.getElementById(\"altair-viz-01c4d30737464f4b9ae94ea81fa5b185\");\n",
       "    }\n",
       "\n",
       "    const paths = {\n",
       "      \"vega\": \"https://cdn.jsdelivr.net/npm/vega@5?noext\",\n",
       "      \"vega-lib\": \"https://cdn.jsdelivr.net/npm/vega-lib?noext\",\n",
       "      \"vega-lite\": \"https://cdn.jsdelivr.net/npm/vega-lite@5.20.1?noext\",\n",
       "      \"vega-embed\": \"https://cdn.jsdelivr.net/npm/vega-embed@6?noext\",\n",
       "    };\n",
       "\n",
       "    function maybeLoadScript(lib, version) {\n",
       "      var key = `${lib.replace(\"-\", \"\")}_version`;\n",
       "      return (VEGA_DEBUG[key] == version) ?\n",
       "        Promise.resolve(paths[lib]) :\n",
       "        new Promise(function(resolve, reject) {\n",
       "          var s = document.createElement('script');\n",
       "          document.getElementsByTagName(\"head\")[0].appendChild(s);\n",
       "          s.async = true;\n",
       "          s.onload = () => {\n",
       "            VEGA_DEBUG[key] = version;\n",
       "            return resolve(paths[lib]);\n",
       "          };\n",
       "          s.onerror = () => reject(`Error loading script: ${paths[lib]}`);\n",
       "          s.src = paths[lib];\n",
       "        });\n",
       "    }\n",
       "\n",
       "    function showError(err) {\n",
       "      outputDiv.innerHTML = `<div class=\"error\" style=\"color:red;\">${err}</div>`;\n",
       "      throw err;\n",
       "    }\n",
       "\n",
       "    function displayChart(vegaEmbed) {\n",
       "      vegaEmbed(outputDiv, spec, embedOpt)\n",
       "        .catch(err => showError(`Javascript Error: ${err.message}<br>This usually means there's a typo in your chart specification. See the javascript console for the full traceback.`));\n",
       "    }\n",
       "\n",
       "    if(typeof define === \"function\" && define.amd) {\n",
       "      requirejs.config({paths});\n",
       "      let deps = [\"vega-embed\"];\n",
       "      require(deps, displayChart, err => showError(`Error loading script: ${err.message}`));\n",
       "    } else {\n",
       "      maybeLoadScript(\"vega\", \"5\")\n",
       "        .then(() => maybeLoadScript(\"vega-lite\", \"5.20.1\"))\n",
       "        .then(() => maybeLoadScript(\"vega-embed\", \"6\"))\n",
       "        .catch(showError)\n",
       "        .then(() => displayChart(vegaEmbed));\n",
       "    }\n",
       "  })({\"config\": {\"view\": {\"continuousWidth\": 400, \"continuousHeight\": 300}}, \"layer\": [{\"mark\": \"rect\", \"encoding\": {\"color\": {\"field\": \"completeness\", \"legend\": null, \"scale\": {\"scheme\": \"darkred\", \"zero\": true}, \"type\": \"quantitative\"}, \"tooltip\": [{\"field\": \"source_dataset\", \"title\": \"Source dataset\", \"type\": \"nominal\"}, {\"field\": \"total_rows_inc_nulls\", \"format\": \",\", \"title\": \"# of records\", \"type\": \"quantitative\"}, {\"field\": \"column_name\", \"title\": \"Column name\", \"type\": \"nominal\"}, {\"field\": \"total_null_rows\", \"format\": \",\", \"title\": \"# of nulls\", \"type\": \"quantitative\"}, {\"field\": \"completeness\", \"format\": \".1%\", \"type\": \"quantitative\"}], \"x\": {\"axis\": {\"labelAngle\": 20}, \"field\": \"column_name\", \"sort\": {\"field\": \"mean_comp\", \"order\": \"descending\"}, \"title\": \"Column name\", \"type\": \"nominal\"}, \"y\": {\"field\": \"source_dataset\", \"title\": \"Source dataset\", \"type\": \"nominal\"}}, \"title\": \"Column completeness by source dataset\", \"transform\": [{\"joinaggregate\": [{\"op\": \"mean\", \"field\": \"completeness\", \"as\": \"mean_comp\"}], \"groupby\": [\"column_name\"]}]}, {\"mark\": {\"type\": \"text\"}, \"encoding\": {\"color\": {\"condition\": {\"test\": \"datum['completeness'] < 0.5\", \"value\": \"white\"}, \"value\": \"black\"}, \"text\": {\"field\": \"completeness\", \"format\": \".0%\", \"type\": \"quantitative\"}, \"x\": {\"axis\": {\"labelAngle\": 0}, \"field\": \"column_name\", \"sort\": {\"field\": \"mean_comp\", \"order\": \"descending\"}, \"type\": \"nominal\"}, \"y\": {\"field\": \"source_dataset\", \"type\": \"nominal\"}}, \"transform\": [{\"joinaggregate\": [{\"op\": \"mean\", \"field\": \"completeness\", \"as\": \"mean_comp\"}], \"groupby\": [\"column_name\"]}]}], \"data\": {\"name\": \"data-ca8da647fcf8fe1e19debeaffd3e3562\"}, \"height\": {\"step\": 40}, \"width\": {\"step\": 40}, \"$schema\": \"https://vega.github.io/schema/vega-lite/v5.9.3.json\", \"datasets\": {\"data-ca8da647fcf8fe1e19debeaffd3e3562\": [{\"source_dataset\": \"input_data_1\", \"column_name\": \"BB_UID\", \"total_null_rows\": 0, \"total_rows_inc_nulls\": 30000, \"completeness\": 1.0}, {\"source_dataset\": \"input_data_1\", \"column_name\": \"Platform_Content_ID\", \"total_null_rows\": 0, \"total_rows_inc_nulls\": 30000, \"completeness\": 1.0}, {\"source_dataset\": \"input_data_1\", \"column_name\": \"BB_Hash_Unique\", \"total_null_rows\": 0, \"total_rows_inc_nulls\": 30000, \"completeness\": 1.0}, {\"source_dataset\": \"input_data_1\", \"column_name\": \"Platform_Name\", \"total_null_rows\": 0, \"total_rows_inc_nulls\": 30000, \"completeness\": 1.0}, {\"source_dataset\": \"input_data_1\", \"column_name\": \"Platform_Country\", \"total_null_rows\": 0, \"total_rows_inc_nulls\": 30000, \"completeness\": 1.0}, {\"source_dataset\": \"input_data_1\", \"column_name\": \"Package\", \"total_null_rows\": 0, \"total_rows_inc_nulls\": 30000, \"completeness\": 1.0}, {\"source_dataset\": \"input_data_1\", \"column_name\": \"Platform_Title\", \"total_null_rows\": 0, \"total_rows_inc_nulls\": 30000, \"completeness\": 1.0}, {\"source_dataset\": \"input_data_1\", \"column_name\": \"Type\", \"total_null_rows\": 0, \"total_rows_inc_nulls\": 30000, \"completeness\": 1.0}, {\"source_dataset\": \"input_data_1\", \"column_name\": \"Deeplink\", \"total_null_rows\": 0, \"total_rows_inc_nulls\": 30000, \"completeness\": 1.0}, {\"source_dataset\": \"input_data_1\", \"column_name\": \"Seasons\", \"total_null_rows\": 25158, \"total_rows_inc_nulls\": 30000, \"completeness\": 0.16140000522136688}, {\"source_dataset\": \"input_data_1\", \"column_name\": \"Is_Original\", \"total_null_rows\": 0, \"total_rows_inc_nulls\": 30000, \"completeness\": 1.0}, {\"source_dataset\": \"input_data_1\", \"column_name\": \"Is_Exclusive\", \"total_null_rows\": 0, \"total_rows_inc_nulls\": 30000, \"completeness\": 1.0}, {\"source_dataset\": \"input_data_1\", \"column_name\": \"Episodes\", \"total_null_rows\": 25159, \"total_rows_inc_nulls\": 30000, \"completeness\": 0.16136667132377625}, {\"source_dataset\": \"input_data_1\", \"column_name\": \"Platform_Year\", \"total_null_rows\": 3543, \"total_rows_inc_nulls\": 30000, \"completeness\": 0.8819000124931335}, {\"source_dataset\": \"input_data_1\", \"column_name\": \"Platform_Duration\", \"total_null_rows\": 6065, \"total_rows_inc_nulls\": 30000, \"completeness\": 0.7978333234786987}, {\"source_dataset\": \"input_data_1\", \"column_name\": \"Platform_Provider\", \"total_null_rows\": 19110, \"total_rows_inc_nulls\": 30000, \"completeness\": 0.3630000054836273}, {\"source_dataset\": \"input_data_1\", \"column_name\": \"Platform_Genres\", \"total_null_rows\": 6618, \"total_rows_inc_nulls\": 30000, \"completeness\": 0.7793999910354614}, {\"source_dataset\": \"input_data_1\", \"column_name\": \"Platform_Cast\", \"total_null_rows\": 11636, \"total_rows_inc_nulls\": 30000, \"completeness\": 0.6121333241462708}, {\"source_dataset\": \"input_data_1\", \"column_name\": \"Platform_Directors\", \"total_null_rows\": 10864, \"total_rows_inc_nulls\": 30000, \"completeness\": 0.6378666758537292}, {\"source_dataset\": \"input_data_1\", \"column_name\": \"Channel\", \"total_null_rows\": 11414, \"total_rows_inc_nulls\": 30000, \"completeness\": 0.619533360004425}, {\"source_dataset\": \"input_data_1\", \"column_name\": \"BB_Title\", \"total_null_rows\": 662, \"total_rows_inc_nulls\": 30000, \"completeness\": 0.9779333472251892}, {\"source_dataset\": \"input_data_1\", \"column_name\": \"BB_Original_Title\", \"total_null_rows\": 8831, \"total_rows_inc_nulls\": 30000, \"completeness\": 0.7056333422660828}, {\"source_dataset\": \"input_data_1\", \"column_name\": \"BB_Year\", \"total_null_rows\": 5480, \"total_rows_inc_nulls\": 30000, \"completeness\": 0.8173333406448364}, {\"source_dataset\": \"input_data_1\", \"column_name\": \"BB_Duration\", \"total_null_rows\": 3813, \"total_rows_inc_nulls\": 30000, \"completeness\": 0.8729000091552734}, {\"source_dataset\": \"input_data_1\", \"column_name\": \"BB_Primary_Genre\", \"total_null_rows\": 7397, \"total_rows_inc_nulls\": 30000, \"completeness\": 0.753433346748352}, {\"source_dataset\": \"input_data_1\", \"column_name\": \"BB_Genres\", \"total_null_rows\": 5243, \"total_rows_inc_nulls\": 30000, \"completeness\": 0.8252333402633667}, {\"source_dataset\": \"input_data_1\", \"column_name\": \"BB_Scripted\", \"total_null_rows\": 7397, \"total_rows_inc_nulls\": 30000, \"completeness\": 0.753433346748352}, {\"source_dataset\": \"input_data_1\", \"column_name\": \"BB_Primary_Country\", \"total_null_rows\": 9254, \"total_rows_inc_nulls\": 30000, \"completeness\": 0.6915333271026611}, {\"source_dataset\": \"input_data_1\", \"column_name\": \"BB_Countries\", \"total_null_rows\": 9254, \"total_rows_inc_nulls\": 30000, \"completeness\": 0.6915333271026611}, {\"source_dataset\": \"input_data_1\", \"column_name\": \"BB_Primary_Company\", \"total_null_rows\": 9831, \"total_rows_inc_nulls\": 30000, \"completeness\": 0.6722999811172485}, {\"source_dataset\": \"input_data_1\", \"column_name\": \"BB_Production_Companies\", \"total_null_rows\": 9831, \"total_rows_inc_nulls\": 30000, \"completeness\": 0.6722999811172485}, {\"source_dataset\": \"input_data_1\", \"column_name\": \"BB_Cast\", \"total_null_rows\": 8013, \"total_rows_inc_nulls\": 30000, \"completeness\": 0.7329000234603882}, {\"source_dataset\": \"input_data_1\", \"column_name\": \"BB_Directors\", \"total_null_rows\": 5315, \"total_rows_inc_nulls\": 30000, \"completeness\": 0.8228333592414856}, {\"source_dataset\": \"input_data_1\", \"column_name\": \"BB_Languages\", \"total_null_rows\": 10880, \"total_rows_inc_nulls\": 30000, \"completeness\": 0.637333333492279}, {\"source_dataset\": \"input_data_1\", \"column_name\": \"BB_Keywords\", \"total_null_rows\": 14205, \"total_rows_inc_nulls\": 30000, \"completeness\": 0.5264999866485596}, {\"source_dataset\": \"input_data_1\", \"column_name\": \"BB_Votes\", \"total_null_rows\": 10354, \"total_rows_inc_nulls\": 30000, \"completeness\": 0.6548666954040527}, {\"source_dataset\": \"input_data_1\", \"column_name\": \"BB_Score\", \"total_null_rows\": 10759, \"total_rows_inc_nulls\": 30000, \"completeness\": 0.6413666605949402}, {\"source_dataset\": \"input_data_1\", \"column_name\": \"TMDB_ID\", \"total_null_rows\": 10342, \"total_rows_inc_nulls\": 30000, \"completeness\": 0.6552666425704956}, {\"source_dataset\": \"input_data_1\", \"column_name\": \"TVDB_ID\", \"total_null_rows\": 13632, \"total_rows_inc_nulls\": 30000, \"completeness\": 0.5455999970436096}, {\"source_dataset\": \"input_data_1\", \"column_name\": \"IMDb_ID\", \"total_null_rows\": 9117, \"total_rows_inc_nulls\": 30000, \"completeness\": 0.6960999965667725}, {\"source_dataset\": \"input_data_1\", \"column_name\": \"data_ref\", \"total_null_rows\": 0, \"total_rows_inc_nulls\": 30000, \"completeness\": 1.0}, {\"source_dataset\": \"input_data_1\", \"column_name\": \"Season_Numbers\", \"total_null_rows\": 26435, \"total_rows_inc_nulls\": 30000, \"completeness\": 0.11883333325386047}, {\"source_dataset\": \"input_data_1\", \"column_name\": \"BB_Launch_Date\", \"total_null_rows\": 24505, \"total_rows_inc_nulls\": 30000, \"completeness\": 0.18316666781902313}, {\"source_dataset\": \"input_data_1\", \"column_name\": \"BB_Poster_Image\", \"total_null_rows\": 8817, \"total_rows_inc_nulls\": 30000, \"completeness\": 0.7060999870300293}, {\"source_dataset\": \"input_data_1\", \"column_name\": \"BB_Coverage_In_Days\", \"total_null_rows\": 5468, \"total_rows_inc_nulls\": 30000, \"completeness\": 0.8177333474159241}, {\"source_dataset\": \"input_data_1\", \"column_name\": \"BB_Cast_array\", \"total_null_rows\": 8013, \"total_rows_inc_nulls\": 30000, \"completeness\": 0.7329000234603882}, {\"source_dataset\": \"input_data_1\", \"column_name\": \"BB_Directors_array\", \"total_null_rows\": 5315, \"total_rows_inc_nulls\": 30000, \"completeness\": 0.8228333592414856}]}}, {\"mode\": \"vega-lite\"});\n",
       "</script>"
      ],
      "text/plain": [
       "alt.LayerChart(...)"
      ]
     },
     "metadata": {},
     "output_type": "display_data"
    },
    {
     "name": "stdout",
     "output_type": "stream",
     "text": [
      "\n",
      "--- Perfil da Coluna 'BB_Title' e 'BB_Year' ---\n"
     ]
    },
    {
     "data": {
      "application/vnd.jupyter.widget-view+json": {
       "model_id": "590a76e0ea1f4fe7864be28a9235be2b",
       "version_major": 2,
       "version_minor": 0
      },
      "text/plain": [
       "FloatProgress(value=0.0, layout=Layout(width='auto'), style=ProgressStyle(bar_color='black'))"
      ]
     },
     "metadata": {},
     "output_type": "display_data"
    },
    {
     "data": {
      "text/html": [
       "\n",
       "<style>\n",
       "  #altair-viz-d5ef71c116664401b37a1bea643ee2c1.vega-embed {\n",
       "    width: 100%;\n",
       "    display: flex;\n",
       "  }\n",
       "\n",
       "  #altair-viz-d5ef71c116664401b37a1bea643ee2c1.vega-embed details,\n",
       "  #altair-viz-d5ef71c116664401b37a1bea643ee2c1.vega-embed details summary {\n",
       "    position: relative;\n",
       "  }\n",
       "</style>\n",
       "<div id=\"altair-viz-d5ef71c116664401b37a1bea643ee2c1\"></div>\n",
       "<script type=\"text/javascript\">\n",
       "  var VEGA_DEBUG = (typeof VEGA_DEBUG == \"undefined\") ? {} : VEGA_DEBUG;\n",
       "  (function(spec, embedOpt){\n",
       "    let outputDiv = document.currentScript.previousElementSibling;\n",
       "    if (outputDiv.id !== \"altair-viz-d5ef71c116664401b37a1bea643ee2c1\") {\n",
       "      outputDiv = document.getElementById(\"altair-viz-d5ef71c116664401b37a1bea643ee2c1\");\n",
       "    }\n",
       "\n",
       "    const paths = {\n",
       "      \"vega\": \"https://cdn.jsdelivr.net/npm/vega@5?noext\",\n",
       "      \"vega-lib\": \"https://cdn.jsdelivr.net/npm/vega-lib?noext\",\n",
       "      \"vega-lite\": \"https://cdn.jsdelivr.net/npm/vega-lite@5.20.1?noext\",\n",
       "      \"vega-embed\": \"https://cdn.jsdelivr.net/npm/vega-embed@6?noext\",\n",
       "    };\n",
       "\n",
       "    function maybeLoadScript(lib, version) {\n",
       "      var key = `${lib.replace(\"-\", \"\")}_version`;\n",
       "      return (VEGA_DEBUG[key] == version) ?\n",
       "        Promise.resolve(paths[lib]) :\n",
       "        new Promise(function(resolve, reject) {\n",
       "          var s = document.createElement('script');\n",
       "          document.getElementsByTagName(\"head\")[0].appendChild(s);\n",
       "          s.async = true;\n",
       "          s.onload = () => {\n",
       "            VEGA_DEBUG[key] = version;\n",
       "            return resolve(paths[lib]);\n",
       "          };\n",
       "          s.onerror = () => reject(`Error loading script: ${paths[lib]}`);\n",
       "          s.src = paths[lib];\n",
       "        });\n",
       "    }\n",
       "\n",
       "    function showError(err) {\n",
       "      outputDiv.innerHTML = `<div class=\"error\" style=\"color:red;\">${err}</div>`;\n",
       "      throw err;\n",
       "    }\n",
       "\n",
       "    function displayChart(vegaEmbed) {\n",
       "      vegaEmbed(outputDiv, spec, embedOpt)\n",
       "        .catch(err => showError(`Javascript Error: ${err.message}<br>This usually means there's a typo in your chart specification. See the javascript console for the full traceback.`));\n",
       "    }\n",
       "\n",
       "    if(typeof define === \"function\" && define.amd) {\n",
       "      requirejs.config({paths});\n",
       "      let deps = [\"vega-embed\"];\n",
       "      require(deps, displayChart, err => showError(`Error loading script: ${err.message}`));\n",
       "    } else {\n",
       "      maybeLoadScript(\"vega\", \"5\")\n",
       "        .then(() => maybeLoadScript(\"vega-lite\", \"5.20.1\"))\n",
       "        .then(() => maybeLoadScript(\"vega-embed\", \"6\"))\n",
       "        .catch(showError)\n",
       "        .then(() => displayChart(vegaEmbed));\n",
       "    }\n",
       "  })({\"config\": {\"view\": {\"continuousWidth\": 400, \"continuousHeight\": 300}}, \"vconcat\": [{\"hconcat\": [{\"mark\": {\"type\": \"line\", \"interpolate\": \"step-before\"}, \"data\": {\"values\": [{\"percentile_ex_nulls\": 0.99863600730896, \"percentile_inc_nulls\": 0.9986666440963745, \"value_count\": 8, \"group_name\": \"BB_Title\", \"total_non_null_rows\": 29326, \"total_rows_inc_nulls\": 30000, \"sum_tokens_in_value_count_group\": 40, \"distinct_value_count\": 23882}, {\"percentile_ex_nulls\": 0.9974425435066223, \"percentile_inc_nulls\": 0.9975000023841858, \"value_count\": 7, \"group_name\": \"BB_Title\", \"total_non_null_rows\": 29326, \"total_rows_inc_nulls\": 30000, \"sum_tokens_in_value_count_group\": 35, \"distinct_value_count\": 23882}, {\"percentile_ex_nulls\": 0.9945781826972961, \"percentile_inc_nulls\": 0.994700014591217, \"value_count\": 6, \"group_name\": \"BB_Title\", \"total_non_null_rows\": 29326, \"total_rows_inc_nulls\": 30000, \"sum_tokens_in_value_count_group\": 84, \"distinct_value_count\": 23882}, {\"percentile_ex_nulls\": 0.9869058132171631, \"percentile_inc_nulls\": 0.9872000217437744, \"value_count\": 5, \"group_name\": \"BB_Title\", \"total_non_null_rows\": 29326, \"total_rows_inc_nulls\": 30000, \"sum_tokens_in_value_count_group\": 225, \"distinct_value_count\": 23882}, {\"percentile_ex_nulls\": 0.9613994359970093, \"percentile_inc_nulls\": 0.9622666835784912, \"value_count\": 4, \"group_name\": \"BB_Title\", \"total_non_null_rows\": 29326, \"total_rows_inc_nulls\": 30000, \"sum_tokens_in_value_count_group\": 748, \"distinct_value_count\": 23882}, {\"percentile_ex_nulls\": 0.8868240118026733, \"percentile_inc_nulls\": 0.8893666863441467, \"value_count\": 3, \"group_name\": \"BB_Title\", \"total_non_null_rows\": 29326, \"total_rows_inc_nulls\": 30000, \"sum_tokens_in_value_count_group\": 2187, \"distinct_value_count\": 23882}, {\"percentile_ex_nulls\": 0.6747255325317383, \"percentile_inc_nulls\": 0.6820333003997803, \"value_count\": 2, \"group_name\": \"BB_Title\", \"total_non_null_rows\": 29326, \"total_rows_inc_nulls\": 30000, \"sum_tokens_in_value_count_group\": 6220, \"distinct_value_count\": 23882}, {\"percentile_ex_nulls\": 0.0, \"percentile_inc_nulls\": 0.022466659545898438, \"value_count\": 1, \"group_name\": \"BB_Title\", \"total_non_null_rows\": 29326, \"total_rows_inc_nulls\": 30000, \"sum_tokens_in_value_count_group\": 19787, \"distinct_value_count\": 23882}, {\"percentile_ex_nulls\": 1.0, \"percentile_inc_nulls\": 1.0, \"value_count\": 8, \"group_name\": \"BB_Title\", \"total_non_null_rows\": 29326, \"total_rows_inc_nulls\": 30000, \"sum_tokens_in_value_count_group\": 40, \"distinct_value_count\": 23882}]}, \"encoding\": {\"tooltip\": [{\"field\": \"value_count\", \"type\": \"quantitative\"}, {\"field\": \"percentile_ex_nulls\", \"type\": \"quantitative\"}, {\"field\": \"percentile_inc_nulls\", \"type\": \"quantitative\"}, {\"field\": \"total_non_null_rows\", \"type\": \"quantitative\"}, {\"field\": \"total_rows_inc_nulls\", \"type\": \"quantitative\"}], \"x\": {\"field\": \"percentile_ex_nulls\", \"sort\": \"descending\", \"title\": \"Percentile\", \"type\": \"quantitative\"}, \"y\": {\"field\": \"value_count\", \"title\": \"Count of values\", \"type\": \"quantitative\"}}, \"title\": {\"text\": \"Distribution of counts of values in column BB_Title\", \"subtitle\": \"In this col, 674 values (2.2%) are null and there are 23882 distinct values\"}}, {\"mark\": \"bar\", \"data\": {\"values\": [{\"value_count\": 8, \"group_name\": \"BB_Title\", \"value\": \"Scarface\", \"total_non_null_rows\": 29326, \"total_rows_inc_nulls\": 30000, \"distinct_value_count\": 23882}, {\"value_count\": 8, \"group_name\": \"BB_Title\", \"value\": \"The Contractor\", \"total_non_null_rows\": 29326, \"total_rows_inc_nulls\": 30000, \"distinct_value_count\": 23882}, {\"value_count\": 8, \"group_name\": \"BB_Title\", \"value\": \"How to Be a Good Wife\", \"total_non_null_rows\": 29326, \"total_rows_inc_nulls\": 30000, \"distinct_value_count\": 23882}, {\"value_count\": 8, \"group_name\": \"BB_Title\", \"value\": \"The Crossing\", \"total_non_null_rows\": 29326, \"total_rows_inc_nulls\": 30000, \"distinct_value_count\": 23882}, {\"value_count\": 8, \"group_name\": \"BB_Title\", \"value\": \"Karma\", \"total_non_null_rows\": 29326, \"total_rows_inc_nulls\": 30000, \"distinct_value_count\": 23882}, {\"value_count\": 7, \"group_name\": \"BB_Title\", \"value\": \"Samson and Delilah\", \"total_non_null_rows\": 29326, \"total_rows_inc_nulls\": 30000, \"distinct_value_count\": 23882}, {\"value_count\": 7, \"group_name\": \"BB_Title\", \"value\": \"The Lego Movie 2: The Second Part\", \"total_non_null_rows\": 29326, \"total_rows_inc_nulls\": 30000, \"distinct_value_count\": 23882}, {\"value_count\": 7, \"group_name\": \"BB_Title\", \"value\": \"Scream\", \"total_non_null_rows\": 29326, \"total_rows_inc_nulls\": 30000, \"distinct_value_count\": 23882}, {\"value_count\": 7, \"group_name\": \"BB_Title\", \"value\": \"Aquaman and the Lost Kingdom\", \"total_non_null_rows\": 29326, \"total_rows_inc_nulls\": 30000, \"distinct_value_count\": 23882}, {\"value_count\": 7, \"group_name\": \"BB_Title\", \"value\": \"The Wait\", \"total_non_null_rows\": 29326, \"total_rows_inc_nulls\": 30000, \"distinct_value_count\": 23882}]}, \"encoding\": {\"tooltip\": [{\"field\": \"value\", \"type\": \"nominal\"}, {\"field\": \"value_count\", \"type\": \"quantitative\"}, {\"field\": \"total_non_null_rows\", \"type\": \"quantitative\"}, {\"field\": \"total_rows_inc_nulls\", \"type\": \"quantitative\"}], \"x\": {\"field\": \"value\", \"sort\": \"-y\", \"title\": null, \"type\": \"nominal\"}, \"y\": {\"field\": \"value_count\", \"title\": \"Value count\", \"type\": \"quantitative\"}}, \"title\": \"Top 10 values by value count\"}, {\"mark\": \"bar\", \"data\": {\"values\": [{\"value_count\": 1, \"group_name\": \"BB_Title\", \"value\": \"The Count of Monte-Cristo\", \"total_non_null_rows\": 29326, \"total_rows_inc_nulls\": 30000, \"distinct_value_count\": 23882}, {\"value_count\": 1, \"group_name\": \"BB_Title\", \"value\": \"Mee Tumpaing\", \"total_non_null_rows\": 29326, \"total_rows_inc_nulls\": 30000, \"distinct_value_count\": 23882}, {\"value_count\": 1, \"group_name\": \"BB_Title\", \"value\": \"Ganbare Doukichan\", \"total_non_null_rows\": 29326, \"total_rows_inc_nulls\": 30000, \"distinct_value_count\": 23882}, {\"value_count\": 1, \"group_name\": \"BB_Title\", \"value\": \"Highlander\", \"total_non_null_rows\": 29326, \"total_rows_inc_nulls\": 30000, \"distinct_value_count\": 23882}, {\"value_count\": 1, \"group_name\": \"BB_Title\", \"value\": \"If Only She Knew\", \"total_non_null_rows\": 29326, \"total_rows_inc_nulls\": 30000, \"distinct_value_count\": 23882}, {\"value_count\": 1, \"group_name\": \"BB_Title\", \"value\": \"\\ub0a8\\uc790\\uc640 \\uc5ec\\uc790\", \"total_non_null_rows\": 29326, \"total_rows_inc_nulls\": 30000, \"distinct_value_count\": 23882}, {\"value_count\": 1, \"group_name\": \"BB_Title\", \"value\": \"Odlum\\u2019s: Self Raising\", \"total_non_null_rows\": 29326, \"total_rows_inc_nulls\": 30000, \"distinct_value_count\": 23882}, {\"value_count\": 1, \"group_name\": \"BB_Title\", \"value\": \"Spooky Buddies\", \"total_non_null_rows\": 29326, \"total_rows_inc_nulls\": 30000, \"distinct_value_count\": 23882}, {\"value_count\": 1, \"group_name\": \"BB_Title\", \"value\": \"My Father\", \"total_non_null_rows\": 29326, \"total_rows_inc_nulls\": 30000, \"distinct_value_count\": 23882}, {\"value_count\": 1, \"group_name\": \"BB_Title\", \"value\": \"The Fourth Musketeer\", \"total_non_null_rows\": 29326, \"total_rows_inc_nulls\": 30000, \"distinct_value_count\": 23882}]}, \"encoding\": {\"tooltip\": [{\"field\": \"value\", \"type\": \"nominal\"}, {\"field\": \"value_count\", \"type\": \"quantitative\"}, {\"field\": \"total_non_null_rows\", \"type\": \"quantitative\"}, {\"field\": \"total_rows_inc_nulls\", \"type\": \"quantitative\"}], \"x\": {\"field\": \"value\", \"sort\": \"-y\", \"title\": null, \"type\": \"nominal\"}, \"y\": {\"field\": \"value_count\", \"scale\": {\"domain\": [0, 8]}, \"title\": \"Value count\", \"type\": \"quantitative\"}}, \"title\": \"Bottom 10 values by value count\"}]}, {\"hconcat\": [{\"mark\": {\"type\": \"line\", \"interpolate\": \"step-before\"}, \"data\": {\"values\": [{\"percentile_ex_nulls\": 0.9244663715362549, \"percentile_inc_nulls\": 0.9386666417121887, \"value_count\": 1840, \"group_name\": \"BB_Year\", \"total_non_null_rows\": 24360, \"total_rows_inc_nulls\": 30000, \"sum_tokens_in_value_count_group\": 1840, \"distinct_value_count\": 119}, {\"percentile_ex_nulls\": 0.8513136506080627, \"percentile_inc_nulls\": 0.8792666792869568, \"value_count\": 1782, \"group_name\": \"BB_Year\", \"total_non_null_rows\": 24360, \"total_rows_inc_nulls\": 30000, \"sum_tokens_in_value_count_group\": 1782, \"distinct_value_count\": 119}, {\"percentile_ex_nulls\": 0.7839080095291138, \"percentile_inc_nulls\": 0.8245333433151245, \"value_count\": 1642, \"group_name\": \"BB_Year\", \"total_non_null_rows\": 24360, \"total_rows_inc_nulls\": 30000, \"sum_tokens_in_value_count_group\": 1642, \"distinct_value_count\": 119}, {\"percentile_ex_nulls\": 0.7176108360290527, \"percentile_inc_nulls\": 0.7706999778747559, \"value_count\": 1615, \"group_name\": \"BB_Year\", \"total_non_null_rows\": 24360, \"total_rows_inc_nulls\": 30000, \"sum_tokens_in_value_count_group\": 1615, \"distinct_value_count\": 119}, {\"percentile_ex_nulls\": 0.6530377864837646, \"percentile_inc_nulls\": 0.7182666659355164, \"value_count\": 1573, \"group_name\": \"BB_Year\", \"total_non_null_rows\": 24360, \"total_rows_inc_nulls\": 30000, \"sum_tokens_in_value_count_group\": 1573, \"distinct_value_count\": 119}, {\"percentile_ex_nulls\": 0.5993021726608276, \"percentile_inc_nulls\": 0.6746333241462708, \"value_count\": 1309, \"group_name\": \"BB_Year\", \"total_non_null_rows\": 24360, \"total_rows_inc_nulls\": 30000, \"sum_tokens_in_value_count_group\": 1309, \"distinct_value_count\": 119}, {\"percentile_ex_nulls\": 0.545976996421814, \"percentile_inc_nulls\": 0.6313333511352539, \"value_count\": 1299, \"group_name\": \"BB_Year\", \"total_non_null_rows\": 24360, \"total_rows_inc_nulls\": 30000, \"sum_tokens_in_value_count_group\": 1299, \"distinct_value_count\": 119}, {\"percentile_ex_nulls\": 0.4965517520904541, \"percentile_inc_nulls\": 0.5911999940872192, \"value_count\": 1204, \"group_name\": \"BB_Year\", \"total_non_null_rows\": 24360, \"total_rows_inc_nulls\": 30000, \"sum_tokens_in_value_count_group\": 1204, \"distinct_value_count\": 119}, {\"percentile_ex_nulls\": 0.45176517963409424, \"percentile_inc_nulls\": 0.5548332929611206, \"value_count\": 1091, \"group_name\": \"BB_Year\", \"total_non_null_rows\": 24360, \"total_rows_inc_nulls\": 30000, \"sum_tokens_in_value_count_group\": 1091, \"distinct_value_count\": 119}, {\"percentile_ex_nulls\": 0.41227424144744873, \"percentile_inc_nulls\": 0.5227667093276978, \"value_count\": 962, \"group_name\": \"BB_Year\", \"total_non_null_rows\": 24360, \"total_rows_inc_nulls\": 30000, \"sum_tokens_in_value_count_group\": 962, \"distinct_value_count\": 119}, {\"percentile_ex_nulls\": 0.382224977016449, \"percentile_inc_nulls\": 0.49836665391921997, \"value_count\": 732, \"group_name\": \"BB_Year\", \"total_non_null_rows\": 24360, \"total_rows_inc_nulls\": 30000, \"sum_tokens_in_value_count_group\": 732, \"distinct_value_count\": 119}, {\"percentile_ex_nulls\": 0.3546387553215027, \"percentile_inc_nulls\": 0.4759666919708252, \"value_count\": 672, \"group_name\": \"BB_Year\", \"total_non_null_rows\": 24360, \"total_rows_inc_nulls\": 30000, \"sum_tokens_in_value_count_group\": 672, \"distinct_value_count\": 119}, {\"percentile_ex_nulls\": 0.327545166015625, \"percentile_inc_nulls\": 0.4539666771888733, \"value_count\": 660, \"group_name\": \"BB_Year\", \"total_non_null_rows\": 24360, \"total_rows_inc_nulls\": 30000, \"sum_tokens_in_value_count_group\": 660, \"distinct_value_count\": 119}, {\"percentile_ex_nulls\": 0.30426931381225586, \"percentile_inc_nulls\": 0.4350666403770447, \"value_count\": 567, \"group_name\": \"BB_Year\", \"total_non_null_rows\": 24360, \"total_rows_inc_nulls\": 30000, \"sum_tokens_in_value_count_group\": 567, \"distinct_value_count\": 119}, {\"percentile_ex_nulls\": 0.2857142686843872, \"percentile_inc_nulls\": 0.42000001668930054, \"value_count\": 452, \"group_name\": \"BB_Year\", \"total_non_null_rows\": 24360, \"total_rows_inc_nulls\": 30000, \"sum_tokens_in_value_count_group\": 452, \"distinct_value_count\": 119}, {\"percentile_ex_nulls\": 0.2679392695426941, \"percentile_inc_nulls\": 0.4055666923522949, \"value_count\": 433, \"group_name\": \"BB_Year\", \"total_non_null_rows\": 24360, \"total_rows_inc_nulls\": 30000, \"sum_tokens_in_value_count_group\": 433, \"distinct_value_count\": 119}, {\"percentile_ex_nulls\": 0.2529146075248718, \"percentile_inc_nulls\": 0.3933666944503784, \"value_count\": 366, \"group_name\": \"BB_Year\", \"total_non_null_rows\": 24360, \"total_rows_inc_nulls\": 30000, \"sum_tokens_in_value_count_group\": 366, \"distinct_value_count\": 119}, {\"percentile_ex_nulls\": 0.2379310131072998, \"percentile_inc_nulls\": 0.38120001554489136, \"value_count\": 365, \"group_name\": \"BB_Year\", \"total_non_null_rows\": 24360, \"total_rows_inc_nulls\": 30000, \"sum_tokens_in_value_count_group\": 365, \"distinct_value_count\": 119}, {\"percentile_ex_nulls\": 0.22364532947540283, \"percentile_inc_nulls\": 0.36959999799728394, \"value_count\": 348, \"group_name\": \"BB_Year\", \"total_non_null_rows\": 24360, \"total_rows_inc_nulls\": 30000, \"sum_tokens_in_value_count_group\": 348, \"distinct_value_count\": 119}, {\"percentile_ex_nulls\": 0.21120691299438477, \"percentile_inc_nulls\": 0.359499990940094, \"value_count\": 303, \"group_name\": \"BB_Year\", \"total_non_null_rows\": 24360, \"total_rows_inc_nulls\": 30000, \"sum_tokens_in_value_count_group\": 303, \"distinct_value_count\": 119}, {\"percentile_ex_nulls\": 0.2011083960533142, \"percentile_inc_nulls\": 0.3513000011444092, \"value_count\": 246, \"group_name\": \"BB_Year\", \"total_non_null_rows\": 24360, \"total_rows_inc_nulls\": 30000, \"sum_tokens_in_value_count_group\": 246, \"distinct_value_count\": 119}, {\"percentile_ex_nulls\": 0.1911330223083496, \"percentile_inc_nulls\": 0.34320002794265747, \"value_count\": 243, \"group_name\": \"BB_Year\", \"total_non_null_rows\": 24360, \"total_rows_inc_nulls\": 30000, \"sum_tokens_in_value_count_group\": 243, \"distinct_value_count\": 119}, {\"percentile_ex_nulls\": 0.18181443214416504, \"percentile_inc_nulls\": 0.3356333374977112, \"value_count\": 227, \"group_name\": \"BB_Year\", \"total_non_null_rows\": 24360, \"total_rows_inc_nulls\": 30000, \"sum_tokens_in_value_count_group\": 227, \"distinct_value_count\": 119}, {\"percentile_ex_nulls\": 0.17450737953186035, \"percentile_inc_nulls\": 0.3296999931335449, \"value_count\": 178, \"group_name\": \"BB_Year\", \"total_non_null_rows\": 24360, \"total_rows_inc_nulls\": 30000, \"sum_tokens_in_value_count_group\": 178, \"distinct_value_count\": 119}, {\"percentile_ex_nulls\": 0.1674056053161621, \"percentile_inc_nulls\": 0.32393336296081543, \"value_count\": 173, \"group_name\": \"BB_Year\", \"total_non_null_rows\": 24360, \"total_rows_inc_nulls\": 30000, \"sum_tokens_in_value_count_group\": 173, \"distinct_value_count\": 119}, {\"percentile_ex_nulls\": 0.16038590669631958, \"percentile_inc_nulls\": 0.31823331117630005, \"value_count\": 171, \"group_name\": \"BB_Year\", \"total_non_null_rows\": 24360, \"total_rows_inc_nulls\": 30000, \"sum_tokens_in_value_count_group\": 171, \"distinct_value_count\": 119}, {\"percentile_ex_nulls\": 0.15431034564971924, \"percentile_inc_nulls\": 0.3133000135421753, \"value_count\": 148, \"group_name\": \"BB_Year\", \"total_non_null_rows\": 24360, \"total_rows_inc_nulls\": 30000, \"sum_tokens_in_value_count_group\": 148, \"distinct_value_count\": 119}, {\"percentile_ex_nulls\": 0.14860427379608154, \"percentile_inc_nulls\": 0.3086666464805603, \"value_count\": 139, \"group_name\": \"BB_Year\", \"total_non_null_rows\": 24360, \"total_rows_inc_nulls\": 30000, \"sum_tokens_in_value_count_group\": 139, \"distinct_value_count\": 119}, {\"percentile_ex_nulls\": 0.14326763153076172, \"percentile_inc_nulls\": 0.30433332920074463, \"value_count\": 130, \"group_name\": \"BB_Year\", \"total_non_null_rows\": 24360, \"total_rows_inc_nulls\": 30000, \"sum_tokens_in_value_count_group\": 130, \"distinct_value_count\": 119}, {\"percentile_ex_nulls\": 0.13805419206619263, \"percentile_inc_nulls\": 0.30010002851486206, \"value_count\": 127, \"group_name\": \"BB_Year\", \"total_non_null_rows\": 24360, \"total_rows_inc_nulls\": 30000, \"sum_tokens_in_value_count_group\": 127, \"distinct_value_count\": 119}, {\"percentile_ex_nulls\": 0.13325124979019165, \"percentile_inc_nulls\": 0.2961999773979187, \"value_count\": 117, \"group_name\": \"BB_Year\", \"total_non_null_rows\": 24360, \"total_rows_inc_nulls\": 30000, \"sum_tokens_in_value_count_group\": 117, \"distinct_value_count\": 119}, {\"percentile_ex_nulls\": 0.1285303831100464, \"percentile_inc_nulls\": 0.2923666834831238, \"value_count\": 115, \"group_name\": \"BB_Year\", \"total_non_null_rows\": 24360, \"total_rows_inc_nulls\": 30000, \"sum_tokens_in_value_count_group\": 115, \"distinct_value_count\": 119}, {\"percentile_ex_nulls\": 0.12389165163040161, \"percentile_inc_nulls\": 0.28860002756118774, \"value_count\": 113, \"group_name\": \"BB_Year\", \"total_non_null_rows\": 24360, \"total_rows_inc_nulls\": 30000, \"sum_tokens_in_value_count_group\": 113, \"distinct_value_count\": 119}, {\"percentile_ex_nulls\": 0.11609196662902832, \"percentile_inc_nulls\": 0.28226667642593384, \"value_count\": 95, \"group_name\": \"BB_Year\", \"total_non_null_rows\": 24360, \"total_rows_inc_nulls\": 30000, \"sum_tokens_in_value_count_group\": 190, \"distinct_value_count\": 119}, {\"percentile_ex_nulls\": 0.11227422952651978, \"percentile_inc_nulls\": 0.27916663885116577, \"value_count\": 93, \"group_name\": \"BB_Year\", \"total_non_null_rows\": 24360, \"total_rows_inc_nulls\": 30000, \"sum_tokens_in_value_count_group\": 93, \"distinct_value_count\": 119}, {\"percentile_ex_nulls\": 0.10853856801986694, \"percentile_inc_nulls\": 0.27613335847854614, \"value_count\": 91, \"group_name\": \"BB_Year\", \"total_non_null_rows\": 24360, \"total_rows_inc_nulls\": 30000, \"sum_tokens_in_value_count_group\": 91, \"distinct_value_count\": 119}, {\"percentile_ex_nulls\": 0.10484403371810913, \"percentile_inc_nulls\": 0.2731333374977112, \"value_count\": 90, \"group_name\": \"BB_Year\", \"total_non_null_rows\": 24360, \"total_rows_inc_nulls\": 30000, \"sum_tokens_in_value_count_group\": 90, \"distinct_value_count\": 119}, {\"percentile_ex_nulls\": 0.10131365060806274, \"percentile_inc_nulls\": 0.27026665210723877, \"value_count\": 86, \"group_name\": \"BB_Year\", \"total_non_null_rows\": 24360, \"total_rows_inc_nulls\": 30000, \"sum_tokens_in_value_count_group\": 86, \"distinct_value_count\": 119}, {\"percentile_ex_nulls\": 0.09786534309387207, \"percentile_inc_nulls\": 0.26746666431427, \"value_count\": 84, \"group_name\": \"BB_Year\", \"total_non_null_rows\": 24360, \"total_rows_inc_nulls\": 30000, \"sum_tokens_in_value_count_group\": 84, \"distinct_value_count\": 119}, {\"percentile_ex_nulls\": 0.09458130598068237, \"percentile_inc_nulls\": 0.2648000121116638, \"value_count\": 80, \"group_name\": \"BB_Year\", \"total_non_null_rows\": 24360, \"total_rows_inc_nulls\": 30000, \"sum_tokens_in_value_count_group\": 80, \"distinct_value_count\": 119}, {\"percentile_ex_nulls\": 0.09133827686309814, \"percentile_inc_nulls\": 0.26216667890548706, \"value_count\": 79, \"group_name\": \"BB_Year\", \"total_non_null_rows\": 24360, \"total_rows_inc_nulls\": 30000, \"sum_tokens_in_value_count_group\": 79, \"distinct_value_count\": 119}, {\"percentile_ex_nulls\": 0.08817732334136963, \"percentile_inc_nulls\": 0.2595999836921692, \"value_count\": 77, \"group_name\": \"BB_Year\", \"total_non_null_rows\": 24360, \"total_rows_inc_nulls\": 30000, \"sum_tokens_in_value_count_group\": 77, \"distinct_value_count\": 119}, {\"percentile_ex_nulls\": 0.08505749702453613, \"percentile_inc_nulls\": 0.25706666707992554, \"value_count\": 76, \"group_name\": \"BB_Year\", \"total_non_null_rows\": 24360, \"total_rows_inc_nulls\": 30000, \"sum_tokens_in_value_count_group\": 76, \"distinct_value_count\": 119}, {\"percentile_ex_nulls\": 0.0819786787033081, \"percentile_inc_nulls\": 0.25456666946411133, \"value_count\": 75, \"group_name\": \"BB_Year\", \"total_non_null_rows\": 24360, \"total_rows_inc_nulls\": 30000, \"sum_tokens_in_value_count_group\": 75, \"distinct_value_count\": 119}, {\"percentile_ex_nulls\": 0.07914614677429199, \"percentile_inc_nulls\": 0.25226664543151855, \"value_count\": 69, \"group_name\": \"BB_Year\", \"total_non_null_rows\": 24360, \"total_rows_inc_nulls\": 30000, \"sum_tokens_in_value_count_group\": 69, \"distinct_value_count\": 119}, {\"percentile_ex_nulls\": 0.07643675804138184, \"percentile_inc_nulls\": 0.2500666379928589, \"value_count\": 66, \"group_name\": \"BB_Year\", \"total_non_null_rows\": 24360, \"total_rows_inc_nulls\": 30000, \"sum_tokens_in_value_count_group\": 66, \"distinct_value_count\": 119}, {\"percentile_ex_nulls\": 0.07126438617706299, \"percentile_inc_nulls\": 0.24586665630340576, \"value_count\": 63, \"group_name\": \"BB_Year\", \"total_non_null_rows\": 24360, \"total_rows_inc_nulls\": 30000, \"sum_tokens_in_value_count_group\": 126, \"distinct_value_count\": 119}, {\"percentile_ex_nulls\": 0.06871920824050903, \"percentile_inc_nulls\": 0.24379998445510864, \"value_count\": 62, \"group_name\": \"BB_Year\", \"total_non_null_rows\": 24360, \"total_rows_inc_nulls\": 30000, \"sum_tokens_in_value_count_group\": 62, \"distinct_value_count\": 119}, {\"percentile_ex_nulls\": 0.06621509790420532, \"percentile_inc_nulls\": 0.24176669120788574, \"value_count\": 61, \"group_name\": \"BB_Year\", \"total_non_null_rows\": 24360, \"total_rows_inc_nulls\": 30000, \"sum_tokens_in_value_count_group\": 61, \"distinct_value_count\": 119}, {\"percentile_ex_nulls\": 0.0613710880279541, \"percentile_inc_nulls\": 0.23783332109451294, \"value_count\": 59, \"group_name\": \"BB_Year\", \"total_non_null_rows\": 24360, \"total_rows_inc_nulls\": 30000, \"sum_tokens_in_value_count_group\": 118, \"distinct_value_count\": 119}, {\"percentile_ex_nulls\": 0.05669128894805908, \"percentile_inc_nulls\": 0.23403334617614746, \"value_count\": 57, \"group_name\": \"BB_Year\", \"total_non_null_rows\": 24360, \"total_rows_inc_nulls\": 30000, \"sum_tokens_in_value_count_group\": 114, \"distinct_value_count\": 119}, {\"percentile_ex_nulls\": 0.054392457008361816, \"percentile_inc_nulls\": 0.23216664791107178, \"value_count\": 56, \"group_name\": \"BB_Year\", \"total_non_null_rows\": 24360, \"total_rows_inc_nulls\": 30000, \"sum_tokens_in_value_count_group\": 56, \"distinct_value_count\": 119}, {\"percentile_ex_nulls\": 0.0476190447807312, \"percentile_inc_nulls\": 0.22666668891906738, \"value_count\": 55, \"group_name\": \"BB_Year\", \"total_non_null_rows\": 24360, \"total_rows_inc_nulls\": 30000, \"sum_tokens_in_value_count_group\": 165, \"distinct_value_count\": 119}, {\"percentile_ex_nulls\": 0.043267667293548584, \"percentile_inc_nulls\": 0.22313332557678223, \"value_count\": 53, \"group_name\": \"BB_Year\", \"total_non_null_rows\": 24360, \"total_rows_inc_nulls\": 30000, \"sum_tokens_in_value_count_group\": 106, \"distinct_value_count\": 119}, {\"percentile_ex_nulls\": 0.04117405414581299, \"percentile_inc_nulls\": 0.2214333415031433, \"value_count\": 51, \"group_name\": \"BB_Year\", \"total_non_null_rows\": 24360, \"total_rows_inc_nulls\": 30000, \"sum_tokens_in_value_count_group\": 51, \"distinct_value_count\": 119}, {\"percentile_ex_nulls\": 0.03912150859832764, \"percentile_inc_nulls\": 0.21976667642593384, \"value_count\": 50, \"group_name\": \"BB_Year\", \"total_non_null_rows\": 24360, \"total_rows_inc_nulls\": 30000, \"sum_tokens_in_value_count_group\": 50, \"distinct_value_count\": 119}, {\"percentile_ex_nulls\": 0.03711003065109253, \"percentile_inc_nulls\": 0.2181333303451538, \"value_count\": 49, \"group_name\": \"BB_Year\", \"total_non_null_rows\": 24360, \"total_rows_inc_nulls\": 30000, \"sum_tokens_in_value_count_group\": 49, \"distinct_value_count\": 119}, {\"percentile_ex_nulls\": 0.03513956069946289, \"percentile_inc_nulls\": 0.216533362865448, \"value_count\": 48, \"group_name\": \"BB_Year\", \"total_non_null_rows\": 24360, \"total_rows_inc_nulls\": 30000, \"sum_tokens_in_value_count_group\": 48, \"distinct_value_count\": 119}, {\"percentile_ex_nulls\": 0.033210158348083496, \"percentile_inc_nulls\": 0.21496665477752686, \"value_count\": 47, \"group_name\": \"BB_Year\", \"total_non_null_rows\": 24360, \"total_rows_inc_nulls\": 30000, \"sum_tokens_in_value_count_group\": 47, \"distinct_value_count\": 119}, {\"percentile_ex_nulls\": 0.031321823596954346, \"percentile_inc_nulls\": 0.21343332529067993, \"value_count\": 46, \"group_name\": \"BB_Year\", \"total_non_null_rows\": 24360, \"total_rows_inc_nulls\": 30000, \"sum_tokens_in_value_count_group\": 46, \"distinct_value_count\": 119}, {\"percentile_ex_nulls\": 0.027627229690551758, \"percentile_inc_nulls\": 0.21043330430984497, \"value_count\": 45, \"group_name\": \"BB_Year\", \"total_non_null_rows\": 24360, \"total_rows_inc_nulls\": 30000, \"sum_tokens_in_value_count_group\": 90, \"distinct_value_count\": 119}, {\"percentile_ex_nulls\": 0.025821030139923096, \"percentile_inc_nulls\": 0.2089666724205017, \"value_count\": 44, \"group_name\": \"BB_Year\", \"total_non_null_rows\": 24360, \"total_rows_inc_nulls\": 30000, \"sum_tokens_in_value_count_group\": 44, \"distinct_value_count\": 119}, {\"percentile_ex_nulls\": 0.02261906862258911, \"percentile_inc_nulls\": 0.2063666582107544, \"value_count\": 39, \"group_name\": \"BB_Year\", \"total_non_null_rows\": 24360, \"total_rows_inc_nulls\": 30000, \"sum_tokens_in_value_count_group\": 78, \"distinct_value_count\": 119}, {\"percentile_ex_nulls\": 0.021059095859527588, \"percentile_inc_nulls\": 0.20509999990463257, \"value_count\": 38, \"group_name\": \"BB_Year\", \"total_non_null_rows\": 24360, \"total_rows_inc_nulls\": 30000, \"sum_tokens_in_value_count_group\": 38, \"distinct_value_count\": 119}, {\"percentile_ex_nulls\": 0.019540250301361084, \"percentile_inc_nulls\": 0.20386666059494019, \"value_count\": 37, \"group_name\": \"BB_Year\", \"total_non_null_rows\": 24360, \"total_rows_inc_nulls\": 30000, \"sum_tokens_in_value_count_group\": 37, \"distinct_value_count\": 119}, {\"percentile_ex_nulls\": 0.016912996768951416, \"percentile_inc_nulls\": 0.20173335075378418, \"value_count\": 32, \"group_name\": \"BB_Year\", \"total_non_null_rows\": 24360, \"total_rows_inc_nulls\": 30000, \"sum_tokens_in_value_count_group\": 64, \"distinct_value_count\": 119}, {\"percentile_ex_nulls\": 0.014449894428253174, \"percentile_inc_nulls\": 0.19973331689834595, \"value_count\": 30, \"group_name\": \"BB_Year\", \"total_non_null_rows\": 24360, \"total_rows_inc_nulls\": 30000, \"sum_tokens_in_value_count_group\": 60, \"distinct_value_count\": 119}, {\"percentile_ex_nulls\": 0.01338261365890503, \"percentile_inc_nulls\": 0.19886666536331177, \"value_count\": 26, \"group_name\": \"BB_Year\", \"total_non_null_rows\": 24360, \"total_rows_inc_nulls\": 30000, \"sum_tokens_in_value_count_group\": 26, \"distinct_value_count\": 119}, {\"percentile_ex_nulls\": 0.012438416481018066, \"percentile_inc_nulls\": 0.19809997081756592, \"value_count\": 23, \"group_name\": \"BB_Year\", \"total_non_null_rows\": 24360, \"total_rows_inc_nulls\": 30000, \"sum_tokens_in_value_count_group\": 23, \"distinct_value_count\": 119}, {\"percentile_ex_nulls\": 0.010632157325744629, \"percentile_inc_nulls\": 0.19663333892822266, \"value_count\": 22, \"group_name\": \"BB_Year\", \"total_non_null_rows\": 24360, \"total_rows_inc_nulls\": 30000, \"sum_tokens_in_value_count_group\": 44, \"distinct_value_count\": 119}, {\"percentile_ex_nulls\": 0.009770095348358154, \"percentile_inc_nulls\": 0.19593334197998047, \"value_count\": 21, \"group_name\": \"BB_Year\", \"total_non_null_rows\": 24360, \"total_rows_inc_nulls\": 30000, \"sum_tokens_in_value_count_group\": 21, \"distinct_value_count\": 119}, {\"percentile_ex_nulls\": 0.008949100971221924, \"percentile_inc_nulls\": 0.19526666402816772, \"value_count\": 20, \"group_name\": \"BB_Year\", \"total_non_null_rows\": 24360, \"total_rows_inc_nulls\": 30000, \"sum_tokens_in_value_count_group\": 20, \"distinct_value_count\": 119}, {\"percentile_ex_nulls\": 0.008169114589691162, \"percentile_inc_nulls\": 0.19463330507278442, \"value_count\": 19, \"group_name\": \"BB_Year\", \"total_non_null_rows\": 24360, \"total_rows_inc_nulls\": 30000, \"sum_tokens_in_value_count_group\": 19, \"distinct_value_count\": 119}, {\"percentile_ex_nulls\": 0.0074301958084106445, \"percentile_inc_nulls\": 0.19403332471847534, \"value_count\": 18, \"group_name\": \"BB_Year\", \"total_non_null_rows\": 24360, \"total_rows_inc_nulls\": 30000, \"sum_tokens_in_value_count_group\": 18, \"distinct_value_count\": 119}, {\"percentile_ex_nulls\": 0.006732344627380371, \"percentile_inc_nulls\": 0.1934666633605957, \"value_count\": 17, \"group_name\": \"BB_Year\", \"total_non_null_rows\": 24360, \"total_rows_inc_nulls\": 30000, \"sum_tokens_in_value_count_group\": 17, \"distinct_value_count\": 119}, {\"percentile_ex_nulls\": 0.006157636642456055, \"percentile_inc_nulls\": 0.19300001859664917, \"value_count\": 14, \"group_name\": \"BB_Year\", \"total_non_null_rows\": 24360, \"total_rows_inc_nulls\": 30000, \"sum_tokens_in_value_count_group\": 14, \"distinct_value_count\": 119}, {\"percentile_ex_nulls\": 0.005172431468963623, \"percentile_inc_nulls\": 0.19220000505447388, \"value_count\": 12, \"group_name\": \"BB_Year\", \"total_non_null_rows\": 24360, \"total_rows_inc_nulls\": 30000, \"sum_tokens_in_value_count_group\": 24, \"distinct_value_count\": 119}, {\"percentile_ex_nulls\": 0.003817737102508545, \"percentile_inc_nulls\": 0.19110000133514404, \"value_count\": 11, \"group_name\": \"BB_Year\", \"total_non_null_rows\": 24360, \"total_rows_inc_nulls\": 30000, \"sum_tokens_in_value_count_group\": 33, \"distinct_value_count\": 119}, {\"percentile_ex_nulls\": 0.0029967427253723145, \"percentile_inc_nulls\": 0.1904333233833313, \"value_count\": 10, \"group_name\": \"BB_Year\", \"total_non_null_rows\": 24360, \"total_rows_inc_nulls\": 30000, \"sum_tokens_in_value_count_group\": 20, \"distinct_value_count\": 119}, {\"percentile_ex_nulls\": 0.0018883347511291504, \"percentile_inc_nulls\": 0.18953335285186768, \"value_count\": 9, \"group_name\": \"BB_Year\", \"total_non_null_rows\": 24360, \"total_rows_inc_nulls\": 30000, \"sum_tokens_in_value_count_group\": 27, \"distinct_value_count\": 119}, {\"percentile_ex_nulls\": 0.001559913158416748, \"percentile_inc_nulls\": 0.18926668167114258, \"value_count\": 8, \"group_name\": \"BB_Year\", \"total_non_null_rows\": 24360, \"total_rows_inc_nulls\": 30000, \"sum_tokens_in_value_count_group\": 8, \"distinct_value_count\": 119}, {\"percentile_ex_nulls\": 0.001313626766204834, \"percentile_inc_nulls\": 0.18906664848327637, \"value_count\": 6, \"group_name\": \"BB_Year\", \"total_non_null_rows\": 24360, \"total_rows_inc_nulls\": 30000, \"sum_tokens_in_value_count_group\": 6, \"distinct_value_count\": 119}, {\"percentile_ex_nulls\": 0.0008209943771362305, \"percentile_inc_nulls\": 0.18866664171218872, \"value_count\": 4, \"group_name\": \"BB_Year\", \"total_non_null_rows\": 24360, \"total_rows_inc_nulls\": 30000, \"sum_tokens_in_value_count_group\": 12, \"distinct_value_count\": 119}, {\"percentile_ex_nulls\": 0.0004926323890686035, \"percentile_inc_nulls\": 0.18839997053146362, \"value_count\": 2, \"group_name\": \"BB_Year\", \"total_non_null_rows\": 24360, \"total_rows_inc_nulls\": 30000, \"sum_tokens_in_value_count_group\": 8, \"distinct_value_count\": 119}, {\"percentile_ex_nulls\": 0.0, \"percentile_inc_nulls\": 0.18800002336502075, \"value_count\": 1, \"group_name\": \"BB_Year\", \"total_non_null_rows\": 24360, \"total_rows_inc_nulls\": 30000, \"sum_tokens_in_value_count_group\": 12, \"distinct_value_count\": 119}, {\"percentile_ex_nulls\": 1.0, \"percentile_inc_nulls\": 1.0, \"value_count\": 1840, \"group_name\": \"BB_Year\", \"total_non_null_rows\": 24360, \"total_rows_inc_nulls\": 30000, \"sum_tokens_in_value_count_group\": 1840, \"distinct_value_count\": 119}]}, \"encoding\": {\"tooltip\": [{\"field\": \"value_count\", \"type\": \"quantitative\"}, {\"field\": \"percentile_ex_nulls\", \"type\": \"quantitative\"}, {\"field\": \"percentile_inc_nulls\", \"type\": \"quantitative\"}, {\"field\": \"total_non_null_rows\", \"type\": \"quantitative\"}, {\"field\": \"total_rows_inc_nulls\", \"type\": \"quantitative\"}], \"x\": {\"field\": \"percentile_ex_nulls\", \"sort\": \"descending\", \"title\": \"Percentile\", \"type\": \"quantitative\"}, \"y\": {\"field\": \"value_count\", \"title\": \"Count of values\", \"type\": \"quantitative\"}}, \"title\": {\"text\": \"Distribution of counts of values in column BB_Year\", \"subtitle\": \"In this col, 5,640 values (18.8%) are null and there are 119 distinct values\"}}, {\"mark\": \"bar\", \"data\": {\"values\": [{\"value_count\": 1840, \"group_name\": \"BB_Year\", \"value\": \"2019.0\", \"total_non_null_rows\": 24360, \"total_rows_inc_nulls\": 30000, \"distinct_value_count\": 119}, {\"value_count\": 1782, \"group_name\": \"BB_Year\", \"value\": \"2021.0\", \"total_non_null_rows\": 24360, \"total_rows_inc_nulls\": 30000, \"distinct_value_count\": 119}, {\"value_count\": 1642, \"group_name\": \"BB_Year\", \"value\": \"2018.0\", \"total_non_null_rows\": 24360, \"total_rows_inc_nulls\": 30000, \"distinct_value_count\": 119}, {\"value_count\": 1615, \"group_name\": \"BB_Year\", \"value\": \"2022.0\", \"total_non_null_rows\": 24360, \"total_rows_inc_nulls\": 30000, \"distinct_value_count\": 119}, {\"value_count\": 1573, \"group_name\": \"BB_Year\", \"value\": \"2020.0\", \"total_non_null_rows\": 24360, \"total_rows_inc_nulls\": 30000, \"distinct_value_count\": 119}, {\"value_count\": 1309, \"group_name\": \"BB_Year\", \"value\": \"2017.0\", \"total_non_null_rows\": 24360, \"total_rows_inc_nulls\": 30000, \"distinct_value_count\": 119}, {\"value_count\": 1299, \"group_name\": \"BB_Year\", \"value\": \"2023.0\", \"total_non_null_rows\": 24360, \"total_rows_inc_nulls\": 30000, \"distinct_value_count\": 119}, {\"value_count\": 1204, \"group_name\": \"BB_Year\", \"value\": \"2016.0\", \"total_non_null_rows\": 24360, \"total_rows_inc_nulls\": 30000, \"distinct_value_count\": 119}, {\"value_count\": 1091, \"group_name\": \"BB_Year\", \"value\": \"2015.0\", \"total_non_null_rows\": 24360, \"total_rows_inc_nulls\": 30000, \"distinct_value_count\": 119}, {\"value_count\": 962, \"group_name\": \"BB_Year\", \"value\": \"2014.0\", \"total_non_null_rows\": 24360, \"total_rows_inc_nulls\": 30000, \"distinct_value_count\": 119}]}, \"encoding\": {\"tooltip\": [{\"field\": \"value\", \"type\": \"nominal\"}, {\"field\": \"value_count\", \"type\": \"quantitative\"}, {\"field\": \"total_non_null_rows\", \"type\": \"quantitative\"}, {\"field\": \"total_rows_inc_nulls\", \"type\": \"quantitative\"}], \"x\": {\"field\": \"value\", \"sort\": \"-y\", \"title\": null, \"type\": \"nominal\"}, \"y\": {\"field\": \"value_count\", \"title\": \"Value count\", \"type\": \"quantitative\"}}, \"title\": \"Top 10 values by value count\"}, {\"mark\": \"bar\", \"data\": {\"values\": [{\"value_count\": 1, \"group_name\": \"BB_Year\", \"value\": \"1918.0\", \"total_non_null_rows\": 24360, \"total_rows_inc_nulls\": 30000, \"distinct_value_count\": 119}, {\"value_count\": 1, \"group_name\": \"BB_Year\", \"value\": \"1910.0\", \"total_non_null_rows\": 24360, \"total_rows_inc_nulls\": 30000, \"distinct_value_count\": 119}, {\"value_count\": 1, \"group_name\": \"BB_Year\", \"value\": \"1916.0\", \"total_non_null_rows\": 24360, \"total_rows_inc_nulls\": 30000, \"distinct_value_count\": 119}, {\"value_count\": 1, \"group_name\": \"BB_Year\", \"value\": \"1885.0\", \"total_non_null_rows\": 24360, \"total_rows_inc_nulls\": 30000, \"distinct_value_count\": 119}, {\"value_count\": 1, \"group_name\": \"BB_Year\", \"value\": \"1894.0\", \"total_non_null_rows\": 24360, \"total_rows_inc_nulls\": 30000, \"distinct_value_count\": 119}, {\"value_count\": 1, \"group_name\": \"BB_Year\", \"value\": \"1921.0\", \"total_non_null_rows\": 24360, \"total_rows_inc_nulls\": 30000, \"distinct_value_count\": 119}, {\"value_count\": 1, \"group_name\": \"BB_Year\", \"value\": \"1923.0\", \"total_non_null_rows\": 24360, \"total_rows_inc_nulls\": 30000, \"distinct_value_count\": 119}, {\"value_count\": 1, \"group_name\": \"BB_Year\", \"value\": \"1900.0\", \"total_non_null_rows\": 24360, \"total_rows_inc_nulls\": 30000, \"distinct_value_count\": 119}, {\"value_count\": 1, \"group_name\": \"BB_Year\", \"value\": \"1917.0\", \"total_non_null_rows\": 24360, \"total_rows_inc_nulls\": 30000, \"distinct_value_count\": 119}, {\"value_count\": 1, \"group_name\": \"BB_Year\", \"value\": \"1919.0\", \"total_non_null_rows\": 24360, \"total_rows_inc_nulls\": 30000, \"distinct_value_count\": 119}]}, \"encoding\": {\"tooltip\": [{\"field\": \"value\", \"type\": \"nominal\"}, {\"field\": \"value_count\", \"type\": \"quantitative\"}, {\"field\": \"total_non_null_rows\", \"type\": \"quantitative\"}, {\"field\": \"total_rows_inc_nulls\", \"type\": \"quantitative\"}], \"x\": {\"field\": \"value\", \"sort\": \"-y\", \"title\": null, \"type\": \"nominal\"}, \"y\": {\"field\": \"value_count\", \"scale\": {\"domain\": [0, 1840]}, \"title\": \"Value count\", \"type\": \"quantitative\"}}, \"title\": \"Bottom 10 values by value count\"}]}], \"$schema\": \"https://vega.github.io/schema/vega-lite/v5.9.3.json\"}, {\"mode\": \"vega-lite\"});\n",
       "</script>"
      ],
      "text/plain": [
       "alt.VConcatChart(...)"
      ]
     },
     "metadata": {},
     "output_type": "display_data"
    },
    {
     "name": "stdout",
     "output_type": "stream",
     "text": [
      "\n",
      "--- Análise Customizada: Verificando Diretores Mais Frequentes ---\n"
     ]
    },
    {
     "data": {
      "application/vnd.jupyter.widget-view+json": {
       "model_id": "ea7b5f91d0bf43bfb92b08f9dcdd7a60",
       "version_major": 2,
       "version_minor": 0
      },
      "text/plain": [
       "FloatProgress(value=0.0, layout=Layout(width='auto'), style=ProgressStyle(bar_color='black'))"
      ]
     },
     "metadata": {},
     "output_type": "display_data"
    },
    {
     "data": {
      "text/html": [
       "<div>\n",
       "<style scoped>\n",
       "    .dataframe tbody tr th:only-of-type {\n",
       "        vertical-align: middle;\n",
       "    }\n",
       "\n",
       "    .dataframe tbody tr th {\n",
       "        vertical-align: top;\n",
       "    }\n",
       "\n",
       "    .dataframe thead th {\n",
       "        text-align: right;\n",
       "    }\n",
       "</style>\n",
       "<table border=\"1\" class=\"dataframe\">\n",
       "  <thead>\n",
       "    <tr style=\"text-align: right;\">\n",
       "      <th></th>\n",
       "      <th>director</th>\n",
       "      <th>frequency</th>\n",
       "    </tr>\n",
       "  </thead>\n",
       "  <tbody>\n",
       "    <tr>\n",
       "      <th>0</th>\n",
       "      <td>Igreja Universal</td>\n",
       "      <td>294</td>\n",
       "    </tr>\n",
       "    <tr>\n",
       "      <th>1</th>\n",
       "      <td>Não especificado</td>\n",
       "      <td>179</td>\n",
       "    </tr>\n",
       "    <tr>\n",
       "      <th>2</th>\n",
       "      <td>Universal Church</td>\n",
       "      <td>135</td>\n",
       "    </tr>\n",
       "    <tr>\n",
       "      <th>3</th>\n",
       "      <td>Renato Ribeiro</td>\n",
       "      <td>114</td>\n",
       "    </tr>\n",
       "    <tr>\n",
       "      <th>4</th>\n",
       "      <td>Église Universelle</td>\n",
       "      <td>87</td>\n",
       "    </tr>\n",
       "    <tr>\n",
       "      <th>5</th>\n",
       "      <td>N</td>\n",
       "      <td>61</td>\n",
       "    </tr>\n",
       "    <tr>\n",
       "      <th>6</th>\n",
       "      <td>Iglesia Universal</td>\n",
       "      <td>58</td>\n",
       "    </tr>\n",
       "    <tr>\n",
       "      <th>7</th>\n",
       "      <td>Universele Kerk Van Gods Rijk</td>\n",
       "      <td>53</td>\n",
       "    </tr>\n",
       "    <tr>\n",
       "      <th>8</th>\n",
       "      <td>Gisele Kato</td>\n",
       "      <td>39</td>\n",
       "    </tr>\n",
       "    <tr>\n",
       "      <th>9</th>\n",
       "      <td>Not specified</td>\n",
       "      <td>39</td>\n",
       "    </tr>\n",
       "  </tbody>\n",
       "</table>\n",
       "</div>"
      ],
      "text/plain": [
       "                        director  frequency\n",
       "0               Igreja Universal        294\n",
       "1               Não especificado        179\n",
       "2               Universal Church        135\n",
       "3                 Renato Ribeiro        114\n",
       "4             Église Universelle         87\n",
       "5                              N         61\n",
       "6              Iglesia Universal         58\n",
       "7  Universele Kerk Van Gods Rijk         53\n",
       "8                    Gisele Kato         39\n",
       "9                  Not specified         39"
      ]
     },
     "metadata": {},
     "output_type": "display_data"
    }
   ],
   "source": [
    "# ===================================================================================\n",
    "# 3. ANÁLISE EXPLORATÓRIA APROFUNDADA (NA AMOSTRA)\n",
    "# ===================================================================================\n",
    "# Passo 3.1: Análise de Completude (Valores Nulos)\n",
    "print(\"--- Análise de Completude ---\")\n",
    "display(completeness_chart(table_or_tables=\"dados_amostra\", db_api=db_api))\n",
    "\n",
    "# Passo 3.2: Perfil das Colunas Chave\n",
    "print(\"\\n--- Perfil da Coluna 'BB_Title' e 'BB_Year' ---\")\n",
    "display(profile_columns(table_or_tables=\"dados_amostra\", column_expressions=[\"BB_Title\", \"BB_Year\"], db_api=db_api))\n",
    "\n",
    "# Passo 3.3: Criando um Linker Preliminar para Análises Mais Complexas\n",
    "linker_para_analise = Linker(\n",
    "    \"dados_amostra\",\n",
    "    SettingsCreator(link_type=\"dedupe_only\", unique_id_column_name=\"BB_UID\"),\n",
    "    db_api=db_api\n",
    ")\n",
    "\n",
    "print(\"\\n--- Análise Customizada: Verificando Diretores Mais Frequentes ---\")\n",
    "# CORREÇÃO: A sintaxe do UNNEST foi ajustada para o padrão do DuckDB,\n",
    "# movendo a função para a cláusula FROM.\n",
    "sql_diag_directors = \"\"\"\n",
    "SELECT director, COUNT(*) as frequency\n",
    "FROM dados_amostra, unnest(BB_Directors_array) AS t(director)\n",
    "GROUP BY director\n",
    "ORDER BY frequency DESC\n",
    "LIMIT 10;\n",
    "\"\"\"\n",
    "# Esta query agora é sintaticamente válida e executará corretamente.\n",
    "display(linker_para_analise.misc.query_sql(sql_diag_directors, output_type=\"pandas\"))"
   ]
  },
  {
   "cell_type": "code",
   "execution_count": 12,
   "id": "18f4b131-367e-43cb-8646-7f969363069f",
   "metadata": {},
   "outputs": [
    {
     "name": "stdout",
     "output_type": "stream",
     "text": [
      "\n",
      "--- Análise Cumulativa de Comparações para Regras Candidatas ---\n"
     ]
    },
    {
     "data": {
      "application/vnd.jupyter.widget-view+json": {
       "model_id": "565f7bd711cc436a97996e7b8f16efd7",
       "version_major": 2,
       "version_minor": 0
      },
      "text/plain": [
       "FloatProgress(value=0.0, layout=Layout(width='auto'), style=ProgressStyle(bar_color='black'))"
      ]
     },
     "metadata": {},
     "output_type": "display_data"
    },
    {
     "data": {
      "application/vnd.jupyter.widget-view+json": {
       "model_id": "c6fb16f2ff41432ca5408b54706e2d01",
       "version_major": 2,
       "version_minor": 0
      },
      "text/plain": [
       "FloatProgress(value=0.0, layout=Layout(width='auto'), style=ProgressStyle(bar_color='black'))"
      ]
     },
     "metadata": {},
     "output_type": "display_data"
    },
    {
     "data": {
      "application/vnd.jupyter.widget-view+json": {
       "model_id": "b7a22909d3424640aa75ef1d7036acf2",
       "version_major": 2,
       "version_minor": 0
      },
      "text/plain": [
       "FloatProgress(value=0.0, layout=Layout(width='auto'), style=ProgressStyle(bar_color='black'))"
      ]
     },
     "metadata": {},
     "output_type": "display_data"
    },
    {
     "data": {
      "application/vnd.jupyter.widget-view+json": {
       "model_id": "6eef9a7a3d0b44e68792ed8cd4d295a7",
       "version_major": 2,
       "version_minor": 0
      },
      "text/plain": [
       "FloatProgress(value=0.0, layout=Layout(width='auto'), style=ProgressStyle(bar_color='black'))"
      ]
     },
     "metadata": {},
     "output_type": "display_data"
    },
    {
     "data": {
      "application/vnd.jupyter.widget-view+json": {
       "model_id": "fdaf8bc514b04af4bb54c0ea5a3bd3f3",
       "version_major": 2,
       "version_minor": 0
      },
      "text/plain": [
       "FloatProgress(value=0.0, layout=Layout(width='auto'), style=ProgressStyle(bar_color='black'))"
      ]
     },
     "metadata": {},
     "output_type": "display_data"
    },
    {
     "data": {
      "application/vnd.jupyter.widget-view+json": {
       "model_id": "9132e45a2dac40d286207ad9bb057b21",
       "version_major": 2,
       "version_minor": 0
      },
      "text/plain": [
       "FloatProgress(value=0.0, layout=Layout(width='auto'), style=ProgressStyle(bar_color='black'))"
      ]
     },
     "metadata": {},
     "output_type": "display_data"
    },
    {
     "data": {
      "text/html": [
       "\n",
       "<style>\n",
       "  #altair-viz-9704f331872a43f4b42a4523577b44cb.vega-embed {\n",
       "    width: 100%;\n",
       "    display: flex;\n",
       "  }\n",
       "\n",
       "  #altair-viz-9704f331872a43f4b42a4523577b44cb.vega-embed details,\n",
       "  #altair-viz-9704f331872a43f4b42a4523577b44cb.vega-embed details summary {\n",
       "    position: relative;\n",
       "  }\n",
       "</style>\n",
       "<div id=\"altair-viz-9704f331872a43f4b42a4523577b44cb\"></div>\n",
       "<script type=\"text/javascript\">\n",
       "  var VEGA_DEBUG = (typeof VEGA_DEBUG == \"undefined\") ? {} : VEGA_DEBUG;\n",
       "  (function(spec, embedOpt){\n",
       "    let outputDiv = document.currentScript.previousElementSibling;\n",
       "    if (outputDiv.id !== \"altair-viz-9704f331872a43f4b42a4523577b44cb\") {\n",
       "      outputDiv = document.getElementById(\"altair-viz-9704f331872a43f4b42a4523577b44cb\");\n",
       "    }\n",
       "\n",
       "    const paths = {\n",
       "      \"vega\": \"https://cdn.jsdelivr.net/npm/vega@5?noext\",\n",
       "      \"vega-lib\": \"https://cdn.jsdelivr.net/npm/vega-lib?noext\",\n",
       "      \"vega-lite\": \"https://cdn.jsdelivr.net/npm/vega-lite@5.20.1?noext\",\n",
       "      \"vega-embed\": \"https://cdn.jsdelivr.net/npm/vega-embed@6?noext\",\n",
       "    };\n",
       "\n",
       "    function maybeLoadScript(lib, version) {\n",
       "      var key = `${lib.replace(\"-\", \"\")}_version`;\n",
       "      return (VEGA_DEBUG[key] == version) ?\n",
       "        Promise.resolve(paths[lib]) :\n",
       "        new Promise(function(resolve, reject) {\n",
       "          var s = document.createElement('script');\n",
       "          document.getElementsByTagName(\"head\")[0].appendChild(s);\n",
       "          s.async = true;\n",
       "          s.onload = () => {\n",
       "            VEGA_DEBUG[key] = version;\n",
       "            return resolve(paths[lib]);\n",
       "          };\n",
       "          s.onerror = () => reject(`Error loading script: ${paths[lib]}`);\n",
       "          s.src = paths[lib];\n",
       "        });\n",
       "    }\n",
       "\n",
       "    function showError(err) {\n",
       "      outputDiv.innerHTML = `<div class=\"error\" style=\"color:red;\">${err}</div>`;\n",
       "      throw err;\n",
       "    }\n",
       "\n",
       "    function displayChart(vegaEmbed) {\n",
       "      vegaEmbed(outputDiv, spec, embedOpt)\n",
       "        .catch(err => showError(`Javascript Error: ${err.message}<br>This usually means there's a typo in your chart specification. See the javascript console for the full traceback.`));\n",
       "    }\n",
       "\n",
       "    if(typeof define === \"function\" && define.amd) {\n",
       "      requirejs.config({paths});\n",
       "      let deps = [\"vega-embed\"];\n",
       "      require(deps, displayChart, err => showError(`Error loading script: ${err.message}`));\n",
       "    } else {\n",
       "      maybeLoadScript(\"vega\", \"5\")\n",
       "        .then(() => maybeLoadScript(\"vega-lite\", \"5.20.1\"))\n",
       "        .then(() => maybeLoadScript(\"vega-embed\", \"6\"))\n",
       "        .catch(showError)\n",
       "        .then(() => displayChart(vegaEmbed));\n",
       "    }\n",
       "  })({\"config\": {\"view\": {\"continuousWidth\": 300, \"continuousHeight\": 300}}, \"data\": {\"name\": \"data-06adc13a31a8f74218928072ce07b944\"}, \"mark\": \"bar\", \"encoding\": {\"order\": {\"field\": \"cumulative_rows\"}, \"tooltip\": [{\"field\": \"blocking_rule\", \"title\": \"SQL Condition\", \"type\": \"nominal\"}, {\"field\": \"row_count\", \"format\": \",\", \"title\": \"Comparisons Generated\", \"type\": \"quantitative\"}, {\"field\": \"cumulative_rows\", \"format\": \",\", \"title\": \"Cumulative Comparisons\", \"type\": \"quantitative\"}, {\"field\": \"cartesian\", \"format\": \",\", \"title\": \"Total comparisons in Cartesian product\", \"type\": \"quantitative\"}], \"x\": {\"field\": \"start\", \"title\": \"Comparisons Generated by Rule(s)\", \"type\": \"quantitative\"}, \"x2\": {\"field\": \"cumulative_rows\"}, \"y\": {\"field\": \"blocking_rule\", \"sort\": [\"-x2\"], \"title\": \"SQL Blocking Rule\"}}, \"height\": {\"step\": 20}, \"title\": {\"text\": \"Count of Additional Comparisons Generated by Each Blocking Rule\", \"subtitle\": \"(Counts exclude comparisons already generated by previous rules)\"}, \"width\": 450, \"$schema\": \"https://vega.github.io/schema/vega-lite/v5.9.3.json\", \"datasets\": {\"data-06adc13a31a8f74218928072ce07b944\": [{\"blocking_rule\": \"(l.\\\"BB_Title\\\" = r.\\\"BB_Title\\\") AND (l.\\\"BB_Year\\\" = r.\\\"BB_Year\\\")\", \"row_count\": 36, \"cumulative_rows\": 36, \"cartesian\": 449985000, \"match_key\": \"0\", \"start\": 0}, {\"blocking_rule\": \"(SUBSTRING(l.BB_Title, 1, 4) = SUBSTRING(r.BB_Title, 1, 4)) AND (l.\\\"BB_Year\\\" = r.\\\"BB_Year\\\")\", \"row_count\": 191930, \"cumulative_rows\": 191966, \"cartesian\": 449985000, \"match_key\": \"1\", \"start\": 36}, {\"blocking_rule\": \"(SUBSTRING(l.BB_Directors, 1, 6) = SUBSTRING(r.BB_Directors, 1, 6)) AND (l.\\\"BB_Year\\\" = r.\\\"BB_Year\\\")\", \"row_count\": 16427, \"cumulative_rows\": 208393, \"cartesian\": 449985000, \"match_key\": \"2\", \"start\": 191966}, {\"blocking_rule\": \"(SUBSTRING(l.BB_Cast, 1, 6) = SUBSTRING(r.BB_Cast, 1, 6)) AND (l.\\\"BB_Year\\\" = r.\\\"BB_Year\\\")\", \"row_count\": 6244, \"cumulative_rows\": 214637, \"cartesian\": 449985000, \"match_key\": \"3\", \"start\": 208393}, {\"blocking_rule\": \"(l.\\\"BB_Title\\\" = r.\\\"BB_Title\\\") AND (SUBSTRING(l.BB_Directors, 1, 6) = SUBSTRING(r.BB_Directors, 1, 6))\", \"row_count\": 30, \"cumulative_rows\": 214667, \"cartesian\": 449985000, \"match_key\": \"4\", \"start\": 214637}]}}, {\"mode\": \"vega-lite\"});\n",
       "</script>"
      ],
      "text/plain": [
       "alt.Chart(...)"
      ]
     },
     "execution_count": 12,
     "metadata": {},
     "output_type": "execute_result"
    }
   ],
   "source": [
    "# ===================================================================================\n",
    "# 4. ANÁLISE E SELEÇÃO DE REGRAS DE BLOQUEIO (NA AMOSTRA)\n",
    "# ===================================================================================\n",
    "regras_de_bloqueio_candidatas = [\n",
    "    block_on(\"BB_Title\", \"BB_Year\"),\n",
    "    block_on(\"substr(BB_Title, 1, 4)\", \"BB_Year\"),\n",
    "    block_on(\"substr(BB_Directors, 1, 6)\", \"BB_Year\"),\n",
    "    block_on(\"substr(BB_Cast, 1, 6)\", \"BB_Year\"),\n",
    "    block_on(\"BB_Title\", \"substr(BB_Directors, 1, 6)\"),\n",
    "]\n",
    "\n",
    "print(\"\\n--- Análise Cumulativa de Comparações para Regras Candidatas ---\")\n",
    "# Este gráfico é essencial para projetar a performance. Ele mostra o número de pares\n",
    "# que cada regra adiciona ao processo, nos ajudando a escolher um conjunto que seja\n",
    "# abrangente (alto recall) mas computacionalmente viável.\n",
    "cumulative_comparisons_to_be_scored_from_blocking_rules_chart(\n",
    "    table_or_tables=\"dados_amostra\",\n",
    "    blocking_rules=regras_de_bloqueio_candidatas,\n",
    "    db_api=db_api,\n",
    "    link_type=\"dedupe_only\",\n",
    "    unique_id_column_name=\"BB_UID\"\n",
    ")"
   ]
  },
  {
   "cell_type": "code",
   "execution_count": 17,
   "id": "49a06b46-a981-4601-93dc-e5c712dcd142",
   "metadata": {},
   "outputs": [
    {
     "name": "stdout",
     "output_type": "stream",
     "text": [
      "Configuração (settings) avançada e com tratamento de tipos de dados criada.\n"
     ]
    }
   ],
   "source": [
    "# ===================================================================================\n",
    "# 5. CONFIGURAÇÃO DO MODELO COM TRATAMENTO DE TIPOS DE DADOS (SINTAXE CORRIGIDA)\n",
    "# ===================================================================================\n",
    "\n",
    "settings_modelo = SettingsCreator(\n",
    "    link_type=\"dedupe_only\",\n",
    "    unique_id_column_name=\"BB_UID\",\n",
    "    blocking_rules_to_generate_predictions=regras_de_bloqueio_candidatas, # Definida na Célula 4\n",
    "    \n",
    "    comparisons=[\n",
    "        cl.JaroWinklerAtThresholds(\"BB_Title\", [0.9, 0.7]),\n",
    "        \n",
    "        cl.CustomComparison(\n",
    "            output_column_name=\"BB_Year\",\n",
    "            comparison_levels=[\n",
    "                cll.NullLevel(\"BB_Year\"),\n",
    "                cll.ExactMatchLevel(\"BB_Year\"),\n",
    "                # Nível 2: Permite 1 erro de digitação, mas opera no texto\n",
    "                # CORREÇÃO: Trocado 'column_name' por 'col_name'\n",
    "                cll.DamerauLevenshteinLevel(\n",
    "                    col_name=\"CAST(BB_Year AS VARCHAR)\", \n",
    "                    distance_threshold=1\n",
    "                ),\n",
    "                cll.ElseLevel()\n",
    "            ]\n",
    "        ),\n",
    "        \n",
    "        cl.ArrayIntersectAtSizes(\"BB_Directors_array\", [1]).configure(\n",
    "            term_frequency_adjustments=True\n",
    "        ),\n",
    "        \n",
    "        cl.ArrayIntersectAtSizes(\"BB_Cast_array\", [3, 1]).configure(\n",
    "            term_frequency_adjustments=True\n",
    "        ),\n",
    "    ],\n",
    "    \n",
    "    retain_matching_columns=True,\n",
    "    retain_intermediate_calculation_columns=True\n",
    ")\n",
    "\n",
    "print(\"Configuração (settings) avançada e com tratamento de tipos de dados criada.\")"
   ]
  },
  {
   "cell_type": "code",
   "execution_count": 18,
   "id": "92a25f95-7307-4c6f-9be1-0f2f3d51537f",
   "metadata": {},
   "outputs": [
    {
     "name": "stderr",
     "output_type": "stream",
     "text": [
      "----- Estimating u probabilities using random sampling -----\n"
     ]
    },
    {
     "name": "stdout",
     "output_type": "stream",
     "text": [
      "--- Criando o Linker de modelo para a amostra ---\n",
      "\n",
      "--- Estimando probabilidades 'u' ---\n"
     ]
    },
    {
     "name": "stderr",
     "output_type": "stream",
     "text": [
      "\n",
      "Estimated u probabilities using random sampling\n",
      "\n",
      "Your model is not yet fully trained. Missing estimates for:\n",
      "    - BB_Title (no m values are trained).\n",
      "    - BB_Year (no m values are trained).\n",
      "    - BB_Directors_array (no m values are trained).\n",
      "    - BB_Cast_array (no m values are trained).\n"
     ]
    },
    {
     "name": "stdout",
     "output_type": "stream",
     "text": [
      "\n",
      "--- Iniciando sessões de treinamento EM ---\n"
     ]
    },
    {
     "data": {
      "application/vnd.jupyter.widget-view+json": {
       "model_id": "f34928cfb2ff44e0ad73b1fe2181eb60",
       "version_major": 2,
       "version_minor": 0
      },
      "text/plain": [
       "FloatProgress(value=0.0, layout=Layout(width='auto'), style=ProgressStyle(bar_color='black'))"
      ]
     },
     "metadata": {},
     "output_type": "display_data"
    },
    {
     "name": "stderr",
     "output_type": "stream",
     "text": [
      "\n",
      "----- Starting EM training session -----\n",
      "\n",
      "Estimating the m probabilities of the model by blocking on:\n",
      "(l.\"BB_Title\" = r.\"BB_Title\") AND (l.\"BB_Year\" = r.\"BB_Year\")\n",
      "\n",
      "Parameter estimates will be made for the following comparison(s):\n",
      "    - BB_Directors_array\n",
      "    - BB_Cast_array\n",
      "\n",
      "Parameter estimates cannot be made for the following comparison(s) since they are used in the blocking rules: \n",
      "    - BB_Title\n",
      "    - BB_Year\n",
      "\n",
      "Iteration 1: Largest change in params was 0.175 in probability_two_random_records_match\n",
      "Iteration 2: Largest change in params was 0.178 in probability_two_random_records_match\n",
      "Iteration 3: Largest change in params was 0.0256 in probability_two_random_records_match\n",
      "Iteration 4: Largest change in params was 0.00367 in probability_two_random_records_match\n",
      "Iteration 5: Largest change in params was 0.000526 in probability_two_random_records_match\n",
      "Iteration 6: Largest change in params was 7.54e-05 in probability_two_random_records_match\n",
      "\n",
      "EM converged after 6 iterations\n",
      "\n",
      "Your model is not yet fully trained. Missing estimates for:\n",
      "    - BB_Title (no m values are trained).\n",
      "    - BB_Year (no m values are trained).\n",
      "\n",
      "----- Starting EM training session -----\n",
      "\n",
      "Estimating the m probabilities of the model by blocking on:\n",
      "(l.\"BB_Directors\" = r.\"BB_Directors\") AND (l.\"BB_Year\" = r.\"BB_Year\")\n",
      "\n",
      "Parameter estimates will be made for the following comparison(s):\n",
      "    - BB_Title\n",
      "    - BB_Directors_array\n",
      "    - BB_Cast_array\n",
      "\n",
      "Parameter estimates cannot be made for the following comparison(s) since they are used in the blocking rules: \n",
      "    - BB_Year\n",
      "\n",
      "Iteration 1: Largest change in params was -0.934 in the m_probability of BB_Title, level `Exact match on BB_Title`\n",
      "Iteration 2: Largest change in params was 0.677 in probability_two_random_records_match\n",
      "Iteration 3: Largest change in params was 0.00522 in probability_two_random_records_match\n",
      "Iteration 4: Largest change in params was 2.51e-05 in probability_two_random_records_match\n",
      "\n",
      "EM converged after 4 iterations\n",
      "\n",
      "Your model is not yet fully trained. Missing estimates for:\n",
      "    - BB_Year (no m values are trained).\n"
     ]
    },
    {
     "name": "stdout",
     "output_type": "stream",
     "text": [
      "\n",
      "Treinamento do modelo concluído!\n",
      "\n",
      "--- Comparando as estimativas dos parâmetros das diferentes sessões de EM ---\n"
     ]
    },
    {
     "data": {
      "text/html": [
       "\n",
       "<style>\n",
       "  #altair-viz-d98606d9869c4fa2ae05d629554cccc0.vega-embed {\n",
       "    width: 100%;\n",
       "    display: flex;\n",
       "  }\n",
       "\n",
       "  #altair-viz-d98606d9869c4fa2ae05d629554cccc0.vega-embed details,\n",
       "  #altair-viz-d98606d9869c4fa2ae05d629554cccc0.vega-embed details summary {\n",
       "    position: relative;\n",
       "  }\n",
       "</style>\n",
       "<div id=\"altair-viz-d98606d9869c4fa2ae05d629554cccc0\"></div>\n",
       "<script type=\"text/javascript\">\n",
       "  var VEGA_DEBUG = (typeof VEGA_DEBUG == \"undefined\") ? {} : VEGA_DEBUG;\n",
       "  (function(spec, embedOpt){\n",
       "    let outputDiv = document.currentScript.previousElementSibling;\n",
       "    if (outputDiv.id !== \"altair-viz-d98606d9869c4fa2ae05d629554cccc0\") {\n",
       "      outputDiv = document.getElementById(\"altair-viz-d98606d9869c4fa2ae05d629554cccc0\");\n",
       "    }\n",
       "\n",
       "    const paths = {\n",
       "      \"vega\": \"https://cdn.jsdelivr.net/npm/vega@5?noext\",\n",
       "      \"vega-lib\": \"https://cdn.jsdelivr.net/npm/vega-lib?noext\",\n",
       "      \"vega-lite\": \"https://cdn.jsdelivr.net/npm/vega-lite@5.20.1?noext\",\n",
       "      \"vega-embed\": \"https://cdn.jsdelivr.net/npm/vega-embed@6?noext\",\n",
       "    };\n",
       "\n",
       "    function maybeLoadScript(lib, version) {\n",
       "      var key = `${lib.replace(\"-\", \"\")}_version`;\n",
       "      return (VEGA_DEBUG[key] == version) ?\n",
       "        Promise.resolve(paths[lib]) :\n",
       "        new Promise(function(resolve, reject) {\n",
       "          var s = document.createElement('script');\n",
       "          document.getElementsByTagName(\"head\")[0].appendChild(s);\n",
       "          s.async = true;\n",
       "          s.onload = () => {\n",
       "            VEGA_DEBUG[key] = version;\n",
       "            return resolve(paths[lib]);\n",
       "          };\n",
       "          s.onerror = () => reject(`Error loading script: ${paths[lib]}`);\n",
       "          s.src = paths[lib];\n",
       "        });\n",
       "    }\n",
       "\n",
       "    function showError(err) {\n",
       "      outputDiv.innerHTML = `<div class=\"error\" style=\"color:red;\">${err}</div>`;\n",
       "      throw err;\n",
       "    }\n",
       "\n",
       "    function displayChart(vegaEmbed) {\n",
       "      vegaEmbed(outputDiv, spec, embedOpt)\n",
       "        .catch(err => showError(`Javascript Error: ${err.message}<br>This usually means there's a typo in your chart specification. See the javascript console for the full traceback.`));\n",
       "    }\n",
       "\n",
       "    if(typeof define === \"function\" && define.amd) {\n",
       "      requirejs.config({paths});\n",
       "      let deps = [\"vega-embed\"];\n",
       "      require(deps, displayChart, err => showError(`Error loading script: ${err.message}`));\n",
       "    } else {\n",
       "      maybeLoadScript(\"vega\", \"5\")\n",
       "        .then(() => maybeLoadScript(\"vega-lite\", \"5.20.1\"))\n",
       "        .then(() => maybeLoadScript(\"vega-embed\", \"6\"))\n",
       "        .catch(showError)\n",
       "        .then(() => displayChart(vegaEmbed));\n",
       "    }\n",
       "  })({\"config\": {\"view\": {\"continuousWidth\": 400, \"continuousHeight\": 300}, \"title\": {\"anchor\": \"middle\", \"fontSize\": 18, \"subtitleFontSize\": 14}}, \"data\": {\"name\": \"data-46a2ab47fde2535f6b0893f5ad47c12b\"}, \"mark\": {\"type\": \"point\", \"filled\": false, \"opacity\": 0.7, \"size\": 100}, \"encoding\": {\"color\": {\"field\": \"estimate_description\", \"type\": \"nominal\"}, \"column\": {\"align\": \"each\", \"field\": \"col_header\", \"header\": {\"labelFontSize\": 14, \"labelFontWeight\": \"bold\"}, \"title\": null, \"type\": \"nominal\"}, \"row\": {\"align\": \"each\", \"field\": \"comparison_name\", \"header\": {\"labelAlign\": \"left\", \"labelAnchor\": \"middle\", \"labelAngle\": 0, \"labelFontSize\": 12, \"labelFontWeight\": \"bold\"}, \"sort\": {\"field\": \"comparison_sort_order\"}, \"title\": null, \"type\": \"nominal\"}, \"shape\": {\"field\": \"estimate_description\", \"scale\": {\"range\": [\"circle\", \"square\", \"triangle\", \"diamond\"]}, \"type\": \"nominal\"}, \"tooltip\": [{\"field\": \"comparison_name\", \"type\": \"nominal\"}, {\"field\": \"estimate_description\", \"type\": \"nominal\"}, {\"field\": \"estimated_probability\", \"type\": \"quantitative\"}], \"x\": {\"axis\": {\"gridColor\": {\"condition\": {\"test\": \"abs(datum.value / 10)  <= 1 & datum.value % 10 === 0\", \"value\": \"#aaa\"}, \"value\": \"#ddd\"}, \"gridDash\": {\"condition\": {\"test\": \"abs(datum.value / 10) == 1\", \"value\": [3]}, \"value\": null}, \"gridWidth\": {\"condition\": {\"test\": \"abs(datum.value / 10)  <= 1 & datum.value % 10 === 0\", \"value\": 2}, \"value\": 1}}, \"field\": \"estimated_probability_as_log_odds\", \"title\": \"Estimated probability as log odds\", \"type\": \"quantitative\"}, \"y\": {\"axis\": {\"grid\": true, \"title\": null}, \"field\": \"comparison_level_label\", \"sort\": {\"field\": \"comparison_vector_value\", \"order\": \"descending\"}, \"type\": \"nominal\"}}, \"params\": [{\"name\": \"mouse_zoom\", \"select\": {\"type\": \"interval\", \"encodings\": [\"x\"]}, \"bind\": \"scales\"}], \"resolve\": {\"scale\": {\"y\": \"independent\"}}, \"title\": {\"text\": \"Comparison of parameter estimates across training sessions\", \"subtitle\": \"Use mousewheel to zoom\"}, \"transform\": [{\"calculate\": \"datum.m_or_u + '-probability (as log odds)'\", \"as\": \"col_header\"}], \"$schema\": \"https://vega.github.io/schema/vega-lite/v5.9.3.json\", \"datasets\": {\"data-46a2ab47fde2535f6b0893f5ad47c12b\": [{\"m_or_u\": \"m\", \"estimated_probability\": 0.0035629993593667, \"estimate_description\": \"EM, blocked on: (l.\\\"BB_Directors\\\" = r.\\\"BB_Directors\\\") AND (l.\\\"BB_Year\\\" = r.\\\"BB_Year\\\")\", \"estimated_probability_as_log_odds\": -8.12754255979193, \"sql_condition\": \"\\\"BB_Title_l\\\" = \\\"BB_Title_r\\\"\", \"comparison_level_label\": \"Exact match on BB_Title\", \"comparison_vector_value\": 3, \"comparison_name\": \"BB_Title\", \"comparison_sort_order\": 0}, {\"m_or_u\": \"m\", \"estimated_probability\": 0.05437430038317356, \"estimate_description\": \"EM, blocked on: (l.\\\"BB_Directors\\\" = r.\\\"BB_Directors\\\") AND (l.\\\"BB_Year\\\" = r.\\\"BB_Year\\\")\", \"estimated_probability_as_log_odds\": -4.120272406318445, \"sql_condition\": \"jaro_winkler_similarity(\\\"BB_Title_l\\\", \\\"BB_Title_r\\\") >= 0.9\", \"comparison_level_label\": \"Jaro-Winkler distance of BB_Title >= 0.9\", \"comparison_vector_value\": 2, \"comparison_name\": \"BB_Title\", \"comparison_sort_order\": 0}, {\"m_or_u\": \"m\", \"estimated_probability\": 0.10905708588109757, \"estimate_description\": \"EM, blocked on: (l.\\\"BB_Directors\\\" = r.\\\"BB_Directors\\\") AND (l.\\\"BB_Year\\\" = r.\\\"BB_Year\\\")\", \"estimated_probability_as_log_odds\": -3.0302494853353603, \"sql_condition\": \"jaro_winkler_similarity(\\\"BB_Title_l\\\", \\\"BB_Title_r\\\") >= 0.7\", \"comparison_level_label\": \"Jaro-Winkler distance of BB_Title >= 0.7\", \"comparison_vector_value\": 1, \"comparison_name\": \"BB_Title\", \"comparison_sort_order\": 0}, {\"m_or_u\": \"m\", \"estimated_probability\": 0.8330056143763622, \"estimate_description\": \"EM, blocked on: (l.\\\"BB_Directors\\\" = r.\\\"BB_Directors\\\") AND (l.\\\"BB_Year\\\" = r.\\\"BB_Year\\\")\", \"estimated_probability_as_log_odds\": 2.3185266193566636, \"sql_condition\": \"ELSE\", \"comparison_level_label\": \"All other comparisons\", \"comparison_vector_value\": 0, \"comparison_name\": \"BB_Title\", \"comparison_sort_order\": 0}, {\"m_or_u\": \"m\", \"estimated_probability\": 0.9999999999998406, \"estimate_description\": \"EM, blocked on: (l.\\\"BB_Title\\\" = r.\\\"BB_Title\\\") AND (l.\\\"BB_Year\\\" = r.\\\"BB_Year\\\")\", \"estimated_probability_as_log_odds\": 42.51215996617672, \"sql_condition\": \"array_length(list_intersect(\\\"BB_Directors_array_l\\\", \\\"BB_Directors_array_r\\\")) >= 1\", \"comparison_level_label\": \"Array intersection size >= 1\", \"comparison_vector_value\": 1, \"comparison_name\": \"BB_Directors_array\", \"comparison_sort_order\": 2}, {\"m_or_u\": \"m\", \"estimated_probability\": 0.9999999999999999, \"estimate_description\": \"EM, blocked on: (l.\\\"BB_Directors\\\" = r.\\\"BB_Directors\\\") AND (l.\\\"BB_Year\\\" = r.\\\"BB_Year\\\")\", \"estimated_probability_as_log_odds\": 53.0, \"sql_condition\": \"array_length(list_intersect(\\\"BB_Directors_array_l\\\", \\\"BB_Directors_array_r\\\")) >= 1\", \"comparison_level_label\": \"Array intersection size >= 1\", \"comparison_vector_value\": 1, \"comparison_name\": \"BB_Directors_array\", \"comparison_sort_order\": 2}, {\"m_or_u\": \"m\", \"estimated_probability\": 1.5944802347190003e-13, \"estimate_description\": \"EM, blocked on: (l.\\\"BB_Title\\\" = r.\\\"BB_Title\\\") AND (l.\\\"BB_Year\\\" = r.\\\"BB_Year\\\")\", \"estimated_probability_as_log_odds\": -42.5119790195763, \"sql_condition\": \"ELSE\", \"comparison_level_label\": \"All other comparisons\", \"comparison_vector_value\": 0, \"comparison_name\": \"BB_Directors_array\", \"comparison_sort_order\": 2}, {\"m_or_u\": \"m\", \"estimated_probability\": 7.162683123085878e-17, \"estimate_description\": \"EM, blocked on: (l.\\\"BB_Directors\\\" = r.\\\"BB_Directors\\\") AND (l.\\\"BB_Year\\\" = r.\\\"BB_Year\\\")\", \"estimated_probability_as_log_odds\": -53.63227749441413, \"sql_condition\": \"ELSE\", \"comparison_level_label\": \"All other comparisons\", \"comparison_vector_value\": 0, \"comparison_name\": \"BB_Directors_array\", \"comparison_sort_order\": 2}, {\"m_or_u\": \"m\", \"estimated_probability\": 0.7777782823933959, \"estimate_description\": \"EM, blocked on: (l.\\\"BB_Title\\\" = r.\\\"BB_Title\\\") AND (l.\\\"BB_Year\\\" = r.\\\"BB_Year\\\")\", \"estimated_probability_as_log_odds\": 1.8073591340983366, \"sql_condition\": \"array_length(list_intersect(\\\"BB_Cast_array_l\\\", \\\"BB_Cast_array_r\\\")) >= 3\", \"comparison_level_label\": \"Array intersection size >= 3\", \"comparison_vector_value\": 2, \"comparison_name\": \"BB_Cast_array\", \"comparison_sort_order\": 3}, {\"m_or_u\": \"m\", \"estimated_probability\": 0.2375397828326262, \"estimate_description\": \"EM, blocked on: (l.\\\"BB_Directors\\\" = r.\\\"BB_Directors\\\") AND (l.\\\"BB_Year\\\" = r.\\\"BB_Year\\\")\", \"estimated_probability_as_log_odds\": -1.682492909890953, \"sql_condition\": \"array_length(list_intersect(\\\"BB_Cast_array_l\\\", \\\"BB_Cast_array_r\\\")) >= 3\", \"comparison_level_label\": \"Array intersection size >= 3\", \"comparison_vector_value\": 2, \"comparison_name\": \"BB_Cast_array\", \"comparison_sort_order\": 3}, {\"m_or_u\": \"m\", \"estimated_probability\": 0.2222217176066042, \"estimate_description\": \"EM, blocked on: (l.\\\"BB_Title\\\" = r.\\\"BB_Title\\\") AND (l.\\\"BB_Year\\\" = r.\\\"BB_Year\\\")\", \"estimated_probability_as_log_odds\": -1.8073591340983364, \"sql_condition\": \"array_length(list_intersect(\\\"BB_Cast_array_l\\\", \\\"BB_Cast_array_r\\\")) >= 1\", \"comparison_level_label\": \"Array intersection size >= 1\", \"comparison_vector_value\": 1, \"comparison_name\": \"BB_Cast_array\", \"comparison_sort_order\": 3}, {\"m_or_u\": \"m\", \"estimated_probability\": 0.7624602171673738, \"estimate_description\": \"EM, blocked on: (l.\\\"BB_Directors\\\" = r.\\\"BB_Directors\\\") AND (l.\\\"BB_Year\\\" = r.\\\"BB_Year\\\")\", \"estimated_probability_as_log_odds\": 1.6824929098909527, \"sql_condition\": \"array_length(list_intersect(\\\"BB_Cast_array_l\\\", \\\"BB_Cast_array_r\\\")) >= 1\", \"comparison_level_label\": \"Array intersection size >= 1\", \"comparison_vector_value\": 1, \"comparison_name\": \"BB_Cast_array\", \"comparison_sort_order\": 3}, {\"m_or_u\": \"m\", \"estimated_probability\": 5.210067845863305e-50, \"estimate_description\": \"EM, blocked on: (l.\\\"BB_Title\\\" = r.\\\"BB_Title\\\") AND (l.\\\"BB_Year\\\" = r.\\\"BB_Year\\\")\", \"estimated_probability_as_log_odds\": -163.71510258486757, \"sql_condition\": \"ELSE\", \"comparison_level_label\": \"All other comparisons\", \"comparison_vector_value\": 0, \"comparison_name\": \"BB_Cast_array\", \"comparison_sort_order\": 3}, {\"m_or_u\": \"m\", \"estimated_probability\": 9.533507452289883e-36, \"estimate_description\": \"EM, blocked on: (l.\\\"BB_Directors\\\" = r.\\\"BB_Directors\\\") AND (l.\\\"BB_Year\\\" = r.\\\"BB_Year\\\")\", \"estimated_probability_as_log_odds\": -116.33640432530721, \"sql_condition\": \"ELSE\", \"comparison_level_label\": \"All other comparisons\", \"comparison_vector_value\": 0, \"comparison_name\": \"BB_Cast_array\", \"comparison_sort_order\": 3}]}}, {\"mode\": \"vega-lite\"});\n",
       "</script>"
      ],
      "text/plain": [
       "alt.Chart(...)"
      ]
     },
     "metadata": {},
     "output_type": "display_data"
    }
   ],
   "source": [
    "# ===================================================================================\n",
    "# 6. TREINAMENTO E ANÁLISE DOS PARÂMETROS (NA AMOSTRA)\n",
    "# ===================================================================================\n",
    "print(\"--- Criando o Linker de modelo para a amostra ---\")\n",
    "linker_modelo = Linker(\"dados_amostra\", settings_modelo, db_api=db_api)\n",
    "\n",
    "print(\"\\n--- Estimando probabilidades 'u' ---\")\n",
    "linker_modelo.training.estimate_u_using_random_sampling(max_pairs=2e6)\n",
    "\n",
    "print(\"\\n--- Iniciando sessões de treinamento EM ---\")\n",
    "# Sessão 1: Foca em estimar os parâmetros para Diretores e Elenco\n",
    "linker_modelo.training.estimate_parameters_using_expectation_maximisation(block_on(\"BB_Title\", \"BB_Year\"))\n",
    "# Sessão 2: Foca em estimar os parâmetros para Título\n",
    "linker_modelo.training.estimate_parameters_using_expectation_maximisation(block_on(\"BB_Directors\", \"BB_Year\"))\n",
    "print(\"\\nTreinamento do modelo concluído!\")\n",
    "\n",
    "print(\"\\n--- Comparando as estimativas dos parâmetros das diferentes sessões de EM ---\")\n",
    "# Este gráfico é uma ótima ferramenta de diagnóstico. Se as estimativas para a mesma\n",
    "# comparação (ex: BB_Cast_array) são muito diferentes entre as sessões, pode\n",
    "# indicar que as regras de bloqueio do treinamento estão enviesadas.\n",
    "display(linker_modelo.visualisations.parameter_estimate_comparisons_chart())"
   ]
  },
  {
   "cell_type": "code",
   "execution_count": 21,
   "id": "bc83fb67-40d5-49c5-9f8b-64d0e19e2e6a",
   "metadata": {},
   "outputs": [
    {
     "name": "stdout",
     "output_type": "stream",
     "text": [
      "--- Gráfico de Pesos de Correspondência (Match Weights) ---\n"
     ]
    },
    {
     "data": {
      "text/html": [
       "\n",
       "<style>\n",
       "  #altair-viz-744b6926253b4901bb22ca2c1604e528.vega-embed {\n",
       "    width: 100%;\n",
       "    display: flex;\n",
       "  }\n",
       "\n",
       "  #altair-viz-744b6926253b4901bb22ca2c1604e528.vega-embed details,\n",
       "  #altair-viz-744b6926253b4901bb22ca2c1604e528.vega-embed details summary {\n",
       "    position: relative;\n",
       "  }\n",
       "</style>\n",
       "<div id=\"altair-viz-744b6926253b4901bb22ca2c1604e528\"></div>\n",
       "<script type=\"text/javascript\">\n",
       "  var VEGA_DEBUG = (typeof VEGA_DEBUG == \"undefined\") ? {} : VEGA_DEBUG;\n",
       "  (function(spec, embedOpt){\n",
       "    let outputDiv = document.currentScript.previousElementSibling;\n",
       "    if (outputDiv.id !== \"altair-viz-744b6926253b4901bb22ca2c1604e528\") {\n",
       "      outputDiv = document.getElementById(\"altair-viz-744b6926253b4901bb22ca2c1604e528\");\n",
       "    }\n",
       "\n",
       "    const paths = {\n",
       "      \"vega\": \"https://cdn.jsdelivr.net/npm/vega@5?noext\",\n",
       "      \"vega-lib\": \"https://cdn.jsdelivr.net/npm/vega-lib?noext\",\n",
       "      \"vega-lite\": \"https://cdn.jsdelivr.net/npm/vega-lite@5.20.1?noext\",\n",
       "      \"vega-embed\": \"https://cdn.jsdelivr.net/npm/vega-embed@6?noext\",\n",
       "    };\n",
       "\n",
       "    function maybeLoadScript(lib, version) {\n",
       "      var key = `${lib.replace(\"-\", \"\")}_version`;\n",
       "      return (VEGA_DEBUG[key] == version) ?\n",
       "        Promise.resolve(paths[lib]) :\n",
       "        new Promise(function(resolve, reject) {\n",
       "          var s = document.createElement('script');\n",
       "          document.getElementsByTagName(\"head\")[0].appendChild(s);\n",
       "          s.async = true;\n",
       "          s.onload = () => {\n",
       "            VEGA_DEBUG[key] = version;\n",
       "            return resolve(paths[lib]);\n",
       "          };\n",
       "          s.onerror = () => reject(`Error loading script: ${paths[lib]}`);\n",
       "          s.src = paths[lib];\n",
       "        });\n",
       "    }\n",
       "\n",
       "    function showError(err) {\n",
       "      outputDiv.innerHTML = `<div class=\"error\" style=\"color:red;\">${err}</div>`;\n",
       "      throw err;\n",
       "    }\n",
       "\n",
       "    function displayChart(vegaEmbed) {\n",
       "      vegaEmbed(outputDiv, spec, embedOpt)\n",
       "        .catch(err => showError(`Javascript Error: ${err.message}<br>This usually means there's a typo in your chart specification. See the javascript console for the full traceback.`));\n",
       "    }\n",
       "\n",
       "    if(typeof define === \"function\" && define.amd) {\n",
       "      requirejs.config({paths});\n",
       "      let deps = [\"vega-embed\"];\n",
       "      require(deps, displayChart, err => showError(`Error loading script: ${err.message}`));\n",
       "    } else {\n",
       "      maybeLoadScript(\"vega\", \"5\")\n",
       "        .then(() => maybeLoadScript(\"vega-lite\", \"5.20.1\"))\n",
       "        .then(() => maybeLoadScript(\"vega-embed\", \"6\"))\n",
       "        .catch(showError)\n",
       "        .then(() => displayChart(vegaEmbed));\n",
       "    }\n",
       "  })({\"config\": {\"view\": {\"continuousWidth\": 300, \"continuousHeight\": 300, \"discreteHeight\": 60, \"discreteWidth\": 400}, \"header\": {\"title\": null}, \"mark\": {\"tooltip\": null}, \"title\": {\"anchor\": \"middle\"}}, \"vconcat\": [{\"mark\": {\"type\": \"bar\", \"clip\": true, \"height\": 15}, \"encoding\": {\"color\": {\"field\": \"log2_bayes_factor\", \"scale\": {\"domain\": [-10, 0, 10], \"interpolate\": \"lab\", \"range\": [\"red\", \"#bbbbbb\", \"green\"]}, \"title\": \"Match weight\", \"type\": \"quantitative\"}, \"tooltip\": [{\"field\": \"comparison_name\", \"title\": \"Comparison name\", \"type\": \"nominal\"}, {\"field\": \"probability_two_random_records_match\", \"format\": \".4f\", \"title\": \"Probability two random records match\", \"type\": \"nominal\"}, {\"field\": \"log2_bayes_factor\", \"format\": \",.4f\", \"title\": \"Equivalent match weight\", \"type\": \"quantitative\"}, {\"field\": \"bayes_factor_description\", \"title\": \"Match weight description\", \"type\": \"nominal\"}], \"x\": {\"axis\": {\"domain\": false, \"gridColor\": {\"condition\": {\"test\": \"abs(datum.value / 10)  <= 1 & datum.value % 10 === 0\", \"value\": \"#aaa\"}, \"value\": \"#ddd\"}, \"gridDash\": {\"condition\": {\"test\": \"abs(datum.value / 10) == 1\", \"value\": [3]}, \"value\": null}, \"gridWidth\": {\"condition\": {\"test\": \"abs(datum.value / 10)  <= 1 & datum.value % 10 === 0\", \"value\": 2}, \"value\": 1}, \"labels\": false, \"ticks\": false, \"title\": \"\"}, \"field\": \"log2_bayes_factor\", \"scale\": {\"domain\": [-118, 118]}, \"type\": \"quantitative\"}, \"y\": {\"axis\": {\"title\": \"Prior (starting) match weight\", \"titleAlign\": \"right\", \"titleAngle\": 0, \"titleFontWeight\": \"normal\"}, \"field\": \"label_for_charts\", \"sort\": {\"field\": \"comparison_vector_value\", \"order\": \"descending\"}, \"type\": \"nominal\"}}, \"height\": 20, \"transform\": [{\"filter\": \"(datum.comparison_name == 'probability_two_random_records_match')\"}]}, {\"mark\": {\"type\": \"bar\", \"clip\": true}, \"encoding\": {\"color\": {\"field\": \"log2_bayes_factor\", \"scale\": {\"domain\": [-10, 0, 10], \"interpolate\": \"lab\", \"range\": [\"red\", \"#bbbbbb\", \"green\"]}, \"title\": \"Match weight\", \"type\": \"quantitative\"}, \"row\": {\"field\": \"comparison_name\", \"header\": {\"labelAlign\": \"left\", \"labelAnchor\": \"middle\", \"labelAngle\": 0}, \"sort\": {\"field\": \"comparison_sort_order\"}, \"type\": \"nominal\"}, \"tooltip\": [{\"field\": \"comparison_name\", \"title\": \"Comparison name\", \"type\": \"nominal\"}, {\"field\": \"label_for_charts\", \"title\": \"Label\", \"type\": \"ordinal\"}, {\"field\": \"sql_condition\", \"title\": \"SQL condition\", \"type\": \"nominal\"}, {\"field\": \"m_probability\", \"format\": \".10~g\", \"title\": \"M probability\", \"type\": \"quantitative\"}, {\"field\": \"u_probability\", \"format\": \".10~g\", \"title\": \"U probability\", \"type\": \"quantitative\"}, {\"field\": \"bayes_factor\", \"format\": \",.6f\", \"title\": \"Bayes factor = m/u\", \"type\": \"quantitative\"}, {\"field\": \"log2_bayes_factor\", \"format\": \".4~g\", \"title\": \"Match weight = log2(m/u)\", \"type\": \"quantitative\"}, {\"field\": \"bayes_factor_description\", \"title\": \"Match weight description\", \"type\": \"nominal\"}, {\"field\": \"m_probability_description\", \"title\": \"m probability description\", \"type\": \"nominal\"}, {\"field\": \"u_probability_description\", \"title\": \"u probability description\", \"type\": \"nominal\"}], \"x\": {\"axis\": {\"gridColor\": {\"condition\": {\"test\": \"abs(datum.value / 10)  <= 1 & datum.value % 10 === 0\", \"value\": \"#aaa\"}, \"value\": \"#ddd\"}, \"gridDash\": {\"condition\": {\"test\": \"abs(datum.value / 10) == 1\", \"value\": [3]}, \"value\": null}, \"gridWidth\": {\"condition\": {\"test\": \"abs(datum.value / 10)  <= 1 & datum.value % 10 === 0\", \"value\": 2}, \"value\": 1}, \"title\": \"Comparison level match weight = log2(m/u)\"}, \"field\": \"log2_bayes_factor\", \"scale\": {\"domain\": [-118, 118]}, \"type\": \"quantitative\"}, \"y\": {\"axis\": {\"title\": null}, \"field\": \"label_for_charts\", \"sort\": {\"field\": \"comparison_vector_value\", \"order\": \"descending\"}, \"type\": \"nominal\"}}, \"height\": {\"step\": 12}, \"resolve\": {\"axis\": {\"y\": \"independent\"}, \"scale\": {\"y\": \"independent\"}}, \"transform\": [{\"filter\": \"(datum.comparison_name != 'probability_two_random_records_match')\"}]}], \"data\": {\"name\": \"data-93a99f15cc79a7a2e3e6b22c0686d822\"}, \"params\": [{\"name\": \"mouse_zoom\", \"select\": {\"type\": \"interval\", \"encodings\": [\"x\"]}, \"bind\": \"scales\", \"views\": []}], \"resolve\": {\"axis\": {\"y\": \"independent\"}, \"scale\": {\"y\": \"independent\"}}, \"title\": {\"text\": \"Model parameters (components of final match weight)\", \"subtitle\": \"Use mousewheel to zoom\"}, \"$schema\": \"https://vega.github.io/schema/vega-lite/v5.9.3.json\", \"datasets\": {\"data-93a99f15cc79a7a2e3e6b22c0686d822\": [{\"comparison_name\": \"probability_two_random_records_match\", \"sql_condition\": null, \"label_for_charts\": \"\", \"m_probability\": null, \"u_probability\": null, \"m_probability_description\": null, \"u_probability_description\": null, \"has_tf_adjustments\": false, \"tf_adjustment_column\": null, \"tf_adjustment_weight\": null, \"is_null_level\": false, \"bayes_factor\": 0.00010001000100010001, \"log2_bayes_factor\": -13.287568102831404, \"comparison_vector_value\": 0, \"max_comparison_vector_value\": 0, \"bayes_factor_description\": \"The probability that two random records drawn at random match is 0.000 or one in  10,000.0 records.This is equivalent to a starting match weight of -13.288.\", \"probability_two_random_records_match\": 0.0001, \"comparison_sort_order\": -1}, {\"comparison_name\": \"BB_Title\", \"sql_condition\": \"\\\"BB_Title_l\\\" = \\\"BB_Title_r\\\"\", \"label_for_charts\": \"Exact match on BB_Title\", \"m_probability\": 0.0035629993593667, \"u_probability\": 4.638728839858556e-06, \"m_probability_description\": \"Amongst matching record comparisons, 0.3563% of records (i.e. one in 281) are in the exact match on bb_title comparison level\", \"u_probability_description\": \"Amongst non-matching record comparisons, 0.0004639% of records (i.e. one in 215,576) are in the exact match on bb_title comparison level\", \"has_tf_adjustments\": false, \"tf_adjustment_column\": null, \"tf_adjustment_weight\": 1.0, \"is_null_level\": false, \"bayes_factor\": 768.0982187946435, \"log2_bayes_factor\": 9.585146993830273, \"comparison_vector_value\": 3, \"max_comparison_vector_value\": 3, \"bayes_factor_description\": \"If comparison level is `exact match on bb_title` then comparison is 768 times more likely to be a match\", \"probability_two_random_records_match\": 0.0001, \"comparison_sort_order\": 0}, {\"comparison_name\": \"BB_Title\", \"sql_condition\": \"jaro_winkler_similarity(\\\"BB_Title_l\\\", \\\"BB_Title_r\\\") >= 0.9\", \"label_for_charts\": \"Jaro-Winkler distance of BB_Title >= 0.9\", \"m_probability\": 0.05437430038317356, \"u_probability\": 2.8296245923137192e-05, \"m_probability_description\": \"Amongst matching record comparisons, 5.437% of records (i.e. one in 18.39) are in the jaro-winkler distance of bb_title >= 0.9 comparison level\", \"u_probability_description\": \"Amongst non-matching record comparisons, 0.00283% of records (i.e. one in 35,340) are in the jaro-winkler distance of bb_title >= 0.9 comparison level\", \"has_tf_adjustments\": false, \"tf_adjustment_column\": null, \"tf_adjustment_weight\": 1.0, \"is_null_level\": false, \"bayes_factor\": 1921.608277326744, \"log2_bayes_factor\": 10.90809855523986, \"comparison_vector_value\": 2, \"max_comparison_vector_value\": 3, \"bayes_factor_description\": \"If comparison level is `jaro-winkler distance of bb_title >= 0.9` then comparison is 1,922 times more likely to be a match\", \"probability_two_random_records_match\": 0.0001, \"comparison_sort_order\": 0}, {\"comparison_name\": \"BB_Title\", \"sql_condition\": \"jaro_winkler_similarity(\\\"BB_Title_l\\\", \\\"BB_Title_r\\\") >= 0.7\", \"label_for_charts\": \"Jaro-Winkler distance of BB_Title >= 0.7\", \"m_probability\": 0.10905708588109757, \"u_probability\": 0.0015270695340814367, \"m_probability_description\": \"Amongst matching record comparisons, 10.91% of records (i.e. one in 9.17) are in the jaro-winkler distance of bb_title >= 0.7 comparison level\", \"u_probability_description\": \"Amongst non-matching record comparisons, 0.1527% of records (i.e. one in 655) are in the jaro-winkler distance of bb_title >= 0.7 comparison level\", \"has_tf_adjustments\": false, \"tf_adjustment_column\": null, \"tf_adjustment_weight\": 1.0, \"is_null_level\": false, \"bayes_factor\": 71.41592667991875, \"log2_bayes_factor\": 6.158173944769513, \"comparison_vector_value\": 1, \"max_comparison_vector_value\": 3, \"bayes_factor_description\": \"If comparison level is `jaro-winkler distance of bb_title >= 0.7` then comparison is 71.42 times more likely to be a match\", \"probability_two_random_records_match\": 0.0001, \"comparison_sort_order\": 0}, {\"comparison_name\": \"BB_Title\", \"sql_condition\": \"ELSE\", \"label_for_charts\": \"All other comparisons\", \"m_probability\": 0.8330056143763622, \"u_probability\": 0.9984399954911556, \"m_probability_description\": \"Amongst matching record comparisons, 83.3% of records (i.e. one in 1.2) are in the all other comparisons comparison level\", \"u_probability_description\": \"Amongst non-matching record comparisons, 99.84% of records (i.e. one in 1.002) are in the all other comparisons comparison level\", \"has_tf_adjustments\": false, \"tf_adjustment_column\": null, \"tf_adjustment_weight\": 1.0, \"is_null_level\": false, \"bayes_factor\": 0.834307137272268, \"log2_bayes_factor\": -0.26134950756231734, \"comparison_vector_value\": 0, \"max_comparison_vector_value\": 3, \"bayes_factor_description\": \"If comparison level is `all other comparisons` then comparison is 1.199 times less likely to be a match\", \"probability_two_random_records_match\": 0.0001, \"comparison_sort_order\": 0}, {\"comparison_name\": \"BB_Year\", \"sql_condition\": \"\\\"BB_Year_l\\\" = \\\"BB_Year_r\\\"\", \"label_for_charts\": \"Exact match on BB_Year\", \"m_probability\": 0.95, \"u_probability\": 0.0430730727434386, \"m_probability_description\": \"Amongst matching record comparisons, 95% of records (i.e. one in 1.053) are in the exact match on bb_year comparison level\", \"u_probability_description\": \"Amongst non-matching record comparisons, 4.307% of records (i.e. one in 23.22) are in the exact match on bb_year comparison level\", \"has_tf_adjustments\": false, \"tf_adjustment_column\": null, \"tf_adjustment_weight\": 1.0, \"is_null_level\": false, \"bayes_factor\": 22.055542813455656, \"log2_bayes_factor\": 4.463069362215876, \"comparison_vector_value\": 2, \"max_comparison_vector_value\": 2, \"bayes_factor_description\": \"If comparison level is `exact match on bb_year` then comparison is 22.06 times more likely to be a match\", \"probability_two_random_records_match\": 0.0001, \"comparison_sort_order\": 1}, {\"comparison_name\": \"BB_Year\", \"sql_condition\": \"damerau_levenshtein(CAST(BB_Year_l AS TEXT), CAST(BB_Year_r AS TEXT)) <= 1\", \"label_for_charts\": \"Damerau-Levenshtein distance of CAST(BB_Year AS VARCHAR) <= 1\", \"m_probability\": 0.025000000000000022, \"u_probability\": 0.2939368118901, \"m_probability_description\": \"Amongst matching record comparisons, 2.5% of records (i.e. one in 40) are in the damerau-levenshtein distance of cast(bb_year as varchar) <= 1 comparison level\", \"u_probability_description\": \"Amongst non-matching record comparisons, 29.39% of records (i.e. one in 3.402) are in the damerau-levenshtein distance of cast(bb_year as varchar) <= 1 comparison level\", \"has_tf_adjustments\": false, \"tf_adjustment_column\": null, \"tf_adjustment_weight\": 1.0, \"is_null_level\": false, \"bayes_factor\": 0.08505229351588418, \"log2_bayes_factor\": -3.5555060497193525, \"comparison_vector_value\": 1, \"max_comparison_vector_value\": 2, \"bayes_factor_description\": \"If comparison level is `damerau-levenshtein distance of cast(bb_year as varchar) <= 1` then comparison is 11.76 times less likely to be a match\", \"probability_two_random_records_match\": 0.0001, \"comparison_sort_order\": 1}, {\"comparison_name\": \"BB_Year\", \"sql_condition\": \"ELSE\", \"label_for_charts\": \"All other comparisons\", \"m_probability\": 0.025000000000000022, \"u_probability\": 0.6629901153664614, \"m_probability_description\": \"Amongst matching record comparisons, 2.5% of records (i.e. one in 40) are in the all other comparisons comparison level\", \"u_probability_description\": \"Amongst non-matching record comparisons, 66.3% of records (i.e. one in 1.508) are in the all other comparisons comparison level\", \"has_tf_adjustments\": false, \"tf_adjustment_column\": null, \"tf_adjustment_weight\": 1.0, \"is_null_level\": false, \"bayes_factor\": 0.037707952834532855, \"log2_bayes_factor\": -4.728987361109969, \"comparison_vector_value\": 0, \"max_comparison_vector_value\": 2, \"bayes_factor_description\": \"If comparison level is `all other comparisons` then comparison is 26.52 times less likely to be a match\", \"probability_two_random_records_match\": 0.0001, \"comparison_sort_order\": 1}, {\"comparison_name\": \"BB_Directors_array\", \"sql_condition\": \"array_length(list_intersect(\\\"BB_Directors_array_l\\\", \\\"BB_Directors_array_r\\\")) >= 1\", \"label_for_charts\": \"Array intersection size >= 1\", \"m_probability\": 0.9999999999999203, \"u_probability\": 0.00028125275063814806, \"m_probability_description\": \"Amongst matching record comparisons, 100% of records (i.e. one in 1) are in the array intersection size >= 1 comparison level\", \"u_probability_description\": \"Amongst non-matching record comparisons, 0.02813% of records (i.e. one in 3,556) are in the array intersection size >= 1 comparison level\", \"has_tf_adjustments\": false, \"tf_adjustment_column\": null, \"tf_adjustment_weight\": 1.0, \"is_null_level\": false, \"bayes_factor\": 3555.5207823958044, \"log2_bayes_factor\": 11.79584517366371, \"comparison_vector_value\": 1, \"max_comparison_vector_value\": 1, \"bayes_factor_description\": \"If comparison level is `array intersection size >= 1` then comparison is 3,556 times more likely to be a match\", \"probability_two_random_records_match\": 0.0001, \"comparison_sort_order\": 2}, {\"comparison_name\": \"BB_Directors_array\", \"sql_condition\": \"ELSE\", \"label_for_charts\": \"All other comparisons\", \"m_probability\": 7.975982515156544e-14, \"u_probability\": 0.9997187472493618, \"m_probability_description\": \"Amongst matching record comparisons, 7.976e-12% of records (i.e. one in 12,537,640,323,305) are in the all other comparisons comparison level\", \"u_probability_description\": \"Amongst non-matching record comparisons, 99.97% of records (i.e. one in 1) are in the all other comparisons comparison level\", \"has_tf_adjustments\": false, \"tf_adjustment_column\": null, \"tf_adjustment_weight\": 1.0, \"is_null_level\": false, \"bayes_factor\": 7.978226413280493e-14, \"log2_bayes_factor\": -43.510925262320384, \"comparison_vector_value\": 0, \"max_comparison_vector_value\": 1, \"bayes_factor_description\": \"If comparison level is `all other comparisons` then comparison is 12,534,114,077,477 times less likely to be a match\", \"probability_two_random_records_match\": 0.0001, \"comparison_sort_order\": 2}, {\"comparison_name\": \"BB_Cast_array\", \"sql_condition\": \"array_length(list_intersect(\\\"BB_Cast_array_l\\\", \\\"BB_Cast_array_r\\\")) >= 3\", \"label_for_charts\": \"Array intersection size >= 3\", \"m_probability\": 0.507659032613011, \"u_probability\": 2.431684343893831e-05, \"m_probability_description\": \"Amongst matching record comparisons, 50.77% of records (i.e. one in 1.97) are in the array intersection size >= 3 comparison level\", \"u_probability_description\": \"Amongst non-matching record comparisons, 0.002432% of records (i.e. one in 41,124) are in the array intersection size >= 3 comparison level\", \"has_tf_adjustments\": false, \"tf_adjustment_column\": null, \"tf_adjustment_weight\": 1.0, \"is_null_level\": false, \"bayes_factor\": 20876.847518790284, \"log2_bayes_factor\": 14.349616255615384, \"comparison_vector_value\": 2, \"max_comparison_vector_value\": 2, \"bayes_factor_description\": \"If comparison level is `array intersection size >= 3` then comparison is 20,877 times more likely to be a match\", \"probability_two_random_records_match\": 0.0001, \"comparison_sort_order\": 3}, {\"comparison_name\": \"BB_Cast_array\", \"sql_condition\": \"array_length(list_intersect(\\\"BB_Cast_array_l\\\", \\\"BB_Cast_array_r\\\")) >= 1\", \"label_for_charts\": \"Array intersection size >= 1\", \"m_probability\": 0.49234096738698896, \"u_probability\": 0.0014397248339536924, \"m_probability_description\": \"Amongst matching record comparisons, 49.23% of records (i.e. one in 2.031) are in the array intersection size >= 1 comparison level\", \"u_probability_description\": \"Amongst non-matching record comparisons, 0.144% of records (i.e. one in 695) are in the array intersection size >= 1 comparison level\", \"has_tf_adjustments\": false, \"tf_adjustment_column\": null, \"tf_adjustment_weight\": 1.0, \"is_null_level\": false, \"bayes_factor\": 341.9687955475141, \"log2_bayes_factor\": 8.417720875813533, \"comparison_vector_value\": 1, \"max_comparison_vector_value\": 2, \"bayes_factor_description\": \"If comparison level is `array intersection size >= 1` then comparison is 342 times more likely to be a match\", \"probability_two_random_records_match\": 0.0001, \"comparison_sort_order\": 3}, {\"comparison_name\": \"BB_Cast_array\", \"sql_condition\": \"ELSE\", \"label_for_charts\": \"All other comparisons\", \"m_probability\": 4.766753726144968e-36, \"u_probability\": 0.9985359583226073, \"m_probability_description\": \"Amongst matching record comparisons, 4.767e-34% of records (i.e. one in 209,786,378,204,341,010,292,154,243,492,085,760) are in the all other comparisons comparison level\", \"u_probability_description\": \"Amongst non-matching record comparisons, 99.85% of records (i.e. one in 1.001) are in the all other comparisons comparison level\", \"has_tf_adjustments\": false, \"tf_adjustment_column\": null, \"tf_adjustment_weight\": 1.0, \"is_null_level\": false, \"bayes_factor\": 4.773742684392066e-36, \"log2_bayes_factor\": -117.33429061197955, \"comparison_vector_value\": 0, \"max_comparison_vector_value\": 2, \"bayes_factor_description\": \"If comparison level is `all other comparisons` then comparison is 209,479,242,203,300,602,756,748,969,922,002,944 times less likely to be a match\", \"probability_two_random_records_match\": 0.0001, \"comparison_sort_order\": 3}]}}, {\"mode\": \"vega-lite\"});\n",
       "</script>"
      ],
      "text/plain": [
       "alt.VConcatChart(...)"
      ]
     },
     "metadata": {},
     "output_type": "display_data"
    },
    {
     "name": "stdout",
     "output_type": "stream",
     "text": [
      "\n",
      "--- Executando predição na amostra ---\n"
     ]
    },
    {
     "name": "stderr",
     "output_type": "stream",
     "text": [
      "Blocking time: 0.17 seconds\n",
      "Predict time: 0.06 seconds\n",
      "\n",
      " -- WARNING --\n",
      "You have called predict(), but there are some parameter estimates which have neither been estimated or specified in your settings dictionary.  To produce predictions the following untrained trained parameters will use default values.\n",
      "Comparison: 'BB_Year':\n",
      "    m values not fully trained\n",
      "The 'probability_two_random_records_match' setting has been set to the default value (0.0001). \n",
      "If this is not the desired behaviour, either: \n",
      " - assign a value for `probability_two_random_records_match` in your settings dictionary, or \n",
      " - estimate with the `linker.estimate_probability_two_random_records_match` function.\n"
     ]
    },
    {
     "name": "stdout",
     "output_type": "stream",
     "text": [
      "\n",
      "--- Gráfico Waterfall: Dissecando as Predições ---\n"
     ]
    },
    {
     "data": {
      "text/html": [
       "\n",
       "<style>\n",
       "  #altair-viz-df5a9153b0d741c8925422d618d2ac8d.vega-embed {\n",
       "    width: 100%;\n",
       "    display: flex;\n",
       "  }\n",
       "\n",
       "  #altair-viz-df5a9153b0d741c8925422d618d2ac8d.vega-embed details,\n",
       "  #altair-viz-df5a9153b0d741c8925422d618d2ac8d.vega-embed details summary {\n",
       "    position: relative;\n",
       "  }\n",
       "</style>\n",
       "<div id=\"altair-viz-df5a9153b0d741c8925422d618d2ac8d\"></div>\n",
       "<script type=\"text/javascript\">\n",
       "  var VEGA_DEBUG = (typeof VEGA_DEBUG == \"undefined\") ? {} : VEGA_DEBUG;\n",
       "  (function(spec, embedOpt){\n",
       "    let outputDiv = document.currentScript.previousElementSibling;\n",
       "    if (outputDiv.id !== \"altair-viz-df5a9153b0d741c8925422d618d2ac8d\") {\n",
       "      outputDiv = document.getElementById(\"altair-viz-df5a9153b0d741c8925422d618d2ac8d\");\n",
       "    }\n",
       "\n",
       "    const paths = {\n",
       "      \"vega\": \"https://cdn.jsdelivr.net/npm/vega@5?noext\",\n",
       "      \"vega-lib\": \"https://cdn.jsdelivr.net/npm/vega-lib?noext\",\n",
       "      \"vega-lite\": \"https://cdn.jsdelivr.net/npm/vega-lite@5.20.1?noext\",\n",
       "      \"vega-embed\": \"https://cdn.jsdelivr.net/npm/vega-embed@6?noext\",\n",
       "    };\n",
       "\n",
       "    function maybeLoadScript(lib, version) {\n",
       "      var key = `${lib.replace(\"-\", \"\")}_version`;\n",
       "      return (VEGA_DEBUG[key] == version) ?\n",
       "        Promise.resolve(paths[lib]) :\n",
       "        new Promise(function(resolve, reject) {\n",
       "          var s = document.createElement('script');\n",
       "          document.getElementsByTagName(\"head\")[0].appendChild(s);\n",
       "          s.async = true;\n",
       "          s.onload = () => {\n",
       "            VEGA_DEBUG[key] = version;\n",
       "            return resolve(paths[lib]);\n",
       "          };\n",
       "          s.onerror = () => reject(`Error loading script: ${paths[lib]}`);\n",
       "          s.src = paths[lib];\n",
       "        });\n",
       "    }\n",
       "\n",
       "    function showError(err) {\n",
       "      outputDiv.innerHTML = `<div class=\"error\" style=\"color:red;\">${err}</div>`;\n",
       "      throw err;\n",
       "    }\n",
       "\n",
       "    function displayChart(vegaEmbed) {\n",
       "      vegaEmbed(outputDiv, spec, embedOpt)\n",
       "        .catch(err => showError(`Javascript Error: ${err.message}<br>This usually means there's a typo in your chart specification. See the javascript console for the full traceback.`));\n",
       "    }\n",
       "\n",
       "    if(typeof define === \"function\" && define.amd) {\n",
       "      requirejs.config({paths});\n",
       "      let deps = [\"vega-embed\"];\n",
       "      require(deps, displayChart, err => showError(`Error loading script: ${err.message}`));\n",
       "    } else {\n",
       "      maybeLoadScript(\"vega\", \"5\")\n",
       "        .then(() => maybeLoadScript(\"vega-lite\", \"5.20.1\"))\n",
       "        .then(() => maybeLoadScript(\"vega-embed\", \"6\"))\n",
       "        .catch(showError)\n",
       "        .then(() => displayChart(vegaEmbed));\n",
       "    }\n",
       "  })({\"config\": {\"view\": {\"continuousWidth\": 400, \"continuousHeight\": 300}}, \"layer\": [{\"layer\": [{\"mark\": \"rule\", \"encoding\": {\"color\": {\"value\": \"black\"}, \"size\": {\"value\": 0.5}, \"y\": {\"field\": \"zero\", \"type\": \"quantitative\"}}}, {\"mark\": {\"type\": \"bar\", \"width\": 60}, \"encoding\": {\"color\": {\"condition\": {\"test\": \"(datum.log2_bayes_factor < 0)\", \"value\": \"red\"}, \"value\": \"green\"}, \"opacity\": {\"condition\": {\"test\": \"datum.column_name == 'Prior match weight' || datum.column_name == 'Final score'\", \"value\": 1}, \"value\": 0.5}, \"tooltip\": [{\"field\": \"column_name\", \"title\": \"Comparison column\", \"type\": \"nominal\"}, {\"field\": \"value_l\", \"title\": \"Value (L)\", \"type\": \"nominal\"}, {\"field\": \"value_r\", \"title\": \"Value (R)\", \"type\": \"nominal\"}, {\"field\": \"label_for_charts\", \"title\": \"Label\", \"type\": \"ordinal\"}, {\"field\": \"sql_condition\", \"title\": \"SQL condition\", \"type\": \"nominal\"}, {\"field\": \"comparison_vector_value\", \"title\": \"Comparison vector value\", \"type\": \"nominal\"}, {\"field\": \"bayes_factor\", \"format\": \",.4f\", \"title\": \"Bayes factor = m/u\", \"type\": \"quantitative\"}, {\"field\": \"log2_bayes_factor\", \"format\": \",.4f\", \"title\": \"Match weight = log2(m/u)\", \"type\": \"quantitative\"}, {\"field\": \"prob\", \"format\": \".4f\", \"title\": \"Cumulative match probability\", \"type\": \"quantitative\"}, {\"field\": \"bayes_factor_description\", \"title\": \"Match weight description\", \"type\": \"nominal\"}], \"x\": {\"axis\": {\"grid\": true, \"labelAlign\": \"center\", \"labelAngle\": -20, \"labelExpr\": \"datum.value == 'Prior' || datum.value == 'Final score' ? '' : datum.value\", \"labelPadding\": 10, \"tickBand\": \"extent\", \"title\": \"Column\"}, \"field\": \"column_name\", \"sort\": {\"field\": \"bar_sort_order\", \"order\": \"ascending\"}, \"type\": \"nominal\"}, \"y\": {\"axis\": {\"grid\": false, \"orient\": \"left\", \"title\": \"Match Weight\"}, \"field\": \"previous_sum\", \"type\": \"quantitative\"}, \"y2\": {\"field\": \"sum\"}}}, {\"mark\": {\"type\": \"text\", \"fontWeight\": \"bold\"}, \"encoding\": {\"color\": {\"value\": \"white\"}, \"text\": {\"condition\": {\"test\": \"abs(datum.log2_bayes_factor) > 1\", \"field\": \"log2_bayes_factor\", \"format\": \".2f\", \"type\": \"nominal\"}, \"value\": \"\"}, \"x\": {\"axis\": {\"labelAngle\": -20, \"title\": \"Column\"}, \"field\": \"column_name\", \"sort\": {\"field\": \"bar_sort_order\", \"order\": \"ascending\"}, \"type\": \"nominal\"}, \"y\": {\"axis\": {\"orient\": \"left\"}, \"field\": \"center\", \"type\": \"quantitative\"}}}, {\"mark\": {\"type\": \"text\", \"baseline\": \"bottom\", \"dy\": -25, \"fontWeight\": \"bold\"}, \"encoding\": {\"color\": {\"value\": \"black\"}, \"text\": {\"field\": \"column_name\", \"type\": \"nominal\"}, \"x\": {\"axis\": {\"labelAngle\": -20, \"title\": \"Column\"}, \"field\": \"column_name\", \"sort\": {\"field\": \"bar_sort_order\", \"order\": \"ascending\"}, \"type\": \"nominal\"}, \"y\": {\"field\": \"sum_top\", \"type\": \"quantitative\"}}}, {\"mark\": {\"type\": \"text\", \"baseline\": \"bottom\", \"dy\": -13, \"fontSize\": 8}, \"encoding\": {\"color\": {\"value\": \"grey\"}, \"text\": {\"field\": \"value_l\", \"type\": \"nominal\"}, \"x\": {\"axis\": {\"labelAngle\": -20, \"title\": \"Column\"}, \"field\": \"column_name\", \"sort\": {\"field\": \"bar_sort_order\", \"order\": \"ascending\"}, \"type\": \"nominal\"}, \"y\": {\"field\": \"sum_top\", \"type\": \"quantitative\"}}}, {\"mark\": {\"type\": \"text\", \"baseline\": \"bottom\", \"dy\": -5, \"fontSize\": 8}, \"encoding\": {\"color\": {\"value\": \"grey\"}, \"text\": {\"field\": \"value_r\", \"type\": \"nominal\"}, \"x\": {\"axis\": {\"labelAngle\": -20, \"title\": \"Column\"}, \"field\": \"column_name\", \"sort\": {\"field\": \"bar_sort_order\", \"order\": \"ascending\"}, \"type\": \"nominal\"}, \"y\": {\"field\": \"sum_top\", \"type\": \"quantitative\"}}}]}, {\"mark\": {\"type\": \"rule\", \"color\": \"black\", \"strokeWidth\": 2, \"x2Offset\": 30, \"xOffset\": -30}, \"encoding\": {\"x\": {\"axis\": {\"labelAngle\": -20, \"title\": \"Column\"}, \"field\": \"column_name\", \"sort\": {\"field\": \"bar_sort_order\", \"order\": \"ascending\"}, \"type\": \"nominal\"}, \"x2\": {\"field\": \"lead\"}, \"y\": {\"axis\": {\"labelExpr\": \"format(1 / (1 + pow(2, -1*datum.value)), '.2r')\", \"orient\": \"right\", \"title\": \"Probability\"}, \"field\": \"sum\", \"scale\": {\"zero\": false}, \"type\": \"quantitative\"}}}], \"data\": {\"name\": \"data-7da93624dfea05e0824d76e3de7d6b8d\"}, \"height\": 450, \"params\": [{\"name\": \"record_number\", \"bind\": {\"input\": \"range\", \"max\": 5, \"min\": 0, \"step\": 1}, \"value\": 0}], \"resolve\": {\"axis\": {\"y\": \"independent\"}}, \"title\": {\"text\": \"Match weights waterfall chart\", \"subtitle\": \"How each comparison contributes to the final match score\"}, \"transform\": [{\"filter\": \"(datum.record_number == record_number)\"}, {\"filter\": \"(datum.bayes_factor !== 1.0)\"}, {\"window\": [{\"op\": \"sum\", \"field\": \"log2_bayes_factor\", \"as\": \"sum\"}, {\"op\": \"lead\", \"field\": \"column_name\", \"as\": \"lead\"}], \"frame\": [null, 0]}, {\"calculate\": \"datum.column_name === \\\"Final score\\\" ? datum.sum - datum.log2_bayes_factor : datum.sum\", \"as\": \"sum\"}, {\"calculate\": \"datum.lead === null ? datum.column_name : datum.lead\", \"as\": \"lead\"}, {\"calculate\": \"datum.column_name === \\\"Final score\\\" || datum.column_name === \\\"Prior match weight\\\" ? 0 : datum.sum - datum.log2_bayes_factor\", \"as\": \"previous_sum\"}, {\"calculate\": \"datum.sum > datum.previous_sum ? datum.column_name : \\\"\\\"\", \"as\": \"top_label\"}, {\"calculate\": \"datum.sum < datum.previous_sum ? datum.column_name : \\\"\\\"\", \"as\": \"bottom_label\"}, {\"calculate\": \"datum.sum > datum.previous_sum ? datum.sum : datum.previous_sum\", \"as\": \"sum_top\"}, {\"calculate\": \"datum.sum < datum.previous_sum ? datum.sum : datum.previous_sum\", \"as\": \"sum_bottom\"}, {\"calculate\": \"(datum.sum + datum.previous_sum) / 2\", \"as\": \"center\"}, {\"calculate\": \"(datum.log2_bayes_factor > 0 ? \\\"+\\\" : \\\"\\\") + datum.log2_bayes_factor\", \"as\": \"text_log2_bayes_factor\"}, {\"calculate\": \"datum.sum < datum.previous_sum ? 4 : -4\", \"as\": \"dy\"}, {\"calculate\": \"datum.sum < datum.previous_sum ? \\\"top\\\" : \\\"bottom\\\"\", \"as\": \"baseline\"}, {\"calculate\": \"1. / (1 + pow(2, -1.*datum.sum))\", \"as\": \"prob\"}, {\"calculate\": \"0*datum.sum\", \"as\": \"zero\"}], \"width\": {\"step\": 75}, \"$schema\": \"https://vega.github.io/schema/vega-lite/v5.9.3.json\", \"datasets\": {\"data-7da93624dfea05e0824d76e3de7d6b8d\": [{\"column_name\": \"Prior\", \"label_for_charts\": \"Starting match weight (prior)\", \"sql_condition\": null, \"log2_bayes_factor\": -13.287568102831404, \"bayes_factor\": 0.00010001000100010001, \"comparison_vector_value\": null, \"m_probability\": null, \"u_probability\": null, \"bayes_factor_description\": null, \"value_l\": \"\", \"value_r\": \"\", \"term_frequency_adjustment\": null, \"bar_sort_order\": 0, \"record_number\": 0}, {\"sql_condition\": \"ELSE\", \"label_for_charts\": \"All other comparisons\", \"m_probability\": 0.8330056143763622, \"u_probability\": 0.9984399954911556, \"bayes_factor\": 0.834307137272268, \"log2_bayes_factor\": -0.26134950756231734, \"comparison_vector_value\": 0, \"bayes_factor_description\": \"If comparison level is `all other comparisons` then comparison is 1.199 times less likely to be a match\", \"column_name\": \"BB_Title\", \"value_l\": \"The Lin Family Shop\", \"value_r\": \"The Beatniks\", \"term_frequency_adjustment\": false, \"bar_sort_order\": 1, \"record_number\": 0}, {\"sql_condition\": \"\\\"BB_Year_l\\\" = \\\"BB_Year_r\\\"\", \"label_for_charts\": \"Exact match on BB_Year\", \"m_probability\": 0.95, \"u_probability\": 0.0430730727434386, \"bayes_factor\": 22.055542813455656, \"log2_bayes_factor\": 4.463069362215876, \"comparison_vector_value\": 2, \"bayes_factor_description\": \"If comparison level is `exact match on bb_year` then comparison is 22.06 times more likely to be a match\", \"column_name\": \"BB_Year\", \"value_l\": \"1959.0\", \"value_r\": \"1959.0\", \"term_frequency_adjustment\": false, \"bar_sort_order\": 2, \"record_number\": 0}, {\"sql_condition\": \"ELSE\", \"label_for_charts\": \"All other comparisons\", \"m_probability\": 7.975982515156544e-14, \"u_probability\": 0.9997187472493618, \"bayes_factor\": 7.978226413280493e-14, \"log2_bayes_factor\": -43.510925262320384, \"comparison_vector_value\": 0, \"bayes_factor_description\": \"If comparison level is `all other comparisons` then comparison is 12,534,114,077,477 times less likely to be a match\", \"column_name\": \"BB_Directors_array\", \"value_l\": \"['Choui Khoua']\", \"value_r\": \"['Paul Frees']\", \"term_frequency_adjustment\": false, \"bar_sort_order\": 3, \"record_number\": 0}, {\"sql_condition\": \"ELSE\", \"label_for_charts\": \"All other comparisons\", \"m_probability\": 4.766753726144968e-36, \"u_probability\": 0.9985359583226073, \"bayes_factor\": 4.773742684392066e-36, \"log2_bayes_factor\": -117.33429061197955, \"comparison_vector_value\": 0, \"bayes_factor_description\": \"If comparison level is `all other comparisons` then comparison is 209,479,242,203,300,602,756,748,969,922,002,944 times less likely to be a match\", \"column_name\": \"BB_Cast_array\", \"value_l\": \"[' Yan Han', ' Bing Guo', ' Lin Bin', ' Cai Yuanyuan', ' Han Tao', ' Lin Li', ' Chen Shu', ' Li Di', ' Lihua Ba', ' Ma Wei', ' Ran An', ' Shao Hua', 'Tian Xie', ' Shun Feng', ' Xin Liang', ' Yu Lan', ' Yu Zhongyi', ' Zhang Liang', ' Zhou Senguan', ' Ziyue Zhao']\", \"value_r\": \"[' Bob Wells', ' Joyce Terry', ' Charles Delaney', ' Robert Paquin', ' Karen Kadler', ' Sam Edwards', ' Claude Stroud', ' Eddie Brandt', ' Frank Worth', ' Martha Wentworth', 'Tony Travis', ' Paul Frees', ' Peter Breck']\", \"term_frequency_adjustment\": false, \"bar_sort_order\": 4, \"record_number\": 0}, {\"column_name\": \"Final score\", \"label_for_charts\": \"Final score\", \"sql_condition\": null, \"log2_bayes_factor\": -169.93106412247778, \"bayes_factor\": 7.008942611422148e-52, \"comparison_vector_value\": null, \"m_probability\": null, \"u_probability\": null, \"bayes_factor_description\": null, \"value_l\": \"\", \"value_r\": \"\", \"term_frequency_adjustment\": null, \"bar_sort_order\": 5, \"record_number\": 0}, {\"column_name\": \"Prior\", \"label_for_charts\": \"Starting match weight (prior)\", \"sql_condition\": null, \"log2_bayes_factor\": -13.287568102831404, \"bayes_factor\": 0.00010001000100010001, \"comparison_vector_value\": null, \"m_probability\": null, \"u_probability\": null, \"bayes_factor_description\": null, \"value_l\": \"\", \"value_r\": \"\", \"term_frequency_adjustment\": null, \"bar_sort_order\": 0, \"record_number\": 1}, {\"sql_condition\": \"ELSE\", \"label_for_charts\": \"All other comparisons\", \"m_probability\": 0.8330056143763622, \"u_probability\": 0.9984399954911556, \"bayes_factor\": 0.834307137272268, \"log2_bayes_factor\": -0.26134950756231734, \"comparison_vector_value\": 0, \"bayes_factor_description\": \"If comparison level is `all other comparisons` then comparison is 1.199 times less likely to be a match\", \"column_name\": \"BB_Title\", \"value_l\": \"School van geloof - 24/06/20 - Nederland\", \"value_r\": \"Encounter with God - 23/02/20 - Russia\", \"term_frequency_adjustment\": false, \"bar_sort_order\": 1, \"record_number\": 1}, {\"sql_condition\": \"\\\"BB_Year_l\\\" = \\\"BB_Year_r\\\"\", \"label_for_charts\": \"Exact match on BB_Year\", \"m_probability\": 0.95, \"u_probability\": 0.0430730727434386, \"bayes_factor\": 22.055542813455656, \"log2_bayes_factor\": 4.463069362215876, \"comparison_vector_value\": 2, \"bayes_factor_description\": \"If comparison level is `exact match on bb_year` then comparison is 22.06 times more likely to be a match\", \"column_name\": \"BB_Year\", \"value_l\": \"2020.0\", \"value_r\": \"2020.0\", \"term_frequency_adjustment\": false, \"bar_sort_order\": 2, \"record_number\": 1}, {\"sql_condition\": \"ELSE\", \"label_for_charts\": \"All other comparisons\", \"m_probability\": 7.975982515156544e-14, \"u_probability\": 0.9997187472493618, \"bayes_factor\": 7.978226413280493e-14, \"log2_bayes_factor\": -43.510925262320384, \"comparison_vector_value\": 0, \"bayes_factor_description\": \"If comparison level is `all other comparisons` then comparison is 12,534,114,077,477 times less likely to be a match\", \"column_name\": \"BB_Directors_array\", \"value_l\": \"['Universele Kerk Van Gods Rijk']\", \"value_r\": \"['Universal Church']\", \"term_frequency_adjustment\": false, \"bar_sort_order\": 3, \"record_number\": 1}, {\"sql_condition\": \"\\\"BB_Cast_array_l\\\" IS NULL OR \\\"BB_Cast_array_r\\\" IS NULL\", \"label_for_charts\": \"BB_Cast_array is NULL\", \"bayes_factor\": 1.0, \"log2_bayes_factor\": 0.0, \"comparison_vector_value\": -1, \"bayes_factor_description\": \"If comparison level is `bb_cast_array is null` then comparison is 1 times more likely to be a match\", \"column_name\": \"BB_Cast_array\", \"value_l\": \"None\", \"value_r\": \"None\", \"term_frequency_adjustment\": false, \"bar_sort_order\": 4, \"record_number\": 1}, {\"column_name\": \"Final score\", \"label_for_charts\": \"Final score\", \"sql_condition\": null, \"log2_bayes_factor\": -52.59677351049823, \"bayes_factor\": 1.4682279868871273e-16, \"comparison_vector_value\": null, \"m_probability\": null, \"u_probability\": null, \"bayes_factor_description\": null, \"value_l\": \"\", \"value_r\": \"\", \"term_frequency_adjustment\": null, \"bar_sort_order\": 5, \"record_number\": 1}, {\"column_name\": \"Prior\", \"label_for_charts\": \"Starting match weight (prior)\", \"sql_condition\": null, \"log2_bayes_factor\": -13.287568102831404, \"bayes_factor\": 0.00010001000100010001, \"comparison_vector_value\": null, \"m_probability\": null, \"u_probability\": null, \"bayes_factor_description\": null, \"value_l\": \"\", \"value_r\": \"\", \"term_frequency_adjustment\": null, \"bar_sort_order\": 0, \"record_number\": 2}, {\"sql_condition\": \"ELSE\", \"label_for_charts\": \"All other comparisons\", \"m_probability\": 0.8330056143763622, \"u_probability\": 0.9984399954911556, \"bayes_factor\": 0.834307137272268, \"log2_bayes_factor\": -0.26134950756231734, \"comparison_vector_value\": 0, \"bayes_factor_description\": \"If comparison level is `all other comparisons` then comparison is 1.199 times less likely to be a match\", \"column_name\": \"BB_Title\", \"value_l\": \"The Crew\", \"value_r\": \"The Eric Andre Show\", \"term_frequency_adjustment\": false, \"bar_sort_order\": 1, \"record_number\": 2}, {\"sql_condition\": \"\\\"BB_Year_l\\\" = \\\"BB_Year_r\\\"\", \"label_for_charts\": \"Exact match on BB_Year\", \"m_probability\": 0.95, \"u_probability\": 0.0430730727434386, \"bayes_factor\": 22.055542813455656, \"log2_bayes_factor\": 4.463069362215876, \"comparison_vector_value\": 2, \"bayes_factor_description\": \"If comparison level is `exact match on bb_year` then comparison is 22.06 times more likely to be a match\", \"column_name\": \"BB_Year\", \"value_l\": \"2012.0\", \"value_r\": \"2012.0\", \"term_frequency_adjustment\": false, \"bar_sort_order\": 2, \"record_number\": 2}, {\"sql_condition\": \"ELSE\", \"label_for_charts\": \"All other comparisons\", \"m_probability\": 7.975982515156544e-14, \"u_probability\": 0.9997187472493618, \"bayes_factor\": 7.978226413280493e-14, \"log2_bayes_factor\": -43.510925262320384, \"comparison_vector_value\": 0, \"bayes_factor_description\": \"If comparison level is `all other comparisons` then comparison is 12,534,114,077,477 times less likely to be a match\", \"column_name\": \"BB_Directors_array\", \"value_l\": \"['Kate Kaminski']\", \"value_r\": \"[' Andrew Barchilon', ' Jeff Tremaine', 'Kitao Sakurai']\", \"term_frequency_adjustment\": false, \"bar_sort_order\": 3, \"record_number\": 2}, {\"sql_condition\": \"ELSE\", \"label_for_charts\": \"All other comparisons\", \"m_probability\": 4.766753726144968e-36, \"u_probability\": 0.9985359583226073, \"bayes_factor\": 4.773742684392066e-36, \"log2_bayes_factor\": -117.33429061197955, \"comparison_vector_value\": 0, \"bayes_factor_description\": \"If comparison level is `all other comparisons` then comparison is 209,479,242,203,300,602,756,748,969,922,002,944 times less likely to be a match\", \"column_name\": \"BB_Cast_array\", \"value_l\": \"[' Shannon Campbell', ' Paul Drinan', ' Kenneth Hughes', ' Alexandra Mann', ' Reggie Hodges', ' Kate Davis', ' Brent Askari', ' Jeffrey Charles Day', ' Shawn Harmon', 'Keith Anctil']\", \"value_r\": \"[' Adora Dei', ' JV Smith', ' Dan Curry', ' Early McCalister', ' Duane R. Shepard Sr.', ' John Bueno', ' Felipe Esparza', ' Hannibal Buress', ' Gary Anthony Williams', ' Jermaine Fowler', ' Jerry Wheeler', ' Karen Elaine', ' Pat Regan', ' Pfelton Sutton', ' Robert Smith', ' Tom Ato', 'Eric Andr\\u00e9', ' Tom Kane']\", \"term_frequency_adjustment\": false, \"bar_sort_order\": 4, \"record_number\": 2}, {\"column_name\": \"Final score\", \"label_for_charts\": \"Final score\", \"sql_condition\": null, \"log2_bayes_factor\": -169.93106412247778, \"bayes_factor\": 7.008942611422148e-52, \"comparison_vector_value\": null, \"m_probability\": null, \"u_probability\": null, \"bayes_factor_description\": null, \"value_l\": \"\", \"value_r\": \"\", \"term_frequency_adjustment\": null, \"bar_sort_order\": 5, \"record_number\": 2}, {\"column_name\": \"Prior\", \"label_for_charts\": \"Starting match weight (prior)\", \"sql_condition\": null, \"log2_bayes_factor\": -13.287568102831404, \"bayes_factor\": 0.00010001000100010001, \"comparison_vector_value\": null, \"m_probability\": null, \"u_probability\": null, \"bayes_factor_description\": null, \"value_l\": \"\", \"value_r\": \"\", \"term_frequency_adjustment\": null, \"bar_sort_order\": 0, \"record_number\": 3}, {\"sql_condition\": \"ELSE\", \"label_for_charts\": \"All other comparisons\", \"m_probability\": 0.8330056143763622, \"u_probability\": 0.9984399954911556, \"bayes_factor\": 0.834307137272268, \"log2_bayes_factor\": -0.26134950756231734, \"comparison_vector_value\": 0, \"bayes_factor_description\": \"If comparison level is `all other comparisons` then comparison is 1.199 times less likely to be a match\", \"column_name\": \"BB_Title\", \"value_l\": \"RiffTrax: Jack Frost\", \"value_r\": \"RiffTrax: Kill and Kill Again\", \"term_frequency_adjustment\": false, \"bar_sort_order\": 1, \"record_number\": 3}, {\"sql_condition\": \"\\\"BB_Year_l\\\" = \\\"BB_Year_r\\\"\", \"label_for_charts\": \"Exact match on BB_Year\", \"m_probability\": 0.95, \"u_probability\": 0.0430730727434386, \"bayes_factor\": 22.055542813455656, \"log2_bayes_factor\": 4.463069362215876, \"comparison_vector_value\": 2, \"bayes_factor_description\": \"If comparison level is `exact match on bb_year` then comparison is 22.06 times more likely to be a match\", \"column_name\": \"BB_Year\", \"value_l\": \"2017.0\", \"value_r\": \"2017.0\", \"term_frequency_adjustment\": false, \"bar_sort_order\": 2, \"record_number\": 3}, {\"sql_condition\": \"\\\"BB_Directors_array_l\\\" IS NULL OR \\\"BB_Directors_array_r\\\" IS NULL\", \"label_for_charts\": \"BB_Directors_array is NULL\", \"bayes_factor\": 1.0, \"log2_bayes_factor\": 0.0, \"comparison_vector_value\": -1, \"bayes_factor_description\": \"If comparison level is `bb_directors_array is null` then comparison is 1 times more likely to be a match\", \"column_name\": \"BB_Directors_array\", \"value_l\": \"None\", \"value_r\": \"['Michael J. Nelson']\", \"term_frequency_adjustment\": false, \"bar_sort_order\": 3, \"record_number\": 3}, {\"sql_condition\": \"array_length(list_intersect(\\\"BB_Cast_array_l\\\", \\\"BB_Cast_array_r\\\")) >= 1\", \"label_for_charts\": \"Array intersection size >= 1\", \"m_probability\": 0.49234096738698896, \"u_probability\": 0.0014397248339536924, \"bayes_factor\": 341.9687955475141, \"log2_bayes_factor\": 8.417720875813533, \"comparison_vector_value\": 1, \"bayes_factor_description\": \"If comparison level is `array intersection size >= 1` then comparison is 342 times more likely to be a match\", \"column_name\": \"BB_Cast_array\", \"value_l\": \"[' Kevin Murphy' ' Michael J. Nelson' 'Bill Corbett']\", \"value_r\": \"[' Bill Corbett' ' Kevin Murphy' 'Michael J. Nelson']\", \"term_frequency_adjustment\": false, \"bar_sort_order\": 4, \"record_number\": 3}, {\"column_name\": \"Final score\", \"label_for_charts\": \"Final score\", \"sql_condition\": null, \"log2_bayes_factor\": -0.6681273723643135, \"bayes_factor\": 0.6293230227575025, \"comparison_vector_value\": null, \"m_probability\": null, \"u_probability\": null, \"bayes_factor_description\": null, \"value_l\": \"\", \"value_r\": \"\", \"term_frequency_adjustment\": null, \"bar_sort_order\": 5, \"record_number\": 3}, {\"column_name\": \"Prior\", \"label_for_charts\": \"Starting match weight (prior)\", \"sql_condition\": null, \"log2_bayes_factor\": -13.287568102831404, \"bayes_factor\": 0.00010001000100010001, \"comparison_vector_value\": null, \"m_probability\": null, \"u_probability\": null, \"bayes_factor_description\": null, \"value_l\": \"\", \"value_r\": \"\", \"term_frequency_adjustment\": null, \"bar_sort_order\": 0, \"record_number\": 4}, {\"sql_condition\": \"ELSE\", \"label_for_charts\": \"All other comparisons\", \"m_probability\": 0.8330056143763622, \"u_probability\": 0.9984399954911556, \"bayes_factor\": 0.834307137272268, \"log2_bayes_factor\": -0.26134950756231734, \"comparison_vector_value\": 0, \"bayes_factor_description\": \"If comparison level is `all other comparisons` then comparison is 1.199 times less likely to be a match\", \"column_name\": \"BB_Title\", \"value_l\": \"The Oprah Conversation\", \"value_r\": \"The Gentlemen\", \"term_frequency_adjustment\": false, \"bar_sort_order\": 1, \"record_number\": 4}, {\"sql_condition\": \"\\\"BB_Year_l\\\" = \\\"BB_Year_r\\\"\", \"label_for_charts\": \"Exact match on BB_Year\", \"m_probability\": 0.95, \"u_probability\": 0.0430730727434386, \"bayes_factor\": 22.055542813455656, \"log2_bayes_factor\": 4.463069362215876, \"comparison_vector_value\": 2, \"bayes_factor_description\": \"If comparison level is `exact match on bb_year` then comparison is 22.06 times more likely to be a match\", \"column_name\": \"BB_Year\", \"value_l\": \"2020.0\", \"value_r\": \"2020.0\", \"term_frequency_adjustment\": false, \"bar_sort_order\": 2, \"record_number\": 4}, {\"sql_condition\": \"\\\"BB_Directors_array_l\\\" IS NULL OR \\\"BB_Directors_array_r\\\" IS NULL\", \"label_for_charts\": \"BB_Directors_array is NULL\", \"bayes_factor\": 1.0, \"log2_bayes_factor\": 0.0, \"comparison_vector_value\": -1, \"bayes_factor_description\": \"If comparison level is `bb_directors_array is null` then comparison is 1 times more likely to be a match\", \"column_name\": \"BB_Directors_array\", \"value_l\": \"None\", \"value_r\": \"['Guy Ritchie']\", \"term_frequency_adjustment\": false, \"bar_sort_order\": 3, \"record_number\": 4}, {\"sql_condition\": \"array_length(list_intersect(\\\"BB_Cast_array_l\\\", \\\"BB_Cast_array_r\\\")) >= 1\", \"label_for_charts\": \"Array intersection size >= 1\", \"m_probability\": 0.49234096738698896, \"u_probability\": 0.0014397248339536924, \"bayes_factor\": 341.9687955475141, \"log2_bayes_factor\": 8.417720875813533, \"comparison_vector_value\": 1, \"bayes_factor_description\": \"If comparison level is `array intersection size >= 1` then comparison is 342 times more likely to be a match\", \"column_name\": \"BB_Cast_array\", \"value_l\": \"[' Isabel Wilkerson' ' Barack Obama' ' Oprah Winfrey' ' Mariah Carey'\\n ' Ibram X. Kendi' ' Dolly Parton' ' Matthew McConaughey' ' Emmanuel Acho'\\n ' Stevie Wonder' 'Bryan Stevenson']\", \"value_r\": \"[' Charlie Hunnam' ' Henry Golding' ' Chidi Ajufo' ' Jeremy Strong'\\n ' Colin Farrell' ' Hugh Grant' ' Michelle Dockery' ' Matthew McConaughey'\\n ' Tom Wu' 'Lyne Ren\\u00e9e']\", \"term_frequency_adjustment\": false, \"bar_sort_order\": 4, \"record_number\": 4}, {\"column_name\": \"Final score\", \"label_for_charts\": \"Final score\", \"sql_condition\": null, \"log2_bayes_factor\": -0.6681273723643135, \"bayes_factor\": 0.6293230227575025, \"comparison_vector_value\": null, \"m_probability\": null, \"u_probability\": null, \"bayes_factor_description\": null, \"value_l\": \"\", \"value_r\": \"\", \"term_frequency_adjustment\": null, \"bar_sort_order\": 5, \"record_number\": 4}, {\"column_name\": \"Prior\", \"label_for_charts\": \"Starting match weight (prior)\", \"sql_condition\": null, \"log2_bayes_factor\": -13.287568102831404, \"bayes_factor\": 0.00010001000100010001, \"comparison_vector_value\": null, \"m_probability\": null, \"u_probability\": null, \"bayes_factor_description\": null, \"value_l\": \"\", \"value_r\": \"\", \"term_frequency_adjustment\": null, \"bar_sort_order\": 0, \"record_number\": 5}, {\"sql_condition\": \"ELSE\", \"label_for_charts\": \"All other comparisons\", \"m_probability\": 0.8330056143763622, \"u_probability\": 0.9984399954911556, \"bayes_factor\": 0.834307137272268, \"log2_bayes_factor\": -0.26134950756231734, \"comparison_vector_value\": 0, \"bayes_factor_description\": \"If comparison level is `all other comparisons` then comparison is 1.199 times less likely to be a match\", \"column_name\": \"BB_Title\", \"value_l\": \"Muito+\", \"value_r\": \"Katy Perry: Part of Me\", \"term_frequency_adjustment\": false, \"bar_sort_order\": 1, \"record_number\": 5}, {\"sql_condition\": \"\\\"BB_Year_l\\\" = \\\"BB_Year_r\\\"\", \"label_for_charts\": \"Exact match on BB_Year\", \"m_probability\": 0.95, \"u_probability\": 0.0430730727434386, \"bayes_factor\": 22.055542813455656, \"log2_bayes_factor\": 4.463069362215876, \"comparison_vector_value\": 2, \"bayes_factor_description\": \"If comparison level is `exact match on bb_year` then comparison is 22.06 times more likely to be a match\", \"column_name\": \"BB_Year\", \"value_l\": \"2012.0\", \"value_r\": \"2012.0\", \"term_frequency_adjustment\": false, \"bar_sort_order\": 2, \"record_number\": 5}, {\"sql_condition\": \"\\\"BB_Directors_array_l\\\" IS NULL OR \\\"BB_Directors_array_r\\\" IS NULL\", \"label_for_charts\": \"BB_Directors_array is NULL\", \"bayes_factor\": 1.0, \"log2_bayes_factor\": 0.0, \"comparison_vector_value\": -1, \"bayes_factor_description\": \"If comparison level is `bb_directors_array is null` then comparison is 1 times more likely to be a match\", \"column_name\": \"BB_Directors_array\", \"value_l\": \"None\", \"value_r\": \"[' Jane Lipsitz' 'Dan Cutforth']\", \"term_frequency_adjustment\": false, \"bar_sort_order\": 3, \"record_number\": 5}, {\"sql_condition\": \"array_length(list_intersect(\\\"BB_Cast_array_l\\\", \\\"BB_Cast_array_r\\\")) >= 1\", \"label_for_charts\": \"Array intersection size >= 1\", \"m_probability\": 0.49234096738698896, \"u_probability\": 0.0014397248339536924, \"bayes_factor\": 341.9687955475141, \"log2_bayes_factor\": 8.417720875813533, \"comparison_vector_value\": 1, \"bayes_factor_description\": \"If comparison level is `array intersection size >= 1` then comparison is 342 times more likely to be a match\", \"column_name\": \"BB_Cast_array\", \"value_l\": \"['Katy Perry' ' Daniel Carvalho' ' Adriane Galisteu'\\n ' Narcisa Tamborindeguy' ' Mica Rocha' ' Lela Gomes' ' Lysandro Kapila'\\n ' M\\u00f4nica Apor' ' Rita Batista' ' Vin\\u00edcius Gomez']\", \"value_r\": \"[' Glen Ballard' ' Adam Marcello' ' Brandee Evans' ' Joshua Moreau'\\n ' Shannon Woodward' ' Anthony Burrell' ' Ashley Ashida Dixon'\\n ' Bryan Gaw' ' Casey Hooper' ' Kesha' ' Lauren Allison Ball'\\n ' Leah Adler' ' Lexie Contursi' ' Lockhart Brownlie' ' Max Hart'\\n ' Mia Moretti' ' Patrick Matera' ' Rachael Markarian' ' Tasha Layton'\\n 'Katy Perry']\", \"term_frequency_adjustment\": false, \"bar_sort_order\": 4, \"record_number\": 5}, {\"column_name\": \"Final score\", \"label_for_charts\": \"Final score\", \"sql_condition\": null, \"log2_bayes_factor\": -0.6681273723643135, \"bayes_factor\": 0.6293230227575025, \"comparison_vector_value\": null, \"m_probability\": null, \"u_probability\": null, \"bayes_factor_description\": null, \"value_l\": \"\", \"value_r\": \"\", \"term_frequency_adjustment\": null, \"bar_sort_order\": 5, \"record_number\": 5}]}}, {\"mode\": \"vega-lite\"});\n",
       "</script>"
      ],
      "text/plain": [
       "alt.LayerChart(...)"
      ]
     },
     "metadata": {},
     "output_type": "display_data"
    },
    {
     "name": "stdout",
     "output_type": "stream",
     "text": [
      "\n",
      "--- Gerando o Dashboard 'Comparison Viewer' ---\n"
     ]
    },
    {
     "name": "stderr",
     "output_type": "stream",
     "text": [
      "Completed iteration 1, num representatives needing updating: 17\n",
      "Completed iteration 2, num representatives needing updating: 2\n",
      "Completed iteration 3, num representatives needing updating: 0\n"
     ]
    },
    {
     "name": "stdout",
     "output_type": "stream",
     "text": [
      "Dashboard salvo em 'comparison_viewer.html'. Abra-o para uma análise interativa.\n",
      "\n",
      "--- Clusterizando os resultados da amostra ---\n",
      "\n",
      "--- Gerando o Dashboard 'Cluster Studio' ---\n",
      "Dashboard salvo em 'cluster_studio.html'.\n"
     ]
    }
   ],
   "source": [
    "# ===================================================================================\n",
    "# 7. VITRINE DE FERRAMENTAS DE VISUALIZAÇÃO E AVALIAÇÃO (NA AMOSTRA)\n",
    "# ===================================================================================\n",
    "\n",
    "# --- 7.1: Análise Visual dos Pesos do Modelo ---\n",
    "print(\"--- Gráfico de Pesos de Correspondência (Match Weights) ---\")\n",
    "display(linker_modelo.visualisations.match_weights_chart())\n",
    "\n",
    "# --- 7.2: Predição e Análise de Casos Específicos ---\n",
    "print(\"\\n--- Executando predição na amostra ---\")\n",
    "df_predict_amostra = linker_modelo.inference.predict()\n",
    "\n",
    "print(\"\\n--- Gráfico Waterfall: Dissecando as Predições ---\")\n",
    "records_para_analise = df_predict_amostra.as_record_dict(limit=3)\n",
    "\n",
    "nome_tabela_predict = df_predict_amostra.physical_name\n",
    "borderline_sql = f\"SELECT * FROM {nome_tabela_predict} ORDER BY abs(match_weight) LIMIT 3\"\n",
    "\n",
    "# CORREÇÃO: Primeiro, obtemos o resultado como um DataFrame do pandas.\n",
    "borderline_df = linker_modelo.misc.query_sql(borderline_sql, output_type=\"pandas\")\n",
    "# Em seguida, convertemos o DataFrame do pandas para o formato de lista de dicionários.\n",
    "borderline_records = borderline_df.to_dict(orient=\"records\")\n",
    "records_para_analise.extend(borderline_records)\n",
    "\n",
    "# Agora, o waterfall chart recebe a lista de dicionários no formato correto.\n",
    "display(linker_modelo.visualisations.waterfall_chart(records_para_analise))\n",
    "\n",
    "# --- 7.3: Dashboards Interativos ---\n",
    "print(\"\\n--- Gerando o Dashboard 'Comparison Viewer' ---\")\n",
    "linker_modelo.visualisations.comparison_viewer_dashboard(\n",
    "    df_predict_amostra, \"comparison_viewer.html\", overwrite=True\n",
    ")\n",
    "print(\"Dashboard salvo em 'comparison_viewer.html'. Abra-o para uma análise interativa.\")\n",
    "\n",
    "# --- 7.4: Clusterização e Análise de Clusters ---\n",
    "print(\"\\n--- Clusterizando os resultados da amostra ---\")\n",
    "clusters_amostra = linker_modelo.clustering.cluster_pairwise_predictions_at_threshold(df_predict_amostra, 0.9)\n",
    "\n",
    "print(\"\\n--- Gerando o Dashboard 'Cluster Studio' ---\")\n",
    "linker_modelo.visualisations.cluster_studio_dashboard(\n",
    "    df_predict_amostra, clusters_amostra, \"cluster_studio.html\", overwrite=True\n",
    ")\n",
    "print(\"Dashboard salvo em 'cluster_studio.html'.\")"
   ]
  },
  {
   "cell_type": "code",
   "execution_count": 22,
   "id": "782a726a-b315-467a-a4e8-94589d8d347d",
   "metadata": {},
   "outputs": [
    {
     "name": "stdout",
     "output_type": "stream",
     "text": [
      "Modelo treinado na amostra foi salvo com sucesso em: modelo_vod_exploratorio_v1.json\n",
      "\n",
      "===================================================================================\n",
      "FLUXO DE TRABALHO EXPLORATÓRIO CONCLUÍDO\n",
      "O modelo foi projetado, treinado e validado na amostra de dados.\n",
      "===================================================================================\n"
     ]
    }
   ],
   "source": [
    "# ===================================================================================\n",
    "# 8. CONCLUSÃO E CAMINHO PARA PRODUÇÃO\n",
    "# ===================================================================================\n",
    "\n",
    "# O objeto 'linker_modelo' contém as configurações e os parâmetros treinados\n",
    "# a partir da amostra. A primeira ação é salvar este modelo (settings + parâmetros)\n",
    "# em um arquivo JSON. Este arquivo é o principal artefato do nosso trabalho.\n",
    "caminho_modelo = \"modelo_vod_exploratorio_v1.json\"\n",
    "linker_modelo.misc.save_model_to_json(caminho_modelo, overwrite=True)\n",
    "print(f\"Modelo treinado na amostra foi salvo com sucesso em: {caminho_modelo}\")\n",
    "\n",
    "print(\"\\n===================================================================================\")\n",
    "print(\"FLUXO DE TRABALHO EXPLORATÓRIO CONCLUÍDO\")\n",
    "print(\"O modelo foi projetado, treinado e validado na amostra de dados.\")\n",
    "print(\"===================================================================================\")\n",
    "\n",
    "\n",
    "# O CÓDIGO ABAIXO É UM GUIA PARA A PRÓXIMA FASE: APLICAR O MODELO NO DATASET COMPLETO.\n",
    "# ELE ESTÁ COMENTADO E NÃO DEVE SER EXECUTADO NESTE NOTEBOOK, MAS SIM EM UM NOVO SCRIPT/NOTEBOOK DE PRODUÇÃO.\n",
    "\n",
    "#\n",
    "# print(\"\\n--- GUIA PARA APLICAR EM PRODUÇÃO (NÃO EXECUTAR AQUI) ---\")\n",
    "#\n",
    "# # 1. Em um novo ambiente, crie o Linker apontando para os dados completos\n",
    "# #    e carregue o modelo que acabamos de salvar.\n",
    "# from splink import Linker, DuckDBAPI\n",
    "#\n",
    "# db_api_prod = DuckDBAPI(connection=con) # Reutilize a conexão se estiver no mesmo ambiente\n",
    "# linker_producao = Linker(\"dados_completos\", caminho_modelo, db_api=db_api_prod)\n",
    "# print(\"Linker de produção criado, carregando modelo a partir do arquivo.\")\n",
    "#\n",
    "# # 2. (OPCIONAL, MAS RECOMENDADO) Re-treinar os parâmetros 'm' no dataset completo.\n",
    "# #    Os parâmetros 'u' e a estrutura do modelo já estão bons, mas re-treinar 'm'\n",
    "# #    ajusta o modelo à distribuição completa dos dados. Isso pode ser rápido se\n",
    "# #    as regras de bloqueio forem eficientes.\n",
    "#\n",
    "# print(\"\\nRe-treinando rapidamente os parâmetros 'm' no dataset completo...\")\n",
    "# linker_producao.training.estimate_parameters_using_expectation_maximisation(block_on(\"BB_Title\", \"BB_Year\"))\n",
    "# linker_producao.training.estimate_parameters_using_expectation_maximisation(block_on(\"BB_Directors\", \"BB_Year\"))\n",
    "#\n",
    "# # 3. Executar a predição e clusterização final no dataset completo.\n",
    "# #    Esta será a etapa mais demorada do processo de produção.\n",
    "#\n",
    "# print(\"\\nExecutando a predição final no dataset completo...\")\n",
    "# df_predict_final = linker_producao.inference.predict()\n",
    "#\n",
    "# print(\"\\nGerando a Tabela de Vínculos final...\")\n",
    "# clusters_finais = linker_producao.clustering.cluster_pairwise_predictions_at_threshold(df_predict_final, 0.9)\n",
    "#\n",
    "# # 4. Salvar os resultados finais para uso no seu pipeline.\n",
    "#\n",
    "# print(\"\\nSalvando a Tabela de Vínculos em um arquivo Parquet...\")\n",
    "# df_final_pandas = clusters_finais.as_pandas_dataframe()\n",
    "# df_final_pandas.to_parquet(\"tabela_de_vinculos_final.parquet\")\n",
    "# print(\"Processo de produção concluído. A tabela 'tabela_de_vinculos_final.parquet' está pronta.\")"
   ]
  },
  {
   "cell_type": "code",
   "execution_count": null,
   "id": "fae2f188-cb69-4a04-bb8a-bb6366e2b29a",
   "metadata": {},
   "outputs": [],
   "source": []
  }
 ],
 "metadata": {
  "kernelspec": {
   "display_name": "SPLINK-VOD",
   "language": "python",
   "name": "ancine"
  },
  "language_info": {
   "codemirror_mode": {
    "name": "ipython",
    "version": 3
   },
   "file_extension": ".py",
   "mimetype": "text/x-python",
   "name": "python",
   "nbconvert_exporter": "python",
   "pygments_lexer": "ipython3",
   "version": "3.13.5"
  }
 },
 "nbformat": 4,
 "nbformat_minor": 5
}

{
 "cells": [
  {
   "cell_type": "code",
   "execution_count": 1,
   "id": "9ea6949c-0468-4394-848c-b3acba673956",
   "metadata": {},
   "outputs": [
    {
     "ename": "ModuleNotFoundError",
     "evalue": "No module named 'splink.duckdb'",
     "output_type": "error",
     "traceback": [
      "\u001b[31m---------------------------------------------------------------------------\u001b[39m",
      "\u001b[31mModuleNotFoundError\u001b[39m                       Traceback (most recent call last)",
      "\u001b[36mCell\u001b[39m\u001b[36m \u001b[39m\u001b[32mIn[1]\u001b[39m\u001b[32m, line 17\u001b[39m\n\u001b[32m     14\u001b[39m \u001b[38;5;66;03m# --- Importações da API Moderna do Splink v4 ---\u001b[39;00m\n\u001b[32m     15\u001b[39m \u001b[38;5;66;03m# (Não usaremos o Linker ainda, mas já deixamos o ambiente pronto)\u001b[39;00m\n\u001b[32m     16\u001b[39m \u001b[38;5;28;01mfrom\u001b[39;00m\u001b[38;5;250m \u001b[39m\u001b[34;01msplink\u001b[39;00m\u001b[38;5;250m \u001b[39m\u001b[38;5;28;01mimport\u001b[39;00m DuckDBAPI, SettingsCreator, Linker\n\u001b[32m---> \u001b[39m\u001b[32m17\u001b[39m \u001b[38;5;28;01mimport\u001b[39;00m\u001b[38;5;250m \u001b[39m\u001b[34;01msplink\u001b[39;00m\u001b[34;01m.\u001b[39;00m\u001b[34;01mduckdb\u001b[39;00m\u001b[34;01m.\u001b[39;00m\u001b[34;01mcomparison_library\u001b[39;00m\u001b[38;5;250m \u001b[39m\u001b[38;5;28;01mas\u001b[39;00m\u001b[38;5;250m \u001b[39m\u001b[34;01mcl\u001b[39;00m\n",
      "\u001b[31mModuleNotFoundError\u001b[39m: No module named 'splink.duckdb'"
     ]
    }
   ],
   "source": [
    "# ==============================================================================\n",
    "# Bloco 1: CONFIGURAÇÃO, CARREGAMENTO E SEGMENTAÇÃO\n",
    "# ==============================================================================\n",
    "# Garante que as versões mais recentes das bibliotecas estejam instaladas\n",
    "!pip install -U splink duckdb --quiet\n",
    "\n",
    "# --- Importações Essenciais ---\n",
    "import pandas as pd\n",
    "import pathlib\n",
    "import duckdb\n",
    "import logging\n",
    "from IPython.display import display, HTML\n",
    "\n",
    "# --- Importações da API Moderna do Splink v4 ---\n",
    "# (Não usaremos o Linker ainda, mas já deixamos o ambiente pronto)\n",
    "from splink import DuckDBAPI, SettingsCreator, Linker\n",
    "import splink.duckdb.comparison_library as cl\n"
   ]
  },
  {
   "cell_type": "code",
   "execution_count": null,
   "id": "df1e7e34-87aa-4dcf-b6de-32e67eef0177",
   "metadata": {},
   "outputs": [],
   "source": [
    "\n",
    "# Configuração para manter a saída de logs mais limpa\n",
    "logging.getLogger(\"splink\").setLevel(logging.WARNING)\n",
    "print(\"Bibliotecas importadas com a API correta do Splink v4.\")\n",
    "\n",
    "# --- Caminhos e Conexão com os Dados ---\n",
    "PASTA_PROCESSED = pathlib.Path(\"dados_catalogo\") / \"processed\"\n",
    "ARQUIVO_DE_ENTRADA = PASTA_PROCESSED / 'tabela_dimensao_limpa_para_splink.parquet'\n",
    "\n",
    "# Conecta ao DuckDB\n",
    "con = duckdb.connect(database=':memory:')\n",
    "print(f\"\\nConectado ao DuckDB (versão: {duckdb.__version__})\")\n"
   ]
  },
  {
   "cell_type": "code",
   "execution_count": null,
   "id": "57cfc935-7d2c-49a8-a6ff-ae48b74405ad",
   "metadata": {},
   "outputs": [],
   "source": [
    "\n",
    "# --- Segmentação dos Dados ---\n",
    "# Carrega a tabela dimensão completa em uma view do DuckDB\n",
    "tabela_completa = \"tabela_dimensao_completa\"\n",
    "con.execute(f\"CREATE OR REPLACE VIEW {tabela_completa} AS SELECT * FROM read_parquet('{str(ARQUIVO_DE_ENTRADA)}');\")\n",
    "total_registros = con.execute(f\"SELECT COUNT(*) FROM {tabela_completa}\").fetchone()[0]\n",
    "print(f\"View '{tabela_completa}' criada com {total_registros:,} perfis únicos.\")\n",
    "\n",
    "# Define os critérios para o que consideramos \"alta qualidade\"\n",
    "# (Presença de IMDb ID e Diretores, como havíamos discutido)\n",
    "CRITERIO_ALTA_QUALIDADE = '\"IMDb_ID\" IS NOT NULL AND \"BB_Directors\" IS NOT NULL'\n",
    "\n",
    "# Cria a view para o Universo de Alta Qualidade\n",
    "tabela_alta_qualidade = \"universo_alta_qualidade\"\n",
    "con.execute(f\"\"\"\n",
    "    CREATE OR REPLACE VIEW {tabela_alta_qualidade} AS\n",
    "    SELECT * FROM {tabela_completa} WHERE {CRITERIO_ALTA_QUALIDADE};\n",
    "\"\"\")\n",
    "\n",
    "# Cria a view para o Universo de Nicho/Baixa Qualidade\n",
    "tabela_nicho = \"universo_nicho\"\n",
    "con.execute(f\"\"\"\n",
    "    CREATE OR REPLACE VIEW {tabela_nicho} AS\n",
    "    SELECT * FROM {tabela_completa} WHERE NOT ({CRITERIO_ALTA_QUALIDADE});\n",
    "\"\"\")\n",
    "\n",
    "\n",
    "# --- Relatório da Segmentação ---\n",
    "count_alta_qualidade = con.execute(f\"SELECT COUNT(*) FROM {tabela_alta_qualidade}\").fetchone()[0]\n",
    "count_nicho = con.execute(f\"SELECT COUNT(*) FROM {tabela_nicho}\").fetchone()[0]\n",
    "\n",
    "print(\"\\n\" + \"=\"*80)\n",
    "print(\" RELATÓRIO DA SEGMENTAÇÃO DE DADOS\")\n",
    "print(\"=\"*80)\n",
    "print(f\"Total de Perfis: {total_registros:,}\")\n",
    "print(f\"  - Universo de Alta Qualidade (Filmes/Séries): {count_alta_qualidade:,} ({count_alta_qualidade/total_registros:.1%})\")\n",
    "print(f\"  - Universo de Nicho/Dados Esparsos (Outros): {count_nicho:,} ({count_nicho/total_registros:.1%})\")\n",
    "print(\"\\nNosso foco inicial será nos dados de alta qualidade.\")\n",
    "\n",
    "display(HTML(\"<h4>Amostra do Universo de Alta Qualidade:</h4>\"))\n",
    "display(con.execute(f\"SELECT * FROM {tabela_alta_qualidade} LIMIT 5;\").fetch_df())\n",
    "\n",
    "display(HTML(\"<h4>Amostra do Universo de Nicho/Dados Esparsos:</h4>\"))\n",
    "display(con.execute(f\"SELECT * FROM {tabela_nicho} LIMIT 5;\").fetch_df())"
   ]
  }
 ],
 "metadata": {
  "kernelspec": {
   "display_name": "SPLINK-VOD",
   "language": "python",
   "name": "ancine"
  },
  "language_info": {
   "codemirror_mode": {
    "name": "ipython",
    "version": 3
   },
   "file_extension": ".py",
   "mimetype": "text/x-python",
   "name": "python",
   "nbconvert_exporter": "python",
   "pygments_lexer": "ipython3",
   "version": "3.13.5"
  }
 },
 "nbformat": 4,
 "nbformat_minor": 5
}
